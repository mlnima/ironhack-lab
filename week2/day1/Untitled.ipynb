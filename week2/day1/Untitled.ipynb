{
 "cells": [
  {
   "cell_type": "markdown",
   "id": "1017bdb3",
   "metadata": {
    "pycharm": {
     "name": "#%% md\n"
    }
   },
   "source": [
    "#importing libraries and data"
   ]
  },
  {
   "cell_type": "code",
   "execution_count": 1,
   "id": "5215ccff",
   "metadata": {
    "pycharm": {
     "name": "#%%\n"
    }
   },
   "outputs": [],
   "source": [
    "import numpy as np\n",
    "import pandas as pd\n",
    "import matplotlib.pyplot as plt\n",
    "import seaborn as sns\n",
    "import re\n",
    "import statsmodels.api as sm\n",
    "import statistics\n",
    "from statsmodels.stats.outliers_influence import variance_inflation_factor\n",
    "from scipy.stats import boxcox\n",
    "%matplotlib inline\n",
    "pd.options.display.max_rows = 300\n",
    "dataFrame1 = pd.read_csv('Data/file1.csv')\n",
    "dataFrame2 = pd.read_csv('Data/file2.csv')\n",
    "dataFrame3 = pd.read_csv('Data/file3.csv')\n",
    "dataframe4_import =dataFrame1 = pd.read_csv('Data/Data_Marketing_Customer_Analysis_Round3.csv') \n",
    "\n"
   ]
  },
  {
   "cell_type": "code",
   "execution_count": 2,
   "id": "88c7e76d",
   "metadata": {
    "pycharm": {
     "name": "#%%\n"
    }
   },
   "outputs": [],
   "source": [
    "\n",
    "pattern = re.compile(r\"^(?:\\\\.|[^/\\\\])*/((?:\\\\.|[^/\\\\])*)/\")\n",
    "\n",
    "columns_options = {'ST': 'state',\n",
    "                    'State': 'state',\n",
    "                    'Gender': 'gender',\n",
    "                    'GENDER': 'gender'}\n",
    "\n",
    "state_replacing_options = {'California': 'West Region',\n",
    "                        'Oregon': 'North West',\n",
    "                        'Washington': 'East',\n",
    "                        'Nevada': 'Central',\n",
    "                        'Arizona': 'Central'}\n",
    "\n",
    "dataFrame1.rename(columns=columns_options,\n",
    "                        inplace=True, errors='ignore')\n",
    "\n",
    "dataFrame2.rename(columns=columns_options,\n",
    "                        inplace=True, errors='ignore')\n",
    "\n",
    "dataFrame3.rename(columns=columns_options,\n",
    "                        inplace=True, errors='ignore')\n",
    "\n",
    "dataFrame = pd.concat([dataFrame1,dataFrame2,dataFrame3],axis=0,ignore_index=True)\n",
    "dataframe4 = pd.DataFrame(dataframe4_import )"
   ]
  },
  {
   "cell_type": "code",
   "execution_count": 3,
   "id": "f07bf4e5",
   "metadata": {
    "pycharm": {
     "name": "#%%\n"
    }
   },
   "outputs": [
    {
     "data": {
      "text/plain": "           region  customer_lifetime_value response  coverage education  \\\n0         arizona                   4809.0       no     basic   college   \n1      california                   2228.0       no     basic   college   \n2      washington                  14947.0       no     basic  bachelor   \n3          oregon                  22332.0      yes  extended   college   \n4          oregon                   9025.0       no   premium  bachelor   \n...           ...                      ...      ...       ...       ...   \n18663         NaN                      NaN      NaN       NaN       NaN   \n18664         NaN                      NaN      NaN       NaN       NaN   \n18665         NaN                      NaN      NaN       NaN       NaN   \n18666         NaN                      NaN      NaN       NaN       NaN   \n18667         NaN                      NaN      NaN       NaN       NaN   \n\n      effective_to_date employment_status gender   income location_code  ...  \\\n0               2/18/11          employed      m  48029.0      suburban  ...   \n1               1/18/11        unemployed      f  61311.0      suburban  ...   \n2               2/10/11          employed      m  22139.0      suburban  ...   \n3               1/11/11          employed      m  49078.0      suburban  ...   \n4               1/17/11     medical leave      f  23675.0      suburban  ...   \n...                 ...               ...    ...      ...           ...  ...   \n18663               NaN               NaN      M      NaN           NaN  ...   \n18664               NaN               NaN      F      NaN           NaN  ...   \n18665               NaN               NaN      M      NaN           NaN  ...   \n18666               NaN               NaN      M      NaN           NaN  ...   \n18667               NaN               NaN      M      NaN           NaN  ...   \n\n      Customer       state  Education  Customer Lifetime Value   Income  \\\n0          NaN         NaN        NaN                      NaN      NaN   \n1          NaN         NaN        NaN                      NaN      NaN   \n2          NaN         NaN        NaN                      NaN      NaN   \n3          NaN         NaN        NaN                      NaN      NaN   \n4          NaN         NaN        NaN                      NaN      NaN   \n...        ...         ...        ...                      ...      ...   \n18663  LA72316  California   Bachelor              23405.98798  71941.0   \n18664  PK87824  California    College              3096.511217  21604.0   \n18665  TD14365  California   Bachelor              8163.890428      0.0   \n18666  UP19263  California    College              7524.442436  21941.0   \n18667  Y167826  California    College              2611.836866      0.0   \n\n       Monthly Premium Auto Number of Open Complaints Total Claim Amount  \\\n0                       NaN                       NaN                NaN   \n1                       NaN                       NaN                NaN   \n2                       NaN                       NaN                NaN   \n3                       NaN                       NaN                NaN   \n4                       NaN                       NaN                NaN   \n...                     ...                       ...                ...   \n18663                  73.0                         0         198.234764   \n18664                  79.0                         0         379.200000   \n18665                  85.0                         3         790.784983   \n18666                  96.0                         0         691.200000   \n18667                  77.0                         0         369.600000   \n\n          Policy Type  Vehicle Class  \n0                 NaN            NaN  \n1                 NaN            NaN  \n2                 NaN            NaN  \n3                 NaN            NaN  \n4                 NaN            NaN  \n...               ...            ...  \n18663   Personal Auto  Four-Door Car  \n18664  Corporate Auto  Four-Door Car  \n18665  Corporate Auto  Four-Door Car  \n18666   Personal Auto  Four-Door Car  \n18667  Corporate Auto   Two-Door Car  \n\n[18668 rows x 33 columns]",
      "text/html": "<div>\n<style scoped>\n    .dataframe tbody tr th:only-of-type {\n        vertical-align: middle;\n    }\n\n    .dataframe tbody tr th {\n        vertical-align: top;\n    }\n\n    .dataframe thead th {\n        text-align: right;\n    }\n</style>\n<table border=\"1\" class=\"dataframe\">\n  <thead>\n    <tr style=\"text-align: right;\">\n      <th></th>\n      <th>region</th>\n      <th>customer_lifetime_value</th>\n      <th>response</th>\n      <th>coverage</th>\n      <th>education</th>\n      <th>effective_to_date</th>\n      <th>employment_status</th>\n      <th>gender</th>\n      <th>income</th>\n      <th>location_code</th>\n      <th>...</th>\n      <th>Customer</th>\n      <th>state</th>\n      <th>Education</th>\n      <th>Customer Lifetime Value</th>\n      <th>Income</th>\n      <th>Monthly Premium Auto</th>\n      <th>Number of Open Complaints</th>\n      <th>Total Claim Amount</th>\n      <th>Policy Type</th>\n      <th>Vehicle Class</th>\n    </tr>\n  </thead>\n  <tbody>\n    <tr>\n      <th>0</th>\n      <td>arizona</td>\n      <td>4809.0</td>\n      <td>no</td>\n      <td>basic</td>\n      <td>college</td>\n      <td>2/18/11</td>\n      <td>employed</td>\n      <td>m</td>\n      <td>48029.0</td>\n      <td>suburban</td>\n      <td>...</td>\n      <td>NaN</td>\n      <td>NaN</td>\n      <td>NaN</td>\n      <td>NaN</td>\n      <td>NaN</td>\n      <td>NaN</td>\n      <td>NaN</td>\n      <td>NaN</td>\n      <td>NaN</td>\n      <td>NaN</td>\n    </tr>\n    <tr>\n      <th>1</th>\n      <td>california</td>\n      <td>2228.0</td>\n      <td>no</td>\n      <td>basic</td>\n      <td>college</td>\n      <td>1/18/11</td>\n      <td>unemployed</td>\n      <td>f</td>\n      <td>61311.0</td>\n      <td>suburban</td>\n      <td>...</td>\n      <td>NaN</td>\n      <td>NaN</td>\n      <td>NaN</td>\n      <td>NaN</td>\n      <td>NaN</td>\n      <td>NaN</td>\n      <td>NaN</td>\n      <td>NaN</td>\n      <td>NaN</td>\n      <td>NaN</td>\n    </tr>\n    <tr>\n      <th>2</th>\n      <td>washington</td>\n      <td>14947.0</td>\n      <td>no</td>\n      <td>basic</td>\n      <td>bachelor</td>\n      <td>2/10/11</td>\n      <td>employed</td>\n      <td>m</td>\n      <td>22139.0</td>\n      <td>suburban</td>\n      <td>...</td>\n      <td>NaN</td>\n      <td>NaN</td>\n      <td>NaN</td>\n      <td>NaN</td>\n      <td>NaN</td>\n      <td>NaN</td>\n      <td>NaN</td>\n      <td>NaN</td>\n      <td>NaN</td>\n      <td>NaN</td>\n    </tr>\n    <tr>\n      <th>3</th>\n      <td>oregon</td>\n      <td>22332.0</td>\n      <td>yes</td>\n      <td>extended</td>\n      <td>college</td>\n      <td>1/11/11</td>\n      <td>employed</td>\n      <td>m</td>\n      <td>49078.0</td>\n      <td>suburban</td>\n      <td>...</td>\n      <td>NaN</td>\n      <td>NaN</td>\n      <td>NaN</td>\n      <td>NaN</td>\n      <td>NaN</td>\n      <td>NaN</td>\n      <td>NaN</td>\n      <td>NaN</td>\n      <td>NaN</td>\n      <td>NaN</td>\n    </tr>\n    <tr>\n      <th>4</th>\n      <td>oregon</td>\n      <td>9025.0</td>\n      <td>no</td>\n      <td>premium</td>\n      <td>bachelor</td>\n      <td>1/17/11</td>\n      <td>medical leave</td>\n      <td>f</td>\n      <td>23675.0</td>\n      <td>suburban</td>\n      <td>...</td>\n      <td>NaN</td>\n      <td>NaN</td>\n      <td>NaN</td>\n      <td>NaN</td>\n      <td>NaN</td>\n      <td>NaN</td>\n      <td>NaN</td>\n      <td>NaN</td>\n      <td>NaN</td>\n      <td>NaN</td>\n    </tr>\n    <tr>\n      <th>...</th>\n      <td>...</td>\n      <td>...</td>\n      <td>...</td>\n      <td>...</td>\n      <td>...</td>\n      <td>...</td>\n      <td>...</td>\n      <td>...</td>\n      <td>...</td>\n      <td>...</td>\n      <td>...</td>\n      <td>...</td>\n      <td>...</td>\n      <td>...</td>\n      <td>...</td>\n      <td>...</td>\n      <td>...</td>\n      <td>...</td>\n      <td>...</td>\n      <td>...</td>\n      <td>...</td>\n    </tr>\n    <tr>\n      <th>18663</th>\n      <td>NaN</td>\n      <td>NaN</td>\n      <td>NaN</td>\n      <td>NaN</td>\n      <td>NaN</td>\n      <td>NaN</td>\n      <td>NaN</td>\n      <td>M</td>\n      <td>NaN</td>\n      <td>NaN</td>\n      <td>...</td>\n      <td>LA72316</td>\n      <td>California</td>\n      <td>Bachelor</td>\n      <td>23405.98798</td>\n      <td>71941.0</td>\n      <td>73.0</td>\n      <td>0</td>\n      <td>198.234764</td>\n      <td>Personal Auto</td>\n      <td>Four-Door Car</td>\n    </tr>\n    <tr>\n      <th>18664</th>\n      <td>NaN</td>\n      <td>NaN</td>\n      <td>NaN</td>\n      <td>NaN</td>\n      <td>NaN</td>\n      <td>NaN</td>\n      <td>NaN</td>\n      <td>F</td>\n      <td>NaN</td>\n      <td>NaN</td>\n      <td>...</td>\n      <td>PK87824</td>\n      <td>California</td>\n      <td>College</td>\n      <td>3096.511217</td>\n      <td>21604.0</td>\n      <td>79.0</td>\n      <td>0</td>\n      <td>379.200000</td>\n      <td>Corporate Auto</td>\n      <td>Four-Door Car</td>\n    </tr>\n    <tr>\n      <th>18665</th>\n      <td>NaN</td>\n      <td>NaN</td>\n      <td>NaN</td>\n      <td>NaN</td>\n      <td>NaN</td>\n      <td>NaN</td>\n      <td>NaN</td>\n      <td>M</td>\n      <td>NaN</td>\n      <td>NaN</td>\n      <td>...</td>\n      <td>TD14365</td>\n      <td>California</td>\n      <td>Bachelor</td>\n      <td>8163.890428</td>\n      <td>0.0</td>\n      <td>85.0</td>\n      <td>3</td>\n      <td>790.784983</td>\n      <td>Corporate Auto</td>\n      <td>Four-Door Car</td>\n    </tr>\n    <tr>\n      <th>18666</th>\n      <td>NaN</td>\n      <td>NaN</td>\n      <td>NaN</td>\n      <td>NaN</td>\n      <td>NaN</td>\n      <td>NaN</td>\n      <td>NaN</td>\n      <td>M</td>\n      <td>NaN</td>\n      <td>NaN</td>\n      <td>...</td>\n      <td>UP19263</td>\n      <td>California</td>\n      <td>College</td>\n      <td>7524.442436</td>\n      <td>21941.0</td>\n      <td>96.0</td>\n      <td>0</td>\n      <td>691.200000</td>\n      <td>Personal Auto</td>\n      <td>Four-Door Car</td>\n    </tr>\n    <tr>\n      <th>18667</th>\n      <td>NaN</td>\n      <td>NaN</td>\n      <td>NaN</td>\n      <td>NaN</td>\n      <td>NaN</td>\n      <td>NaN</td>\n      <td>NaN</td>\n      <td>M</td>\n      <td>NaN</td>\n      <td>NaN</td>\n      <td>...</td>\n      <td>Y167826</td>\n      <td>California</td>\n      <td>College</td>\n      <td>2611.836866</td>\n      <td>0.0</td>\n      <td>77.0</td>\n      <td>0</td>\n      <td>369.600000</td>\n      <td>Corporate Auto</td>\n      <td>Two-Door Car</td>\n    </tr>\n  </tbody>\n</table>\n<p>18668 rows × 33 columns</p>\n</div>"
     },
     "execution_count": 3,
     "metadata": {},
     "output_type": "execute_result"
    }
   ],
   "source": [
    "dataFrame"
   ]
  },
  {
   "cell_type": "code",
   "execution_count": 4,
   "id": "a4f0eb5a",
   "metadata": {
    "scrolled": true,
    "pycharm": {
     "name": "#%%\n"
    }
   },
   "outputs": [],
   "source": [
    "\n",
    "dataFrame.columns = list(map(lambda h:h.lower().strip(),dataFrame.columns))\n",
    "\n",
    "def string_to_float_int_convertor(data):\n",
    "    if isinstance(data, str):\n",
    "        data = data.replace('%','')\n",
    "        return int(float(data))\n",
    "    else:\n",
    "        return data\n",
    "\n",
    "dataFrame['customer lifetime value'] = dataFrame['customer lifetime value'].fillna(0)\n",
    "dataFrame['customer lifetime value'] = list(map(string_to_float_int_convertor,dataFrame['customer lifetime value']))\n",
    "dataFrame['number of open complaints'] = dataFrame['number of open complaints'].fillna(0)\n",
    "\n",
    "def get_value_between_slashes(open_contract):\n",
    "    if  isinstance(open_contract, str):\n",
    "        return int(pattern.match(open_contract).group(1))\n",
    "    else:\n",
    "        return open_contract\n",
    "\n",
    "\n",
    "\n",
    "\n",
    "\n",
    "\n",
    "    \n"
   ]
  },
  {
   "cell_type": "markdown",
   "id": "98264348",
   "metadata": {
    "pycharm": {
     "name": "#%% md\n"
    }
   },
   "source": [
    "Filtering data and Correcting typos – Filter the data in state and gender column to standardize the texts in those columns\n",
    "Removing duplicates"
   ]
  },
  {
   "cell_type": "code",
   "execution_count": 5,
   "id": "56e1e82d",
   "metadata": {
    "pycharm": {
     "name": "#%%\n"
    }
   },
   "outputs": [],
   "source": [
    "dataFrame['number of open complaints'] = list(map(get_value_between_slashes,dataFrame['number of open complaints']))\n",
    "dataFrame['state'] = dataFrame['state'].fillna('not provided')\n",
    "dataFrame['gender'] = dataFrame['gender'].fillna('not available')"
   ]
  },
  {
   "cell_type": "code",
   "execution_count": 6,
   "id": "57058054",
   "metadata": {
    "pycharm": {
     "name": "#%%\n"
    }
   },
   "outputs": [
    {
     "data": {
      "text/plain": "       customer_lifetime_value        income  monthly_premium_auto  \\\ncount             10602.000000  10602.000000          10602.000000   \nmean               8005.480758  51806.351537             93.224675   \nstd                6857.905286  24826.596482             34.444895   \nmin                1898.000000  10037.000000             61.000000   \n25%                4013.000000  29220.250000             68.000000   \n50%                5774.000000  50406.500000             83.000000   \n75%                8991.750000  72302.000000            109.000000   \nmax               83325.000000  99981.000000            298.000000   \n\n       months_since_last_claim  months_since_policy_inception  \\\ncount             10602.000000                   10602.000000   \nmean                 15.182513                      48.097246   \nstd                  10.104117                      27.942542   \nmin                   0.000000                       0.000000   \n25%                   6.000000                      24.000000   \n50%                  14.000000                      48.000000   \n75%                  23.000000                      71.000000   \nmax                  35.000000                      99.000000   \n\n       number_of_open_complaints  number_of_policies  total_claim_amount  \\\ncount               10602.000000        10602.000000        10602.000000   \nmean                    0.383607            2.980853          435.763724   \nstd                     0.911460            2.399594          293.390335   \nmin                     0.000000            1.000000            0.000000   \n25%                     0.000000            1.000000          272.000000   \n50%                     0.000000            2.000000          384.000000   \n75%                     0.000000            4.000000          548.000000   \nmax                     5.000000            9.000000         2893.000000   \n\n       customer lifetime value        income  monthly premium auto  \\\ncount             1.866800e+04   8066.000000           8066.000000   \nmean              4.369999e+04  37634.048475             99.391396   \nstd               2.230441e+05  30340.546849            204.216862   \nmin               0.000000e+00      0.000000             61.000000   \n25%               0.000000e+00      0.000000             68.000000   \n50%               0.000000e+00  33891.500000             83.000000   \n75%               5.619689e+03  62075.500000            109.000000   \nmax               4.922143e+06  99981.000000           7575.000000   \n\n       number of open complaints  total claim amount  \ncount               18668.000000         8066.000000  \nmean                    0.165202          433.918361  \nstd                     0.628876          288.971171  \nmin                     0.000000            0.099007  \n25%                     0.000000          275.718504  \n50%                     0.000000          379.200000  \n75%                     0.000000          547.200000  \nmax                     5.000000         2759.794354  ",
      "text/html": "<div>\n<style scoped>\n    .dataframe tbody tr th:only-of-type {\n        vertical-align: middle;\n    }\n\n    .dataframe tbody tr th {\n        vertical-align: top;\n    }\n\n    .dataframe thead th {\n        text-align: right;\n    }\n</style>\n<table border=\"1\" class=\"dataframe\">\n  <thead>\n    <tr style=\"text-align: right;\">\n      <th></th>\n      <th>customer_lifetime_value</th>\n      <th>income</th>\n      <th>monthly_premium_auto</th>\n      <th>months_since_last_claim</th>\n      <th>months_since_policy_inception</th>\n      <th>number_of_open_complaints</th>\n      <th>number_of_policies</th>\n      <th>total_claim_amount</th>\n      <th>customer lifetime value</th>\n      <th>income</th>\n      <th>monthly premium auto</th>\n      <th>number of open complaints</th>\n      <th>total claim amount</th>\n    </tr>\n  </thead>\n  <tbody>\n    <tr>\n      <th>count</th>\n      <td>10602.000000</td>\n      <td>10602.000000</td>\n      <td>10602.000000</td>\n      <td>10602.000000</td>\n      <td>10602.000000</td>\n      <td>10602.000000</td>\n      <td>10602.000000</td>\n      <td>10602.000000</td>\n      <td>1.866800e+04</td>\n      <td>8066.000000</td>\n      <td>8066.000000</td>\n      <td>18668.000000</td>\n      <td>8066.000000</td>\n    </tr>\n    <tr>\n      <th>mean</th>\n      <td>8005.480758</td>\n      <td>51806.351537</td>\n      <td>93.224675</td>\n      <td>15.182513</td>\n      <td>48.097246</td>\n      <td>0.383607</td>\n      <td>2.980853</td>\n      <td>435.763724</td>\n      <td>4.369999e+04</td>\n      <td>37634.048475</td>\n      <td>99.391396</td>\n      <td>0.165202</td>\n      <td>433.918361</td>\n    </tr>\n    <tr>\n      <th>std</th>\n      <td>6857.905286</td>\n      <td>24826.596482</td>\n      <td>34.444895</td>\n      <td>10.104117</td>\n      <td>27.942542</td>\n      <td>0.911460</td>\n      <td>2.399594</td>\n      <td>293.390335</td>\n      <td>2.230441e+05</td>\n      <td>30340.546849</td>\n      <td>204.216862</td>\n      <td>0.628876</td>\n      <td>288.971171</td>\n    </tr>\n    <tr>\n      <th>min</th>\n      <td>1898.000000</td>\n      <td>10037.000000</td>\n      <td>61.000000</td>\n      <td>0.000000</td>\n      <td>0.000000</td>\n      <td>0.000000</td>\n      <td>1.000000</td>\n      <td>0.000000</td>\n      <td>0.000000e+00</td>\n      <td>0.000000</td>\n      <td>61.000000</td>\n      <td>0.000000</td>\n      <td>0.099007</td>\n    </tr>\n    <tr>\n      <th>25%</th>\n      <td>4013.000000</td>\n      <td>29220.250000</td>\n      <td>68.000000</td>\n      <td>6.000000</td>\n      <td>24.000000</td>\n      <td>0.000000</td>\n      <td>1.000000</td>\n      <td>272.000000</td>\n      <td>0.000000e+00</td>\n      <td>0.000000</td>\n      <td>68.000000</td>\n      <td>0.000000</td>\n      <td>275.718504</td>\n    </tr>\n    <tr>\n      <th>50%</th>\n      <td>5774.000000</td>\n      <td>50406.500000</td>\n      <td>83.000000</td>\n      <td>14.000000</td>\n      <td>48.000000</td>\n      <td>0.000000</td>\n      <td>2.000000</td>\n      <td>384.000000</td>\n      <td>0.000000e+00</td>\n      <td>33891.500000</td>\n      <td>83.000000</td>\n      <td>0.000000</td>\n      <td>379.200000</td>\n    </tr>\n    <tr>\n      <th>75%</th>\n      <td>8991.750000</td>\n      <td>72302.000000</td>\n      <td>109.000000</td>\n      <td>23.000000</td>\n      <td>71.000000</td>\n      <td>0.000000</td>\n      <td>4.000000</td>\n      <td>548.000000</td>\n      <td>5.619689e+03</td>\n      <td>62075.500000</td>\n      <td>109.000000</td>\n      <td>0.000000</td>\n      <td>547.200000</td>\n    </tr>\n    <tr>\n      <th>max</th>\n      <td>83325.000000</td>\n      <td>99981.000000</td>\n      <td>298.000000</td>\n      <td>35.000000</td>\n      <td>99.000000</td>\n      <td>5.000000</td>\n      <td>9.000000</td>\n      <td>2893.000000</td>\n      <td>4.922143e+06</td>\n      <td>99981.000000</td>\n      <td>7575.000000</td>\n      <td>5.000000</td>\n      <td>2759.794354</td>\n    </tr>\n  </tbody>\n</table>\n</div>"
     },
     "execution_count": 6,
     "metadata": {},
     "output_type": "execute_result"
    }
   ],
   "source": [
    "dataFrame.describe()"
   ]
  },
  {
   "cell_type": "markdown",
   "id": "bae358b2",
   "metadata": {
    "pycharm": {
     "name": "#%% md\n"
    }
   },
   "source": [
    "Replacing null values – Replace missing values with means of the column (for numerical columns). Pay attention that the Income feature for instance has 0s which is equivalent to null values. (We assume here that there is no such income with 0 as it refers to missing values) Hint: numpy.nan is considered of float64 data type."
   ]
  },
  {
   "cell_type": "code",
   "execution_count": 7,
   "id": "62a89206",
   "metadata": {
    "pycharm": {
     "name": "#%%\n"
    }
   },
   "outputs": [
    {
     "name": "stdout",
     "output_type": "stream",
     "text": [
      "8005.480758347481\n"
     ]
    },
    {
     "name": "stderr",
     "output_type": "stream",
     "text": [
      "C:\\Users\\user\\AppData\\Local\\Temp\\ipykernel_17644\\3290544214.py:6: SettingWithCopyWarning: \n",
      "A value is trying to be set on a copy of a slice from a DataFrame\n",
      "\n",
      "See the caveats in the documentation: https://pandas.pydata.org/pandas-docs/stable/user_guide/indexing.html#returning-a-view-versus-a-copy\n",
      "  dataFrame[numerical_column].replace(0, dataFrame[numerical_column].mean(), inplace=True)\n",
      "C:\\Users\\user\\AppData\\Local\\Temp\\ipykernel_17644\\3290544214.py:6: SettingWithCopyWarning: \n",
      "A value is trying to be set on a copy of a slice from a DataFrame\n",
      "\n",
      "See the caveats in the documentation: https://pandas.pydata.org/pandas-docs/stable/user_guide/indexing.html#returning-a-view-versus-a-copy\n",
      "  dataFrame[numerical_column].replace(0, dataFrame[numerical_column].mean(), inplace=True)\n",
      "C:\\Users\\user\\AppData\\Local\\Temp\\ipykernel_17644\\3290544214.py:6: SettingWithCopyWarning: \n",
      "A value is trying to be set on a copy of a slice from a DataFrame\n",
      "\n",
      "See the caveats in the documentation: https://pandas.pydata.org/pandas-docs/stable/user_guide/indexing.html#returning-a-view-versus-a-copy\n",
      "  dataFrame[numerical_column].replace(0, dataFrame[numerical_column].mean(), inplace=True)\n"
     ]
    },
    {
     "name": "stdout",
     "output_type": "stream",
     "text": [
      "income    51806.351537\n",
      "income    37634.048475\n",
      "dtype: float64\n",
      "93.22467458970006\n",
      "15.182512733446519\n",
      "48.09724580267874\n",
      "0.38360686662893795\n",
      "2.980852669307678\n",
      "435.76372382569326\n",
      "43699.9861735795\n",
      "income    51806.351537\n",
      "income    37634.048475\n",
      "dtype: float64\n",
      "99.3913959831391\n",
      "0.16520248553674738\n",
      "433.9183608760228\n"
     ]
    },
    {
     "name": "stderr",
     "output_type": "stream",
     "text": [
      "C:\\Users\\user\\AppData\\Local\\Temp\\ipykernel_17644\\3290544214.py:6: SettingWithCopyWarning: \n",
      "A value is trying to be set on a copy of a slice from a DataFrame\n",
      "\n",
      "See the caveats in the documentation: https://pandas.pydata.org/pandas-docs/stable/user_guide/indexing.html#returning-a-view-versus-a-copy\n",
      "  dataFrame[numerical_column].replace(0, dataFrame[numerical_column].mean(), inplace=True)\n",
      "C:\\Users\\user\\AppData\\Local\\Temp\\ipykernel_17644\\3290544214.py:6: SettingWithCopyWarning: \n",
      "A value is trying to be set on a copy of a slice from a DataFrame\n",
      "\n",
      "See the caveats in the documentation: https://pandas.pydata.org/pandas-docs/stable/user_guide/indexing.html#returning-a-view-versus-a-copy\n",
      "  dataFrame[numerical_column].replace(0, dataFrame[numerical_column].mean(), inplace=True)\n"
     ]
    }
   ],
   "source": [
    "numerical_value_df = dataFrame.select_dtypes(include=np.number)\n",
    "numerical_value_df = numerical_value_df.columns\n",
    "\n",
    "for numerical_column in numerical_value_df:\n",
    "    print(dataFrame[numerical_column].mean())\n",
    "    dataFrame[numerical_column].replace(0, dataFrame[numerical_column].mean(), inplace=True)"
   ]
  },
  {
   "cell_type": "code",
   "execution_count": 8,
   "id": "a37a52eb",
   "metadata": {
    "pycharm": {
     "name": "#%%\n"
    }
   },
   "outputs": [
    {
     "data": {
      "text/plain": "       customer_lifetime_value        income  monthly_premium_auto  \\\ncount             10602.000000  10602.000000          10602.000000   \nmean               8005.480758  51806.351537             93.224675   \nstd                6857.905286  24826.596482             34.444895   \nmin                1898.000000  10037.000000             61.000000   \n25%                4013.000000  29220.250000             68.000000   \n50%                5774.000000  50406.500000             83.000000   \n75%                8991.750000  72302.000000            109.000000   \nmax               83325.000000  99981.000000            298.000000   \n\n       months_since_last_claim  months_since_policy_inception  \\\ncount             10602.000000                   10602.000000   \nmean                 15.182513                      48.097246   \nstd                  10.104117                      27.942542   \nmin                   0.000000                       0.000000   \n25%                   6.000000                      24.000000   \n50%                  14.000000                      48.000000   \n75%                  23.000000                      71.000000   \nmax                  35.000000                      99.000000   \n\n       number_of_open_complaints  number_of_policies  total_claim_amount  \\\ncount               10602.000000        10602.000000        10602.000000   \nmean                    0.383607            2.980853          435.763724   \nstd                     0.911460            2.399594          293.390335   \nmin                     0.000000            1.000000            0.000000   \n25%                     0.000000            1.000000          272.000000   \n50%                     0.000000            2.000000          384.000000   \n75%                     0.000000            4.000000          548.000000   \nmax                     5.000000            9.000000         2893.000000   \n\n       customer lifetime value        income  monthly premium auto  \\\ncount             1.866800e+04   8066.000000           8066.000000   \nmean              4.369999e+04  37634.048475             99.391396   \nstd               2.230441e+05  30340.546849            204.216862   \nmin               0.000000e+00      0.000000             61.000000   \n25%               0.000000e+00      0.000000             68.000000   \n50%               0.000000e+00  33891.500000             83.000000   \n75%               5.619689e+03  62075.500000            109.000000   \nmax               4.922143e+06  99981.000000           7575.000000   \n\n       number of open complaints  total claim amount  \ncount               18668.000000         8066.000000  \nmean                    0.165202          433.918361  \nstd                     0.628876          288.971171  \nmin                     0.000000            0.099007  \n25%                     0.000000          275.718504  \n50%                     0.000000          379.200000  \n75%                     0.000000          547.200000  \nmax                     5.000000         2759.794354  ",
      "text/html": "<div>\n<style scoped>\n    .dataframe tbody tr th:only-of-type {\n        vertical-align: middle;\n    }\n\n    .dataframe tbody tr th {\n        vertical-align: top;\n    }\n\n    .dataframe thead th {\n        text-align: right;\n    }\n</style>\n<table border=\"1\" class=\"dataframe\">\n  <thead>\n    <tr style=\"text-align: right;\">\n      <th></th>\n      <th>customer_lifetime_value</th>\n      <th>income</th>\n      <th>monthly_premium_auto</th>\n      <th>months_since_last_claim</th>\n      <th>months_since_policy_inception</th>\n      <th>number_of_open_complaints</th>\n      <th>number_of_policies</th>\n      <th>total_claim_amount</th>\n      <th>customer lifetime value</th>\n      <th>income</th>\n      <th>monthly premium auto</th>\n      <th>number of open complaints</th>\n      <th>total claim amount</th>\n    </tr>\n  </thead>\n  <tbody>\n    <tr>\n      <th>count</th>\n      <td>10602.000000</td>\n      <td>10602.000000</td>\n      <td>10602.000000</td>\n      <td>10602.000000</td>\n      <td>10602.000000</td>\n      <td>10602.000000</td>\n      <td>10602.000000</td>\n      <td>10602.000000</td>\n      <td>1.866800e+04</td>\n      <td>8066.000000</td>\n      <td>8066.000000</td>\n      <td>18668.000000</td>\n      <td>8066.000000</td>\n    </tr>\n    <tr>\n      <th>mean</th>\n      <td>8005.480758</td>\n      <td>51806.351537</td>\n      <td>93.224675</td>\n      <td>15.182513</td>\n      <td>48.097246</td>\n      <td>0.383607</td>\n      <td>2.980853</td>\n      <td>435.763724</td>\n      <td>4.369999e+04</td>\n      <td>37634.048475</td>\n      <td>99.391396</td>\n      <td>0.165202</td>\n      <td>433.918361</td>\n    </tr>\n    <tr>\n      <th>std</th>\n      <td>6857.905286</td>\n      <td>24826.596482</td>\n      <td>34.444895</td>\n      <td>10.104117</td>\n      <td>27.942542</td>\n      <td>0.911460</td>\n      <td>2.399594</td>\n      <td>293.390335</td>\n      <td>2.230441e+05</td>\n      <td>30340.546849</td>\n      <td>204.216862</td>\n      <td>0.628876</td>\n      <td>288.971171</td>\n    </tr>\n    <tr>\n      <th>min</th>\n      <td>1898.000000</td>\n      <td>10037.000000</td>\n      <td>61.000000</td>\n      <td>0.000000</td>\n      <td>0.000000</td>\n      <td>0.000000</td>\n      <td>1.000000</td>\n      <td>0.000000</td>\n      <td>0.000000e+00</td>\n      <td>0.000000</td>\n      <td>61.000000</td>\n      <td>0.000000</td>\n      <td>0.099007</td>\n    </tr>\n    <tr>\n      <th>25%</th>\n      <td>4013.000000</td>\n      <td>29220.250000</td>\n      <td>68.000000</td>\n      <td>6.000000</td>\n      <td>24.000000</td>\n      <td>0.000000</td>\n      <td>1.000000</td>\n      <td>272.000000</td>\n      <td>0.000000e+00</td>\n      <td>0.000000</td>\n      <td>68.000000</td>\n      <td>0.000000</td>\n      <td>275.718504</td>\n    </tr>\n    <tr>\n      <th>50%</th>\n      <td>5774.000000</td>\n      <td>50406.500000</td>\n      <td>83.000000</td>\n      <td>14.000000</td>\n      <td>48.000000</td>\n      <td>0.000000</td>\n      <td>2.000000</td>\n      <td>384.000000</td>\n      <td>0.000000e+00</td>\n      <td>33891.500000</td>\n      <td>83.000000</td>\n      <td>0.000000</td>\n      <td>379.200000</td>\n    </tr>\n    <tr>\n      <th>75%</th>\n      <td>8991.750000</td>\n      <td>72302.000000</td>\n      <td>109.000000</td>\n      <td>23.000000</td>\n      <td>71.000000</td>\n      <td>0.000000</td>\n      <td>4.000000</td>\n      <td>548.000000</td>\n      <td>5.619689e+03</td>\n      <td>62075.500000</td>\n      <td>109.000000</td>\n      <td>0.000000</td>\n      <td>547.200000</td>\n    </tr>\n    <tr>\n      <th>max</th>\n      <td>83325.000000</td>\n      <td>99981.000000</td>\n      <td>298.000000</td>\n      <td>35.000000</td>\n      <td>99.000000</td>\n      <td>5.000000</td>\n      <td>9.000000</td>\n      <td>2893.000000</td>\n      <td>4.922143e+06</td>\n      <td>99981.000000</td>\n      <td>7575.000000</td>\n      <td>5.000000</td>\n      <td>2759.794354</td>\n    </tr>\n  </tbody>\n</table>\n</div>"
     },
     "execution_count": 8,
     "metadata": {},
     "output_type": "execute_result"
    }
   ],
   "source": [
    "dataFrame.describe()"
   ]
  },
  {
   "cell_type": "markdown",
   "id": "c7a80140",
   "metadata": {
    "pycharm": {
     "name": "#%% md\n"
    }
   },
   "source": [
    "#Bucketing the data - Write a function to replace column \"State\" to different zones. California as West Region, Oregon as North West, and Washington as East, and Arizona and Nevada as Central"
   ]
  },
  {
   "cell_type": "code",
   "execution_count": 9,
   "id": "17031ec5",
   "metadata": {
    "pycharm": {
     "name": "#%%\n"
    }
   },
   "outputs": [
    {
     "data": {
      "text/plain": "0        not provided\n1        not provided\n2        not provided\n3        not provided\n4        not provided\n             ...     \n18663     West Region\n18664     West Region\n18665     West Region\n18666     West Region\n18667     West Region\nName: state, Length: 18668, dtype: object"
     },
     "execution_count": 9,
     "metadata": {},
     "output_type": "execute_result"
    }
   ],
   "source": [
    "def state_replacer(state):\n",
    "    if state in state_replacing_options:\n",
    "        return state_replacing_options[state]\n",
    "    else:\n",
    "        return state\n",
    "\n",
    "dataFrame['state'] = list(map(state_replacer,dataFrame['state']))\n",
    "\n",
    "dataFrame['state']"
   ]
  },
  {
   "cell_type": "markdown",
   "id": "9e5c0246",
   "metadata": {
    "pycharm": {
     "name": "#%% md\n"
    }
   },
   "source": [
    "#Day 3\n",
    "Get the numeric data into dataframe called numerical and categorical columns in a dataframe called categoricals. (You can use np.number and np.object to select the numerical data types and categorical data types respectively)"
   ]
  },
  {
   "cell_type": "markdown",
   "id": "b8d8af51",
   "metadata": {
    "pycharm": {
     "name": "#%% md\n"
    }
   },
   "source": [
    "#Get the numeric data into dataframe called numerical and categorical columns in a dataframe called categoricals. (You can use np.number and np.object to select the numerical data types and categorical data types respectively)"
   ]
  },
  {
   "cell_type": "code",
   "execution_count": 10,
   "id": "d1a926e5",
   "metadata": {
    "scrolled": true,
    "pycharm": {
     "name": "#%%\n"
    }
   },
   "outputs": [],
   "source": [
    "\n",
    "# numerical = dataFrame.select_dtypes(include= np.number)\n",
    "# categorical = dataFrame.select_dtypes(include= np.object)"
   ]
  },
  {
   "cell_type": "code",
   "execution_count": 10,
   "id": "2fcb0c05",
   "metadata": {
    "scrolled": true,
    "pycharm": {
     "name": "#%%\n"
    }
   },
   "outputs": [],
   "source": []
  },
  {
   "cell_type": "code",
   "execution_count": 19,
   "id": "3b17f35a",
   "metadata": {
    "pycharm": {
     "name": "#%%\n"
    }
   },
   "outputs": [
    {
     "name": "stderr",
     "output_type": "stream",
     "text": [
      "C:\\Users\\user\\AppData\\Local\\Temp\\ipykernel_17644\\2897957040.py:6: DeprecationWarning: `np.object` is a deprecated alias for the builtin `object`. To silence this warning, use `object` by itself. Doing this will not modify any behavior and is safe. \n",
      "Deprecated in NumPy 1.20; for more details and guidance: https://numpy.org/devdocs/release/1.20.0-notes.html#deprecations\n",
      "  categorical  = dataframe4.select_dtypes(include= np.object)\n",
      "C:\\Users\\user\\AppData\\Local\\Programs\\Python\\Python310\\lib\\site-packages\\seaborn\\distributions.py:2619: FutureWarning: `distplot` is a deprecated function and will be removed in a future version. Please adapt your code to use either `displot` (a figure-level function with similar flexibility) or `histplot` (an axes-level function for histograms).\n",
      "  warnings.warn(msg, FutureWarning)\n"
     ]
    },
    {
     "data": {
      "text/plain": "<AxesSubplot:ylabel='Density'>"
     },
     "execution_count": 19,
     "metadata": {},
     "output_type": "execute_result"
    },
    {
     "data": {
      "text/plain": "<Figure size 648x360 with 1 Axes>",
      "image/png": "[encoded data removed]"
     },
     "metadata": {},
     "output_type": "display_data"
    }
   ],
   "source": [
    "# dataframe4_import =dataFrame1 = pd.read_csv('Data/Data_Marketing_Customer_Analysis_Round3.csv') \n",
    "# dataframe4 = pd.DataFrame(dataframe4_import )\n",
    "\n",
    "\n",
    "numerical = dataframe4.select_dtypes(include= np.number)\n",
    "categorical  = dataframe4.select_dtypes(include= np.object)\n",
    "\n",
    "sns.set(rc={'axes.facecolor':'#444', 'figure.facecolor':'#fff'})\n",
    "sns.distplot(numerical, hist=False, kde=True,\n",
    "             bins=int(15), color = '#f90',\n",
    "             hist_kws={'edgecolor':'#222'},\n",
    "             kde_kws={'linewidth': 2})"
   ]
  },
  {
   "cell_type": "code",
   "execution_count": null,
   "outputs": [],
   "source": [],
   "metadata": {
    "collapsed": false,
    "pycharm": {
     "name": "#%%\n"
    }
   }
  },
  {
   "cell_type": "markdown",
   "id": "0cce1fdc",
   "metadata": {
    "pycharm": {
     "name": "#%% md\n"
    }
   },
   "source": [
    "Now we will try to check the normality of the numerical variables visually\n",
    "Use seaborn library to construct distribution plots for the numerical variables\n",
    "Use Matplotlib to construct histograms\n",
    "Do the distributions for different numerical variables look like a normal distribution"
   ]
  },
  {
   "cell_type": "code",
   "execution_count": 12,
   "id": "3674eb6e",
   "metadata": {
    "pycharm": {
     "name": "#%%\n"
    }
   },
   "outputs": [
    {
     "data": {
      "text/plain": "<Figure size 432x288 with 1 Axes>",
      "image/png": "[encoded data removed]"
     },
     "metadata": {},
     "output_type": "display_data"
    }
   ],
   "source": [
    "plt.hist(numerical, density=True)\n",
    "plt.rcParams[\"figure.figsize\"] = (9,5)\n",
    "plt.show()"
   ]
  },
  {
   "cell_type": "code",
   "execution_count": 13,
   "id": "d70579af",
   "metadata": {
    "pycharm": {
     "name": "#%%\n"
    }
   },
   "outputs": [],
   "source": [
    "# fig, ax = plt.subplots(2,2,figsize = (12,10))\n",
    "# ax[0,0].set_title('My first Matplotlib plot', fontsize=18)\n",
    "# # we plot the different lines adding them to the axis\n",
    "# ax[0,0].plot(x,y1, label='y = 2x')\n",
    "# ax[0,1].plot(x,y2, c='red', label='y = x')\n",
    "# ax[1,1].plot(x,y3, c='green', label='y = x/2')\n",
    "# ax[1,0].plot(x,y4, c='orange', label='y = 3x')\n",
    "\n",
    "# # we add the legend\n",
    "# ax[0,0].legend()\n"
   ]
  },
  {
   "cell_type": "code",
   "execution_count": 20,
   "id": "496307e9",
   "metadata": {
    "pycharm": {
     "name": "#%%\n"
    }
   },
   "outputs": [
    {
     "ename": "KeyError",
     "evalue": "('total', 'claim', 'amount')",
     "output_type": "error",
     "traceback": [
      "\u001B[1;31m---------------------------------------------------------------------------\u001B[0m",
      "\u001B[1;31mKeyError\u001B[0m                                  Traceback (most recent call last)",
      "File \u001B[1;32m~\\AppData\\Local\\Programs\\Python\\Python310\\lib\\site-packages\\pandas\\core\\indexes\\base.py:3621\u001B[0m, in \u001B[0;36mIndex.get_loc\u001B[1;34m(self, key, method, tolerance)\u001B[0m\n\u001B[0;32m   3620\u001B[0m \u001B[38;5;28;01mtry\u001B[39;00m:\n\u001B[1;32m-> 3621\u001B[0m     \u001B[38;5;28;01mreturn\u001B[39;00m \u001B[38;5;28;43mself\u001B[39;49m\u001B[38;5;241;43m.\u001B[39;49m\u001B[43m_engine\u001B[49m\u001B[38;5;241;43m.\u001B[39;49m\u001B[43mget_loc\u001B[49m\u001B[43m(\u001B[49m\u001B[43mcasted_key\u001B[49m\u001B[43m)\u001B[49m\n\u001B[0;32m   3622\u001B[0m \u001B[38;5;28;01mexcept\u001B[39;00m \u001B[38;5;167;01mKeyError\u001B[39;00m \u001B[38;5;28;01mas\u001B[39;00m err:\n",
      "File \u001B[1;32m~\\AppData\\Local\\Programs\\Python\\Python310\\lib\\site-packages\\pandas\\_libs\\index.pyx:136\u001B[0m, in \u001B[0;36mpandas._libs.index.IndexEngine.get_loc\u001B[1;34m()\u001B[0m\n",
      "File \u001B[1;32m~\\AppData\\Local\\Programs\\Python\\Python310\\lib\\site-packages\\pandas\\_libs\\index.pyx:163\u001B[0m, in \u001B[0;36mpandas._libs.index.IndexEngine.get_loc\u001B[1;34m()\u001B[0m\n",
      "File \u001B[1;32mpandas\\_libs\\hashtable_class_helper.pxi:5198\u001B[0m, in \u001B[0;36mpandas._libs.hashtable.PyObjectHashTable.get_item\u001B[1;34m()\u001B[0m\n",
      "File \u001B[1;32mpandas\\_libs\\hashtable_class_helper.pxi:5206\u001B[0m, in \u001B[0;36mpandas._libs.hashtable.PyObjectHashTable.get_item\u001B[1;34m()\u001B[0m\n",
      "\u001B[1;31mKeyError\u001B[0m: ('total', 'claim', 'amount')",
      "\nThe above exception was the direct cause of the following exception:\n",
      "\u001B[1;31mKeyError\u001B[0m                                  Traceback (most recent call last)",
      "Input \u001B[1;32mIn [20]\u001B[0m, in \u001B[0;36m<cell line: 10>\u001B[1;34m()\u001B[0m\n\u001B[0;32m      6\u001B[0m     vif[\u001B[38;5;124m\"\u001B[39m\u001B[38;5;124mVIF\u001B[39m\u001B[38;5;124m\"\u001B[39m] \u001B[38;5;241m=\u001B[39m [variance_inflation_factor(X\u001B[38;5;241m.\u001B[39mvalues, i) \u001B[38;5;28;01mfor\u001B[39;00m i \u001B[38;5;129;01min\u001B[39;00m \u001B[38;5;28mrange\u001B[39m(X\u001B[38;5;241m.\u001B[39mshape[\u001B[38;5;241m1\u001B[39m])]\n\u001B[0;32m      8\u001B[0m     \u001B[38;5;28;01mreturn\u001B[39;00m(vif)\n\u001B[1;32m---> 10\u001B[0m calc_vif(\u001B[43mnumerical\u001B[49m\u001B[43m[\u001B[49m\u001B[38;5;124;43m'\u001B[39;49m\u001B[38;5;124;43mtotal\u001B[39;49m\u001B[38;5;124;43m'\u001B[39;49m\u001B[43m,\u001B[49m\u001B[43m \u001B[49m\u001B[38;5;124;43m'\u001B[39;49m\u001B[38;5;124;43mclaim\u001B[39;49m\u001B[38;5;124;43m'\u001B[39;49m\u001B[43m,\u001B[49m\u001B[43m \u001B[49m\u001B[38;5;124;43m'\u001B[39;49m\u001B[38;5;124;43mamount\u001B[39;49m\u001B[38;5;124;43m'\u001B[39;49m\u001B[43m]\u001B[49m)\n",
      "File \u001B[1;32m~\\AppData\\Local\\Programs\\Python\\Python310\\lib\\site-packages\\pandas\\core\\frame.py:3505\u001B[0m, in \u001B[0;36mDataFrame.__getitem__\u001B[1;34m(self, key)\u001B[0m\n\u001B[0;32m   3503\u001B[0m \u001B[38;5;28;01mif\u001B[39;00m \u001B[38;5;28mself\u001B[39m\u001B[38;5;241m.\u001B[39mcolumns\u001B[38;5;241m.\u001B[39mnlevels \u001B[38;5;241m>\u001B[39m \u001B[38;5;241m1\u001B[39m:\n\u001B[0;32m   3504\u001B[0m     \u001B[38;5;28;01mreturn\u001B[39;00m \u001B[38;5;28mself\u001B[39m\u001B[38;5;241m.\u001B[39m_getitem_multilevel(key)\n\u001B[1;32m-> 3505\u001B[0m indexer \u001B[38;5;241m=\u001B[39m \u001B[38;5;28;43mself\u001B[39;49m\u001B[38;5;241;43m.\u001B[39;49m\u001B[43mcolumns\u001B[49m\u001B[38;5;241;43m.\u001B[39;49m\u001B[43mget_loc\u001B[49m\u001B[43m(\u001B[49m\u001B[43mkey\u001B[49m\u001B[43m)\u001B[49m\n\u001B[0;32m   3506\u001B[0m \u001B[38;5;28;01mif\u001B[39;00m is_integer(indexer):\n\u001B[0;32m   3507\u001B[0m     indexer \u001B[38;5;241m=\u001B[39m [indexer]\n",
      "File \u001B[1;32m~\\AppData\\Local\\Programs\\Python\\Python310\\lib\\site-packages\\pandas\\core\\indexes\\base.py:3623\u001B[0m, in \u001B[0;36mIndex.get_loc\u001B[1;34m(self, key, method, tolerance)\u001B[0m\n\u001B[0;32m   3621\u001B[0m     \u001B[38;5;28;01mreturn\u001B[39;00m \u001B[38;5;28mself\u001B[39m\u001B[38;5;241m.\u001B[39m_engine\u001B[38;5;241m.\u001B[39mget_loc(casted_key)\n\u001B[0;32m   3622\u001B[0m \u001B[38;5;28;01mexcept\u001B[39;00m \u001B[38;5;167;01mKeyError\u001B[39;00m \u001B[38;5;28;01mas\u001B[39;00m err:\n\u001B[1;32m-> 3623\u001B[0m     \u001B[38;5;28;01mraise\u001B[39;00m \u001B[38;5;167;01mKeyError\u001B[39;00m(key) \u001B[38;5;28;01mfrom\u001B[39;00m \u001B[38;5;21;01merr\u001B[39;00m\n\u001B[0;32m   3624\u001B[0m \u001B[38;5;28;01mexcept\u001B[39;00m \u001B[38;5;167;01mTypeError\u001B[39;00m:\n\u001B[0;32m   3625\u001B[0m     \u001B[38;5;66;03m# If we have a listlike key, _check_indexing_error will raise\u001B[39;00m\n\u001B[0;32m   3626\u001B[0m     \u001B[38;5;66;03m#  InvalidIndexError. Otherwise we fall through and re-raise\u001B[39;00m\n\u001B[0;32m   3627\u001B[0m     \u001B[38;5;66;03m#  the TypeError.\u001B[39;00m\n\u001B[0;32m   3628\u001B[0m     \u001B[38;5;28mself\u001B[39m\u001B[38;5;241m.\u001B[39m_check_indexing_error(key)\n",
      "\u001B[1;31mKeyError\u001B[0m: ('total', 'claim', 'amount')"
     ]
    }
   ],
   "source": [
    "def calc_vif(X):\n",
    "\n",
    "    # Calculating VIF\n",
    "    vif = pd.DataFrame()\n",
    "    vif[\"variables\"] = X.columns\n",
    "    vif[\"VIF\"] = [variance_inflation_factor(X.values, i) for i in range(X.shape[1])]\n",
    "\n",
    "    return(vif)\n",
    "\n",
    "#calc_vif(numerical['total claim amount'])\n",
    "#variance_inflation_factor(numerical['total claim amount'])"
   ]
  },
  {
   "cell_type": "code",
   "execution_count": 15,
   "id": "71759e19",
   "metadata": {
    "pycharm": {
     "name": "#%%\n"
    }
   },
   "outputs": [
    {
     "data": {
      "text/plain": "           region  customer_lifetime_value response  coverage  education  \\\n0         arizona                   4809.0       no     basic    college   \n1      california                   2228.0       no     basic    college   \n2      washington                  14947.0       no     basic   bachelor   \n3          oregon                  22332.0      yes  extended    college   \n4          oregon                   9025.0       no   premium   bachelor   \n...           ...                      ...      ...       ...        ...   \n18663         NaN                      NaN      NaN       NaN        NaN   \n18664         NaN                      NaN      NaN       NaN        NaN   \n18665         NaN                      NaN      NaN       NaN        NaN   \n18666         NaN                      NaN      NaN       NaN        NaN   \n18667         NaN                      NaN      NaN       NaN        NaN   \n\n      effective_to_date employment_status gender   income location_code  ...  \\\n0               2/18/11          employed      m  48029.0      suburban  ...   \n1               1/18/11        unemployed      f  61311.0      suburban  ...   \n2               2/10/11          employed      m  22139.0      suburban  ...   \n3               1/11/11          employed      m  49078.0      suburban  ...   \n4               1/17/11     medical leave      f  23675.0      suburban  ...   \n...                 ...               ...    ...      ...           ...  ...   \n18663               NaN               NaN      M      NaN           NaN  ...   \n18664               NaN               NaN      F      NaN           NaN  ...   \n18665               NaN               NaN      M      NaN           NaN  ...   \n18666               NaN               NaN      M      NaN           NaN  ...   \n18667               NaN               NaN      M      NaN           NaN  ...   \n\n      customer         state  education  customer lifetime value   income  \\\n0          NaN  not provided        NaN                 0.000000      NaN   \n1          NaN  not provided        NaN                 0.000000      NaN   \n2          NaN  not provided        NaN                 0.000000      NaN   \n3          NaN  not provided        NaN                 0.000000      NaN   \n4          NaN  not provided        NaN                 0.000000      NaN   \n...        ...           ...        ...                      ...      ...   \n18663  LA72316   West Region   Bachelor             23405.987980  71941.0   \n18664  PK87824   West Region    College              3096.511217  21604.0   \n18665  TD14365   West Region   Bachelor              8163.890428      0.0   \n18666  UP19263   West Region    College              7524.442436  21941.0   \n18667  Y167826   West Region    College              2611.836866      0.0   \n\n       monthly premium auto number of open complaints total claim amount  \\\n0                       NaN                         0                NaN   \n1                       NaN                         0                NaN   \n2                       NaN                         0                NaN   \n3                       NaN                         0                NaN   \n4                       NaN                         0                NaN   \n...                     ...                       ...                ...   \n18663                  73.0                         0         198.234764   \n18664                  79.0                         0         379.200000   \n18665                  85.0                         3         790.784983   \n18666                  96.0                         0         691.200000   \n18667                  77.0                         0         369.600000   \n\n          policy type  vehicle class  \n0                 NaN            NaN  \n1                 NaN            NaN  \n2                 NaN            NaN  \n3                 NaN            NaN  \n4                 NaN            NaN  \n...               ...            ...  \n18663   Personal Auto  Four-Door Car  \n18664  Corporate Auto  Four-Door Car  \n18665  Corporate Auto  Four-Door Car  \n18666   Personal Auto  Four-Door Car  \n18667  Corporate Auto   Two-Door Car  \n\n[18668 rows x 33 columns]",
      "text/html": "<div>\n<style scoped>\n    .dataframe tbody tr th:only-of-type {\n        vertical-align: middle;\n    }\n\n    .dataframe tbody tr th {\n        vertical-align: top;\n    }\n\n    .dataframe thead th {\n        text-align: right;\n    }\n</style>\n<table border=\"1\" class=\"dataframe\">\n  <thead>\n    <tr style=\"text-align: right;\">\n      <th></th>\n      <th>region</th>\n      <th>customer_lifetime_value</th>\n      <th>response</th>\n      <th>coverage</th>\n      <th>education</th>\n      <th>effective_to_date</th>\n      <th>employment_status</th>\n      <th>gender</th>\n      <th>income</th>\n      <th>location_code</th>\n      <th>...</th>\n      <th>customer</th>\n      <th>state</th>\n      <th>education</th>\n      <th>customer lifetime value</th>\n      <th>income</th>\n      <th>monthly premium auto</th>\n      <th>number of open complaints</th>\n      <th>total claim amount</th>\n      <th>policy type</th>\n      <th>vehicle class</th>\n    </tr>\n  </thead>\n  <tbody>\n    <tr>\n      <th>0</th>\n      <td>arizona</td>\n      <td>4809.0</td>\n      <td>no</td>\n      <td>basic</td>\n      <td>college</td>\n      <td>2/18/11</td>\n      <td>employed</td>\n      <td>m</td>\n      <td>48029.0</td>\n      <td>suburban</td>\n      <td>...</td>\n      <td>NaN</td>\n      <td>not provided</td>\n      <td>NaN</td>\n      <td>0.000000</td>\n      <td>NaN</td>\n      <td>NaN</td>\n      <td>0</td>\n      <td>NaN</td>\n      <td>NaN</td>\n      <td>NaN</td>\n    </tr>\n    <tr>\n      <th>1</th>\n      <td>california</td>\n      <td>2228.0</td>\n      <td>no</td>\n      <td>basic</td>\n      <td>college</td>\n      <td>1/18/11</td>\n      <td>unemployed</td>\n      <td>f</td>\n      <td>61311.0</td>\n      <td>suburban</td>\n      <td>...</td>\n      <td>NaN</td>\n      <td>not provided</td>\n      <td>NaN</td>\n      <td>0.000000</td>\n      <td>NaN</td>\n      <td>NaN</td>\n      <td>0</td>\n      <td>NaN</td>\n      <td>NaN</td>\n      <td>NaN</td>\n    </tr>\n    <tr>\n      <th>2</th>\n      <td>washington</td>\n      <td>14947.0</td>\n      <td>no</td>\n      <td>basic</td>\n      <td>bachelor</td>\n      <td>2/10/11</td>\n      <td>employed</td>\n      <td>m</td>\n      <td>22139.0</td>\n      <td>suburban</td>\n      <td>...</td>\n      <td>NaN</td>\n      <td>not provided</td>\n      <td>NaN</td>\n      <td>0.000000</td>\n      <td>NaN</td>\n      <td>NaN</td>\n      <td>0</td>\n      <td>NaN</td>\n      <td>NaN</td>\n      <td>NaN</td>\n    </tr>\n    <tr>\n      <th>3</th>\n      <td>oregon</td>\n      <td>22332.0</td>\n      <td>yes</td>\n      <td>extended</td>\n      <td>college</td>\n      <td>1/11/11</td>\n      <td>employed</td>\n      <td>m</td>\n      <td>49078.0</td>\n      <td>suburban</td>\n      <td>...</td>\n      <td>NaN</td>\n      <td>not provided</td>\n      <td>NaN</td>\n      <td>0.000000</td>\n      <td>NaN</td>\n      <td>NaN</td>\n      <td>0</td>\n      <td>NaN</td>\n      <td>NaN</td>\n      <td>NaN</td>\n    </tr>\n    <tr>\n      <th>4</th>\n      <td>oregon</td>\n      <td>9025.0</td>\n      <td>no</td>\n      <td>premium</td>\n      <td>bachelor</td>\n      <td>1/17/11</td>\n      <td>medical leave</td>\n      <td>f</td>\n      <td>23675.0</td>\n      <td>suburban</td>\n      <td>...</td>\n      <td>NaN</td>\n      <td>not provided</td>\n      <td>NaN</td>\n      <td>0.000000</td>\n      <td>NaN</td>\n      <td>NaN</td>\n      <td>0</td>\n      <td>NaN</td>\n      <td>NaN</td>\n      <td>NaN</td>\n    </tr>\n    <tr>\n      <th>...</th>\n      <td>...</td>\n      <td>...</td>\n      <td>...</td>\n      <td>...</td>\n      <td>...</td>\n      <td>...</td>\n      <td>...</td>\n      <td>...</td>\n      <td>...</td>\n      <td>...</td>\n      <td>...</td>\n      <td>...</td>\n      <td>...</td>\n      <td>...</td>\n      <td>...</td>\n      <td>...</td>\n      <td>...</td>\n      <td>...</td>\n      <td>...</td>\n      <td>...</td>\n      <td>...</td>\n    </tr>\n    <tr>\n      <th>18663</th>\n      <td>NaN</td>\n      <td>NaN</td>\n      <td>NaN</td>\n      <td>NaN</td>\n      <td>NaN</td>\n      <td>NaN</td>\n      <td>NaN</td>\n      <td>M</td>\n      <td>NaN</td>\n      <td>NaN</td>\n      <td>...</td>\n      <td>LA72316</td>\n      <td>West Region</td>\n      <td>Bachelor</td>\n      <td>23405.987980</td>\n      <td>71941.0</td>\n      <td>73.0</td>\n      <td>0</td>\n      <td>198.234764</td>\n      <td>Personal Auto</td>\n      <td>Four-Door Car</td>\n    </tr>\n    <tr>\n      <th>18664</th>\n      <td>NaN</td>\n      <td>NaN</td>\n      <td>NaN</td>\n      <td>NaN</td>\n      <td>NaN</td>\n      <td>NaN</td>\n      <td>NaN</td>\n      <td>F</td>\n      <td>NaN</td>\n      <td>NaN</td>\n      <td>...</td>\n      <td>PK87824</td>\n      <td>West Region</td>\n      <td>College</td>\n      <td>3096.511217</td>\n      <td>21604.0</td>\n      <td>79.0</td>\n      <td>0</td>\n      <td>379.200000</td>\n      <td>Corporate Auto</td>\n      <td>Four-Door Car</td>\n    </tr>\n    <tr>\n      <th>18665</th>\n      <td>NaN</td>\n      <td>NaN</td>\n      <td>NaN</td>\n      <td>NaN</td>\n      <td>NaN</td>\n      <td>NaN</td>\n      <td>NaN</td>\n      <td>M</td>\n      <td>NaN</td>\n      <td>NaN</td>\n      <td>...</td>\n      <td>TD14365</td>\n      <td>West Region</td>\n      <td>Bachelor</td>\n      <td>8163.890428</td>\n      <td>0.0</td>\n      <td>85.0</td>\n      <td>3</td>\n      <td>790.784983</td>\n      <td>Corporate Auto</td>\n      <td>Four-Door Car</td>\n    </tr>\n    <tr>\n      <th>18666</th>\n      <td>NaN</td>\n      <td>NaN</td>\n      <td>NaN</td>\n      <td>NaN</td>\n      <td>NaN</td>\n      <td>NaN</td>\n      <td>NaN</td>\n      <td>M</td>\n      <td>NaN</td>\n      <td>NaN</td>\n      <td>...</td>\n      <td>UP19263</td>\n      <td>West Region</td>\n      <td>College</td>\n      <td>7524.442436</td>\n      <td>21941.0</td>\n      <td>96.0</td>\n      <td>0</td>\n      <td>691.200000</td>\n      <td>Personal Auto</td>\n      <td>Four-Door Car</td>\n    </tr>\n    <tr>\n      <th>18667</th>\n      <td>NaN</td>\n      <td>NaN</td>\n      <td>NaN</td>\n      <td>NaN</td>\n      <td>NaN</td>\n      <td>NaN</td>\n      <td>NaN</td>\n      <td>M</td>\n      <td>NaN</td>\n      <td>NaN</td>\n      <td>...</td>\n      <td>Y167826</td>\n      <td>West Region</td>\n      <td>College</td>\n      <td>2611.836866</td>\n      <td>0.0</td>\n      <td>77.0</td>\n      <td>0</td>\n      <td>369.600000</td>\n      <td>Corporate Auto</td>\n      <td>Two-Door Car</td>\n    </tr>\n  </tbody>\n</table>\n<p>18668 rows × 33 columns</p>\n</div>"
     },
     "execution_count": 15,
     "metadata": {},
     "output_type": "execute_result"
    }
   ],
   "source": [
    "dataFrame"
   ]
  }
 ],
 "metadata": {
  "kernelspec": {
   "display_name": "Python 3 (ipykernel)",
   "language": "python",
   "name": "python3"
  },
  "language_info": {
   "codemirror_mode": {
    "name": "ipython",
    "version": 3
   },
   "file_extension": ".py",
   "mimetype": "text/x-python",
   "name": "python",
   "nbconvert_exporter": "python",
   "pygments_lexer": "ipython3",
   "version": "3.9.12"
  }
 },
 "nbformat": 4,
 "nbformat_minor": 5
}