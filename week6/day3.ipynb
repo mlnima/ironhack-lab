{
 "cells": [
  {
   "cell_type": "code",
   "execution_count": 111,
   "metadata": {
    "collapsed": true,
    "pycharm": {
     "name": "#%%\n"
    }
   },
   "outputs": [
    {
     "data": {
      "text/plain": "True"
     },
     "execution_count": 111,
     "metadata": {},
     "output_type": "execute_result"
    }
   ],
   "source": [
    "import sys\n",
    "\n",
    "sys.path.append('../')\n",
    "import os\n",
    "import requests\n",
    "import spotipy\n",
    "from spotipy.oauth2 import SpotifyClientCredentials\n",
    "from dotenv import load_dotenv\n",
    "import pandas as pd\n",
    "import json\n",
    "from custom_utils import print_pretty_json\n",
    "from IPython.display import JSON\n",
    "import json\n",
    "import pprint\n",
    "import numpy as np\n",
    "import pickle\n",
    "from sklearn import datasets  # sklearn comes with some toy datasets to practise\n",
    "from sklearn.preprocessing import StandardScaler\n",
    "from sklearn.cluster import KMeans\n",
    "from matplotlib import pyplot\n",
    "from sklearn.metrics import silhouette_score\n",
    "\n",
    "load_dotenv()"
   ]
  },
  {
   "cell_type": "code",
   "execution_count": 361,
   "outputs": [],
   "source": [
    "hot_playlists = [\n",
    "    '37i9dQZF1DXcBWIGoYBM5M',\n",
    "    '31ymdYCITDnZRtkKzP3Itp',\n",
    "    '0cc8YMQWsSzODyTpdVB6mI',\n",
    "    '37i9dQZF1DX5hHfOi73rY3',\n",
    "    '37i9dQZF1DXa71eg5j9dKZ',\n",
    "    '4kw9kdjzx1UmyWvpysl0y2',\n",
    "    '1xNWydoMmA8210KeHU948w',\n",
    "    '6vDGVr652ztNWKZuHvsFvx',\n",
    "    '6J1r02xyO2qkMA9dDNZytJ',\n",
    "    '5wtqmpRl17iVz2nW8U6njL',\n",
    "    '0NCspsyf0OS4BsPgGhkQXM',\n",
    "    '19y0UVk0bcrJWEqMwBHosj',\n",
    "    '4oOZJEq1TBUti6PSouTo5M',\n",
    "    '6ZTpgxK6BT92mmsqwETj9l',\n",
    "    '37i9dQZF1DWSvKsRPPnv5o',\n",
    "    '37i9dQZF1DXe4Cw8IKKIvr',\n",
    "    # '65xSncKQzG6Suseh5gfYP1',\n",
    "    # '37i9dQZF1DXcDoDDetPsEg',\n",
    "    # '0MSCX9tZWQmitMQsfhvZIl',\n",
    "    # '1PmwMQY86pJuAm7veFt3u2',\n",
    "    # '6wjCvkAFovrVIRM8VfZLZG',\n",
    "    # '37i9dQZF1DWVV27DiNWxkR',\n",
    "    # '37i9dQZF1DXc8kgYqQLMfH',\n",
    "    # '31FWVQBp3WQydWLNhO0ACi',\n",
    "    # '37i9dQZF1DXa9wYJr1oMFq'\n",
    "]\n",
    "# hot_playlists = [\n",
    "#     '37i9dQZF1DX2yvmlOdMYzV'\n",
    "# ]"
   ],
   "metadata": {
    "collapsed": false,
    "pycharm": {
     "name": "#%%\n"
    }
   }
  },
  {
   "cell_type": "markdown",
   "source": [
    "functions"
   ],
   "metadata": {
    "collapsed": false,
    "pycharm": {
     "name": "#%% md\n"
    }
   }
  },
  {
   "cell_type": "code",
   "execution_count": 362,
   "outputs": [],
   "source": [
    "def df_cleaner(df):\n",
    "    df.drop_duplicates('name', inplace=True)\n",
    "    df = df.drop(\n",
    "        [\n",
    "            'album',\n",
    "            'artists',\n",
    "            'available_markets',\n",
    "            'disc_number',\n",
    "            'explicit',\n",
    "            'external_ids',\n",
    "            'external_urls',\n",
    "            'href',\n",
    "            'id',\n",
    "            'is_local',\n",
    "            '...',\n",
    "            'track_href',\n",
    "            'analysis_url',\n",
    "            'uri',\n",
    "            'preview_url',\n",
    "            'type',\n",
    "            'name',\n",
    "            'preview_url',\n",
    "        ],\n",
    "        errors='ignore',\n",
    "        axis='columns'\n",
    "    )\n",
    "\n",
    "    df = df.reindex(sorted(df.columns), axis=1)\n",
    "\n",
    "    return df\n",
    "\n",
    "\n",
    "def get_top_tracks(max_page, per_page, keyword):\n",
    "    current_offset = 1\n",
    "    final_data = []\n",
    "    results = sp.search(q='top', limit=per_page, type=\"track\")\n",
    "    final_results = results['tracks']['items']\n",
    "\n",
    "    while current_offset <= max_page and results['tracks'].get('next', ''):\n",
    "        current_offset += 1\n",
    "        results = sp.search(q=keyword, offset=current_offset)\n",
    "        final_results.extend(results['tracks']['items'])\n",
    "\n",
    "    for i in final_results:\n",
    "        audio_features = sp.audio_features(i[\"uri\"])\n",
    "        # print(audio_features)\n",
    "        final_data.append({**i, **audio_features[0]})\n",
    "\n",
    "    return final_data\n",
    "\n",
    "\n",
    "def get_playlist_tracks(username, playlist_id):\n",
    "    results = sp.user_playlist_tracks(username, playlist_id, market=\"GB\")\n",
    "    tracks = results['tracks']['items']\n",
    "    while results['next']:\n",
    "        results = sp.next(results)\n",
    "        tracks.extend(results['tracks']['items'])\n",
    "    return tracks\n",
    "\n",
    "\n",
    "def get_playlists_data(playlists):\n",
    "    try:\n",
    "        final_data = []\n",
    "        final_results = []\n",
    "        for playlist in playlists:\n",
    "            results = sp.playlist_tracks(playlist_id=playlist)\n",
    "            tracks_filtered = list(filter(lambda x: x is not None ,results['items']))\n",
    "            tracks = list(map(lambda x:x['track'],tracks_filtered))\n",
    "            if results.get('next', False) or False:\n",
    "                while results.get('next', False) or False:\n",
    "                    try:\n",
    "                        results = sp.next(results)\n",
    "                        tracks_filtered = list(filter(lambda x: x is not None ,results['items']))\n",
    "                        tracks = list(map(lambda x:x['track'],tracks_filtered))\n",
    "                        # tracks.extend(list(map(lambda x:x['track'],results['items'])))\n",
    "                    except KeyError:\n",
    "                       break\n",
    "            final_results.extend(tracks)\n",
    "\n",
    "        # data_with_uri = list(filter(lambda x:'uri' in x.keys(),final_results))\n",
    "        data_with_uri = list(filter(lambda x: x is not None ,final_results))\n",
    "        for i in data_with_uri:\n",
    "            try:\n",
    "                audio_features = sp.audio_features(i[\"uri\"])\n",
    "                final_data.append({**i, **audio_features[0]})\n",
    "            except KeyError:\n",
    "                break\n",
    "\n",
    "        return final_data\n",
    "\n",
    "    except OSError:\n",
    "        print(str(OSError))\n"
   ],
   "metadata": {
    "collapsed": false,
    "pycharm": {
     "name": "#%%\n"
    }
   }
  },
  {
   "cell_type": "markdown",
   "source": [],
   "metadata": {
    "collapsed": false,
    "pycharm": {
     "name": "#%% md\n"
    }
   }
  },
  {
   "cell_type": "code",
   "execution_count": 363,
   "outputs": [
    {
     "name": "stdout",
     "output_type": "stream",
     "text": [
      "saved\n"
     ]
    }
   ],
   "source": [
    "playlists_data = get_playlists_data(hot_playlists)\n",
    "df = pd.DataFrame(playlists_data)\n",
    "df.to_csv('spotify_data.csv', index=False, encoding='utf-8')\n",
    "print('saved')"
   ],
   "metadata": {
    "collapsed": false,
    "pycharm": {
     "name": "#%%\n"
    }
   }
  },
  {
   "cell_type": "code",
   "execution_count": 364,
   "outputs": [
    {
     "data": {
      "text/plain": "856"
     },
     "execution_count": 364,
     "metadata": {},
     "output_type": "execute_result"
    }
   ],
   "source": [
    "len(playlists_data)"
   ],
   "metadata": {
    "collapsed": false,
    "pycharm": {
     "name": "#%%\n"
    }
   }
  },
  {
   "cell_type": "markdown",
   "source": [
    "   #final_data = map(lambda i: {**i, **(sp.audio_features(i[\"uri\"]))}, final_data)"
   ],
   "metadata": {
    "collapsed": false,
    "pycharm": {
     "name": "#%% md\n"
    }
   }
  },
  {
   "cell_type": "code",
   "execution_count": 113,
   "outputs": [],
   "source": [
    "sp = spotipy.Spotify(\n",
    "    auth_manager=SpotifyClientCredentials(\n",
    "        client_id=os.getenv(\"SPOTIFY_CLIENT_ID\"),\n",
    "        client_secret=os.getenv(\"SPOTIFY_API_KEY\")\n",
    "    ))"
   ],
   "metadata": {
    "collapsed": false,
    "pycharm": {
     "name": "#%%\n"
    }
   }
  },
  {
   "cell_type": "code",
   "execution_count": 114,
   "outputs": [],
   "source": [
    "# per_page = 30\n",
    "# max_page = 40\n",
    "#\n",
    "# pop = pd.DataFrame(get_top_tracks(max_page=max_page, per_page=per_page, keyword='pop'))\n",
    "# rock = pd.DataFrame(get_top_tracks(max_page=max_page, per_page=per_page, keyword='rock'))\n",
    "# classic = pd.DataFrame(get_top_tracks(max_page=max_page, per_page=per_page, keyword='classic'))\n",
    "# folk = pd.DataFrame(get_top_tracks(max_page=max_page, per_page=per_page, keyword='folk'))\n",
    "# funk = pd.DataFrame(get_top_tracks(max_page=max_page, per_page=per_page, keyword='funk'))\n",
    "# metal = pd.DataFrame(get_top_tracks(max_page=max_page, per_page=per_page, keyword='metal'))"
   ],
   "metadata": {
    "collapsed": false,
    "pycharm": {
     "name": "#%%\n"
    }
   }
  },
  {
   "cell_type": "code",
   "execution_count": 115,
   "outputs": [],
   "source": [
    "# df = pd.concat([pop,rock,classic,folk,funk,metal],ignore_index=True)\n",
    "# df"
   ],
   "metadata": {
    "collapsed": false,
    "pycharm": {
     "name": "#%%\n"
    }
   }
  },
  {
   "cell_type": "markdown",
   "source": [
    "save df"
   ],
   "metadata": {
    "collapsed": false,
    "pycharm": {
     "name": "#%% md\n"
    }
   }
  },
  {
   "cell_type": "markdown",
   "source": [],
   "metadata": {
    "collapsed": false,
    "pycharm": {
     "name": "#%% md\n"
    }
   }
  },
  {
   "cell_type": "code",
   "execution_count": 259,
   "outputs": [],
   "source": [
    "# playlists_data\n",
    "# df = pd.DataFrame(playlists_data)\n",
    "# df.to_csv('spotify_data.csv', index=False, encoding='utf-8')"
   ],
   "metadata": {
    "collapsed": false,
    "pycharm": {
     "name": "#%%\n"
    }
   }
  },
  {
   "cell_type": "markdown",
   "source": [
    "importing the saved data"
   ],
   "metadata": {
    "collapsed": false,
    "pycharm": {
     "name": "#%% md\n"
    }
   }
  },
  {
   "cell_type": "code",
   "execution_count": 117,
   "outputs": [
    {
     "name": "stdout",
     "output_type": "stream",
     "text": [
      "Index(['acousticness', 'danceability', 'duration_ms', 'energy',\n",
      "       'instrumentalness', 'key', 'liveness', 'loudness', 'mode', 'popularity',\n",
      "       'speechiness', 'tempo', 'time_signature', 'track_number', 'valence'],\n",
      "      dtype='object')\n"
     ]
    }
   ],
   "source": [
    "baseDf = pd.read_csv('spotify_data.csv')\n",
    "baseDf = df_cleaner(baseDf)\n",
    "print(baseDf.columns)\n",
    "# baseDf"
   ],
   "metadata": {
    "collapsed": false,
    "pycharm": {
     "name": "#%%\n"
    }
   }
  },
  {
   "cell_type": "code",
   "execution_count": 118,
   "outputs": [
    {
     "data": {
      "text/plain": "       acousticness  danceability   duration_ms        energy  \\\ncount  3.060000e+02  3.060000e+02  3.060000e+02  3.060000e+02   \nmean   8.127123e-17 -3.250849e-16  1.161018e-16  4.063561e-17   \nstd    1.001638e+00  1.001638e+00  1.001638e+00  1.001638e+00   \nmin   -8.364679e-01 -2.712617e+00 -2.250226e+00 -2.712530e+00   \n25%   -7.811468e-01 -7.110989e-01 -6.037067e-01 -5.657232e-01   \n50%   -5.112072e-01  8.287976e-02 -1.370907e-01  1.233146e-01   \n75%    4.741601e-01  7.342016e-01  4.511201e-01  7.877821e-01   \nmax    2.336472e+00  2.111776e+00  4.903179e+00  1.522756e+00   \n\n       instrumentalness           key      liveness      loudness  \\\ncount      3.060000e+02  3.060000e+02  3.060000e+02  3.060000e+02   \nmean       2.322035e-17 -4.934325e-17  3.483053e-17  2.322035e-17   \nstd        1.001638e+00  1.001638e+00  1.001638e+00  1.001638e+00   \nmin       -3.756271e-01 -1.429368e+00 -1.050369e+00 -5.859161e+00   \n25%       -3.756271e-01 -8.795422e-01 -6.143210e-01 -2.195994e-01   \n50%       -3.755582e-01  8.265361e-02 -4.409951e-01  2.602399e-01   \n75%       -3.539705e-01  7.699363e-01  2.449028e-01  5.470354e-01   \nmax        3.623483e+00  1.594676e+00  5.014450e+00  1.212474e+00   \n\n               mode    popularity   speechiness         tempo  time_signature  \\\ncount  3.060000e+02  3.060000e+02  3.060000e+02  3.060000e+02    3.060000e+02   \nmean   8.997886e-17  4.644070e-17  6.966105e-17  3.308900e-16   -5.747037e-16   \nstd    1.001638e+00  1.001638e+00  1.001638e+00  1.001638e+00    1.001638e+00   \nmin   -1.513381e+00 -4.335741e+00 -8.513483e-01 -1.990176e+00   -7.851359e+00   \n25%   -1.513381e+00 -3.917745e-01 -6.879734e-01 -8.377431e-01    1.570272e-01   \n50%    6.607721e-01  1.522209e-01 -4.965184e-01 -6.684788e-02    1.570272e-01   \n75%    6.607721e-01  6.962164e-01  3.377150e-01  7.302844e-01    1.570272e-01   \nmax    6.607721e-01  2.396202e+00  4.046837e+00  3.026483e+00    2.826489e+00   \n\n       track_number       valence  \ncount  3.060000e+02  3.060000e+02  \nmean   1.741526e-17 -4.165150e-16  \nstd    1.001638e+00  1.001638e+00  \nmin   -6.122209e-01 -1.863289e+00  \n25%   -6.122209e-01 -7.797623e-01  \n50%   -3.051068e-01 -7.907768e-02  \n75%    1.248529e-01  8.323093e-01  \nmax    8.969739e+00  1.853023e+00  ",
      "text/html": "<div>\n<style scoped>\n    .dataframe tbody tr th:only-of-type {\n        vertical-align: middle;\n    }\n\n    .dataframe tbody tr th {\n        vertical-align: top;\n    }\n\n    .dataframe thead th {\n        text-align: right;\n    }\n</style>\n<table border=\"1\" class=\"dataframe\">\n  <thead>\n    <tr style=\"text-align: right;\">\n      <th></th>\n      <th>acousticness</th>\n      <th>danceability</th>\n      <th>duration_ms</th>\n      <th>energy</th>\n      <th>instrumentalness</th>\n      <th>key</th>\n      <th>liveness</th>\n      <th>loudness</th>\n      <th>mode</th>\n      <th>popularity</th>\n      <th>speechiness</th>\n      <th>tempo</th>\n      <th>time_signature</th>\n      <th>track_number</th>\n      <th>valence</th>\n    </tr>\n  </thead>\n  <tbody>\n    <tr>\n      <th>count</th>\n      <td>3.060000e+02</td>\n      <td>3.060000e+02</td>\n      <td>3.060000e+02</td>\n      <td>3.060000e+02</td>\n      <td>3.060000e+02</td>\n      <td>3.060000e+02</td>\n      <td>3.060000e+02</td>\n      <td>3.060000e+02</td>\n      <td>3.060000e+02</td>\n      <td>3.060000e+02</td>\n      <td>3.060000e+02</td>\n      <td>3.060000e+02</td>\n      <td>3.060000e+02</td>\n      <td>3.060000e+02</td>\n      <td>3.060000e+02</td>\n    </tr>\n    <tr>\n      <th>mean</th>\n      <td>8.127123e-17</td>\n      <td>-3.250849e-16</td>\n      <td>1.161018e-16</td>\n      <td>4.063561e-17</td>\n      <td>2.322035e-17</td>\n      <td>-4.934325e-17</td>\n      <td>3.483053e-17</td>\n      <td>2.322035e-17</td>\n      <td>8.997886e-17</td>\n      <td>4.644070e-17</td>\n      <td>6.966105e-17</td>\n      <td>3.308900e-16</td>\n      <td>-5.747037e-16</td>\n      <td>1.741526e-17</td>\n      <td>-4.165150e-16</td>\n    </tr>\n    <tr>\n      <th>std</th>\n      <td>1.001638e+00</td>\n      <td>1.001638e+00</td>\n      <td>1.001638e+00</td>\n      <td>1.001638e+00</td>\n      <td>1.001638e+00</td>\n      <td>1.001638e+00</td>\n      <td>1.001638e+00</td>\n      <td>1.001638e+00</td>\n      <td>1.001638e+00</td>\n      <td>1.001638e+00</td>\n      <td>1.001638e+00</td>\n      <td>1.001638e+00</td>\n      <td>1.001638e+00</td>\n      <td>1.001638e+00</td>\n      <td>1.001638e+00</td>\n    </tr>\n    <tr>\n      <th>min</th>\n      <td>-8.364679e-01</td>\n      <td>-2.712617e+00</td>\n      <td>-2.250226e+00</td>\n      <td>-2.712530e+00</td>\n      <td>-3.756271e-01</td>\n      <td>-1.429368e+00</td>\n      <td>-1.050369e+00</td>\n      <td>-5.859161e+00</td>\n      <td>-1.513381e+00</td>\n      <td>-4.335741e+00</td>\n      <td>-8.513483e-01</td>\n      <td>-1.990176e+00</td>\n      <td>-7.851359e+00</td>\n      <td>-6.122209e-01</td>\n      <td>-1.863289e+00</td>\n    </tr>\n    <tr>\n      <th>25%</th>\n      <td>-7.811468e-01</td>\n      <td>-7.110989e-01</td>\n      <td>-6.037067e-01</td>\n      <td>-5.657232e-01</td>\n      <td>-3.756271e-01</td>\n      <td>-8.795422e-01</td>\n      <td>-6.143210e-01</td>\n      <td>-2.195994e-01</td>\n      <td>-1.513381e+00</td>\n      <td>-3.917745e-01</td>\n      <td>-6.879734e-01</td>\n      <td>-8.377431e-01</td>\n      <td>1.570272e-01</td>\n      <td>-6.122209e-01</td>\n      <td>-7.797623e-01</td>\n    </tr>\n    <tr>\n      <th>50%</th>\n      <td>-5.112072e-01</td>\n      <td>8.287976e-02</td>\n      <td>-1.370907e-01</td>\n      <td>1.233146e-01</td>\n      <td>-3.755582e-01</td>\n      <td>8.265361e-02</td>\n      <td>-4.409951e-01</td>\n      <td>2.602399e-01</td>\n      <td>6.607721e-01</td>\n      <td>1.522209e-01</td>\n      <td>-4.965184e-01</td>\n      <td>-6.684788e-02</td>\n      <td>1.570272e-01</td>\n      <td>-3.051068e-01</td>\n      <td>-7.907768e-02</td>\n    </tr>\n    <tr>\n      <th>75%</th>\n      <td>4.741601e-01</td>\n      <td>7.342016e-01</td>\n      <td>4.511201e-01</td>\n      <td>7.877821e-01</td>\n      <td>-3.539705e-01</td>\n      <td>7.699363e-01</td>\n      <td>2.449028e-01</td>\n      <td>5.470354e-01</td>\n      <td>6.607721e-01</td>\n      <td>6.962164e-01</td>\n      <td>3.377150e-01</td>\n      <td>7.302844e-01</td>\n      <td>1.570272e-01</td>\n      <td>1.248529e-01</td>\n      <td>8.323093e-01</td>\n    </tr>\n    <tr>\n      <th>max</th>\n      <td>2.336472e+00</td>\n      <td>2.111776e+00</td>\n      <td>4.903179e+00</td>\n      <td>1.522756e+00</td>\n      <td>3.623483e+00</td>\n      <td>1.594676e+00</td>\n      <td>5.014450e+00</td>\n      <td>1.212474e+00</td>\n      <td>6.607721e-01</td>\n      <td>2.396202e+00</td>\n      <td>4.046837e+00</td>\n      <td>3.026483e+00</td>\n      <td>2.826489e+00</td>\n      <td>8.969739e+00</td>\n      <td>1.853023e+00</td>\n    </tr>\n  </tbody>\n</table>\n</div>"
     },
     "execution_count": 118,
     "metadata": {},
     "output_type": "execute_result"
    }
   ],
   "source": [
    "X = pd.DataFrame(baseDf, columns=list(baseDf.columns))\n",
    "scaler = StandardScaler()\n",
    "scaler.fit(X)\n",
    "X_scaled = scaler.transform(X)\n",
    "X_scaled_df = pd.DataFrame(X_scaled, columns=X.columns)\n",
    "X_scaled_df.describe()"
   ],
   "metadata": {
    "collapsed": false,
    "pycharm": {
     "name": "#%%\n"
    }
   }
  },
  {
   "cell_type": "code",
   "execution_count": 119,
   "outputs": [
    {
     "data": {
      "text/plain": "KMeans(n_clusters=6, random_state=1234)",
      "text/html": "<style>#sk-container-id-4 {color: black;background-color: white;}#sk-container-id-4 pre{padding: 0;}#sk-container-id-4 div.sk-toggleable {background-color: white;}#sk-container-id-4 label.sk-toggleable__label {cursor: pointer;display: block;width: 100%;margin-bottom: 0;padding: 0.3em;box-sizing: border-box;text-align: center;}#sk-container-id-4 label.sk-toggleable__label-arrow:before {content: \"▸\";float: left;margin-right: 0.25em;color: #696969;}#sk-container-id-4 label.sk-toggleable__label-arrow:hover:before {color: black;}#sk-container-id-4 div.sk-estimator:hover label.sk-toggleable__label-arrow:before {color: black;}#sk-container-id-4 div.sk-toggleable__content {max-height: 0;max-width: 0;overflow: hidden;text-align: left;background-color: #f0f8ff;}#sk-container-id-4 div.sk-toggleable__content pre {margin: 0.2em;color: black;border-radius: 0.25em;background-color: #f0f8ff;}#sk-container-id-4 input.sk-toggleable__control:checked~div.sk-toggleable__content {max-height: 200px;max-width: 100%;overflow: auto;}#sk-container-id-4 input.sk-toggleable__control:checked~label.sk-toggleable__label-arrow:before {content: \"▾\";}#sk-container-id-4 div.sk-estimator input.sk-toggleable__control:checked~label.sk-toggleable__label {background-color: #d4ebff;}#sk-container-id-4 div.sk-label input.sk-toggleable__control:checked~label.sk-toggleable__label {background-color: #d4ebff;}#sk-container-id-4 input.sk-hidden--visually {border: 0;clip: rect(1px 1px 1px 1px);clip: rect(1px, 1px, 1px, 1px);height: 1px;margin: -1px;overflow: hidden;padding: 0;position: absolute;width: 1px;}#sk-container-id-4 div.sk-estimator {font-family: monospace;background-color: #f0f8ff;border: 1px dotted black;border-radius: 0.25em;box-sizing: border-box;margin-bottom: 0.5em;}#sk-container-id-4 div.sk-estimator:hover {background-color: #d4ebff;}#sk-container-id-4 div.sk-parallel-item::after {content: \"\";width: 100%;border-bottom: 1px solid gray;flex-grow: 1;}#sk-container-id-4 div.sk-label:hover label.sk-toggleable__label {background-color: #d4ebff;}#sk-container-id-4 div.sk-serial::before {content: \"\";position: absolute;border-left: 1px solid gray;box-sizing: border-box;top: 0;bottom: 0;left: 50%;z-index: 0;}#sk-container-id-4 div.sk-serial {display: flex;flex-direction: column;align-items: center;background-color: white;padding-right: 0.2em;padding-left: 0.2em;position: relative;}#sk-container-id-4 div.sk-item {position: relative;z-index: 1;}#sk-container-id-4 div.sk-parallel {display: flex;align-items: stretch;justify-content: center;background-color: white;position: relative;}#sk-container-id-4 div.sk-item::before, #sk-container-id-4 div.sk-parallel-item::before {content: \"\";position: absolute;border-left: 1px solid gray;box-sizing: border-box;top: 0;bottom: 0;left: 50%;z-index: -1;}#sk-container-id-4 div.sk-parallel-item {display: flex;flex-direction: column;z-index: 1;position: relative;background-color: white;}#sk-container-id-4 div.sk-parallel-item:first-child::after {align-self: flex-end;width: 50%;}#sk-container-id-4 div.sk-parallel-item:last-child::after {align-self: flex-start;width: 50%;}#sk-container-id-4 div.sk-parallel-item:only-child::after {width: 0;}#sk-container-id-4 div.sk-dashed-wrapped {border: 1px dashed gray;margin: 0 0.4em 0.5em 0.4em;box-sizing: border-box;padding-bottom: 0.4em;background-color: white;}#sk-container-id-4 div.sk-label label {font-family: monospace;font-weight: bold;display: inline-block;line-height: 1.2em;}#sk-container-id-4 div.sk-label-container {text-align: center;}#sk-container-id-4 div.sk-container {/* jupyter's `normalize.less` sets `[hidden] { display: none; }` but bootstrap.min.css set `[hidden] { display: none !important; }` so we also need the `!important` here to be able to override the default hidden behavior on the sphinx rendered scikit-learn.org. See: https://github.com/scikit-learn/scikit-learn/issues/21755 */display: inline-block !important;position: relative;}#sk-container-id-4 div.sk-text-repr-fallback {display: none;}</style><div id=\"sk-container-id-4\" class=\"sk-top-container\"><div class=\"sk-text-repr-fallback\"><pre>KMeans(n_clusters=6, random_state=1234)</pre><b>In a Jupyter environment, please rerun this cell to show the HTML representation or trust the notebook. <br />On GitHub, the HTML representation is unable to render, please try loading this page with nbviewer.org.</b></div><div class=\"sk-container\" hidden><div class=\"sk-item\"><div class=\"sk-estimator sk-toggleable\"><input class=\"sk-toggleable__control sk-hidden--visually\" id=\"sk-estimator-id-4\" type=\"checkbox\" checked><label for=\"sk-estimator-id-4\" class=\"sk-toggleable__label sk-toggleable__label-arrow\">KMeans</label><div class=\"sk-toggleable__content\"><pre>KMeans(n_clusters=6, random_state=1234)</pre></div></div></div></div></div>"
     },
     "execution_count": 119,
     "metadata": {},
     "output_type": "execute_result"
    }
   ],
   "source": [
    "kmeans = KMeans(n_clusters=6, random_state=1234)\n",
    "kmeans.fit(X_scaled_df)"
   ],
   "metadata": {
    "collapsed": false,
    "pycharm": {
     "name": "#%%\n"
    }
   }
  },
  {
   "cell_type": "code",
   "execution_count": 120,
   "outputs": [
    {
     "data": {
      "text/plain": "array([2, 5, 5, 1, 5, 2, 2, 3, 5, 5, 5, 3, 1, 5, 1, 5, 2, 1, 5, 3, 5, 3,\n       2, 5, 1, 3, 5, 3, 1, 5, 2, 1, 1, 3, 5, 2, 1, 5, 5, 1, 1, 3, 3, 5,\n       2, 1, 1, 1, 1, 3, 5, 5, 5, 5, 5, 5, 2, 5, 1, 5, 5, 5, 1, 1, 5, 3,\n       5, 1, 1, 5, 5, 5, 2, 5, 3, 5, 5, 2, 5, 3, 1, 1, 2, 5, 5, 1, 1, 5,\n       1, 5, 3, 5, 1, 2, 1, 3, 1, 5, 5, 1, 5, 5, 3, 5, 2, 1, 1, 0, 2, 5,\n       1, 5, 3, 1, 1, 5, 5, 5, 5, 3, 3, 2, 1, 3, 1, 0, 5, 4, 4, 5, 1, 5,\n       2, 2, 4, 4, 4, 5, 4, 2, 2, 5, 5, 2, 5, 5, 5, 5, 3, 2, 4, 3, 2, 1,\n       3, 1, 4, 3, 4, 2, 4, 5, 4, 1, 5, 3, 3, 5, 3, 3, 2, 1, 1, 3, 3, 2,\n       2, 5, 3, 3, 4, 3, 3, 0, 3, 3, 3, 3, 3, 5, 5, 1, 3, 3, 3, 3, 5, 3,\n       3, 3, 2, 3, 5, 2, 3, 3, 3, 2, 3, 5, 3, 5, 5, 1, 5, 1, 1, 1, 1, 5,\n       5, 5, 1, 5, 5, 5, 1, 2, 5, 5, 5, 5, 1, 1, 5, 5, 5, 5, 3, 5, 1, 5,\n       5, 3, 1, 5, 1, 1, 5, 3, 1, 1, 5, 5, 1, 1, 2, 2, 2, 2, 2, 2, 2, 2,\n       1, 2, 2, 3, 2, 3, 2, 2, 2, 2, 5, 2, 2, 2, 2, 2, 2, 2, 2, 5, 2, 1,\n       1, 5, 2, 2, 2, 2, 5, 5, 2, 2, 3, 5, 5, 2, 2, 2, 2, 1, 2, 5])"
     },
     "execution_count": 120,
     "metadata": {},
     "output_type": "execute_result"
    }
   ],
   "source": [
    "kmeans.labels_"
   ],
   "metadata": {
    "collapsed": false,
    "pycharm": {
     "name": "#%%\n"
    }
   }
  },
  {
   "cell_type": "code",
   "execution_count": 121,
   "outputs": [
    {
     "data": {
      "text/plain": "<Figure size 576x396 with 1 Axes>",
      "image/png": "[encoded data removed]"
     },
     "metadata": {},
     "output_type": "display_data"
    }
   ],
   "source": [
    "# assign a cluster to each example\n",
    "labels = kmeans.predict(X_scaled_df)\n",
    "# retrieve unique clusters\n",
    "clusters = np.unique(labels)\n",
    "# create scatter plot for samples from each cluster\n",
    "for cluster in clusters:\n",
    "    # get row indexes for samples with this cluster\n",
    "    row_ix = np.where(labels == cluster)\n",
    "    # create scatter of these samples\n",
    "    pyplot.scatter(X.to_numpy()[row_ix, 1], X.to_numpy()[row_ix, 2])\n",
    "    # show the plot\n",
    "pyplot.show()"
   ],
   "metadata": {
    "collapsed": false,
    "pycharm": {
     "name": "#%%\n"
    }
   }
  },
  {
   "cell_type": "code",
   "execution_count": 122,
   "outputs": [
    {
     "data": {
      "text/plain": "0      3\n1     64\n2     66\n3     58\n4     12\n5    103\ndtype: int64"
     },
     "execution_count": 122,
     "metadata": {},
     "output_type": "execute_result"
    }
   ],
   "source": [
    "clusters = kmeans.predict(X_scaled_df)\n",
    "#clusters\n",
    "pd.Series(clusters).value_counts().sort_index()"
   ],
   "metadata": {
    "collapsed": false,
    "pycharm": {
     "name": "#%%\n"
    }
   }
  },
  {
   "cell_type": "code",
   "execution_count": 123,
   "outputs": [
    {
     "data": {
      "text/plain": "      acousticness  danceability  duration_ms  energy  instrumentalness  key  \\\n0         0.005870         0.755       215364   0.615          0.000002    4   \n1         0.082600         0.704       148486   0.797          0.000745    0   \n2         0.010300         0.906       197420   0.395          0.000195    1   \n3         0.241000         0.544       215133   0.897          0.000000    3   \n4         0.193000         0.776       236000   0.762          0.000000    0   \n...            ...           ...          ...     ...               ...  ...   \n2539      0.000003         0.259       130187   0.923          0.103000    1   \n2549      0.004370         0.415       243533   0.908          0.034500    2   \n2559      0.026500         0.578       238293   0.854          0.001410    6   \n2569      0.000051         0.265       396987   0.973          0.094200    9   \n2579      0.016300         0.387       173556   0.966          0.000000    7   \n\n      liveness  loudness  mode  popularity  speechiness    tempo  \\\n0       0.1090    -8.245     1          71       0.0454  105.955   \n1       0.0546    -5.927     1          90       0.0475  139.994   \n2       0.1170   -11.277     1          71       0.2060  146.056   \n3       0.1300    -6.056     0          79       0.0471  157.170   \n4       0.1800    -4.356     1          66       0.2160  120.039   \n...        ...       ...   ...         ...          ...      ...   \n2539    0.1550    -5.530     1          68       0.0908  199.806   \n2549    0.0820    -9.701     1          72       0.0765  114.816   \n2559    0.1460    -6.558     0          52       0.0296  101.181   \n2569    0.2050    -6.129     1          58       0.1730  148.506   \n2579    0.1270    -5.646     1          41       0.4220   89.674   \n\n      time_signature  track_number  valence  cluster  \n0                  4             1    0.039        2  \n1                  4             1    0.825        5  \n2                  4             5    0.376        5  \n3                  4             5    0.647        1  \n4                  4             7    0.678        5  \n...              ...           ...      ...      ...  \n2539               4             7    0.593        2  \n2549               4             1    0.437        2  \n2559               4             2    0.424        1  \n2569               4             2    0.270        2  \n2579               4            10    0.399        5  \n\n[306 rows x 16 columns]",
      "text/html": "<div>\n<style scoped>\n    .dataframe tbody tr th:only-of-type {\n        vertical-align: middle;\n    }\n\n    .dataframe tbody tr th {\n        vertical-align: top;\n    }\n\n    .dataframe thead th {\n        text-align: right;\n    }\n</style>\n<table border=\"1\" class=\"dataframe\">\n  <thead>\n    <tr style=\"text-align: right;\">\n      <th></th>\n      <th>acousticness</th>\n      <th>danceability</th>\n      <th>duration_ms</th>\n      <th>energy</th>\n      <th>instrumentalness</th>\n      <th>key</th>\n      <th>liveness</th>\n      <th>loudness</th>\n      <th>mode</th>\n      <th>popularity</th>\n      <th>speechiness</th>\n      <th>tempo</th>\n      <th>time_signature</th>\n      <th>track_number</th>\n      <th>valence</th>\n      <th>cluster</th>\n    </tr>\n  </thead>\n  <tbody>\n    <tr>\n      <th>0</th>\n      <td>0.005870</td>\n      <td>0.755</td>\n      <td>215364</td>\n      <td>0.615</td>\n      <td>0.000002</td>\n      <td>4</td>\n      <td>0.1090</td>\n      <td>-8.245</td>\n      <td>1</td>\n      <td>71</td>\n      <td>0.0454</td>\n      <td>105.955</td>\n      <td>4</td>\n      <td>1</td>\n      <td>0.039</td>\n      <td>2</td>\n    </tr>\n    <tr>\n      <th>1</th>\n      <td>0.082600</td>\n      <td>0.704</td>\n      <td>148486</td>\n      <td>0.797</td>\n      <td>0.000745</td>\n      <td>0</td>\n      <td>0.0546</td>\n      <td>-5.927</td>\n      <td>1</td>\n      <td>90</td>\n      <td>0.0475</td>\n      <td>139.994</td>\n      <td>4</td>\n      <td>1</td>\n      <td>0.825</td>\n      <td>5</td>\n    </tr>\n    <tr>\n      <th>2</th>\n      <td>0.010300</td>\n      <td>0.906</td>\n      <td>197420</td>\n      <td>0.395</td>\n      <td>0.000195</td>\n      <td>1</td>\n      <td>0.1170</td>\n      <td>-11.277</td>\n      <td>1</td>\n      <td>71</td>\n      <td>0.2060</td>\n      <td>146.056</td>\n      <td>4</td>\n      <td>5</td>\n      <td>0.376</td>\n      <td>5</td>\n    </tr>\n    <tr>\n      <th>3</th>\n      <td>0.241000</td>\n      <td>0.544</td>\n      <td>215133</td>\n      <td>0.897</td>\n      <td>0.000000</td>\n      <td>3</td>\n      <td>0.1300</td>\n      <td>-6.056</td>\n      <td>0</td>\n      <td>79</td>\n      <td>0.0471</td>\n      <td>157.170</td>\n      <td>4</td>\n      <td>5</td>\n      <td>0.647</td>\n      <td>1</td>\n    </tr>\n    <tr>\n      <th>4</th>\n      <td>0.193000</td>\n      <td>0.776</td>\n      <td>236000</td>\n      <td>0.762</td>\n      <td>0.000000</td>\n      <td>0</td>\n      <td>0.1800</td>\n      <td>-4.356</td>\n      <td>1</td>\n      <td>66</td>\n      <td>0.2160</td>\n      <td>120.039</td>\n      <td>4</td>\n      <td>7</td>\n      <td>0.678</td>\n      <td>5</td>\n    </tr>\n    <tr>\n      <th>...</th>\n      <td>...</td>\n      <td>...</td>\n      <td>...</td>\n      <td>...</td>\n      <td>...</td>\n      <td>...</td>\n      <td>...</td>\n      <td>...</td>\n      <td>...</td>\n      <td>...</td>\n      <td>...</td>\n      <td>...</td>\n      <td>...</td>\n      <td>...</td>\n      <td>...</td>\n      <td>...</td>\n    </tr>\n    <tr>\n      <th>2539</th>\n      <td>0.000003</td>\n      <td>0.259</td>\n      <td>130187</td>\n      <td>0.923</td>\n      <td>0.103000</td>\n      <td>1</td>\n      <td>0.1550</td>\n      <td>-5.530</td>\n      <td>1</td>\n      <td>68</td>\n      <td>0.0908</td>\n      <td>199.806</td>\n      <td>4</td>\n      <td>7</td>\n      <td>0.593</td>\n      <td>2</td>\n    </tr>\n    <tr>\n      <th>2549</th>\n      <td>0.004370</td>\n      <td>0.415</td>\n      <td>243533</td>\n      <td>0.908</td>\n      <td>0.034500</td>\n      <td>2</td>\n      <td>0.0820</td>\n      <td>-9.701</td>\n      <td>1</td>\n      <td>72</td>\n      <td>0.0765</td>\n      <td>114.816</td>\n      <td>4</td>\n      <td>1</td>\n      <td>0.437</td>\n      <td>2</td>\n    </tr>\n    <tr>\n      <th>2559</th>\n      <td>0.026500</td>\n      <td>0.578</td>\n      <td>238293</td>\n      <td>0.854</td>\n      <td>0.001410</td>\n      <td>6</td>\n      <td>0.1460</td>\n      <td>-6.558</td>\n      <td>0</td>\n      <td>52</td>\n      <td>0.0296</td>\n      <td>101.181</td>\n      <td>4</td>\n      <td>2</td>\n      <td>0.424</td>\n      <td>1</td>\n    </tr>\n    <tr>\n      <th>2569</th>\n      <td>0.000051</td>\n      <td>0.265</td>\n      <td>396987</td>\n      <td>0.973</td>\n      <td>0.094200</td>\n      <td>9</td>\n      <td>0.2050</td>\n      <td>-6.129</td>\n      <td>1</td>\n      <td>58</td>\n      <td>0.1730</td>\n      <td>148.506</td>\n      <td>4</td>\n      <td>2</td>\n      <td>0.270</td>\n      <td>2</td>\n    </tr>\n    <tr>\n      <th>2579</th>\n      <td>0.016300</td>\n      <td>0.387</td>\n      <td>173556</td>\n      <td>0.966</td>\n      <td>0.000000</td>\n      <td>7</td>\n      <td>0.1270</td>\n      <td>-5.646</td>\n      <td>1</td>\n      <td>41</td>\n      <td>0.4220</td>\n      <td>89.674</td>\n      <td>4</td>\n      <td>10</td>\n      <td>0.399</td>\n      <td>5</td>\n    </tr>\n  </tbody>\n</table>\n<p>306 rows × 16 columns</p>\n</div>"
     },
     "execution_count": 123,
     "metadata": {},
     "output_type": "execute_result"
    }
   ],
   "source": [
    "#X_df = pd.DataFrame(X)\n",
    "X[\"cluster\"] = clusters\n",
    "X"
   ],
   "metadata": {
    "collapsed": false,
    "pycharm": {
     "name": "#%%\n"
    }
   }
  },
  {
   "cell_type": "code",
   "execution_count": 124,
   "outputs": [
    {
     "data": {
      "text/plain": "    acousticness  danceability  duration_ms  energy  instrumentalness  key  \\\n32       0.00821         0.461       220537   0.897               0.0    3   \n\n    liveness  loudness  mode  popularity  speechiness    tempo  \\\n32    0.0965    -3.982     0          75        0.092  165.107   \n\n    time_signature  track_number  valence  cluster  \n32               4             1    0.358        2  ",
      "text/html": "<div>\n<style scoped>\n    .dataframe tbody tr th:only-of-type {\n        vertical-align: middle;\n    }\n\n    .dataframe tbody tr th {\n        vertical-align: top;\n    }\n\n    .dataframe thead th {\n        text-align: right;\n    }\n</style>\n<table border=\"1\" class=\"dataframe\">\n  <thead>\n    <tr style=\"text-align: right;\">\n      <th></th>\n      <th>acousticness</th>\n      <th>danceability</th>\n      <th>duration_ms</th>\n      <th>energy</th>\n      <th>instrumentalness</th>\n      <th>key</th>\n      <th>liveness</th>\n      <th>loudness</th>\n      <th>mode</th>\n      <th>popularity</th>\n      <th>speechiness</th>\n      <th>tempo</th>\n      <th>time_signature</th>\n      <th>track_number</th>\n      <th>valence</th>\n      <th>cluster</th>\n    </tr>\n  </thead>\n  <tbody>\n    <tr>\n      <th>32</th>\n      <td>0.00821</td>\n      <td>0.461</td>\n      <td>220537</td>\n      <td>0.897</td>\n      <td>0.0</td>\n      <td>3</td>\n      <td>0.0965</td>\n      <td>-3.982</td>\n      <td>0</td>\n      <td>75</td>\n      <td>0.092</td>\n      <td>165.107</td>\n      <td>4</td>\n      <td>1</td>\n      <td>0.358</td>\n      <td>2</td>\n    </tr>\n  </tbody>\n</table>\n</div>"
     },
     "execution_count": 124,
     "metadata": {},
     "output_type": "execute_result"
    }
   ],
   "source": [
    "X[X['cluster'] == 2].sample()"
   ],
   "metadata": {
    "collapsed": false,
    "pycharm": {
     "name": "#%%\n"
    }
   }
  },
  {
   "cell_type": "code",
   "execution_count": 125,
   "outputs": [
    {
     "data": {
      "text/plain": "3015.7315086738836"
     },
     "execution_count": 125,
     "metadata": {},
     "output_type": "execute_result"
    }
   ],
   "source": [
    "kmeans.inertia_"
   ],
   "metadata": {
    "collapsed": false,
    "pycharm": {
     "name": "#%%\n"
    }
   }
  },
  {
   "cell_type": "code",
   "execution_count": 126,
   "outputs": [
    {
     "name": "stdout",
     "output_type": "stream",
     "text": [
      "1234.9552540322786\n"
     ]
    }
   ],
   "source": [
    "kmeans2 = KMeans(n_clusters=50,\n",
    "                 init=\"k-means++\",\n",
    "                 n_init=50,  # try with 1, 4, 8, 20, 30, 100...\n",
    "                 max_iter=10,\n",
    "                 tol=0,\n",
    "                 algorithm=\"elkan\",\n",
    "                 random_state=1234)\n",
    "kmeans2.fit(X_scaled_df)\n",
    "print(kmeans2.inertia_)"
   ],
   "metadata": {
    "collapsed": false,
    "pycharm": {
     "name": "#%%\n"
    }
   }
  },
  {
   "cell_type": "code",
   "execution_count": 127,
   "outputs": [
    {
     "name": "stdout",
     "output_type": "stream",
     "text": [
      "Training a K-Means model with 2 clusters! \n",
      "\n",
      "Training a K-Means model with 3 clusters! \n",
      "\n",
      "Training a K-Means model with 4 clusters! \n",
      "\n",
      "Training a K-Means model with 5 clusters! \n",
      "\n",
      "Training a K-Means model with 6 clusters! \n",
      "\n",
      "Training a K-Means model with 7 clusters! \n",
      "\n",
      "Training a K-Means model with 8 clusters! \n",
      "\n",
      "Training a K-Means model with 9 clusters! \n",
      "\n",
      "Training a K-Means model with 10 clusters! \n",
      "\n",
      "Training a K-Means model with 11 clusters! \n",
      "\n",
      "Training a K-Means model with 12 clusters! \n",
      "\n",
      "Training a K-Means model with 13 clusters! \n",
      "\n",
      "Training a K-Means model with 14 clusters! \n",
      "\n",
      "Training a K-Means model with 15 clusters! \n",
      "\n",
      "Training a K-Means model with 16 clusters! \n",
      "\n",
      "Training a K-Means model with 17 clusters! \n",
      "\n",
      "Training a K-Means model with 18 clusters! \n",
      "\n",
      "Training a K-Means model with 19 clusters! \n",
      "\n",
      "Training a K-Means model with 20 clusters! \n",
      "\n"
     ]
    },
    {
     "data": {
      "text/plain": "Text(0.5, 1.0, 'Elbow Method showing the optimal k')"
     },
     "execution_count": 127,
     "metadata": {},
     "output_type": "execute_result"
    },
    {
     "data": {
      "text/plain": "<Figure size 1152x576 with 1 Axes>",
      "image/png": "[encoded data removed]"
     },
     "metadata": {},
     "output_type": "display_data"
    }
   ],
   "source": [
    "K = range(2, 21)\n",
    "inertia = []\n",
    "\n",
    "for k in K:\n",
    "    print(\"Training a K-Means model with {} clusters! \".format(k))\n",
    "    print()\n",
    "    kmeans = KMeans(n_clusters=k,\n",
    "                    random_state=1234)\n",
    "    kmeans.fit(X_scaled_df)\n",
    "    inertia.append(kmeans.inertia_)\n",
    "\n",
    "import numpy as np\n",
    "import matplotlib.pyplot as plt\n",
    "\n",
    "plt.figure(figsize=(16, 8))\n",
    "plt.plot(K, inertia, 'bx-')\n",
    "plt.xlabel('k')\n",
    "plt.ylabel('inertia')\n",
    "plt.xticks(np.arange(min(K), max(K) + 1, 1.0))\n",
    "plt.title('Elbow Method showing the optimal k')"
   ],
   "metadata": {
    "collapsed": false,
    "pycharm": {
     "name": "#%%\n"
    }
   }
  },
  {
   "cell_type": "code",
   "execution_count": 130,
   "outputs": [
    {
     "data": {
      "text/plain": "<Figure size 576x396 with 1 Axes>",
      "image/png": "[encoded data removed]"
     },
     "metadata": {},
     "output_type": "display_data"
    },
    {
     "data": {
      "text/plain": "<AxesSubplot:title={'center':'Silhouette Plot of KMeans Clustering for 306 Samples in 6 Centers'}, xlabel='silhouette coefficient values', ylabel='cluster label'>"
     },
     "execution_count": 130,
     "metadata": {},
     "output_type": "execute_result"
    }
   ],
   "source": [
    "from yellowbrick.cluster import SilhouetteVisualizer\n",
    "\n",
    "model = KMeans(6, random_state=42)\n",
    "visualizer = SilhouetteVisualizer(model, colors='yellowbrick')\n",
    "visualizer.fit(X_scaled_df)  # Fit the data to the visualizer\n",
    "visualizer.show()  # Finalize and render the figure"
   ],
   "metadata": {
    "collapsed": false,
    "pycharm": {
     "name": "#%%\n"
    }
   }
  },
  {
   "cell_type": "code",
   "execution_count": 129,
   "outputs": [],
   "source": [
    "# import pickle\n",
    "#\n",
    "# #scaler = StandardScaler()\n",
    "# #model = KMeans()\n",
    "#\n",
    "# with open(\"Model/scaler.pickle\", \"wb\") as f:\n",
    "#     pickle.dump(scaler,f)\n",
    "#\n",
    "# with open(\"Model/kmeans_4.pickle\", \"wb\") as f:\n",
    "#     pickle.dump(kmeans,f)"
   ],
   "metadata": {
    "collapsed": false,
    "pycharm": {
     "name": "#%%\n"
    }
   }
  }
 ],
 "metadata": {
  "kernelspec": {
   "display_name": "Python 3",
   "language": "python",
   "name": "python3"
  },
  "language_info": {
   "codemirror_mode": {
    "name": "ipython",
    "version": 2
   },
   "file_extension": ".py",
   "mimetype": "text/x-python",
   "name": "python",
   "nbconvert_exporter": "python",
   "pygments_lexer": "ipython2",
   "version": "2.7.6"
  }
 },
 "nbformat": 4,
 "nbformat_minor": 0
}