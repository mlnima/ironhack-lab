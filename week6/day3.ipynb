{
 "cells": [
  {
   "cell_type": "code",
   "execution_count": 1,
   "metadata": {
    "collapsed": true,
    "pycharm": {
     "name": "#%%\n"
    }
   },
   "outputs": [
    {
     "data": {
      "text/plain": "True"
     },
     "execution_count": 1,
     "metadata": {},
     "output_type": "execute_result"
    }
   ],
   "source": [
    "import sys\n",
    "\n",
    "sys.path.append('../')\n",
    "import os\n",
    "import requests\n",
    "import spotipy\n",
    "from spotipy.oauth2 import SpotifyClientCredentials\n",
    "from dotenv import load_dotenv\n",
    "import pandas as pd\n",
    "import json\n",
    "from custom_utils import print_pretty_json\n",
    "from IPython.display import JSON\n",
    "import json\n",
    "import pprint\n",
    "\n",
    "load_dotenv()"
   ]
  },
  {
   "cell_type": "markdown",
   "source": [
    "functions"
   ],
   "metadata": {
    "collapsed": false,
    "pycharm": {
     "name": "#%% md\n"
    }
   }
  },
  {
   "cell_type": "code",
   "execution_count": 2,
   "outputs": [],
   "source": [
    "def df_cleaner(df):\n",
    "    df = df.drop(\n",
    "        ['date', 'waterfront', 'zipcode', 'lat', 'long', 'id'],\n",
    "        errors='ignore',\n",
    "        axis='columns'\n",
    "    )\n",
    "    df = df.reindex(sorted(df.columns), axis=1)\n",
    "    return df\n",
    "\n",
    "\n",
    "def get_top_tracks(max_page, per_page, keyword):\n",
    "    current_offset = 1\n",
    "    final_data = []\n",
    "    results = sp.search(q='top', limit=per_page, type=\"track\")\n",
    "    final_results = results['tracks']['items']\n",
    "\n",
    "    while current_offset <= max_page and results['tracks'].get('next', ''):\n",
    "        current_offset += 1\n",
    "        results = sp.search(q=keyword, offset=current_offset)\n",
    "        final_results.extend(results['tracks']['items'])\n",
    "\n",
    "    for i in final_results:\n",
    "        audio_features = sp.audio_features(i[\"uri\"])\n",
    "        # print(audio_features)\n",
    "        final_data.append({**i, **audio_features[0]})\n",
    "\n",
    "    return final_data\n"
   ],
   "metadata": {
    "collapsed": false,
    "pycharm": {
     "name": "#%%\n"
    }
   }
  },
  {
   "cell_type": "markdown",
   "source": [
    "   #final_data = map(lambda i: {**i, **(sp.audio_features(i[\"uri\"]))}, final_data)"
   ],
   "metadata": {
    "collapsed": false,
    "pycharm": {
     "name": "#%% md\n"
    }
   }
  },
  {
   "cell_type": "code",
   "execution_count": 3,
   "outputs": [],
   "source": [
    "sp = spotipy.Spotify(\n",
    "    auth_manager=SpotifyClientCredentials(\n",
    "        client_id=os.getenv(\"SPOTIFY_CLIENT_ID\"),\n",
    "        client_secret=os.getenv(\"SPOTIFY_API_KEY\")\n",
    "    ))"
   ],
   "metadata": {
    "collapsed": false,
    "pycharm": {
     "name": "#%%\n"
    }
   }
  },
  {
   "cell_type": "code",
   "execution_count": 24,
   "outputs": [],
   "source": [
    "per_page = 30\n",
    "max_page = 40\n",
    "\n",
    "pop = pd.DataFrame(get_top_tracks(max_page=max_page, per_page=per_page, keyword='pop'))\n",
    "rock = pd.DataFrame(get_top_tracks(max_page=max_page, per_page=per_page, keyword='rock'))\n",
    "classic = pd.DataFrame(get_top_tracks(max_page=max_page, per_page=per_page, keyword='classic'))\n",
    "folk = pd.DataFrame(get_top_tracks(max_page=max_page, per_page=per_page, keyword='folk'))\n",
    "funk = pd.DataFrame(get_top_tracks(max_page=max_page, per_page=per_page, keyword='funk'))\n",
    "metal = pd.DataFrame(get_top_tracks(max_page=max_page, per_page=per_page, keyword='metal'))"
   ],
   "metadata": {
    "collapsed": false,
    "pycharm": {
     "name": "#%%\n"
    }
   }
  },
  {
   "cell_type": "code",
   "execution_count": 25,
   "outputs": [
    {
     "data": {
      "text/plain": "                                                  album  \\\n0     {'album_type': 'album', 'artists': [{'external...   \n1     {'album_type': 'single', 'artists': [{'externa...   \n2     {'album_type': 'album', 'artists': [{'external...   \n3     {'album_type': 'compilation', 'artists': [{'ex...   \n4     {'album_type': 'album', 'artists': [{'external...   \n...                                                 ...   \n2575  {'album_type': 'compilation', 'artists': [{'ex...   \n2576  {'album_type': 'album', 'artists': [{'external...   \n2577  {'album_type': 'album', 'artists': [{'external...   \n2578  {'album_type': 'album', 'artists': [{'external...   \n2579  {'album_type': 'album', 'artists': [{'external...   \n\n                                                artists  \\\n0     [{'external_urls': {'spotify': 'https://open.s...   \n1     [{'external_urls': {'spotify': 'https://open.s...   \n2     [{'external_urls': {'spotify': 'https://open.s...   \n3     [{'external_urls': {'spotify': 'https://open.s...   \n4     [{'external_urls': {'spotify': 'https://open.s...   \n...                                                 ...   \n2575  [{'external_urls': {'spotify': 'https://open.s...   \n2576  [{'external_urls': {'spotify': 'https://open.s...   \n2577  [{'external_urls': {'spotify': 'https://open.s...   \n2578  [{'external_urls': {'spotify': 'https://open.s...   \n2579  [{'external_urls': {'spotify': 'https://open.s...   \n\n                                      available_markets  disc_number  \\\n0     [AD, AE, AG, AL, AM, AO, AR, AT, AU, AZ, BA, B...            1   \n1     [AD, AE, AG, AL, AM, AO, AR, AT, AU, AZ, BA, B...            1   \n2     [AD, AE, AG, AL, AM, AO, AR, AT, AU, AZ, BA, B...            1   \n3     [AD, AE, AG, AL, AM, AO, AR, AT, AU, AZ, BA, B...            1   \n4     [AD, AE, AG, AL, AM, AO, AR, AT, AU, AZ, BA, B...            1   \n...                                                 ...          ...   \n2575  [AD, AE, AG, AL, AM, AO, AR, AT, AU, AZ, BA, B...            1   \n2576  [AD, AE, AG, AL, AM, AO, AR, AT, AU, AZ, BA, B...            1   \n2577  [AD, AE, AG, AL, AM, AO, AR, AT, AU, AZ, BA, B...            1   \n2578                                           [CA, US]            1   \n2579  [AD, AE, AG, AL, AM, AO, AR, AT, AU, AZ, BA, B...            1   \n\n      duration_ms  explicit              external_ids  \\\n0          215364      True  {'isrc': 'QMEU31819473'}   \n1          148486     False  {'isrc': 'USUM72206227'}   \n2          197420      True  {'isrc': 'QZ5FA1752048'}   \n3          215133     False  {'isrc': 'USSM18600108'}   \n4          236000      True  {'isrc': 'USAT21504168'}   \n...           ...       ...                       ...   \n2575       130187     False  {'isrc': 'JPM201300049'}   \n2576       243533      True  {'isrc': 'USEE10170414'}   \n2577       238293     False  {'isrc': 'GBBBN8002006'}   \n2578       396987     False  {'isrc': 'USEE10170108'}   \n2579       173556      True  {'isrc': 'USZ4V2000386'}   \n\n                                          external_urls  \\\n0     {'spotify': 'https://open.spotify.com/track/5a...   \n1     {'spotify': 'https://open.spotify.com/track/4h...   \n2     {'spotify': 'https://open.spotify.com/track/0H...   \n3     {'spotify': 'https://open.spotify.com/track/34...   \n4     {'spotify': 'https://open.spotify.com/track/55...   \n...                                                 ...   \n2575  {'spotify': 'https://open.spotify.com/track/5L...   \n2576  {'spotify': 'https://open.spotify.com/track/2S...   \n2577  {'spotify': 'https://open.spotify.com/track/0V...   \n2578  {'spotify': 'https://open.spotify.com/track/36...   \n2579  {'spotify': 'https://open.spotify.com/track/3O...   \n\n                                                   href  \\\n0     https://api.spotify.com/v1/tracks/5aXgz1oKK8Q9...   \n1     https://api.spotify.com/v1/tracks/4h9wh7iOZ0GG...   \n2     https://api.spotify.com/v1/tracks/0HCnj7pfrvsh...   \n3     https://api.spotify.com/v1/tracks/34x6hEJgGAOQ...   \n4     https://api.spotify.com/v1/tracks/55Q46o5adtSo...   \n...                                                 ...   \n2575  https://api.spotify.com/v1/tracks/5LLhdR6qdQvA...   \n2576  https://api.spotify.com/v1/tracks/2SgbR6ttzoNl...   \n2577  https://api.spotify.com/v1/tracks/0VFfZVCFNe1I...   \n2578  https://api.spotify.com/v1/tracks/36DLF96pjKyd...   \n2579  https://api.spotify.com/v1/tracks/3O7Kkfm93epH...   \n\n                          id  ...  mode speechiness  acousticness  \\\n0     5aXgz1oKK8Q9z9xvTmSnrO  ...     1      0.0454      0.005870   \n1     4h9wh7iOZ0GGn8QVp4RAOB  ...     1      0.0475      0.082600   \n2     0HCnj7pfrvshnocOJUFeit  ...     1      0.2060      0.010300   \n3     34x6hEJgGAOQvmlMql5Ige  ...     0      0.0471      0.241000   \n4     55Q46o5adtSobImSKrrlqW  ...     1      0.2160      0.193000   \n...                      ...  ...   ...         ...           ...   \n2575  5LLhdR6qdQvAfSm2C0EYj4  ...     1      0.0908      0.000003   \n2576  2SgbR6ttzoNlCRGQOKjrop  ...     1      0.0765      0.004370   \n2577  0VFfZVCFNe1I2IIChVBR5m  ...     0      0.0296      0.026500   \n2578  36DLF96pjKydN0MZtsahQz  ...     1      0.1730      0.000051   \n2579  3O7Kkfm93epHtG6GaFtcr6  ...     1      0.4220      0.016300   \n\n     instrumentalness  liveness valence    tempo  \\\n0            0.000002    0.1090   0.039  105.955   \n1            0.000745    0.0546   0.825  139.994   \n2            0.000195    0.1170   0.376  146.056   \n3            0.000000    0.1300   0.647  157.170   \n4            0.000000    0.1800   0.678  120.039   \n...               ...       ...     ...      ...   \n2575         0.103000    0.1550   0.593  199.806   \n2576         0.034500    0.0820   0.437  114.816   \n2577         0.001410    0.1460   0.424  101.181   \n2578         0.094200    0.2050   0.270  148.506   \n2579         0.000000    0.1270   0.399   89.674   \n\n                                             track_href  \\\n0     https://api.spotify.com/v1/tracks/5aXgz1oKK8Q9...   \n1     https://api.spotify.com/v1/tracks/4h9wh7iOZ0GG...   \n2     https://api.spotify.com/v1/tracks/0HCnj7pfrvsh...   \n3     https://api.spotify.com/v1/tracks/34x6hEJgGAOQ...   \n4     https://api.spotify.com/v1/tracks/55Q46o5adtSo...   \n...                                                 ...   \n2575  https://api.spotify.com/v1/tracks/5LLhdR6qdQvA...   \n2576  https://api.spotify.com/v1/tracks/2SgbR6ttzoNl...   \n2577  https://api.spotify.com/v1/tracks/0VFfZVCFNe1I...   \n2578  https://api.spotify.com/v1/tracks/36DLF96pjKyd...   \n2579  https://api.spotify.com/v1/tracks/3O7Kkfm93epH...   \n\n                                           analysis_url  time_signature  \n0     https://api.spotify.com/v1/audio-analysis/5aXg...               4  \n1     https://api.spotify.com/v1/audio-analysis/4h9w...               4  \n2     https://api.spotify.com/v1/audio-analysis/0HCn...               4  \n3     https://api.spotify.com/v1/audio-analysis/34x6...               4  \n4     https://api.spotify.com/v1/audio-analysis/55Q4...               4  \n...                                                 ...             ...  \n2575  https://api.spotify.com/v1/audio-analysis/5LLh...               4  \n2576  https://api.spotify.com/v1/audio-analysis/2Sgb...               4  \n2577  https://api.spotify.com/v1/audio-analysis/0VFf...               4  \n2578  https://api.spotify.com/v1/audio-analysis/36DL...               4  \n2579  https://api.spotify.com/v1/audio-analysis/3O7K...               4  \n\n[2580 rows x 31 columns]",
      "text/html": "<div>\n<style scoped>\n    .dataframe tbody tr th:only-of-type {\n        vertical-align: middle;\n    }\n\n    .dataframe tbody tr th {\n        vertical-align: top;\n    }\n\n    .dataframe thead th {\n        text-align: right;\n    }\n</style>\n<table border=\"1\" class=\"dataframe\">\n  <thead>\n    <tr style=\"text-align: right;\">\n      <th></th>\n      <th>album</th>\n      <th>artists</th>\n      <th>available_markets</th>\n      <th>disc_number</th>\n      <th>duration_ms</th>\n      <th>explicit</th>\n      <th>external_ids</th>\n      <th>external_urls</th>\n      <th>href</th>\n      <th>id</th>\n      <th>...</th>\n      <th>mode</th>\n      <th>speechiness</th>\n      <th>acousticness</th>\n      <th>instrumentalness</th>\n      <th>liveness</th>\n      <th>valence</th>\n      <th>tempo</th>\n      <th>track_href</th>\n      <th>analysis_url</th>\n      <th>time_signature</th>\n    </tr>\n  </thead>\n  <tbody>\n    <tr>\n      <th>0</th>\n      <td>{'album_type': 'album', 'artists': [{'external...</td>\n      <td>[{'external_urls': {'spotify': 'https://open.s...</td>\n      <td>[AD, AE, AG, AL, AM, AO, AR, AT, AU, AZ, BA, B...</td>\n      <td>1</td>\n      <td>215364</td>\n      <td>True</td>\n      <td>{'isrc': 'QMEU31819473'}</td>\n      <td>{'spotify': 'https://open.spotify.com/track/5a...</td>\n      <td>https://api.spotify.com/v1/tracks/5aXgz1oKK8Q9...</td>\n      <td>5aXgz1oKK8Q9z9xvTmSnrO</td>\n      <td>...</td>\n      <td>1</td>\n      <td>0.0454</td>\n      <td>0.005870</td>\n      <td>0.000002</td>\n      <td>0.1090</td>\n      <td>0.039</td>\n      <td>105.955</td>\n      <td>https://api.spotify.com/v1/tracks/5aXgz1oKK8Q9...</td>\n      <td>https://api.spotify.com/v1/audio-analysis/5aXg...</td>\n      <td>4</td>\n    </tr>\n    <tr>\n      <th>1</th>\n      <td>{'album_type': 'single', 'artists': [{'externa...</td>\n      <td>[{'external_urls': {'spotify': 'https://open.s...</td>\n      <td>[AD, AE, AG, AL, AM, AO, AR, AT, AU, AZ, BA, B...</td>\n      <td>1</td>\n      <td>148486</td>\n      <td>False</td>\n      <td>{'isrc': 'USUM72206227'}</td>\n      <td>{'spotify': 'https://open.spotify.com/track/4h...</td>\n      <td>https://api.spotify.com/v1/tracks/4h9wh7iOZ0GG...</td>\n      <td>4h9wh7iOZ0GGn8QVp4RAOB</td>\n      <td>...</td>\n      <td>1</td>\n      <td>0.0475</td>\n      <td>0.082600</td>\n      <td>0.000745</td>\n      <td>0.0546</td>\n      <td>0.825</td>\n      <td>139.994</td>\n      <td>https://api.spotify.com/v1/tracks/4h9wh7iOZ0GG...</td>\n      <td>https://api.spotify.com/v1/audio-analysis/4h9w...</td>\n      <td>4</td>\n    </tr>\n    <tr>\n      <th>2</th>\n      <td>{'album_type': 'album', 'artists': [{'external...</td>\n      <td>[{'external_urls': {'spotify': 'https://open.s...</td>\n      <td>[AD, AE, AG, AL, AM, AO, AR, AT, AU, AZ, BA, B...</td>\n      <td>1</td>\n      <td>197420</td>\n      <td>True</td>\n      <td>{'isrc': 'QZ5FA1752048'}</td>\n      <td>{'spotify': 'https://open.spotify.com/track/0H...</td>\n      <td>https://api.spotify.com/v1/tracks/0HCnj7pfrvsh...</td>\n      <td>0HCnj7pfrvshnocOJUFeit</td>\n      <td>...</td>\n      <td>1</td>\n      <td>0.2060</td>\n      <td>0.010300</td>\n      <td>0.000195</td>\n      <td>0.1170</td>\n      <td>0.376</td>\n      <td>146.056</td>\n      <td>https://api.spotify.com/v1/tracks/0HCnj7pfrvsh...</td>\n      <td>https://api.spotify.com/v1/audio-analysis/0HCn...</td>\n      <td>4</td>\n    </tr>\n    <tr>\n      <th>3</th>\n      <td>{'album_type': 'compilation', 'artists': [{'ex...</td>\n      <td>[{'external_urls': {'spotify': 'https://open.s...</td>\n      <td>[AD, AE, AG, AL, AM, AO, AR, AT, AU, AZ, BA, B...</td>\n      <td>1</td>\n      <td>215133</td>\n      <td>False</td>\n      <td>{'isrc': 'USSM18600108'}</td>\n      <td>{'spotify': 'https://open.spotify.com/track/34...</td>\n      <td>https://api.spotify.com/v1/tracks/34x6hEJgGAOQ...</td>\n      <td>34x6hEJgGAOQvmlMql5Ige</td>\n      <td>...</td>\n      <td>0</td>\n      <td>0.0471</td>\n      <td>0.241000</td>\n      <td>0.000000</td>\n      <td>0.1300</td>\n      <td>0.647</td>\n      <td>157.170</td>\n      <td>https://api.spotify.com/v1/tracks/34x6hEJgGAOQ...</td>\n      <td>https://api.spotify.com/v1/audio-analysis/34x6...</td>\n      <td>4</td>\n    </tr>\n    <tr>\n      <th>4</th>\n      <td>{'album_type': 'album', 'artists': [{'external...</td>\n      <td>[{'external_urls': {'spotify': 'https://open.s...</td>\n      <td>[AD, AE, AG, AL, AM, AO, AR, AT, AU, AZ, BA, B...</td>\n      <td>1</td>\n      <td>236000</td>\n      <td>True</td>\n      <td>{'isrc': 'USAT21504168'}</td>\n      <td>{'spotify': 'https://open.spotify.com/track/55...</td>\n      <td>https://api.spotify.com/v1/tracks/55Q46o5adtSo...</td>\n      <td>55Q46o5adtSobImSKrrlqW</td>\n      <td>...</td>\n      <td>1</td>\n      <td>0.2160</td>\n      <td>0.193000</td>\n      <td>0.000000</td>\n      <td>0.1800</td>\n      <td>0.678</td>\n      <td>120.039</td>\n      <td>https://api.spotify.com/v1/tracks/55Q46o5adtSo...</td>\n      <td>https://api.spotify.com/v1/audio-analysis/55Q4...</td>\n      <td>4</td>\n    </tr>\n    <tr>\n      <th>...</th>\n      <td>...</td>\n      <td>...</td>\n      <td>...</td>\n      <td>...</td>\n      <td>...</td>\n      <td>...</td>\n      <td>...</td>\n      <td>...</td>\n      <td>...</td>\n      <td>...</td>\n      <td>...</td>\n      <td>...</td>\n      <td>...</td>\n      <td>...</td>\n      <td>...</td>\n      <td>...</td>\n      <td>...</td>\n      <td>...</td>\n      <td>...</td>\n      <td>...</td>\n      <td>...</td>\n    </tr>\n    <tr>\n      <th>2575</th>\n      <td>{'album_type': 'compilation', 'artists': [{'ex...</td>\n      <td>[{'external_urls': {'spotify': 'https://open.s...</td>\n      <td>[AD, AE, AG, AL, AM, AO, AR, AT, AU, AZ, BA, B...</td>\n      <td>1</td>\n      <td>130187</td>\n      <td>False</td>\n      <td>{'isrc': 'JPM201300049'}</td>\n      <td>{'spotify': 'https://open.spotify.com/track/5L...</td>\n      <td>https://api.spotify.com/v1/tracks/5LLhdR6qdQvA...</td>\n      <td>5LLhdR6qdQvAfSm2C0EYj4</td>\n      <td>...</td>\n      <td>1</td>\n      <td>0.0908</td>\n      <td>0.000003</td>\n      <td>0.103000</td>\n      <td>0.1550</td>\n      <td>0.593</td>\n      <td>199.806</td>\n      <td>https://api.spotify.com/v1/tracks/5LLhdR6qdQvA...</td>\n      <td>https://api.spotify.com/v1/audio-analysis/5LLh...</td>\n      <td>4</td>\n    </tr>\n    <tr>\n      <th>2576</th>\n      <td>{'album_type': 'album', 'artists': [{'external...</td>\n      <td>[{'external_urls': {'spotify': 'https://open.s...</td>\n      <td>[AD, AE, AG, AL, AM, AO, AR, AT, AU, AZ, BA, B...</td>\n      <td>1</td>\n      <td>243533</td>\n      <td>True</td>\n      <td>{'isrc': 'USEE10170414'}</td>\n      <td>{'spotify': 'https://open.spotify.com/track/2S...</td>\n      <td>https://api.spotify.com/v1/tracks/2SgbR6ttzoNl...</td>\n      <td>2SgbR6ttzoNlCRGQOKjrop</td>\n      <td>...</td>\n      <td>1</td>\n      <td>0.0765</td>\n      <td>0.004370</td>\n      <td>0.034500</td>\n      <td>0.0820</td>\n      <td>0.437</td>\n      <td>114.816</td>\n      <td>https://api.spotify.com/v1/tracks/2SgbR6ttzoNl...</td>\n      <td>https://api.spotify.com/v1/audio-analysis/2Sgb...</td>\n      <td>4</td>\n    </tr>\n    <tr>\n      <th>2577</th>\n      <td>{'album_type': 'album', 'artists': [{'external...</td>\n      <td>[{'external_urls': {'spotify': 'https://open.s...</td>\n      <td>[AD, AE, AG, AL, AM, AO, AR, AT, AU, AZ, BA, B...</td>\n      <td>1</td>\n      <td>238293</td>\n      <td>False</td>\n      <td>{'isrc': 'GBBBN8002006'}</td>\n      <td>{'spotify': 'https://open.spotify.com/track/0V...</td>\n      <td>https://api.spotify.com/v1/tracks/0VFfZVCFNe1I...</td>\n      <td>0VFfZVCFNe1I2IIChVBR5m</td>\n      <td>...</td>\n      <td>0</td>\n      <td>0.0296</td>\n      <td>0.026500</td>\n      <td>0.001410</td>\n      <td>0.1460</td>\n      <td>0.424</td>\n      <td>101.181</td>\n      <td>https://api.spotify.com/v1/tracks/0VFfZVCFNe1I...</td>\n      <td>https://api.spotify.com/v1/audio-analysis/0VFf...</td>\n      <td>4</td>\n    </tr>\n    <tr>\n      <th>2578</th>\n      <td>{'album_type': 'album', 'artists': [{'external...</td>\n      <td>[{'external_urls': {'spotify': 'https://open.s...</td>\n      <td>[CA, US]</td>\n      <td>1</td>\n      <td>396987</td>\n      <td>False</td>\n      <td>{'isrc': 'USEE10170108'}</td>\n      <td>{'spotify': 'https://open.spotify.com/track/36...</td>\n      <td>https://api.spotify.com/v1/tracks/36DLF96pjKyd...</td>\n      <td>36DLF96pjKydN0MZtsahQz</td>\n      <td>...</td>\n      <td>1</td>\n      <td>0.1730</td>\n      <td>0.000051</td>\n      <td>0.094200</td>\n      <td>0.2050</td>\n      <td>0.270</td>\n      <td>148.506</td>\n      <td>https://api.spotify.com/v1/tracks/36DLF96pjKyd...</td>\n      <td>https://api.spotify.com/v1/audio-analysis/36DL...</td>\n      <td>4</td>\n    </tr>\n    <tr>\n      <th>2579</th>\n      <td>{'album_type': 'album', 'artists': [{'external...</td>\n      <td>[{'external_urls': {'spotify': 'https://open.s...</td>\n      <td>[AD, AE, AG, AL, AM, AO, AR, AT, AU, AZ, BA, B...</td>\n      <td>1</td>\n      <td>173556</td>\n      <td>True</td>\n      <td>{'isrc': 'USZ4V2000386'}</td>\n      <td>{'spotify': 'https://open.spotify.com/track/3O...</td>\n      <td>https://api.spotify.com/v1/tracks/3O7Kkfm93epH...</td>\n      <td>3O7Kkfm93epHtG6GaFtcr6</td>\n      <td>...</td>\n      <td>1</td>\n      <td>0.4220</td>\n      <td>0.016300</td>\n      <td>0.000000</td>\n      <td>0.1270</td>\n      <td>0.399</td>\n      <td>89.674</td>\n      <td>https://api.spotify.com/v1/tracks/3O7Kkfm93epH...</td>\n      <td>https://api.spotify.com/v1/audio-analysis/3O7K...</td>\n      <td>4</td>\n    </tr>\n  </tbody>\n</table>\n<p>2580 rows × 31 columns</p>\n</div>"
     },
     "execution_count": 25,
     "metadata": {},
     "output_type": "execute_result"
    }
   ],
   "source": [
    "df = pd.concat([pop,rock,classic,folk,funk,metal],ignore_index=True)\n",
    "df"
   ],
   "metadata": {
    "collapsed": false,
    "pycharm": {
     "name": "#%%\n"
    }
   }
  },
  {
   "cell_type": "markdown",
   "source": [
    "save df"
   ],
   "metadata": {
    "collapsed": false,
    "pycharm": {
     "name": "#%% md\n"
    }
   }
  },
  {
   "cell_type": "code",
   "execution_count": 26,
   "outputs": [],
   "source": [
    "df.to_csv('spotify_data.csv', index=False, encoding='utf-8')"
   ],
   "metadata": {
    "collapsed": false,
    "pycharm": {
     "name": "#%%\n"
    }
   }
  },
  {
   "cell_type": "code",
   "execution_count": 27,
   "outputs": [
    {
     "data": {
      "text/plain": "array(['Topanga', \"I Ain't Worried\", 'Top Off',\n       'Danger Zone - From \"Top Gun\" Original Soundtrack', 'Top',\n       'Take My Breath Away - Love Theme from \"Top Gun\"',\n       'Top Gun Anthem - From \"Top Gun\" Original Soundtrack',\n       'Top Gun Anthem', 'Love On Top', 'Top Notch (feat. Fivio Foreign)',\n       'Top (Remix) feat. Lil Durk', 'Top Of The World',\n       'TOP FLOOR (feat. Travis Scott)', 'On Top Of The World',\n       'Over The Top (feat. Drake)', \"Top (feat. Pi'erre Bourne)\",\n       'Hold My Hand', 'As It Was', 'Top Back', 'Top of My School',\n       'Great Balls Of Fire - Live', 'Topanga Canyon',\n       'Sharp Dressed Man - 2008 Remaster', 'Topdown', 'Lil Top',\n       'Topical Solution', \"I Can't Help Myself (Sugar Pie, Honey Bunch)\",\n       'Main Titles (You’ve Been Called Back to Top Gun)', 'WHATS POPPIN',\n       'POP!', 'Popular Monster', 'Big Poppa - 2005 Remaster',\n       'POPSTAR (feat. Drake)', 'Pope Is a Rockstar', 'Dior', 'POP/STARS',\n       'WHATS POPPIN (feat. DaBaby, Tory Lanez & Lil Wayne) - Remix',\n       'Pop That', 'Popular Loner',\n       'For The Night (feat. Lil Baby & DaBaby)', 'Pop Out',\n       'Popular - From \"Wicked\" Original Broadway Cast Recording/2003',\n       'Pop Style', 'What You Know Bout Love', 'Welcome To The Party',\n       \"Poppin' Them Thangs\", 'Invincible', 'POP',\n       'Hello (feat. A Boogie Wit da Hoodie)', 'Poplar St', 'Icee Pop',\n       'Element', 'Pop Out Again (feat. Lil Baby & Gunna)',\n       'Pop, Lock & Drop It', 'POP STAR (feat. Kevin Gates)',\n       'Slide (Remix) (feat. Pop Smoke, A Boogie Wit da Hoodie & Chris Brown) (feat. Pop Smoke)',\n       'Into You', 'Pop', 'Mood Swings (feat. Lil Tjay)',\n       'Tell The Vision (feat. Kanye West & Pusha T)', 'Got It On Me',\n       'Pop Off!',\n       'Whats Poppin (feat. DaBaby, Tory Lanez & Lil Wayne) [Remix] - Bonus Track',\n       'Enjoy Yourself (feat. Karol G)',\n       \"Poppin' My Collar (feat. Project Pat)\",\n       'Show Out (with Skepta & Pop Smoke)', 'Heat Waves',\n       'Big Poppa - 2007 Remaster', 'Glad You Came', 'Pop Bottles - Main',\n       'Peaches (feat. Daniel Caesar & Giveon)', 'Pop The Trunk',\n       'Dear Maria, Count Me In', 'Popovitch',\n       \"Rocket Man (I Think It's Going To Be A Long, Long Time)\",\n       'ROCKSTAR (feat. Roddy Ricch)', 'Rockstar', 'Money Trees',\n       'Rocking A Cardigan in Atlanta', 'Rock and a Hard Place',\n       'Rock Your Body', 'Rocketeer', 'Rock You Like A Hurricane',\n       'Old Time Rock & Roll', 'Rock with You - Single Version',\n       'Rocky Road (with Kodak Black)', 'POCKET ROCKET', 'Rockstar Made',\n       'Rock That Body', 'Rock And Roll All Nite',\n       'Livin It Up (with Post Malone & A$AP Rocky)', \"Rock'n Me\",\n       'Party Rock Anthem', 'Rock Lobster', 'Rockstar In His Prime',\n       'We Will Rock You - Remastered 2011',\n       'Rockabye (feat. Sean Paul & Anne-Marie)',\n       'Rock N Roll (feat. Kanye West & Kid Cudi)', 'Sundress',\n       'Rock the Casbah - Remastered', \"I Love Rock 'N Roll\",\n       'Rocky Mountain High', 'Rocky Mountain Way', 'Rockstars',\n       'GIVE HEAVEN SOME HELL', 'Rock Me Amadeus', 'Rock Of Ages',\n       'Norman fucking Rockwell', 'Rock The Boat', \"Rockin' That Shit\",\n       'Rocky Theme Song', \"(We're Gonna) Rock Around The Clock\",\n       'Rock N Roll', 'Praise The Lord (Da Shine) (feat. Skepta)',\n       'Rock Wit U (Awww Baby)',\n       \"F**kin' Problems (feat. Drake, 2 Chainz & Kendrick Lamar)\",\n       'Rock with you', 'All Summer Long', \"Rockin' Robin\",\n       'Gonna Fly Now - Theme From \"Rocky\" / Remastered 2006',\n       'Rock Salt and Nails (Live)', 'Smells Like Teen Spirit', '2step',\n       'Classic', 'Fancy', 'Money', 'Classic (feat. POWERS)',\n       'Sonata No. 14 \"Moonlight\" in C-Sharp Minor\", Op. 27 No. 2: I. Adagio sostenuto',\n       'Carnival of the Animals: The Swan',\n       'Classic Man (feat. Kendrick Lamar) - Remix', 'Boss Bitch',\n       'Shot In The Dark', 'Bohemian Rhapsody',\n       'Whole Lotta Love - 1990 Remaster', 'Classic Dreams, Pt. 65',\n       'Suite bergamasque, L. 75: III. Clair de lune',\n       'Classic Sleep Music, Pt. 79', 'Black Widow',\n       'Cello Suite No. 1 in G Major, BWV 1007: I. Prélude',\n       'classic j dies and goes to hell part 1', 'Dream On', 'Classico',\n       'Ice Ice Baby', 'Come Together - Remastered 2009', 'Overtime',\n       'Should I Stay or Should I Go - Remastered', 'Classics Of Love',\n       'Fishing In The Dark', 'Classical Gas',\n       'Bohemian Rhapsody - Remastered 2011',\n       'Classical Piano Music for Baby Sleep', 'Ladders', \"Summer Of '69\",\n       'Classic and Perfect', 'Sh-Boom', 'Highway to Hell',\n       'Classical Baby', 'Small Worlds',\n       'Overture-Suite in G Major, TWV 55:G4 \"Les nations anciennes et modernes\": V. Loure (Arr. J. Steenbrink & T. Steenbrink for Strings & Continuo)',\n       'Back In Black', 'Classical Piano for Sleeping Music',\n       'Project Dreams', 'The Arts and the Hours', 'Classic Male Pregame',\n       'You Shook Me All Night Long', 'the 1', 'august', 'Missing Piece',\n       'Folks Back Home', 'exile (feat. Bon Iver)', 'The Otter',\n       'Folk-Metaphysics', 'cardigan', 'Folks', 'Ho Hey', 'My Kinda Folk',\n       \"Life's Been Good\", 'Folks Like Us', 'my tears ricochet', 'willow',\n       'Folkvangr', 'this is me trying', 'champagne problems',\n       'The Folks Who Live on the Hill - Live', 'betty', 'Thorns',\n       'Folk Song from the Settlement on the Edge of the Earth',\n       'invisible string', 'tolerate it', 'Folk-Hop Sound', 'Tangled',\n       'Folklore', 'mirrorball', 'right where you left me - bonus track',\n       'illicit affairs', 'Folk Song', 'the last great american dynasty',\n       'ivy', 'seven', 'gold rush', 'Folk Jam',\n       'A Life Where We Work Out (feat. Kaitlin Butts)',\n       'Folklore and Tall Tales', 'Take It All Back 2.0',\n       'The Folks Who Live On The Hill', 'peace', \"Blowin' in the Wind\",\n       'Suit And Jacket', 'Folk Bloodbath',\n       'Gossip Folks (feat. Ludacris)', 'Funkytown', 'Funky Galileo',\n       'The Weekend - Funk Wav Remix', 'Funky Cold Medina',\n       'Play That Funky Music',\n       'Feels (feat. Pharrell Williams, Katy Perry & Big Sean)',\n       'Funkdafied', 'Regulate', 'Funk',\n       'Some Kind Of Wonderful - Remastered 1999', 'Funky Little Beat',\n       'Funkytown - Single Version', 'Slide (feat. Frank Ocean & Migos)',\n       'Funky Kingston', \"Gettin' It (feat. Parliament Funkadelic)\",\n       'Renegades Of Funk', \"Funky Ho'$\", 'Cherry-coloured Funk',\n       'Get Down On It - Single Version', \"Funkin' for Jamaica\",\n       \"We're An American Band - Remastered 2002\",\n       'Got To Give It Up - Pt. 1', 'FUNKENTOLOGY', 'Hollywood Swinging',\n       \"Funkytown - From 'Minions: The Rise of Gru' Soundtrack\",\n       'More Bounce to the Ounce', 'Funk #48',\n       'Love & War - Yellow Claw G-Funk Remix',\n       'EU VOU COM CARINHO ELA QUER COM FORÇA', 'Funky Fanfare',\n       'This D.J.', 'Jungle Boogie', 'Funky Friday',\n       'Continual (feat. Cory Henry)', 'Kikando e Me Olhando',\n       'Funky Town', 'Rollin (feat. Future & Khalid)',\n       'Gostosinho Tu Cai', 'Funk Funk', 'Psychedelic Funk', 'Mary Jane',\n       'Funky Wizard', 'Give Up The Funk (Tear The Roof Off The Sucker)',\n       'Funk Music', 'Machine Gun Funk - 2006 Remaster', 'Super Freak',\n       'One (Remastered)', 'Master of Puppets (Remastered)',\n       'For Whom The Bell Tolls (Remastered)', 'Metalingus',\n       'Nothing Else Matters (Remastered)', 'The Unforgiven (Remastered)',\n       'Heavy Metal', 'Wherever I May Roam (Remastered)', 'METALLICA',\n       'Sad But True (Remastered)', 'Fade To Black (Remastered)',\n       'Metallic Taste', 'Cum on Feel the Noize', 'Metal Heart',\n       'Metal Zone', 'Orion (Remastered)', 'Whiskey In The Jar', 'Walk',\n       'Metal Crusher', 'Chop Suey!', 'Fuel', 'Hail to the King',\n       'The Only Thing I Know For Real - Maniac Agenda Mix', 'Duality',\n       'The Trooper - 2015 Remaster',\n       'It Has To Be This Way - Platinum Mix', 'Empire (Let Them Sing)',\n       'Metal', 'Seek & Destroy (Remastered)', 'Down with the Sickness',\n       'Metal Violets', 'TRAP METAL',\n       'Machinery Of Torment (From The Netflix Film \"Metal Lords\")',\n       'Metal Militia (Remastered)', 'Turn The Page', 'Omerta',\n       'The Metal', 'Metallic Madness Zone Act 2', 'Battery (Remastered)',\n       'Rules of Nature - Platinum Mix', 'METAL', 'Metalcore Manson',\n       'All My Best Friends Are Metalheads', 'Carrion',\n       \"Metalingus (Edge's WWE Theme)\",\n       'The Stains of Time - Maniac Agenda Mix', 'Cowboys from Hell',\n       'Metal Gods', 'Ride The Lightning (Remastered)', 'metal'],\n      dtype=object)"
     },
     "execution_count": 27,
     "metadata": {},
     "output_type": "execute_result"
    }
   ],
   "source": [
    "df['name'].unique()"
   ],
   "metadata": {
    "collapsed": false,
    "pycharm": {
     "name": "#%%\n"
    }
   }
  }
 ],
 "metadata": {
  "kernelspec": {
   "display_name": "Python 3",
   "language": "python",
   "name": "python3"
  },
  "language_info": {
   "codemirror_mode": {
    "name": "ipython",
    "version": 2
   },
   "file_extension": ".py",
   "mimetype": "text/x-python",
   "name": "python",
   "nbconvert_exporter": "python",
   "pygments_lexer": "ipython2",
   "version": "2.7.6"
  }
 },
 "nbformat": 4,
 "nbformat_minor": 0
}