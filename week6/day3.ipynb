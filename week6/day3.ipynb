{
 "cells": [
  {
   "cell_type": "code",
   "execution_count": 4,
   "metadata": {
    "collapsed": true,
    "pycharm": {
     "name": "#%%\n"
    }
   },
   "outputs": [],
   "source": [
    "import requests\n",
    "import spotipy\n",
    "from spotipy.oauth2 import SpotifyClientCredentials\n",
    "import sys\n",
    "sys.path.append('../')\n",
    "from env_variables import spotify_api_key"
   ]
  },
  {
   "cell_type": "code",
   "execution_count": 5,
   "outputs": [
    {
     "ename": "SpotifyOauthError",
     "evalue": "No client_id. Pass it or set a SPOTIPY_CLIENT_ID environment variable.",
     "output_type": "error",
     "traceback": [
      "\u001B[1;31m---------------------------------------------------------------------------\u001B[0m",
      "\u001B[1;31mSpotifyOauthError\u001B[0m                         Traceback (most recent call last)",
      "Input \u001B[1;32mIn [5]\u001B[0m, in \u001B[0;36m<cell line: 1>\u001B[1;34m()\u001B[0m\n\u001B[1;32m----> 1\u001B[0m sp\u001B[38;5;241m=\u001B[39m spotipy\u001B[38;5;241m.\u001B[39mSpotify(auth_manager\u001B[38;5;241m=\u001B[39m\u001B[43mSpotifyClientCredentials\u001B[49m\u001B[43m(\u001B[49m\u001B[43m)\u001B[49m)\n",
      "File \u001B[1;32m~\\AppData\\Local\\Programs\\Python\\Python310\\lib\\site-packages\\spotipy\\oauth2.py:201\u001B[0m, in \u001B[0;36mSpotifyClientCredentials.__init__\u001B[1;34m(self, client_id, client_secret, proxies, requests_session, requests_timeout, cache_handler)\u001B[0m\n\u001B[0;32m    172\u001B[0m \u001B[38;5;124;03m\"\"\"\u001B[39;00m\n\u001B[0;32m    173\u001B[0m \u001B[38;5;124;03mCreates a Client Credentials Flow Manager.\u001B[39;00m\n\u001B[0;32m    174\u001B[0m \n\u001B[1;32m   (...)\u001B[0m\n\u001B[0;32m    196\u001B[0m \n\u001B[0;32m    197\u001B[0m \u001B[38;5;124;03m\"\"\"\u001B[39;00m\n\u001B[0;32m    199\u001B[0m \u001B[38;5;28msuper\u001B[39m(SpotifyClientCredentials, \u001B[38;5;28mself\u001B[39m)\u001B[38;5;241m.\u001B[39m\u001B[38;5;21m__init__\u001B[39m(requests_session)\n\u001B[1;32m--> 201\u001B[0m \u001B[38;5;28mself\u001B[39m\u001B[38;5;241m.\u001B[39mclient_id \u001B[38;5;241m=\u001B[39m client_id\n\u001B[0;32m    202\u001B[0m \u001B[38;5;28mself\u001B[39m\u001B[38;5;241m.\u001B[39mclient_secret \u001B[38;5;241m=\u001B[39m client_secret\n\u001B[0;32m    203\u001B[0m \u001B[38;5;28mself\u001B[39m\u001B[38;5;241m.\u001B[39mproxies \u001B[38;5;241m=\u001B[39m proxies\n",
      "File \u001B[1;32m~\\AppData\\Local\\Programs\\Python\\Python310\\lib\\site-packages\\spotipy\\oauth2.py:94\u001B[0m, in \u001B[0;36mSpotifyAuthBase.client_id\u001B[1;34m(self, val)\u001B[0m\n\u001B[0;32m     92\u001B[0m \u001B[38;5;129m@client_id\u001B[39m\u001B[38;5;241m.\u001B[39msetter\n\u001B[0;32m     93\u001B[0m \u001B[38;5;28;01mdef\u001B[39;00m \u001B[38;5;21mclient_id\u001B[39m(\u001B[38;5;28mself\u001B[39m, val):\n\u001B[1;32m---> 94\u001B[0m     \u001B[38;5;28mself\u001B[39m\u001B[38;5;241m.\u001B[39m_client_id \u001B[38;5;241m=\u001B[39m \u001B[43m_ensure_value\u001B[49m\u001B[43m(\u001B[49m\u001B[43mval\u001B[49m\u001B[43m,\u001B[49m\u001B[43m \u001B[49m\u001B[38;5;124;43m\"\u001B[39;49m\u001B[38;5;124;43mclient_id\u001B[39;49m\u001B[38;5;124;43m\"\u001B[39;49m\u001B[43m)\u001B[49m\n",
      "File \u001B[1;32m~\\AppData\\Local\\Programs\\Python\\Python310\\lib\\site-packages\\spotipy\\oauth2.py:70\u001B[0m, in \u001B[0;36m_ensure_value\u001B[1;34m(value, env_key)\u001B[0m\n\u001B[0;32m     65\u001B[0m \u001B[38;5;28;01mif\u001B[39;00m _val \u001B[38;5;129;01mis\u001B[39;00m \u001B[38;5;28;01mNone\u001B[39;00m:\n\u001B[0;32m     66\u001B[0m     msg \u001B[38;5;241m=\u001B[39m \u001B[38;5;124m\"\u001B[39m\u001B[38;5;124mNo \u001B[39m\u001B[38;5;132;01m%s\u001B[39;00m\u001B[38;5;124m. Pass it or set a \u001B[39m\u001B[38;5;132;01m%s\u001B[39;00m\u001B[38;5;124m environment variable.\u001B[39m\u001B[38;5;124m\"\u001B[39m \u001B[38;5;241m%\u001B[39m (\n\u001B[0;32m     67\u001B[0m         env_key,\n\u001B[0;32m     68\u001B[0m         env_val,\n\u001B[0;32m     69\u001B[0m     )\n\u001B[1;32m---> 70\u001B[0m     \u001B[38;5;28;01mraise\u001B[39;00m SpotifyOauthError(msg)\n\u001B[0;32m     71\u001B[0m \u001B[38;5;28;01mreturn\u001B[39;00m _val\n",
      "\u001B[1;31mSpotifyOauthError\u001B[0m: No client_id. Pass it or set a SPOTIPY_CLIENT_ID environment variable."
     ]
    }
   ],
   "source": [
    "\n",
    "sp= spotipy.Spotify(auth_manager=SpotifyClientCredentials())\n"
   ],
   "metadata": {
    "collapsed": false,
    "pycharm": {
     "name": "#%%\n"
    }
   }
  },
  {
   "cell_type": "code",
   "execution_count": null,
   "outputs": [],
   "source": [
    "spotify_api_key"
   ],
   "metadata": {
    "collapsed": false,
    "pycharm": {
     "name": "#%%\n"
    }
   }
  }
 ],
 "metadata": {
  "kernelspec": {
   "display_name": "Python 3",
   "language": "python",
   "name": "python3"
  },
  "language_info": {
   "codemirror_mode": {
    "name": "ipython",
    "version": 2
   },
   "file_extension": ".py",
   "mimetype": "text/x-python",
   "name": "python",
   "nbconvert_exporter": "python",
   "pygments_lexer": "ipython2",
   "version": "2.7.6"
  }
 },
 "nbformat": 4,
 "nbformat_minor": 0
}