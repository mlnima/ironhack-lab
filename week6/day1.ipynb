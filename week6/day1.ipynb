{
 "cells": [
  {
   "cell_type": "markdown",
   "source": [
    "import libs"
   ],
   "metadata": {
    "collapsed": false,
    "pycharm": {
     "name": "#%% md\n"
    }
   }
  },
  {
   "cell_type": "code",
   "execution_count": 16,
   "outputs": [],
   "source": [
    "from bs4 import BeautifulSoup\n",
    "import numpy as np\n",
    "import pandas as pd\n",
    "import requests\n",
    "import re"
   ],
   "metadata": {
    "collapsed": false,
    "pycharm": {
     "name": "#%%\n"
    }
   }
  },
  {
   "cell_type": "code",
   "execution_count": 17,
   "outputs": [],
   "source": [
    "base_url = \"https://www.billboard.com/charts/hot-100\"\n",
    "final_data = []"
   ],
   "metadata": {
    "collapsed": false,
    "pycharm": {
     "name": "#%%\n"
    }
   }
  },
  {
   "cell_type": "markdown",
   "source": [
    "functions"
   ],
   "metadata": {
    "collapsed": false,
    "pycharm": {
     "name": "#%% md\n"
    }
   }
  },
  {
   "cell_type": "code",
   "execution_count": 18,
   "outputs": [],
   "source": [
    "def item_scraper(element):\n",
    "    song_data = {\n",
    "        'rank': int(re.sub('[^0-9]', '', element.find('li').text.strip())),\n",
    "        'singer_name': element.find('span', {'class', 'a-font-primary-s'}).text.strip(),\n",
    "        'song_name': element.find('h3').text.strip(),\n",
    "    }\n",
    "    final_data.append(song_data)\n",
    "\n",
    "\n",
    "def page_scraper(input_url):\n",
    "    request_data = requests.get(input_url)\n",
    "    page_dom = BeautifulSoup(request_data.text, 'html.parser')\n",
    "    music_containers = page_dom.findAll('div', {'class': 'o-chart-results-list-row-container'})\n",
    "    for music_container in music_containers:\n",
    "        item_scraper(music_container)"
   ],
   "metadata": {
    "collapsed": false,
    "pycharm": {
     "name": "#%%\n"
    }
   }
  },
  {
   "cell_type": "code",
   "execution_count": 19,
   "outputs": [
    {
     "data": {
      "text/plain": "100"
     },
     "execution_count": 19,
     "metadata": {},
     "output_type": "execute_result"
    }
   ],
   "source": [
    "page_scraper(base_url)\n",
    "len(final_data)"
   ],
   "metadata": {
    "collapsed": false,
    "pycharm": {
     "name": "#%%\n"
    }
   }
  },
  {
   "cell_type": "markdown",
   "source": [
    "creating dataframe from json data"
   ],
   "metadata": {
    "collapsed": false,
    "pycharm": {
     "name": "#%% md\n"
    }
   }
  },
  {
   "cell_type": "code",
   "execution_count": 20,
   "outputs": [
    {
     "data": {
      "text/plain": "    rank                        singer_name             song_name\n0      1          Drake Featuring 21 Savage           Jimmy Cooks\n1      2                       Harry Styles             As It Was\n2      3                        Jack Harlow           First Class\n3      4      Future Featuring Drake & Tems            Wait For U\n4      5                              Lizzo       About Damn Time\n..   ...                                ...                   ...\n95    96                     Kendrick Lamar                   N95\n96    97                          Sam Smith          Love Me More\n97    98                        Dylan Scott             New Truck\n98    99                         Tate McRae  She's All I Wanna Be\n99   100  Rauw Alejandro & Chencho Corleone          Desesperados\n\n[100 rows x 3 columns]",
      "text/html": "<div>\n<style scoped>\n    .dataframe tbody tr th:only-of-type {\n        vertical-align: middle;\n    }\n\n    .dataframe tbody tr th {\n        vertical-align: top;\n    }\n\n    .dataframe thead th {\n        text-align: right;\n    }\n</style>\n<table border=\"1\" class=\"dataframe\">\n  <thead>\n    <tr style=\"text-align: right;\">\n      <th></th>\n      <th>rank</th>\n      <th>singer_name</th>\n      <th>song_name</th>\n    </tr>\n  </thead>\n  <tbody>\n    <tr>\n      <th>0</th>\n      <td>1</td>\n      <td>Drake Featuring 21 Savage</td>\n      <td>Jimmy Cooks</td>\n    </tr>\n    <tr>\n      <th>1</th>\n      <td>2</td>\n      <td>Harry Styles</td>\n      <td>As It Was</td>\n    </tr>\n    <tr>\n      <th>2</th>\n      <td>3</td>\n      <td>Jack Harlow</td>\n      <td>First Class</td>\n    </tr>\n    <tr>\n      <th>3</th>\n      <td>4</td>\n      <td>Future Featuring Drake &amp; Tems</td>\n      <td>Wait For U</td>\n    </tr>\n    <tr>\n      <th>4</th>\n      <td>5</td>\n      <td>Lizzo</td>\n      <td>About Damn Time</td>\n    </tr>\n    <tr>\n      <th>...</th>\n      <td>...</td>\n      <td>...</td>\n      <td>...</td>\n    </tr>\n    <tr>\n      <th>95</th>\n      <td>96</td>\n      <td>Kendrick Lamar</td>\n      <td>N95</td>\n    </tr>\n    <tr>\n      <th>96</th>\n      <td>97</td>\n      <td>Sam Smith</td>\n      <td>Love Me More</td>\n    </tr>\n    <tr>\n      <th>97</th>\n      <td>98</td>\n      <td>Dylan Scott</td>\n      <td>New Truck</td>\n    </tr>\n    <tr>\n      <th>98</th>\n      <td>99</td>\n      <td>Tate McRae</td>\n      <td>She's All I Wanna Be</td>\n    </tr>\n    <tr>\n      <th>99</th>\n      <td>100</td>\n      <td>Rauw Alejandro &amp; Chencho Corleone</td>\n      <td>Desesperados</td>\n    </tr>\n  </tbody>\n</table>\n<p>100 rows × 3 columns</p>\n</div>"
     },
     "execution_count": 20,
     "metadata": {},
     "output_type": "execute_result"
    }
   ],
   "source": [
    "df = pd.DataFrame.from_dict(final_data)\n",
    "df"
   ],
   "metadata": {
    "collapsed": false,
    "pycharm": {
     "name": "#%%\n"
    }
   }
  },
  {
   "cell_type": "code",
   "execution_count": 21,
   "outputs": [],
   "source": [
    "df.to_csv('scraped_data.csv', index = False, encoding='utf-8')"
   ],
   "metadata": {
    "collapsed": false,
    "pycharm": {
     "name": "#%%\n"
    }
   }
  },
  {
   "cell_type": "code",
   "execution_count": 29,
   "outputs": [],
   "source": [
    "user_guess = input('tell me a song name')"
   ],
   "metadata": {
    "collapsed": false,
    "pycharm": {
     "name": "#%%\n"
    }
   }
  },
  {
   "cell_type": "code",
   "execution_count": 30,
   "outputs": [
    {
     "data": {
      "text/plain": "    rank   singer_name    song_name\n1      2  Harry Styles    As It Was\n88    89    Corey Kent  Wild As Her",
      "text/html": "<div>\n<style scoped>\n    .dataframe tbody tr th:only-of-type {\n        vertical-align: middle;\n    }\n\n    .dataframe tbody tr th {\n        vertical-align: top;\n    }\n\n    .dataframe thead th {\n        text-align: right;\n    }\n</style>\n<table border=\"1\" class=\"dataframe\">\n  <thead>\n    <tr style=\"text-align: right;\">\n      <th></th>\n      <th>rank</th>\n      <th>singer_name</th>\n      <th>song_name</th>\n    </tr>\n  </thead>\n  <tbody>\n    <tr>\n      <th>1</th>\n      <td>2</td>\n      <td>Harry Styles</td>\n      <td>As It Was</td>\n    </tr>\n    <tr>\n      <th>88</th>\n      <td>89</td>\n      <td>Corey Kent</td>\n      <td>Wild As Her</td>\n    </tr>\n  </tbody>\n</table>\n</div>"
     },
     "execution_count": 30,
     "metadata": {},
     "output_type": "execute_result"
    }
   ],
   "source": [
    "search_result = df[df['song_name'].str.contains(user_guess)]\n",
    "search_result"
   ],
   "metadata": {
    "collapsed": false,
    "pycharm": {
     "name": "#%%\n"
    }
   }
  },
  {
   "cell_type": "code",
   "execution_count": 31,
   "outputs": [
    {
     "name": "stdout",
     "output_type": "stream",
     "text": [
      "I think your song is hot, I have a suggestion for you\n"
     ]
    }
   ],
   "source": [
    "if search_result.__len__() > 0:\n",
    "    print(\"I think your song is hot, I have a suggestion for you\")\n",
    "else:\n",
    "    print(\"Sorry your music is not hot\")"
   ],
   "metadata": {
    "collapsed": false,
    "pycharm": {
     "name": "#%%\n"
    }
   }
  },
  {
   "cell_type": "markdown",
   "source": [],
   "metadata": {
    "collapsed": false,
    "pycharm": {
     "name": "#%% md\n"
    }
   }
  },
  {
   "cell_type": "code",
   "execution_count": 59,
   "outputs": [
    {
     "data": {
      "text/plain": "    rank   singer_name           song_name\n23    24  Harry Styles  Late Night Talking",
      "text/html": "<div>\n<style scoped>\n    .dataframe tbody tr th:only-of-type {\n        vertical-align: middle;\n    }\n\n    .dataframe tbody tr th {\n        vertical-align: top;\n    }\n\n    .dataframe thead th {\n        text-align: right;\n    }\n</style>\n<table border=\"1\" class=\"dataframe\">\n  <thead>\n    <tr style=\"text-align: right;\">\n      <th></th>\n      <th>rank</th>\n      <th>singer_name</th>\n      <th>song_name</th>\n    </tr>\n  </thead>\n  <tbody>\n    <tr>\n      <th>23</th>\n      <td>24</td>\n      <td>Harry Styles</td>\n      <td>Late Night Talking</td>\n    </tr>\n  </tbody>\n</table>\n</div>"
     },
     "execution_count": 59,
     "metadata": {},
     "output_type": "execute_result"
    }
   ],
   "source": [
    "filter_singers = df[df.singer_name.isin(search_result.singer_name).values]\n",
    "filter_singers.sample(n = 1)"
   ],
   "metadata": {
    "collapsed": false,
    "pycharm": {
     "name": "#%%\n"
    }
   }
  }
 ],
 "metadata": {
  "kernelspec": {
   "display_name": "Python 3",
   "language": "python",
   "name": "python3"
  },
  "language_info": {
   "codemirror_mode": {
    "name": "ipython",
    "version": 2
   },
   "file_extension": ".py",
   "mimetype": "text/x-python",
   "name": "python",
   "nbconvert_exporter": "python",
   "pygments_lexer": "ipython2",
   "version": "2.7.6"
  }
 },
 "nbformat": 4,
 "nbformat_minor": 0
}