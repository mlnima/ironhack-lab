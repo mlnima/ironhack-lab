{
 "cells": [
  {
   "cell_type": "code",
   "execution_count": 2,
   "metadata": {
    "pycharm": {
     "name": "#%%\n"
    }
   },
   "outputs": [
    {
     "ename": "ModuleNotFoundError",
     "evalue": "No module named 'spotipy'",
     "output_type": "error",
     "traceback": [
      "\u001b[1;31m---------------------------------------------------------------------------\u001b[0m",
      "\u001b[1;31mModuleNotFoundError\u001b[0m                       Traceback (most recent call last)",
      "Input \u001b[1;32mIn [2]\u001b[0m, in \u001b[0;36m<cell line: 5>\u001b[1;34m()\u001b[0m\n\u001b[0;32m      3\u001b[0m sys\u001b[38;5;241m.\u001b[39mpath\u001b[38;5;241m.\u001b[39mappend(\u001b[38;5;124m'\u001b[39m\u001b[38;5;124m../\u001b[39m\u001b[38;5;124m'\u001b[39m)\n\u001b[0;32m      4\u001b[0m \u001b[38;5;28;01mimport\u001b[39;00m \u001b[38;5;21;01mos\u001b[39;00m\n\u001b[1;32m----> 5\u001b[0m \u001b[38;5;28;01mimport\u001b[39;00m \u001b[38;5;21;01mspotipy\u001b[39;00m\n\u001b[0;32m      6\u001b[0m \u001b[38;5;28;01mfrom\u001b[39;00m \u001b[38;5;21;01mspotipy\u001b[39;00m\u001b[38;5;21;01m.\u001b[39;00m\u001b[38;5;21;01moauth2\u001b[39;00m \u001b[38;5;28;01mimport\u001b[39;00m SpotifyClientCredentials\n\u001b[0;32m      8\u001b[0m \u001b[38;5;28;01mfrom\u001b[39;00m \u001b[38;5;21;01mdotenv\u001b[39;00m \u001b[38;5;28;01mimport\u001b[39;00m load_dotenv\n",
      "\u001b[1;31mModuleNotFoundError\u001b[0m: No module named 'spotipy'"
     ]
    }
   ],
   "source": [
    "import sys\n",
    "\n",
    "sys.path.append('../')\n",
    "import os\n",
    "import spotipy\n",
    "from spotipy.oauth2 import SpotifyClientCredentials\n",
    "\n",
    "from dotenv import load_dotenv\n",
    "import pandas as pd\n",
    "import numpy as np\n",
    "from sklearn.preprocessing import StandardScaler\n",
    "from sklearn.cluster import KMeans\n",
    "from sklearn.metrics import pairwise_distances\n",
    "from sklearn.metrics.pairwise import cosine_similarity\n",
    "from matplotlib import pyplot\n",
    "import re\n",
    "from textblob import TextBlob\n",
    "import random\n",
    "\n",
    "load_dotenv()"
   ]
  },
  {
   "cell_type": "code",
   "execution_count": 13,
   "metadata": {
    "pycharm": {
     "name": "#%%\n"
    }
   },
   "outputs": [],
   "source": [
    "sp = spotipy.Spotify(\n",
    "    auth_manager=SpotifyClientCredentials(\n",
    "        client_id=os.getenv(\"SPOTIFY_CLIENT_ID\"),\n",
    "        client_secret=os.getenv(\"SPOTIFY_API_KEY\")\n",
    "    ))"
   ]
  },
  {
   "cell_type": "markdown",
   "metadata": {
    "pycharm": {
     "name": "#%% md\n"
    }
   },
   "source": [
    "Functions:"
   ]
  },
  {
   "cell_type": "code",
   "execution_count": 14,
   "metadata": {
    "pycharm": {
     "name": "#%%\n"
    }
   },
   "outputs": [],
   "source": [
    "def df_cleaner(df):\n",
    "    df.drop_duplicates('name', inplace=True)\n",
    "    df = df.drop(\n",
    "        [\n",
    "            'album',\n",
    "            'artists',\n",
    "            'available_markets',\n",
    "            'disc_number',\n",
    "            'explicit',\n",
    "            'external_ids',\n",
    "            'external_urls',\n",
    "            'href',\n",
    "            'id',\n",
    "            'is_local',\n",
    "            '...',\n",
    "            'track_href',\n",
    "            'analysis_url',\n",
    "            'uri',\n",
    "            'preview_url',\n",
    "            'type',\n",
    "            'name',\n",
    "            'preview_url',\n",
    "        ],\n",
    "        errors='ignore',\n",
    "        axis='columns'\n",
    "    )\n",
    "\n",
    "    df = df.reindex(sorted(df.columns), axis=1)\n",
    "\n",
    "    return df\n",
    "\n",
    "\n",
    "def get_top_tracks(max_page, per_page, keyword):\n",
    "    current_offset = 1\n",
    "    final_data = []\n",
    "    results = sp.search(q='top', limit=per_page, type=\"track\")\n",
    "    final_results = results['tracks']['items']\n",
    "\n",
    "    while current_offset <= max_page and results['tracks'].get('next', ''):\n",
    "        current_offset += 1\n",
    "        results = sp.search(q=keyword, offset=current_offset)\n",
    "        final_results.extend(results['tracks']['items'])\n",
    "\n",
    "    for i in final_results:\n",
    "        audio_features = sp.audio_features(i[\"uri\"])\n",
    "        # print(audio_features)\n",
    "        final_data.append({**i, **audio_features[0]})\n",
    "\n",
    "    return final_data\n",
    "\n",
    "\n",
    "def index_to_instance(df, index=None):\n",
    "    if index:\n",
    "        return XYZ(df)[index][1]\n",
    "    else:\n",
    "        return XYZ(df)\n",
    "\n",
    "\n",
    "def XYZ(df):\n",
    "    return sorted(list(zip(list(df.index.codes[0].data), list(df.index.levels[0].array))))\n",
    "\n",
    "\n",
    "def value_to_index_map(array):\n",
    "    array1 = zip(array, range(len(array)))\n",
    "    return array1\n",
    "\n",
    "\n",
    "class RecSysContentBased():\n",
    "    def __init__(self):\n",
    "        pass\n",
    "\n",
    "    def fit(self, train):\n",
    "        self.train_set = train\n",
    "        df1 = cosine_similarity(train)\n",
    "        self.similarity = df1\n",
    "        self.distances = pairwise_distances(train, metric='euclidean')\n",
    "\n",
    "    def evaluate(self, user):\n",
    "        d = sorted(value_to_index_map(self.distances[user]))\n",
    "        return list(index_to_instance(self.train_set, d[i][1]) for i in range(len(d)))\n",
    "\n",
    "    def predict(self):\n",
    "        pass\n",
    "\n",
    "    def test(self, testset):\n",
    "        pass\n",
    "\n",
    "\n"
   ]
  },
  {
   "cell_type": "markdown",
   "metadata": {
    "pycharm": {
     "name": "#%% md\n"
    }
   },
   "source": [
    "import and clean the data"
   ]
  },
  {
   "cell_type": "code",
   "execution_count": 29,
   "metadata": {
    "pycharm": {
     "name": "#%%\n"
    }
   },
   "outputs": [],
   "source": [
    "baseDf = pd.read_csv('spotify_data.csv')\n",
    "# baseDf.index = [baseDf[\"name\"]]\n",
    "data = baseDf[[\n",
    "    'energy', 'danceability', 'loudness', 'liveness', 'valence',\n",
    "    'duration_ms', 'acousticness', 'speechiness', 'popularity']]\n",
    "df = df_cleaner(baseDf)"
   ]
  },
  {
   "cell_type": "markdown",
   "metadata": {
    "pycharm": {
     "name": "#%% md\n"
    }
   },
   "source": [
    "scale down the data"
   ]
  },
  {
   "cell_type": "code",
   "execution_count": 16,
   "metadata": {
    "pycharm": {
     "name": "#%%\n"
    }
   },
   "outputs": [],
   "source": [
    "X = pd.DataFrame(df, columns=list(df.columns))\n",
    "scaler = StandardScaler()\n",
    "scaler.fit(X)\n",
    "X_scaled = scaler.transform(X)\n",
    "X_scaled_df = pd.DataFrame(X_scaled, columns=X.columns)"
   ]
  },
  {
   "cell_type": "markdown",
   "metadata": {
    "pycharm": {
     "name": "#%% md\n"
    }
   },
   "source": [
    "split and cluster the data to 3 cluster"
   ]
  },
  {
   "cell_type": "code",
   "execution_count": 17,
   "metadata": {
    "pycharm": {
     "name": "#%%\n"
    }
   },
   "outputs": [
    {
     "data": {
      "text/html": [
       "<style>#sk-container-id-3 {color: black;background-color: white;}#sk-container-id-3 pre{padding: 0;}#sk-container-id-3 div.sk-toggleable {background-color: white;}#sk-container-id-3 label.sk-toggleable__label {cursor: pointer;display: block;width: 100%;margin-bottom: 0;padding: 0.3em;box-sizing: border-box;text-align: center;}#sk-container-id-3 label.sk-toggleable__label-arrow:before {content: \"▸\";float: left;margin-right: 0.25em;color: #696969;}#sk-container-id-3 label.sk-toggleable__label-arrow:hover:before {color: black;}#sk-container-id-3 div.sk-estimator:hover label.sk-toggleable__label-arrow:before {color: black;}#sk-container-id-3 div.sk-toggleable__content {max-height: 0;max-width: 0;overflow: hidden;text-align: left;background-color: #f0f8ff;}#sk-container-id-3 div.sk-toggleable__content pre {margin: 0.2em;color: black;border-radius: 0.25em;background-color: #f0f8ff;}#sk-container-id-3 input.sk-toggleable__control:checked~div.sk-toggleable__content {max-height: 200px;max-width: 100%;overflow: auto;}#sk-container-id-3 input.sk-toggleable__control:checked~label.sk-toggleable__label-arrow:before {content: \"▾\";}#sk-container-id-3 div.sk-estimator input.sk-toggleable__control:checked~label.sk-toggleable__label {background-color: #d4ebff;}#sk-container-id-3 div.sk-label input.sk-toggleable__control:checked~label.sk-toggleable__label {background-color: #d4ebff;}#sk-container-id-3 input.sk-hidden--visually {border: 0;clip: rect(1px 1px 1px 1px);clip: rect(1px, 1px, 1px, 1px);height: 1px;margin: -1px;overflow: hidden;padding: 0;position: absolute;width: 1px;}#sk-container-id-3 div.sk-estimator {font-family: monospace;background-color: #f0f8ff;border: 1px dotted black;border-radius: 0.25em;box-sizing: border-box;margin-bottom: 0.5em;}#sk-container-id-3 div.sk-estimator:hover {background-color: #d4ebff;}#sk-container-id-3 div.sk-parallel-item::after {content: \"\";width: 100%;border-bottom: 1px solid gray;flex-grow: 1;}#sk-container-id-3 div.sk-label:hover label.sk-toggleable__label {background-color: #d4ebff;}#sk-container-id-3 div.sk-serial::before {content: \"\";position: absolute;border-left: 1px solid gray;box-sizing: border-box;top: 0;bottom: 0;left: 50%;z-index: 0;}#sk-container-id-3 div.sk-serial {display: flex;flex-direction: column;align-items: center;background-color: white;padding-right: 0.2em;padding-left: 0.2em;position: relative;}#sk-container-id-3 div.sk-item {position: relative;z-index: 1;}#sk-container-id-3 div.sk-parallel {display: flex;align-items: stretch;justify-content: center;background-color: white;position: relative;}#sk-container-id-3 div.sk-item::before, #sk-container-id-3 div.sk-parallel-item::before {content: \"\";position: absolute;border-left: 1px solid gray;box-sizing: border-box;top: 0;bottom: 0;left: 50%;z-index: -1;}#sk-container-id-3 div.sk-parallel-item {display: flex;flex-direction: column;z-index: 1;position: relative;background-color: white;}#sk-container-id-3 div.sk-parallel-item:first-child::after {align-self: flex-end;width: 50%;}#sk-container-id-3 div.sk-parallel-item:last-child::after {align-self: flex-start;width: 50%;}#sk-container-id-3 div.sk-parallel-item:only-child::after {width: 0;}#sk-container-id-3 div.sk-dashed-wrapped {border: 1px dashed gray;margin: 0 0.4em 0.5em 0.4em;box-sizing: border-box;padding-bottom: 0.4em;background-color: white;}#sk-container-id-3 div.sk-label label {font-family: monospace;font-weight: bold;display: inline-block;line-height: 1.2em;}#sk-container-id-3 div.sk-label-container {text-align: center;}#sk-container-id-3 div.sk-container {/* jupyter's `normalize.less` sets `[hidden] { display: none; }` but bootstrap.min.css set `[hidden] { display: none !important; }` so we also need the `!important` here to be able to override the default hidden behavior on the sphinx rendered scikit-learn.org. See: https://github.com/scikit-learn/scikit-learn/issues/21755 */display: inline-block !important;position: relative;}#sk-container-id-3 div.sk-text-repr-fallback {display: none;}</style><div id=\"sk-container-id-3\" class=\"sk-top-container\"><div class=\"sk-text-repr-fallback\"><pre>KMeans(n_clusters=6, random_state=1234)</pre><b>In a Jupyter environment, please rerun this cell to show the HTML representation or trust the notebook. <br />On GitHub, the HTML representation is unable to render, please try loading this page with nbviewer.org.</b></div><div class=\"sk-container\" hidden><div class=\"sk-item\"><div class=\"sk-estimator sk-toggleable\"><input class=\"sk-toggleable__control sk-hidden--visually\" id=\"sk-estimator-id-3\" type=\"checkbox\" checked><label for=\"sk-estimator-id-3\" class=\"sk-toggleable__label sk-toggleable__label-arrow\">KMeans</label><div class=\"sk-toggleable__content\"><pre>KMeans(n_clusters=6, random_state=1234)</pre></div></div></div></div></div>"
      ],
      "text/plain": [
       "KMeans(n_clusters=6, random_state=1234)"
      ]
     },
     "execution_count": 17,
     "metadata": {},
     "output_type": "execute_result"
    }
   ],
   "source": [
    "kmeans = KMeans(n_clusters=6, random_state=1234)\n",
    "kmeans.fit(X_scaled_df)"
   ]
  },
  {
   "cell_type": "code",
   "execution_count": 18,
   "metadata": {
    "pycharm": {
     "name": "#%%\n"
    }
   },
   "outputs": [],
   "source": [
    "labels = kmeans.predict(X_scaled_df)\n",
    "clusters = np.unique(labels)"
   ]
  },
  {
   "cell_type": "code",
   "execution_count": 19,
   "metadata": {
    "pycharm": {
     "name": "#%%\n"
    }
   },
   "outputs": [],
   "source": [
    "clusters = kmeans.predict(X_scaled_df)\n",
    "X[\"cluster\"] = clusters"
   ]
  },
  {
   "cell_type": "code",
   "execution_count": 20,
   "metadata": {
    "pycharm": {
     "name": "#%%\n"
    }
   },
   "outputs": [
    {
     "data": {
      "text/html": [
       "<style>#sk-container-id-4 {color: black;background-color: white;}#sk-container-id-4 pre{padding: 0;}#sk-container-id-4 div.sk-toggleable {background-color: white;}#sk-container-id-4 label.sk-toggleable__label {cursor: pointer;display: block;width: 100%;margin-bottom: 0;padding: 0.3em;box-sizing: border-box;text-align: center;}#sk-container-id-4 label.sk-toggleable__label-arrow:before {content: \"▸\";float: left;margin-right: 0.25em;color: #696969;}#sk-container-id-4 label.sk-toggleable__label-arrow:hover:before {color: black;}#sk-container-id-4 div.sk-estimator:hover label.sk-toggleable__label-arrow:before {color: black;}#sk-container-id-4 div.sk-toggleable__content {max-height: 0;max-width: 0;overflow: hidden;text-align: left;background-color: #f0f8ff;}#sk-container-id-4 div.sk-toggleable__content pre {margin: 0.2em;color: black;border-radius: 0.25em;background-color: #f0f8ff;}#sk-container-id-4 input.sk-toggleable__control:checked~div.sk-toggleable__content {max-height: 200px;max-width: 100%;overflow: auto;}#sk-container-id-4 input.sk-toggleable__control:checked~label.sk-toggleable__label-arrow:before {content: \"▾\";}#sk-container-id-4 div.sk-estimator input.sk-toggleable__control:checked~label.sk-toggleable__label {background-color: #d4ebff;}#sk-container-id-4 div.sk-label input.sk-toggleable__control:checked~label.sk-toggleable__label {background-color: #d4ebff;}#sk-container-id-4 input.sk-hidden--visually {border: 0;clip: rect(1px 1px 1px 1px);clip: rect(1px, 1px, 1px, 1px);height: 1px;margin: -1px;overflow: hidden;padding: 0;position: absolute;width: 1px;}#sk-container-id-4 div.sk-estimator {font-family: monospace;background-color: #f0f8ff;border: 1px dotted black;border-radius: 0.25em;box-sizing: border-box;margin-bottom: 0.5em;}#sk-container-id-4 div.sk-estimator:hover {background-color: #d4ebff;}#sk-container-id-4 div.sk-parallel-item::after {content: \"\";width: 100%;border-bottom: 1px solid gray;flex-grow: 1;}#sk-container-id-4 div.sk-label:hover label.sk-toggleable__label {background-color: #d4ebff;}#sk-container-id-4 div.sk-serial::before {content: \"\";position: absolute;border-left: 1px solid gray;box-sizing: border-box;top: 0;bottom: 0;left: 50%;z-index: 0;}#sk-container-id-4 div.sk-serial {display: flex;flex-direction: column;align-items: center;background-color: white;padding-right: 0.2em;padding-left: 0.2em;position: relative;}#sk-container-id-4 div.sk-item {position: relative;z-index: 1;}#sk-container-id-4 div.sk-parallel {display: flex;align-items: stretch;justify-content: center;background-color: white;position: relative;}#sk-container-id-4 div.sk-item::before, #sk-container-id-4 div.sk-parallel-item::before {content: \"\";position: absolute;border-left: 1px solid gray;box-sizing: border-box;top: 0;bottom: 0;left: 50%;z-index: -1;}#sk-container-id-4 div.sk-parallel-item {display: flex;flex-direction: column;z-index: 1;position: relative;background-color: white;}#sk-container-id-4 div.sk-parallel-item:first-child::after {align-self: flex-end;width: 50%;}#sk-container-id-4 div.sk-parallel-item:last-child::after {align-self: flex-start;width: 50%;}#sk-container-id-4 div.sk-parallel-item:only-child::after {width: 0;}#sk-container-id-4 div.sk-dashed-wrapped {border: 1px dashed gray;margin: 0 0.4em 0.5em 0.4em;box-sizing: border-box;padding-bottom: 0.4em;background-color: white;}#sk-container-id-4 div.sk-label label {font-family: monospace;font-weight: bold;display: inline-block;line-height: 1.2em;}#sk-container-id-4 div.sk-label-container {text-align: center;}#sk-container-id-4 div.sk-container {/* jupyter's `normalize.less` sets `[hidden] { display: none; }` but bootstrap.min.css set `[hidden] { display: none !important; }` so we also need the `!important` here to be able to override the default hidden behavior on the sphinx rendered scikit-learn.org. See: https://github.com/scikit-learn/scikit-learn/issues/21755 */display: inline-block !important;position: relative;}#sk-container-id-4 div.sk-text-repr-fallback {display: none;}</style><div id=\"sk-container-id-4\" class=\"sk-top-container\"><div class=\"sk-text-repr-fallback\"><pre>KMeans(algorithm=&#x27;elkan&#x27;, max_iter=10, n_clusters=50, n_init=50,\n",
       "       random_state=1234, tol=0)</pre><b>In a Jupyter environment, please rerun this cell to show the HTML representation or trust the notebook. <br />On GitHub, the HTML representation is unable to render, please try loading this page with nbviewer.org.</b></div><div class=\"sk-container\" hidden><div class=\"sk-item\"><div class=\"sk-estimator sk-toggleable\"><input class=\"sk-toggleable__control sk-hidden--visually\" id=\"sk-estimator-id-4\" type=\"checkbox\" checked><label for=\"sk-estimator-id-4\" class=\"sk-toggleable__label sk-toggleable__label-arrow\">KMeans</label><div class=\"sk-toggleable__content\"><pre>KMeans(algorithm=&#x27;elkan&#x27;, max_iter=10, n_clusters=50, n_init=50,\n",
       "       random_state=1234, tol=0)</pre></div></div></div></div></div>"
      ],
      "text/plain": [
       "KMeans(algorithm='elkan', max_iter=10, n_clusters=50, n_init=50,\n",
       "       random_state=1234, tol=0)"
      ]
     },
     "execution_count": 20,
     "metadata": {},
     "output_type": "execute_result"
    }
   ],
   "source": [
    "kmeans2 = KMeans(n_clusters=50,\n",
    "                 init=\"k-means++\",\n",
    "                 n_init=50,  # try with 1, 4, 8, 20, 30, 100...\n",
    "                 max_iter=10,\n",
    "                 tol=0,\n",
    "                 algorithm=\"elkan\",\n",
    "                 random_state=1234)\n",
    "kmeans2.fit(X_scaled_df)"
   ]
  },
  {
   "cell_type": "code",
   "execution_count": 21,
   "metadata": {
    "pycharm": {
     "name": "#%%\n"
    }
   },
   "outputs": [],
   "source": [
    "K = range(2, 21)\n",
    "inertia = []\n",
    "\n",
    "for k in K:\n",
    "    kmeans = KMeans(n_clusters=3,\n",
    "                    random_state=1234)\n",
    "    kmeans.fit(X_scaled_df)\n",
    "    inertia.append(kmeans.inertia_)"
   ]
  },
  {
   "cell_type": "code",
   "execution_count": 22,
   "metadata": {
    "pycharm": {
     "name": "#%%\n"
    }
   },
   "outputs": [],
   "source": [
    "model = RecSysContentBased()\n",
    "model.fit(data)"
   ]
  },
  {
   "cell_type": "markdown",
   "metadata": {
    "pycharm": {
     "name": "#%% md\n"
    }
   },
   "source": []
  },
  {
   "cell_type": "code",
   "execution_count": 31,
   "metadata": {
    "pycharm": {
     "name": "#%%\n"
    }
   },
   "outputs": [
    {
     "data": {
      "text/html": [
       "<div>\n",
       "<style scoped>\n",
       "    .dataframe tbody tr th:only-of-type {\n",
       "        vertical-align: middle;\n",
       "    }\n",
       "\n",
       "    .dataframe tbody tr th {\n",
       "        vertical-align: top;\n",
       "    }\n",
       "\n",
       "    .dataframe thead th {\n",
       "        text-align: right;\n",
       "    }\n",
       "</style>\n",
       "<table border=\"1\" class=\"dataframe\">\n",
       "  <thead>\n",
       "    <tr style=\"text-align: right;\">\n",
       "      <th></th>\n",
       "      <th>album</th>\n",
       "      <th>artists</th>\n",
       "      <th>available_markets</th>\n",
       "      <th>disc_number</th>\n",
       "      <th>duration_ms</th>\n",
       "      <th>explicit</th>\n",
       "      <th>external_ids</th>\n",
       "      <th>external_urls</th>\n",
       "      <th>href</th>\n",
       "      <th>id</th>\n",
       "      <th>...</th>\n",
       "      <th>mode</th>\n",
       "      <th>speechiness</th>\n",
       "      <th>acousticness</th>\n",
       "      <th>instrumentalness</th>\n",
       "      <th>liveness</th>\n",
       "      <th>valence</th>\n",
       "      <th>tempo</th>\n",
       "      <th>track_href</th>\n",
       "      <th>analysis_url</th>\n",
       "      <th>time_signature</th>\n",
       "    </tr>\n",
       "  </thead>\n",
       "  <tbody>\n",
       "    <tr>\n",
       "      <th>12</th>\n",
       "      <td>{'album_type': 'album', 'artists': [{'external...</td>\n",
       "      <td>[{'external_urls': {'spotify': 'https://open.s...</td>\n",
       "      <td>['AD', 'AE', 'AG', 'AL', 'AM', 'AO', 'AR', 'AT...</td>\n",
       "      <td>1</td>\n",
       "      <td>169907</td>\n",
       "      <td>True</td>\n",
       "      <td>{'isrc': 'QMCE32000236'}</td>\n",
       "      <td>{'spotify': 'https://open.spotify.com/track/4Y...</td>\n",
       "      <td>https://api.spotify.com/v1/tracks/4YhJ3a6kBPGJ...</td>\n",
       "      <td>4YhJ3a6kBPGJWX4Ek77sDd</td>\n",
       "      <td>...</td>\n",
       "      <td>0</td>\n",
       "      <td>0.1600</td>\n",
       "      <td>0.2060</td>\n",
       "      <td>0.000000</td>\n",
       "      <td>0.417</td>\n",
       "      <td>0.481</td>\n",
       "      <td>112.985</td>\n",
       "      <td>https://api.spotify.com/v1/tracks/4YhJ3a6kBPGJ...</td>\n",
       "      <td>https://api.spotify.com/v1/audio-analysis/4YhJ...</td>\n",
       "      <td>4</td>\n",
       "    </tr>\n",
       "    <tr>\n",
       "      <th>35</th>\n",
       "      <td>{'album_type': 'album', 'artists': [{'external...</td>\n",
       "      <td>[{'external_urls': {'spotify': 'https://open.s...</td>\n",
       "      <td>['AD', 'AE', 'AG', 'AM', 'AO', 'AR', 'AT', 'AU...</td>\n",
       "      <td>1</td>\n",
       "      <td>187333</td>\n",
       "      <td>False</td>\n",
       "      <td>{'isrc': 'TCACN1687807'}</td>\n",
       "      <td>{'spotify': 'https://open.spotify.com/track/0S...</td>\n",
       "      <td>https://api.spotify.com/v1/tracks/0So2sgVa8aJi...</td>\n",
       "      <td>0So2sgVa8aJiARPl2P29u2</td>\n",
       "      <td>...</td>\n",
       "      <td>0</td>\n",
       "      <td>0.0287</td>\n",
       "      <td>0.8500</td>\n",
       "      <td>0.243000</td>\n",
       "      <td>0.107</td>\n",
       "      <td>0.311</td>\n",
       "      <td>90.024</td>\n",
       "      <td>https://api.spotify.com/v1/tracks/0So2sgVa8aJi...</td>\n",
       "      <td>https://api.spotify.com/v1/audio-analysis/0So2...</td>\n",
       "      <td>4</td>\n",
       "    </tr>\n",
       "    <tr>\n",
       "      <th>219</th>\n",
       "      <td>{'album_type': 'single', 'artists': [{'externa...</td>\n",
       "      <td>[{'external_urls': {'spotify': 'https://open.s...</td>\n",
       "      <td>['AD', 'AE', 'AG', 'AL', 'AM', 'AO', 'AR', 'AT...</td>\n",
       "      <td>1</td>\n",
       "      <td>296011</td>\n",
       "      <td>False</td>\n",
       "      <td>{'isrc': 'USRC12000150'}</td>\n",
       "      <td>{'spotify': 'https://open.spotify.com/track/6M...</td>\n",
       "      <td>https://api.spotify.com/v1/tracks/6MO2bfLHKykU...</td>\n",
       "      <td>6MO2bfLHKykUgCChFdw91H</td>\n",
       "      <td>...</td>\n",
       "      <td>1</td>\n",
       "      <td>0.2440</td>\n",
       "      <td>0.0145</td>\n",
       "      <td>0.000102</td>\n",
       "      <td>0.140</td>\n",
       "      <td>0.170</td>\n",
       "      <td>96.981</td>\n",
       "      <td>https://api.spotify.com/v1/tracks/6MO2bfLHKykU...</td>\n",
       "      <td>https://api.spotify.com/v1/audio-analysis/6MO2...</td>\n",
       "      <td>4</td>\n",
       "    </tr>\n",
       "    <tr>\n",
       "      <th>259</th>\n",
       "      <td>{'album_type': 'album', 'artists': [{'external...</td>\n",
       "      <td>[{'external_urls': {'spotify': 'https://open.s...</td>\n",
       "      <td>['AD', 'AE', 'AG', 'AL', 'AM', 'AO', 'AR', 'AT...</td>\n",
       "      <td>1</td>\n",
       "      <td>215000</td>\n",
       "      <td>True</td>\n",
       "      <td>{'isrc': 'USUM72112384'}</td>\n",
       "      <td>{'spotify': 'https://open.spotify.com/track/2U...</td>\n",
       "      <td>https://api.spotify.com/v1/tracks/2UwALqx6yOsX...</td>\n",
       "      <td>2UwALqx6yOsXTFt7zRxnts</td>\n",
       "      <td>...</td>\n",
       "      <td>1</td>\n",
       "      <td>0.3320</td>\n",
       "      <td>0.2510</td>\n",
       "      <td>0.000006</td>\n",
       "      <td>0.349</td>\n",
       "      <td>0.678</td>\n",
       "      <td>143.971</td>\n",
       "      <td>https://api.spotify.com/v1/tracks/2UwALqx6yOsX...</td>\n",
       "      <td>https://api.spotify.com/v1/audio-analysis/2UwA...</td>\n",
       "      <td>4</td>\n",
       "    </tr>\n",
       "  </tbody>\n",
       "</table>\n",
       "<p>4 rows × 31 columns</p>\n",
       "</div>"
      ],
      "text/plain": [
       "                                                 album  \\\n",
       "12   {'album_type': 'album', 'artists': [{'external...   \n",
       "35   {'album_type': 'album', 'artists': [{'external...   \n",
       "219  {'album_type': 'single', 'artists': [{'externa...   \n",
       "259  {'album_type': 'album', 'artists': [{'external...   \n",
       "\n",
       "                                               artists  \\\n",
       "12   [{'external_urls': {'spotify': 'https://open.s...   \n",
       "35   [{'external_urls': {'spotify': 'https://open.s...   \n",
       "219  [{'external_urls': {'spotify': 'https://open.s...   \n",
       "259  [{'external_urls': {'spotify': 'https://open.s...   \n",
       "\n",
       "                                     available_markets  disc_number  \\\n",
       "12   ['AD', 'AE', 'AG', 'AL', 'AM', 'AO', 'AR', 'AT...            1   \n",
       "35   ['AD', 'AE', 'AG', 'AM', 'AO', 'AR', 'AT', 'AU...            1   \n",
       "219  ['AD', 'AE', 'AG', 'AL', 'AM', 'AO', 'AR', 'AT...            1   \n",
       "259  ['AD', 'AE', 'AG', 'AL', 'AM', 'AO', 'AR', 'AT...            1   \n",
       "\n",
       "     duration_ms  explicit              external_ids  \\\n",
       "12        169907      True  {'isrc': 'QMCE32000236'}   \n",
       "35        187333     False  {'isrc': 'TCACN1687807'}   \n",
       "219       296011     False  {'isrc': 'USRC12000150'}   \n",
       "259       215000      True  {'isrc': 'USUM72112384'}   \n",
       "\n",
       "                                         external_urls  \\\n",
       "12   {'spotify': 'https://open.spotify.com/track/4Y...   \n",
       "35   {'spotify': 'https://open.spotify.com/track/0S...   \n",
       "219  {'spotify': 'https://open.spotify.com/track/6M...   \n",
       "259  {'spotify': 'https://open.spotify.com/track/2U...   \n",
       "\n",
       "                                                  href  \\\n",
       "12   https://api.spotify.com/v1/tracks/4YhJ3a6kBPGJ...   \n",
       "35   https://api.spotify.com/v1/tracks/0So2sgVa8aJi...   \n",
       "219  https://api.spotify.com/v1/tracks/6MO2bfLHKykU...   \n",
       "259  https://api.spotify.com/v1/tracks/2UwALqx6yOsX...   \n",
       "\n",
       "                         id  ...  mode speechiness  acousticness  \\\n",
       "12   4YhJ3a6kBPGJWX4Ek77sDd  ...     0      0.1600        0.2060   \n",
       "35   0So2sgVa8aJiARPl2P29u2  ...     0      0.0287        0.8500   \n",
       "219  6MO2bfLHKykUgCChFdw91H  ...     1      0.2440        0.0145   \n",
       "259  2UwALqx6yOsXTFt7zRxnts  ...     1      0.3320        0.2510   \n",
       "\n",
       "    instrumentalness  liveness valence    tempo  \\\n",
       "12          0.000000     0.417   0.481  112.985   \n",
       "35          0.243000     0.107   0.311   90.024   \n",
       "219         0.000102     0.140   0.170   96.981   \n",
       "259         0.000006     0.349   0.678  143.971   \n",
       "\n",
       "                                            track_href  \\\n",
       "12   https://api.spotify.com/v1/tracks/4YhJ3a6kBPGJ...   \n",
       "35   https://api.spotify.com/v1/tracks/0So2sgVa8aJi...   \n",
       "219  https://api.spotify.com/v1/tracks/6MO2bfLHKykU...   \n",
       "259  https://api.spotify.com/v1/tracks/2UwALqx6yOsX...   \n",
       "\n",
       "                                          analysis_url  time_signature  \n",
       "12   https://api.spotify.com/v1/audio-analysis/4YhJ...               4  \n",
       "35   https://api.spotify.com/v1/audio-analysis/0So2...               4  \n",
       "219  https://api.spotify.com/v1/audio-analysis/6MO2...               4  \n",
       "259  https://api.spotify.com/v1/audio-analysis/2UwA...               4  \n",
       "\n",
       "[4 rows x 31 columns]"
      ]
     },
     "execution_count": 31,
     "metadata": {},
     "output_type": "execute_result"
    }
   ],
   "source": [
    "user_input = input('what do you like?')\n",
    "textBlb = TextBlob(user_input)  # Making our first textblob\n",
    "textCorrected = str(textBlb.correct())\n",
    "search_result = baseDf[baseDf['name'].str.contains(user_input, case=False)][:4]\n",
    "guess_message = ''\n",
    "search_result"
   ]
  },
  {
   "cell_type": "code",
   "execution_count": 32,
   "metadata": {
    "pycharm": {
     "name": "#%%\n"
    }
   },
   "outputs": [
    {
     "name": "stdout",
     "output_type": "stream",
     "text": [
      "(0, 'TOP FLOOR (feat. Travis Scott)')\n",
      "(1, 'Pope Is a Rockstar')\n",
      "(2, 'Slide (Remix) (feat. Pop Smoke, A Boogie Wit da Hoodie & Chris Brown) (feat. Pop Smoke)')\n",
      "(3, 'Tell The Vision (feat. Kanye West & Pusha T)')\n"
     ]
    }
   ],
   "source": [
    "options = list(enumerate(search_result['name']))\n",
    "print(*options, sep='\\n')"
   ]
  },
  {
   "cell_type": "code",
   "execution_count": 33,
   "metadata": {
    "pycharm": {
     "name": "#%%\n"
    }
   },
   "outputs": [
    {
     "data": {
      "text/plain": [
       "'4YhJ3a6kBPGJWX4Ek77sDd'"
      ]
     },
     "execution_count": 33,
     "metadata": {},
     "output_type": "execute_result"
    }
   ],
   "source": [
    "user_choice_input_data = input(guess_message)\n",
    "user_choice_id = search_result.iloc[[user_choice_input_data]]['id'].values[0]\n",
    "user_choice_id"
   ]
  },
  {
   "cell_type": "markdown",
   "metadata": {
    "pycharm": {
     "name": "#%% md\n"
    }
   },
   "source": [
    "API call for song data from spotify"
   ]
  },
  {
   "cell_type": "markdown",
   "metadata": {
    "pycharm": {
     "name": "#%% md\n"
    }
   },
   "source": []
  },
  {
   "cell_type": "code",
   "execution_count": 62,
   "metadata": {
    "pycharm": {
     "name": "#%%\n"
    }
   },
   "outputs": [
    {
     "data": {
      "text/plain": [
       "{'album': {'album_type': 'album',\n",
       "  'artists': [{'external_urls': {'spotify': 'https://open.spotify.com/artist/2hlmm7s2ICUX0LVIhVFlZQ'},\n",
       "    'href': 'https://api.spotify.com/v1/artists/2hlmm7s2ICUX0LVIhVFlZQ',\n",
       "    'id': '2hlmm7s2ICUX0LVIhVFlZQ',\n",
       "    'name': 'Gunna',\n",
       "    'type': 'artist',\n",
       "    'uri': 'spotify:artist:2hlmm7s2ICUX0LVIhVFlZQ'}],\n",
       "  'available_markets': ['AD',\n",
       "   'AE',\n",
       "   'AG',\n",
       "   'AL',\n",
       "   'AM',\n",
       "   'AO',\n",
       "   'AR',\n",
       "   'AT',\n",
       "   'AU',\n",
       "   'AZ',\n",
       "   'BA',\n",
       "   'BB',\n",
       "   'BD',\n",
       "   'BE',\n",
       "   'BF',\n",
       "   'BG',\n",
       "   'BH',\n",
       "   'BI',\n",
       "   'BJ',\n",
       "   'BN',\n",
       "   'BO',\n",
       "   'BR',\n",
       "   'BS',\n",
       "   'BT',\n",
       "   'BW',\n",
       "   'BY',\n",
       "   'BZ',\n",
       "   'CA',\n",
       "   'CD',\n",
       "   'CG',\n",
       "   'CH',\n",
       "   'CI',\n",
       "   'CL',\n",
       "   'CM',\n",
       "   'CO',\n",
       "   'CR',\n",
       "   'CV',\n",
       "   'CW',\n",
       "   'CY',\n",
       "   'CZ',\n",
       "   'DE',\n",
       "   'DJ',\n",
       "   'DK',\n",
       "   'DM',\n",
       "   'DO',\n",
       "   'DZ',\n",
       "   'EC',\n",
       "   'EE',\n",
       "   'EG',\n",
       "   'ES',\n",
       "   'FI',\n",
       "   'FJ',\n",
       "   'FM',\n",
       "   'FR',\n",
       "   'GA',\n",
       "   'GB',\n",
       "   'GD',\n",
       "   'GE',\n",
       "   'GH',\n",
       "   'GM',\n",
       "   'GN',\n",
       "   'GQ',\n",
       "   'GR',\n",
       "   'GT',\n",
       "   'GW',\n",
       "   'GY',\n",
       "   'HK',\n",
       "   'HN',\n",
       "   'HR',\n",
       "   'HT',\n",
       "   'HU',\n",
       "   'ID',\n",
       "   'IE',\n",
       "   'IL',\n",
       "   'IN',\n",
       "   'IQ',\n",
       "   'IS',\n",
       "   'IT',\n",
       "   'JM',\n",
       "   'JO',\n",
       "   'JP',\n",
       "   'KE',\n",
       "   'KG',\n",
       "   'KH',\n",
       "   'KI',\n",
       "   'KM',\n",
       "   'KN',\n",
       "   'KR',\n",
       "   'KW',\n",
       "   'KZ',\n",
       "   'LA',\n",
       "   'LB',\n",
       "   'LC',\n",
       "   'LI',\n",
       "   'LK',\n",
       "   'LR',\n",
       "   'LS',\n",
       "   'LT',\n",
       "   'LU',\n",
       "   'LV',\n",
       "   'LY',\n",
       "   'MA',\n",
       "   'MC',\n",
       "   'MD',\n",
       "   'ME',\n",
       "   'MG',\n",
       "   'MH',\n",
       "   'MK',\n",
       "   'ML',\n",
       "   'MN',\n",
       "   'MO',\n",
       "   'MR',\n",
       "   'MT',\n",
       "   'MU',\n",
       "   'MV',\n",
       "   'MW',\n",
       "   'MX',\n",
       "   'MY',\n",
       "   'MZ',\n",
       "   'NA',\n",
       "   'NE',\n",
       "   'NG',\n",
       "   'NI',\n",
       "   'NL',\n",
       "   'NO',\n",
       "   'NP',\n",
       "   'NR',\n",
       "   'NZ',\n",
       "   'OM',\n",
       "   'PA',\n",
       "   'PE',\n",
       "   'PG',\n",
       "   'PH',\n",
       "   'PK',\n",
       "   'PL',\n",
       "   'PS',\n",
       "   'PT',\n",
       "   'PW',\n",
       "   'PY',\n",
       "   'QA',\n",
       "   'RO',\n",
       "   'RS',\n",
       "   'RW',\n",
       "   'SA',\n",
       "   'SB',\n",
       "   'SC',\n",
       "   'SE',\n",
       "   'SG',\n",
       "   'SI',\n",
       "   'SK',\n",
       "   'SL',\n",
       "   'SM',\n",
       "   'SN',\n",
       "   'SR',\n",
       "   'ST',\n",
       "   'SV',\n",
       "   'SZ',\n",
       "   'TD',\n",
       "   'TG',\n",
       "   'TH',\n",
       "   'TJ',\n",
       "   'TL',\n",
       "   'TN',\n",
       "   'TO',\n",
       "   'TR',\n",
       "   'TT',\n",
       "   'TV',\n",
       "   'TW',\n",
       "   'TZ',\n",
       "   'UA',\n",
       "   'UG',\n",
       "   'US',\n",
       "   'UY',\n",
       "   'UZ',\n",
       "   'VC',\n",
       "   'VE',\n",
       "   'VN',\n",
       "   'VU',\n",
       "   'WS',\n",
       "   'XK',\n",
       "   'ZA',\n",
       "   'ZM',\n",
       "   'ZW'],\n",
       "  'external_urls': {'spotify': 'https://open.spotify.com/album/0gA0nZrZ55PLUp7ARfrICu'},\n",
       "  'href': 'https://api.spotify.com/v1/albums/0gA0nZrZ55PLUp7ARfrICu',\n",
       "  'id': '0gA0nZrZ55PLUp7ARfrICu',\n",
       "  'images': [{'height': 640,\n",
       "    'url': 'https://i.scdn.co/image/ab67616d0000b273d7547a7624116ac5f8a51fd2',\n",
       "    'width': 640},\n",
       "   {'height': 300,\n",
       "    'url': 'https://i.scdn.co/image/ab67616d00001e02d7547a7624116ac5f8a51fd2',\n",
       "    'width': 300},\n",
       "   {'height': 64,\n",
       "    'url': 'https://i.scdn.co/image/ab67616d00004851d7547a7624116ac5f8a51fd2',\n",
       "    'width': 64}],\n",
       "  'name': 'WUNNA',\n",
       "  'release_date': '2020-05-22',\n",
       "  'release_date_precision': 'day',\n",
       "  'total_tracks': 18,\n",
       "  'type': 'album',\n",
       "  'uri': 'spotify:album:0gA0nZrZ55PLUp7ARfrICu'},\n",
       " 'artists': [{'external_urls': {'spotify': 'https://open.spotify.com/artist/2hlmm7s2ICUX0LVIhVFlZQ'},\n",
       "   'href': 'https://api.spotify.com/v1/artists/2hlmm7s2ICUX0LVIhVFlZQ',\n",
       "   'id': '2hlmm7s2ICUX0LVIhVFlZQ',\n",
       "   'name': 'Gunna',\n",
       "   'type': 'artist',\n",
       "   'uri': 'spotify:artist:2hlmm7s2ICUX0LVIhVFlZQ'},\n",
       "  {'external_urls': {'spotify': 'https://open.spotify.com/artist/0Y5tJX1MQlPlqiwlOH1tJY'},\n",
       "   'href': 'https://api.spotify.com/v1/artists/0Y5tJX1MQlPlqiwlOH1tJY',\n",
       "   'id': '0Y5tJX1MQlPlqiwlOH1tJY',\n",
       "   'name': 'Travis Scott',\n",
       "   'type': 'artist',\n",
       "   'uri': 'spotify:artist:0Y5tJX1MQlPlqiwlOH1tJY'}],\n",
       " 'available_markets': ['AD',\n",
       "  'AE',\n",
       "  'AG',\n",
       "  'AL',\n",
       "  'AM',\n",
       "  'AO',\n",
       "  'AR',\n",
       "  'AT',\n",
       "  'AU',\n",
       "  'AZ',\n",
       "  'BA',\n",
       "  'BB',\n",
       "  'BD',\n",
       "  'BE',\n",
       "  'BF',\n",
       "  'BG',\n",
       "  'BH',\n",
       "  'BI',\n",
       "  'BJ',\n",
       "  'BN',\n",
       "  'BO',\n",
       "  'BR',\n",
       "  'BS',\n",
       "  'BT',\n",
       "  'BW',\n",
       "  'BY',\n",
       "  'BZ',\n",
       "  'CA',\n",
       "  'CD',\n",
       "  'CG',\n",
       "  'CH',\n",
       "  'CI',\n",
       "  'CL',\n",
       "  'CM',\n",
       "  'CO',\n",
       "  'CR',\n",
       "  'CV',\n",
       "  'CW',\n",
       "  'CY',\n",
       "  'CZ',\n",
       "  'DE',\n",
       "  'DJ',\n",
       "  'DK',\n",
       "  'DM',\n",
       "  'DO',\n",
       "  'DZ',\n",
       "  'EC',\n",
       "  'EE',\n",
       "  'EG',\n",
       "  'ES',\n",
       "  'FI',\n",
       "  'FJ',\n",
       "  'FM',\n",
       "  'FR',\n",
       "  'GA',\n",
       "  'GB',\n",
       "  'GD',\n",
       "  'GE',\n",
       "  'GH',\n",
       "  'GM',\n",
       "  'GN',\n",
       "  'GQ',\n",
       "  'GR',\n",
       "  'GT',\n",
       "  'GW',\n",
       "  'GY',\n",
       "  'HK',\n",
       "  'HN',\n",
       "  'HR',\n",
       "  'HT',\n",
       "  'HU',\n",
       "  'ID',\n",
       "  'IE',\n",
       "  'IL',\n",
       "  'IN',\n",
       "  'IQ',\n",
       "  'IS',\n",
       "  'IT',\n",
       "  'JM',\n",
       "  'JO',\n",
       "  'JP',\n",
       "  'KE',\n",
       "  'KG',\n",
       "  'KH',\n",
       "  'KI',\n",
       "  'KM',\n",
       "  'KN',\n",
       "  'KR',\n",
       "  'KW',\n",
       "  'KZ',\n",
       "  'LA',\n",
       "  'LB',\n",
       "  'LC',\n",
       "  'LI',\n",
       "  'LK',\n",
       "  'LR',\n",
       "  'LS',\n",
       "  'LT',\n",
       "  'LU',\n",
       "  'LV',\n",
       "  'LY',\n",
       "  'MA',\n",
       "  'MC',\n",
       "  'MD',\n",
       "  'ME',\n",
       "  'MG',\n",
       "  'MH',\n",
       "  'MK',\n",
       "  'ML',\n",
       "  'MN',\n",
       "  'MO',\n",
       "  'MR',\n",
       "  'MT',\n",
       "  'MU',\n",
       "  'MV',\n",
       "  'MW',\n",
       "  'MX',\n",
       "  'MY',\n",
       "  'MZ',\n",
       "  'NA',\n",
       "  'NE',\n",
       "  'NG',\n",
       "  'NI',\n",
       "  'NL',\n",
       "  'NO',\n",
       "  'NP',\n",
       "  'NR',\n",
       "  'NZ',\n",
       "  'OM',\n",
       "  'PA',\n",
       "  'PE',\n",
       "  'PG',\n",
       "  'PH',\n",
       "  'PK',\n",
       "  'PL',\n",
       "  'PS',\n",
       "  'PT',\n",
       "  'PW',\n",
       "  'PY',\n",
       "  'QA',\n",
       "  'RO',\n",
       "  'RS',\n",
       "  'RW',\n",
       "  'SA',\n",
       "  'SB',\n",
       "  'SC',\n",
       "  'SE',\n",
       "  'SG',\n",
       "  'SI',\n",
       "  'SK',\n",
       "  'SL',\n",
       "  'SM',\n",
       "  'SN',\n",
       "  'SR',\n",
       "  'ST',\n",
       "  'SV',\n",
       "  'SZ',\n",
       "  'TD',\n",
       "  'TG',\n",
       "  'TH',\n",
       "  'TJ',\n",
       "  'TL',\n",
       "  'TN',\n",
       "  'TO',\n",
       "  'TR',\n",
       "  'TT',\n",
       "  'TV',\n",
       "  'TW',\n",
       "  'TZ',\n",
       "  'UA',\n",
       "  'UG',\n",
       "  'US',\n",
       "  'UY',\n",
       "  'UZ',\n",
       "  'VC',\n",
       "  'VE',\n",
       "  'VN',\n",
       "  'VU',\n",
       "  'WS',\n",
       "  'XK',\n",
       "  'ZA',\n",
       "  'ZM',\n",
       "  'ZW'],\n",
       " 'disc_number': 1,\n",
       " 'duration_ms': 169907,\n",
       " 'explicit': True,\n",
       " 'external_ids': {'isrc': 'QMCE32000236'},\n",
       " 'external_urls': {'spotify': 'https://open.spotify.com/track/4YhJ3a6kBPGJWX4Ek77sDd'},\n",
       " 'href': 'https://api.spotify.com/v1/tracks/4YhJ3a6kBPGJWX4Ek77sDd',\n",
       " 'id': '4YhJ3a6kBPGJWX4Ek77sDd',\n",
       " 'is_local': False,\n",
       " 'name': 'TOP FLOOR (feat. Travis Scott)',\n",
       " 'popularity': 62,\n",
       " 'preview_url': 'https://p.scdn.co/mp3-preview/c24c34abb2078899a25fcdc6c41f33b3d7015cdf?cid=11e9c00725b440368f19513a1a697fbd',\n",
       " 'track_number': 15,\n",
       " 'type': 'audio_features',\n",
       " 'uri': 'spotify:track:4YhJ3a6kBPGJWX4Ek77sDd',\n",
       " 'danceability': 0.823,\n",
       " 'energy': 0.504,\n",
       " 'key': 8,\n",
       " 'loudness': -8.65,\n",
       " 'mode': 0,\n",
       " 'speechiness': 0.16,\n",
       " 'acousticness': 0.206,\n",
       " 'instrumentalness': 0,\n",
       " 'liveness': 0.417,\n",
       " 'valence': 0.481,\n",
       " 'tempo': 112.985,\n",
       " 'track_href': 'https://api.spotify.com/v1/tracks/4YhJ3a6kBPGJWX4Ek77sDd',\n",
       " 'analysis_url': 'https://api.spotify.com/v1/audio-analysis/4YhJ3a6kBPGJWX4Ek77sDd',\n",
       " 'time_signature': 4}"
      ]
     },
     "execution_count": 62,
     "metadata": {},
     "output_type": "execute_result"
    }
   ],
   "source": [
    "track_data = sp.track(track_id=user_choice_id)\n",
    "track_data_featured = {**track_data, **sp.audio_features(track_data['uri'])[0]}\n",
    "#track_data_featured = sp.audio_features(track_data['uri'])[0]\n",
    "track_data_featured"
   ]
  },
  {
   "cell_type": "code",
   "execution_count": 63,
   "metadata": {
    "pycharm": {
     "name": "#%%\n"
    }
   },
   "outputs": [
    {
     "data": {
      "text/plain": [
       "array([[-0.17956252,  1.16073101, -0.75276399, -0.57533769, -0.37562714,\n",
       "         0.76993632,  1.66430593, -0.04534059, -1.51338117, -0.11977677,\n",
       "         0.52406452, -0.24079105,  0.15702718,  1.10761802, -0.09497974]])"
      ]
     },
     "execution_count": 63,
     "metadata": {},
     "output_type": "execute_result"
    }
   ],
   "source": [
    "track_data_X = pd.DataFrame(track_data_featured, columns=list(df.columns), index=[0])\n",
    "track_data_scaler = StandardScaler()\n",
    "scaler.transform(track_data_X)\n",
    "track_data_X_scaled = scaler.transform(track_data_X)\n",
    "track_data_X_scaled_df = pd.DataFrame(track_data_X_scaled, columns=track_data_X.columns)\n",
    "track_data_X_scaled"
   ]
  },
  {
   "cell_type": "markdown",
   "metadata": {
    "pycharm": {
     "name": "#%% md\n"
    }
   },
   "source": [
    "predict"
   ]
  },
  {
   "cell_type": "code",
   "execution_count": 84,
   "metadata": {
    "pycharm": {
     "name": "#%%\n"
    }
   },
   "outputs": [
    {
     "data": {
      "text/plain": [
       "1"
      ]
     },
     "execution_count": 84,
     "metadata": {},
     "output_type": "execute_result"
    }
   ],
   "source": [
    "track_data_labels = kmeans.predict(track_data_X_scaled_df)\n",
    "track_data_cluster = np.unique(track_data_labels)\n",
    "track_data_cluster = kmeans.predict(track_data_X_scaled_df)\n",
    "track_data_X[\"cluster\"] = track_data_cluster\n"
   ]
  },
  {
   "cell_type": "code",
   "execution_count": 102,
   "metadata": {
    "pycharm": {
     "name": "#%%\n"
    }
   },
   "outputs": [
    {
     "data": {
      "text/plain": [
       "'https://api.spotify.com/v1/tracks/2AmEv442DGwSxMGZ9XEvBA'"
      ]
     },
     "execution_count": 102,
     "metadata": {},
     "output_type": "execute_result"
    }
   ],
   "source": [
    "# random.choice(baseDf[baseDf['cluster'] == 1])\n",
    "#\n",
    "#\n",
    "# random_track = pd.DataFrame(pandas.np.random.random(100))\n",
    "#\n",
    "# df_elements = baseDf[baseDf['cluster'] == 1].sample(n=1)\n",
    "\n",
    "recommend_track = baseDf[X['cluster'] == int(track_data_cluster)].sample()\n",
    "recommend_track['track_href'].values[0]"
   ]
  },
  {
   "cell_type": "code",
   "execution_count": 104,
   "metadata": {
    "pycharm": {
     "name": "#%%\n"
    }
   },
   "outputs": [
    {
     "data": {
      "text/html": [
       "\n",
       "        <iframe\n",
       "            width=\"320\"\n",
       "            height=\"80\"\n",
       "            src=\"https://api.spotify.com/v1/tracks/2AmEv442DGwSxMGZ9XEvBA?frameborder=0&allowtransparency=true&allow=encrypted-media\"\n",
       "            frameborder=\"0\"\n",
       "            allowfullscreen\n",
       "            \n",
       "        ></iframe>\n",
       "        "
      ],
      "text/plain": [
       "<IPython.lib.display.IFrame at 0x1f03def2c80>"
      ]
     },
     "execution_count": 104,
     "metadata": {},
     "output_type": "execute_result"
    }
   ],
   "source": [
    "\n",
    "from IPython.display import IFrame\n",
    "\n",
    "#track_id = \"1rfORa9iYmocEsnnZGMVC4\"\n",
    "track_id= 'spotify:track:3hgl7EQwTutSm6PESsB7gZ'\n",
    "IFrame(src=recommend_track['track_href'].values[0],\n",
    "       width=\"320\",\n",
    "       height=\"80\",\n",
    "       frameborder=\"0\",\n",
    "       allowtransparency=\"true\",\n",
    "       allow=\"encrypted-media\",\n",
    "      )"
   ]
  }
 ],
 "metadata": {
  "kernelspec": {
   "display_name": "Python 3 (ipykernel)",
   "language": "python",
   "name": "python3"
  },
  "language_info": {
   "codemirror_mode": {
    "name": "ipython",
    "version": 3
   },
   "file_extension": ".py",
   "mimetype": "text/x-python",
   "name": "python",
   "nbconvert_exporter": "python",
   "pygments_lexer": "ipython3",
   "version": "3.9.12"
  }
 },
 "nbformat": 4,
 "nbformat_minor": 1
}
