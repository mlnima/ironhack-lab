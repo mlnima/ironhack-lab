{
 "cells": [
  {
   "cell_type": "code",
   "execution_count": 30,
   "metadata": {
    "pycharm": {
     "name": "#%%\n"
    }
   },
   "outputs": [
    {
     "data": {
      "text/plain": "True"
     },
     "execution_count": 30,
     "metadata": {},
     "output_type": "execute_result"
    }
   ],
   "source": [
    "import sys\n",
    "sys.path.append('../')\n",
    "import os\n",
    "import spotipy\n",
    "from spotipy.oauth2 import SpotifyClientCredentials\n",
    "from dotenv import load_dotenv\n",
    "import pandas as pd\n",
    "import numpy as np\n",
    "from sklearn.preprocessing import StandardScaler\n",
    "from sklearn.cluster import KMeans\n",
    "from sklearn.metrics import pairwise_distances\n",
    "from sklearn.metrics.pairwise import cosine_similarity\n",
    "from matplotlib import pyplot\n",
    "import re\n",
    "import json\n",
    "from textblob import TextBlob\n",
    "import random\n",
    "\n",
    "load_dotenv()"
   ]
  },
  {
   "cell_type": "code",
   "execution_count": 2,
   "metadata": {
    "pycharm": {
     "name": "#%%\n"
    }
   },
   "outputs": [],
   "source": [
    "sp = spotipy.Spotify(\n",
    "    auth_manager=SpotifyClientCredentials(\n",
    "        client_id=os.getenv(\"SPOTIFY_CLIENT_ID\"),\n",
    "        client_secret=os.getenv(\"SPOTIFY_API_KEY\")\n",
    "    ))"
   ]
  },
  {
   "cell_type": "markdown",
   "metadata": {
    "pycharm": {
     "name": "#%% md\n"
    }
   },
   "source": [
    "Functions:"
   ]
  },
  {
   "cell_type": "code",
   "execution_count": 3,
   "metadata": {
    "pycharm": {
     "name": "#%%\n"
    }
   },
   "outputs": [],
   "source": [
    "def df_cleaner(df):\n",
    "    df.drop_duplicates('name', inplace=True)\n",
    "    df = df.drop(\n",
    "        [\n",
    "            'album',\n",
    "            'artists',\n",
    "            'available_markets',\n",
    "            'disc_number',\n",
    "            'explicit',\n",
    "            'external_ids',\n",
    "            'external_urls',\n",
    "            'href',\n",
    "            'id',\n",
    "            'is_local',\n",
    "            'episode',\n",
    "            'track',\n",
    "            '...',\n",
    "            'track_href',\n",
    "            'analysis_url',\n",
    "            'uri',\n",
    "            'preview_url',\n",
    "            'type',\n",
    "            'name',\n",
    "            'preview_url',\n",
    "        ],\n",
    "        errors='ignore',\n",
    "        axis='columns'\n",
    "    )\n",
    "    df = df.dropna(axis = 0, how = 'all')\n",
    "    df = df.reindex(sorted(df.columns), axis=1)\n",
    "\n",
    "    return df\n",
    "\n",
    "\n",
    "def get_top_tracks(max_page, per_page, keyword):\n",
    "    current_offset = 1\n",
    "    final_data = []\n",
    "    results = sp.search(q='top', limit=per_page, type=\"track\")\n",
    "    final_results = results['tracks']['items']\n",
    "\n",
    "    while current_offset <= max_page and results['tracks'].get('next', ''):\n",
    "        current_offset += 1\n",
    "        results = sp.search(q=keyword, offset=current_offset)\n",
    "        final_results.extend(results['tracks']['items'])\n",
    "\n",
    "    for i in final_results:\n",
    "        audio_features = sp.audio_features(i[\"uri\"])\n",
    "        # print(audio_features)\n",
    "        final_data.append({**i, **audio_features[0]})\n",
    "\n",
    "    return final_data\n",
    "\n",
    "\n",
    "def index_to_instance(df, index=None):\n",
    "    if index:\n",
    "        return XYZ(df)[index][1]\n",
    "    else:\n",
    "        return XYZ(df)\n",
    "\n",
    "\n",
    "def XYZ(df):\n",
    "    return sorted(list(zip(list(df.index.codes[0].data), list(df.index.levels[0].array))))\n",
    "\n",
    "\n",
    "def value_to_index_map(array):\n",
    "    array1 = zip(array, range(len(array)))\n",
    "    return array1\n",
    "\n",
    "\n",
    "class RecSysContentBased():\n",
    "    def __init__(self):\n",
    "        pass\n",
    "\n",
    "    def fit(self, train):\n",
    "        self.train_set = train\n",
    "        df1 = cosine_similarity(train)\n",
    "        self.similarity = df1\n",
    "        self.distances = pairwise_distances(train, metric='euclidean')\n",
    "\n",
    "    def evaluate(self, user):\n",
    "        d = sorted(value_to_index_map(self.distances[user]))\n",
    "        return list(index_to_instance(self.train_set, d[i][1]) for i in range(len(d)))\n",
    "\n",
    "    def predict(self):\n",
    "        pass\n",
    "\n",
    "    def test(self, testset):\n",
    "        pass\n",
    "\n",
    "\n"
   ]
  },
  {
   "cell_type": "markdown",
   "metadata": {
    "pycharm": {
     "name": "#%% md\n"
    }
   },
   "source": [
    "import and clean the data"
   ]
  },
  {
   "cell_type": "code",
   "execution_count": 4,
   "metadata": {
    "pycharm": {
     "name": "#%%\n"
    }
   },
   "outputs": [
    {
     "data": {
      "text/plain": "                                                                                                album  \\\nname                                                                                                    \nAs It Was                                           {'album_type': 'single', 'artists': [{'externa...   \nRunning Up That Hill (A Deal With God) - 2018 R...  {'album_type': 'album', 'artists': [{'external...   \nLeft and Right (Feat. Jung Kook of BTS)             {'album_type': 'single', 'artists': [{'externa...   \nAbout Damn Time                                     {'album_type': 'single', 'artists': [{'externa...   \nI Like You (A Happier Song) (with Doja Cat)         {'album_type': 'album', 'artists': [{'external...   \n...                                                                                               ...   \nBad Boy for Life                                    {'album_type': 'album', 'artists': [{'external...   \nNo Other Love                                       {'album_type': 'album', 'artists': [{'external...   \nFive-O (feat. Wyclef & P. Diddy)                    {'album_type': 'album', 'artists': [{'external...   \nWhat About Us (Remix) [feat. Black Rob]             {'album_type': 'album', 'artists': [{'external...   \nI'll Be Missing You (feat. Faith Evans & 112) -...  {'album_type': 'album', 'artists': [{'external...   \n\n                                                                                              artists  \\\nname                                                                                                    \nAs It Was                                           [{'external_urls': {'spotify': 'https://open.s...   \nRunning Up That Hill (A Deal With God) - 2018 R...  [{'external_urls': {'spotify': 'https://open.s...   \nLeft and Right (Feat. Jung Kook of BTS)             [{'external_urls': {'spotify': 'https://open.s...   \nAbout Damn Time                                     [{'external_urls': {'spotify': 'https://open.s...   \nI Like You (A Happier Song) (with Doja Cat)         [{'external_urls': {'spotify': 'https://open.s...   \n...                                                                                               ...   \nBad Boy for Life                                    [{'external_urls': {'spotify': 'https://open.s...   \nNo Other Love                                       [{'external_urls': {'spotify': 'https://open.s...   \nFive-O (feat. Wyclef & P. Diddy)                    [{'external_urls': {'spotify': 'https://open.s...   \nWhat About Us (Remix) [feat. Black Rob]             [{'external_urls': {'spotify': 'https://open.s...   \nI'll Be Missing You (feat. Faith Evans & 112) -...  [{'external_urls': {'spotify': 'https://open.s...   \n\n                                                                                    available_markets  \\\nname                                                                                                    \nAs It Was                                           ['AD', 'AE', 'AG', 'AL', 'AM', 'AO', 'AR', 'AT...   \nRunning Up That Hill (A Deal With God) - 2018 R...  ['AD', 'AE', 'AG', 'AL', 'AM', 'AO', 'AR', 'AT...   \nLeft and Right (Feat. Jung Kook of BTS)             ['AD', 'AE', 'AG', 'AL', 'AM', 'AO', 'AR', 'AT...   \nAbout Damn Time                                     ['AD', 'AE', 'AG', 'AL', 'AM', 'AO', 'AR', 'AT...   \nI Like You (A Happier Song) (with Doja Cat)         ['AD', 'AE', 'AG', 'AL', 'AM', 'AO', 'AR', 'AT...   \n...                                                                                               ...   \nBad Boy for Life                                    ['AD', 'AE', 'AG', 'AL', 'AM', 'AO', 'AR', 'AT...   \nNo Other Love                                       ['AD', 'AE', 'AG', 'AL', 'AM', 'AO', 'AR', 'AT...   \nFive-O (feat. Wyclef & P. Diddy)                    ['AD', 'AE', 'AG', 'AL', 'AM', 'AO', 'AT', 'AU...   \nWhat About Us (Remix) [feat. Black Rob]             ['AD', 'AE', 'AG', 'AL', 'AM', 'AO', 'AR', 'AT...   \nI'll Be Missing You (feat. Faith Evans & 112) -...  ['AD', 'AE', 'AG', 'AL', 'AM', 'AO', 'AR', 'AT...   \n\n                                                    disc_number  duration_ms  \\\nname                                                                           \nAs It Was                                                     1       167303   \nRunning Up That Hill (A Deal With God) - 2018 R...            1       300840   \nLeft and Right (Feat. Jung Kook of BTS)                       1       154487   \nAbout Damn Time                                               1       191822   \nI Like You (A Happier Song) (with Doja Cat)                   1       192841   \n...                                                         ...          ...   \nBad Boy for Life                                              1       253067   \nNo Other Love                                                 1       266240   \nFive-O (feat. Wyclef & P. Diddy)                              1       279773   \nWhat About Us (Remix) [feat. Black Rob]                       1       243783   \nI'll Be Missing You (feat. Faith Evans & 112) -...            1       306560   \n\n                                                    episode  explicit  \\\nname                                                                    \nAs It Was                                             False     False   \nRunning Up That Hill (A Deal With God) - 2018 R...    False     False   \nLeft and Right (Feat. Jung Kook of BTS)               False     False   \nAbout Damn Time                                       False      True   \nI Like You (A Happier Song) (with Doja Cat)           False      True   \n...                                                     ...       ...   \nBad Boy for Life                                      False      True   \nNo Other Love                                         False     False   \nFive-O (feat. Wyclef & P. Diddy)                      False     False   \nWhat About Us (Remix) [feat. Black Rob]               False     False   \nI'll Be Missing You (feat. Faith Evans & 112) -...    False     False   \n\n                                                                external_ids  \\\nname                                                                           \nAs It Was                                           {'isrc': 'USSM12200612'}   \nRunning Up That Hill (A Deal With God) - 2018 R...  {'isrc': 'GBAYE1800884'}   \nLeft and Right (Feat. Jung Kook of BTS)             {'isrc': 'USAT22205563'}   \nAbout Damn Time                                     {'isrc': 'USAT22202139'}   \nI Like You (A Happier Song) (with Doja Cat)         {'isrc': 'USUM72208023'}   \n...                                                                      ...   \nBad Boy for Life                                    {'isrc': 'USBB40580756'}   \nNo Other Love                                       {'isrc': 'USBB40580604'}   \nFive-O (feat. Wyclef & P. Diddy)                    {'isrc': 'USBB40707174'}   \nWhat About Us (Remix) [feat. Black Rob]             {'isrc': 'USBB40580245'}   \nI'll Be Missing You (feat. Faith Evans & 112) -...  {'isrc': 'USBB41400049'}   \n\n                                                                                        external_urls  \\\nname                                                                                                    \nAs It Was                                           {'spotify': 'https://open.spotify.com/track/4L...   \nRunning Up That Hill (A Deal With God) - 2018 R...  {'spotify': 'https://open.spotify.com/track/29...   \nLeft and Right (Feat. Jung Kook of BTS)             {'spotify': 'https://open.spotify.com/track/0m...   \nAbout Damn Time                                     {'spotify': 'https://open.spotify.com/track/1P...   \nI Like You (A Happier Song) (with Doja Cat)         {'spotify': 'https://open.spotify.com/track/0O...   \n...                                                                                               ...   \nBad Boy for Life                                    {'spotify': 'https://open.spotify.com/track/2e...   \nNo Other Love                                       {'spotify': 'https://open.spotify.com/track/6p...   \nFive-O (feat. Wyclef & P. Diddy)                    {'spotify': 'https://open.spotify.com/track/3c...   \nWhat About Us (Remix) [feat. Black Rob]             {'spotify': 'https://open.spotify.com/track/6P...   \nI'll Be Missing You (feat. Faith Evans & 112) -...  {'spotify': 'https://open.spotify.com/track/1y...   \n\n                                                                                                 href  \\\nname                                                                                                    \nAs It Was                                           https://api.spotify.com/v1/tracks/4LRPiXqCikLl...   \nRunning Up That Hill (A Deal With God) - 2018 R...  https://api.spotify.com/v1/tracks/29d0nY7TzCoi...   \nLeft and Right (Feat. Jung Kook of BTS)             https://api.spotify.com/v1/tracks/0mBP9X2gPCua...   \nAbout Damn Time                                     https://api.spotify.com/v1/tracks/1PckUlxKqWQs...   \nI Like You (A Happier Song) (with Doja Cat)         https://api.spotify.com/v1/tracks/0O6u0VJ46W86...   \n...                                                                                               ...   \nBad Boy for Life                                    https://api.spotify.com/v1/tracks/2eOuL8KesslT...   \nNo Other Love                                       https://api.spotify.com/v1/tracks/6p8RmxHGU1WL...   \nFive-O (feat. Wyclef & P. Diddy)                    https://api.spotify.com/v1/tracks/3cttR5mtQZ5x...   \nWhat About Us (Remix) [feat. Black Rob]             https://api.spotify.com/v1/tracks/6Ph7bndA7A5E...   \nI'll Be Missing You (feat. Faith Evans & 112) -...  https://api.spotify.com/v1/tracks/1yy2DlSDtEt9...   \n\n                                                    ... mode  speechiness  \\\nname                                                ...                     \nAs It Was                                           ...    0       0.0557   \nRunning Up That Hill (A Deal With God) - 2018 R...  ...    0       0.0596   \nLeft and Right (Feat. Jung Kook of BTS)             ...    1       0.0324   \nAbout Damn Time                                     ...    0       0.0656   \nI Like You (A Happier Song) (with Doja Cat)         ...    1       0.0751   \n...                                                 ...  ...          ...   \nBad Boy for Life                                    ...    1       0.4900   \nNo Other Love                                       ...    0       0.0472   \nFive-O (feat. Wyclef & P. Diddy)                    ...    1       0.2210   \nWhat About Us (Remix) [feat. Black Rob]             ...    1       0.0396   \nI'll Be Missing You (feat. Faith Evans & 112) -...  ...    1       0.0538   \n\n                                                   acousticness  \\\nname                                                              \nAs It Was                                              0.342000   \nRunning Up That Hill (A Deal With God) - 2018 R...     0.659000   \nLeft and Right (Feat. Jung Kook of BTS)                0.619000   \nAbout Damn Time                                        0.099500   \nI Like You (A Happier Song) (with Doja Cat)            0.121000   \n...                                                         ...   \nBad Boy for Life                                       0.179000   \nNo Other Love                                          0.318000   \nFive-O (feat. Wyclef & P. Diddy)                       0.000719   \nWhat About Us (Remix) [feat. Black Rob]                0.014300   \nI'll Be Missing You (feat. Faith Evans & 112) -...     0.111000   \n\n                                                    instrumentalness liveness  \\\nname                                                                            \nAs It Was                                                   0.001010   0.3110   \nRunning Up That Hill (A Deal With God) - 2018 R...          0.002660   0.0546   \nLeft and Right (Feat. Jung Kook of BTS)                     0.000013   0.0901   \nAbout Damn Time                                             0.000000   0.3350   \nI Like You (A Happier Song) (with Doja Cat)                 0.000000   0.1210   \n...                                                              ...      ...   \nBad Boy for Life                                            0.000000   0.2410   \nNo Other Love                                               0.000000   0.0619   \nFive-O (feat. Wyclef & P. Diddy)                            0.000000   0.3700   \nWhat About Us (Remix) [feat. Black Rob]                     0.000000   0.0451   \nI'll Be Missing You (feat. Faith Evans & 112) -...          0.000021   0.1590   \n\n                                                    valence    tempo  \\\nname                                                                   \nAs It Was                                             0.662  173.930   \nRunning Up That Hill (A Deal With God) - 2018 R...    0.139  108.296   \nLeft and Right (Feat. Jung Kook of BTS)               0.719  101.058   \nAbout Damn Time                                       0.722  108.966   \nI Like You (A Happier Song) (with Doja Cat)           0.472  100.964   \n...                                                     ...      ...   \nBad Boy for Life                                      0.610  118.934   \nNo Other Love                                         0.711   70.352   \nFive-O (feat. Wyclef & P. Diddy)                      0.636  150.098   \nWhat About Us (Remix) [feat. Black Rob]               0.720   96.365   \nI'll Be Missing You (feat. Faith Evans & 112) -...    0.901  109.920   \n\n                                                                                           track_href  \\\nname                                                                                                    \nAs It Was                                           https://api.spotify.com/v1/tracks/4LRPiXqCikLl...   \nRunning Up That Hill (A Deal With God) - 2018 R...  https://api.spotify.com/v1/tracks/29d0nY7TzCoi...   \nLeft and Right (Feat. Jung Kook of BTS)             https://api.spotify.com/v1/tracks/0mBP9X2gPCua...   \nAbout Damn Time                                     https://api.spotify.com/v1/tracks/1PckUlxKqWQs...   \nI Like You (A Happier Song) (with Doja Cat)         https://api.spotify.com/v1/tracks/0O6u0VJ46W86...   \n...                                                                                               ...   \nBad Boy for Life                                    https://api.spotify.com/v1/tracks/2eOuL8KesslT...   \nNo Other Love                                       https://api.spotify.com/v1/tracks/6p8RmxHGU1WL...   \nFive-O (feat. Wyclef & P. Diddy)                    https://api.spotify.com/v1/tracks/3cttR5mtQZ5x...   \nWhat About Us (Remix) [feat. Black Rob]             https://api.spotify.com/v1/tracks/6Ph7bndA7A5E...   \nI'll Be Missing You (feat. Faith Evans & 112) -...  https://api.spotify.com/v1/tracks/1yy2DlSDtEt9...   \n\n                                                                                         analysis_url  \\\nname                                                                                                    \nAs It Was                                           https://api.spotify.com/v1/audio-analysis/4LRP...   \nRunning Up That Hill (A Deal With God) - 2018 R...  https://api.spotify.com/v1/audio-analysis/29d0...   \nLeft and Right (Feat. Jung Kook of BTS)             https://api.spotify.com/v1/audio-analysis/0mBP...   \nAbout Damn Time                                     https://api.spotify.com/v1/audio-analysis/1Pck...   \nI Like You (A Happier Song) (with Doja Cat)         https://api.spotify.com/v1/audio-analysis/0O6u...   \n...                                                                                               ...   \nBad Boy for Life                                    https://api.spotify.com/v1/audio-analysis/2eOu...   \nNo Other Love                                       https://api.spotify.com/v1/audio-analysis/6p8R...   \nFive-O (feat. Wyclef & P. Diddy)                    https://api.spotify.com/v1/audio-analysis/3ctt...   \nWhat About Us (Remix) [feat. Black Rob]             https://api.spotify.com/v1/audio-analysis/6Ph7...   \nI'll Be Missing You (feat. Faith Evans & 112) -...  https://api.spotify.com/v1/audio-analysis/1yy2...   \n\n                                                    time_signature  \nname                                                                \nAs It Was                                                        4  \nRunning Up That Hill (A Deal With God) - 2018 R...               4  \nLeft and Right (Feat. Jung Kook of BTS)                          4  \nAbout Damn Time                                                  4  \nI Like You (A Happier Song) (with Doja Cat)                      4  \n...                                                            ...  \nBad Boy for Life                                                 4  \nNo Other Love                                                    4  \nFive-O (feat. Wyclef & P. Diddy)                                 4  \nWhat About Us (Remix) [feat. Black Rob]                          4  \nI'll Be Missing You (feat. Faith Evans & 112) -...               4  \n\n[833 rows x 33 columns]",
      "text/html": "<div>\n<style scoped>\n    .dataframe tbody tr th:only-of-type {\n        vertical-align: middle;\n    }\n\n    .dataframe tbody tr th {\n        vertical-align: top;\n    }\n\n    .dataframe thead th {\n        text-align: right;\n    }\n</style>\n<table border=\"1\" class=\"dataframe\">\n  <thead>\n    <tr style=\"text-align: right;\">\n      <th></th>\n      <th>album</th>\n      <th>artists</th>\n      <th>available_markets</th>\n      <th>disc_number</th>\n      <th>duration_ms</th>\n      <th>episode</th>\n      <th>explicit</th>\n      <th>external_ids</th>\n      <th>external_urls</th>\n      <th>href</th>\n      <th>...</th>\n      <th>mode</th>\n      <th>speechiness</th>\n      <th>acousticness</th>\n      <th>instrumentalness</th>\n      <th>liveness</th>\n      <th>valence</th>\n      <th>tempo</th>\n      <th>track_href</th>\n      <th>analysis_url</th>\n      <th>time_signature</th>\n    </tr>\n    <tr>\n      <th>name</th>\n      <th></th>\n      <th></th>\n      <th></th>\n      <th></th>\n      <th></th>\n      <th></th>\n      <th></th>\n      <th></th>\n      <th></th>\n      <th></th>\n      <th></th>\n      <th></th>\n      <th></th>\n      <th></th>\n      <th></th>\n      <th></th>\n      <th></th>\n      <th></th>\n      <th></th>\n      <th></th>\n      <th></th>\n    </tr>\n  </thead>\n  <tbody>\n    <tr>\n      <th>As It Was</th>\n      <td>{'album_type': 'single', 'artists': [{'externa...</td>\n      <td>[{'external_urls': {'spotify': 'https://open.s...</td>\n      <td>['AD', 'AE', 'AG', 'AL', 'AM', 'AO', 'AR', 'AT...</td>\n      <td>1</td>\n      <td>167303</td>\n      <td>False</td>\n      <td>False</td>\n      <td>{'isrc': 'USSM12200612'}</td>\n      <td>{'spotify': 'https://open.spotify.com/track/4L...</td>\n      <td>https://api.spotify.com/v1/tracks/4LRPiXqCikLl...</td>\n      <td>...</td>\n      <td>0</td>\n      <td>0.0557</td>\n      <td>0.342000</td>\n      <td>0.001010</td>\n      <td>0.3110</td>\n      <td>0.662</td>\n      <td>173.930</td>\n      <td>https://api.spotify.com/v1/tracks/4LRPiXqCikLl...</td>\n      <td>https://api.spotify.com/v1/audio-analysis/4LRP...</td>\n      <td>4</td>\n    </tr>\n    <tr>\n      <th>Running Up That Hill (A Deal With God) - 2018 Remaster</th>\n      <td>{'album_type': 'album', 'artists': [{'external...</td>\n      <td>[{'external_urls': {'spotify': 'https://open.s...</td>\n      <td>['AD', 'AE', 'AG', 'AL', 'AM', 'AO', 'AR', 'AT...</td>\n      <td>1</td>\n      <td>300840</td>\n      <td>False</td>\n      <td>False</td>\n      <td>{'isrc': 'GBAYE1800884'}</td>\n      <td>{'spotify': 'https://open.spotify.com/track/29...</td>\n      <td>https://api.spotify.com/v1/tracks/29d0nY7TzCoi...</td>\n      <td>...</td>\n      <td>0</td>\n      <td>0.0596</td>\n      <td>0.659000</td>\n      <td>0.002660</td>\n      <td>0.0546</td>\n      <td>0.139</td>\n      <td>108.296</td>\n      <td>https://api.spotify.com/v1/tracks/29d0nY7TzCoi...</td>\n      <td>https://api.spotify.com/v1/audio-analysis/29d0...</td>\n      <td>4</td>\n    </tr>\n    <tr>\n      <th>Left and Right (Feat. Jung Kook of BTS)</th>\n      <td>{'album_type': 'single', 'artists': [{'externa...</td>\n      <td>[{'external_urls': {'spotify': 'https://open.s...</td>\n      <td>['AD', 'AE', 'AG', 'AL', 'AM', 'AO', 'AR', 'AT...</td>\n      <td>1</td>\n      <td>154487</td>\n      <td>False</td>\n      <td>False</td>\n      <td>{'isrc': 'USAT22205563'}</td>\n      <td>{'spotify': 'https://open.spotify.com/track/0m...</td>\n      <td>https://api.spotify.com/v1/tracks/0mBP9X2gPCua...</td>\n      <td>...</td>\n      <td>1</td>\n      <td>0.0324</td>\n      <td>0.619000</td>\n      <td>0.000013</td>\n      <td>0.0901</td>\n      <td>0.719</td>\n      <td>101.058</td>\n      <td>https://api.spotify.com/v1/tracks/0mBP9X2gPCua...</td>\n      <td>https://api.spotify.com/v1/audio-analysis/0mBP...</td>\n      <td>4</td>\n    </tr>\n    <tr>\n      <th>About Damn Time</th>\n      <td>{'album_type': 'single', 'artists': [{'externa...</td>\n      <td>[{'external_urls': {'spotify': 'https://open.s...</td>\n      <td>['AD', 'AE', 'AG', 'AL', 'AM', 'AO', 'AR', 'AT...</td>\n      <td>1</td>\n      <td>191822</td>\n      <td>False</td>\n      <td>True</td>\n      <td>{'isrc': 'USAT22202139'}</td>\n      <td>{'spotify': 'https://open.spotify.com/track/1P...</td>\n      <td>https://api.spotify.com/v1/tracks/1PckUlxKqWQs...</td>\n      <td>...</td>\n      <td>0</td>\n      <td>0.0656</td>\n      <td>0.099500</td>\n      <td>0.000000</td>\n      <td>0.3350</td>\n      <td>0.722</td>\n      <td>108.966</td>\n      <td>https://api.spotify.com/v1/tracks/1PckUlxKqWQs...</td>\n      <td>https://api.spotify.com/v1/audio-analysis/1Pck...</td>\n      <td>4</td>\n    </tr>\n    <tr>\n      <th>I Like You (A Happier Song) (with Doja Cat)</th>\n      <td>{'album_type': 'album', 'artists': [{'external...</td>\n      <td>[{'external_urls': {'spotify': 'https://open.s...</td>\n      <td>['AD', 'AE', 'AG', 'AL', 'AM', 'AO', 'AR', 'AT...</td>\n      <td>1</td>\n      <td>192841</td>\n      <td>False</td>\n      <td>True</td>\n      <td>{'isrc': 'USUM72208023'}</td>\n      <td>{'spotify': 'https://open.spotify.com/track/0O...</td>\n      <td>https://api.spotify.com/v1/tracks/0O6u0VJ46W86...</td>\n      <td>...</td>\n      <td>1</td>\n      <td>0.0751</td>\n      <td>0.121000</td>\n      <td>0.000000</td>\n      <td>0.1210</td>\n      <td>0.472</td>\n      <td>100.964</td>\n      <td>https://api.spotify.com/v1/tracks/0O6u0VJ46W86...</td>\n      <td>https://api.spotify.com/v1/audio-analysis/0O6u...</td>\n      <td>4</td>\n    </tr>\n    <tr>\n      <th>...</th>\n      <td>...</td>\n      <td>...</td>\n      <td>...</td>\n      <td>...</td>\n      <td>...</td>\n      <td>...</td>\n      <td>...</td>\n      <td>...</td>\n      <td>...</td>\n      <td>...</td>\n      <td>...</td>\n      <td>...</td>\n      <td>...</td>\n      <td>...</td>\n      <td>...</td>\n      <td>...</td>\n      <td>...</td>\n      <td>...</td>\n      <td>...</td>\n      <td>...</td>\n      <td>...</td>\n    </tr>\n    <tr>\n      <th>Bad Boy for Life</th>\n      <td>{'album_type': 'album', 'artists': [{'external...</td>\n      <td>[{'external_urls': {'spotify': 'https://open.s...</td>\n      <td>['AD', 'AE', 'AG', 'AL', 'AM', 'AO', 'AR', 'AT...</td>\n      <td>1</td>\n      <td>253067</td>\n      <td>False</td>\n      <td>True</td>\n      <td>{'isrc': 'USBB40580756'}</td>\n      <td>{'spotify': 'https://open.spotify.com/track/2e...</td>\n      <td>https://api.spotify.com/v1/tracks/2eOuL8KesslT...</td>\n      <td>...</td>\n      <td>1</td>\n      <td>0.4900</td>\n      <td>0.179000</td>\n      <td>0.000000</td>\n      <td>0.2410</td>\n      <td>0.610</td>\n      <td>118.934</td>\n      <td>https://api.spotify.com/v1/tracks/2eOuL8KesslT...</td>\n      <td>https://api.spotify.com/v1/audio-analysis/2eOu...</td>\n      <td>4</td>\n    </tr>\n    <tr>\n      <th>No Other Love</th>\n      <td>{'album_type': 'album', 'artists': [{'external...</td>\n      <td>[{'external_urls': {'spotify': 'https://open.s...</td>\n      <td>['AD', 'AE', 'AG', 'AL', 'AM', 'AO', 'AR', 'AT...</td>\n      <td>1</td>\n      <td>266240</td>\n      <td>False</td>\n      <td>False</td>\n      <td>{'isrc': 'USBB40580604'}</td>\n      <td>{'spotify': 'https://open.spotify.com/track/6p...</td>\n      <td>https://api.spotify.com/v1/tracks/6p8RmxHGU1WL...</td>\n      <td>...</td>\n      <td>0</td>\n      <td>0.0472</td>\n      <td>0.318000</td>\n      <td>0.000000</td>\n      <td>0.0619</td>\n      <td>0.711</td>\n      <td>70.352</td>\n      <td>https://api.spotify.com/v1/tracks/6p8RmxHGU1WL...</td>\n      <td>https://api.spotify.com/v1/audio-analysis/6p8R...</td>\n      <td>4</td>\n    </tr>\n    <tr>\n      <th>Five-O (feat. Wyclef &amp; P. Diddy)</th>\n      <td>{'album_type': 'album', 'artists': [{'external...</td>\n      <td>[{'external_urls': {'spotify': 'https://open.s...</td>\n      <td>['AD', 'AE', 'AG', 'AL', 'AM', 'AO', 'AT', 'AU...</td>\n      <td>1</td>\n      <td>279773</td>\n      <td>False</td>\n      <td>False</td>\n      <td>{'isrc': 'USBB40707174'}</td>\n      <td>{'spotify': 'https://open.spotify.com/track/3c...</td>\n      <td>https://api.spotify.com/v1/tracks/3cttR5mtQZ5x...</td>\n      <td>...</td>\n      <td>1</td>\n      <td>0.2210</td>\n      <td>0.000719</td>\n      <td>0.000000</td>\n      <td>0.3700</td>\n      <td>0.636</td>\n      <td>150.098</td>\n      <td>https://api.spotify.com/v1/tracks/3cttR5mtQZ5x...</td>\n      <td>https://api.spotify.com/v1/audio-analysis/3ctt...</td>\n      <td>4</td>\n    </tr>\n    <tr>\n      <th>What About Us (Remix) [feat. Black Rob]</th>\n      <td>{'album_type': 'album', 'artists': [{'external...</td>\n      <td>[{'external_urls': {'spotify': 'https://open.s...</td>\n      <td>['AD', 'AE', 'AG', 'AL', 'AM', 'AO', 'AR', 'AT...</td>\n      <td>1</td>\n      <td>243783</td>\n      <td>False</td>\n      <td>False</td>\n      <td>{'isrc': 'USBB40580245'}</td>\n      <td>{'spotify': 'https://open.spotify.com/track/6P...</td>\n      <td>https://api.spotify.com/v1/tracks/6Ph7bndA7A5E...</td>\n      <td>...</td>\n      <td>1</td>\n      <td>0.0396</td>\n      <td>0.014300</td>\n      <td>0.000000</td>\n      <td>0.0451</td>\n      <td>0.720</td>\n      <td>96.365</td>\n      <td>https://api.spotify.com/v1/tracks/6Ph7bndA7A5E...</td>\n      <td>https://api.spotify.com/v1/audio-analysis/6Ph7...</td>\n      <td>4</td>\n    </tr>\n    <tr>\n      <th>I'll Be Missing You (feat. Faith Evans &amp; 112) - 2014 Remaster</th>\n      <td>{'album_type': 'album', 'artists': [{'external...</td>\n      <td>[{'external_urls': {'spotify': 'https://open.s...</td>\n      <td>['AD', 'AE', 'AG', 'AL', 'AM', 'AO', 'AR', 'AT...</td>\n      <td>1</td>\n      <td>306560</td>\n      <td>False</td>\n      <td>False</td>\n      <td>{'isrc': 'USBB41400049'}</td>\n      <td>{'spotify': 'https://open.spotify.com/track/1y...</td>\n      <td>https://api.spotify.com/v1/tracks/1yy2DlSDtEt9...</td>\n      <td>...</td>\n      <td>1</td>\n      <td>0.0538</td>\n      <td>0.111000</td>\n      <td>0.000021</td>\n      <td>0.1590</td>\n      <td>0.901</td>\n      <td>109.920</td>\n      <td>https://api.spotify.com/v1/tracks/1yy2DlSDtEt9...</td>\n      <td>https://api.spotify.com/v1/audio-analysis/1yy2...</td>\n      <td>4</td>\n    </tr>\n  </tbody>\n</table>\n<p>833 rows × 33 columns</p>\n</div>"
     },
     "execution_count": 4,
     "metadata": {},
     "output_type": "execute_result"
    }
   ],
   "source": [
    "baseDf = pd.read_csv('spotify_data.csv')\n",
    "\n",
    "baseDf.index = [baseDf[\"name\"]]\n",
    "data = baseDf[[\n",
    "    'energy', 'danceability', 'loudness', 'liveness', 'valence',\n",
    "    'duration_ms', 'acousticness', 'speechiness', 'popularity']]\n",
    "df = df_cleaner(baseDf)\n",
    "baseDf"
   ]
  },
  {
   "cell_type": "markdown",
   "metadata": {
    "pycharm": {
     "name": "#%% md\n"
    }
   },
   "source": [
    "scale down the data"
   ]
  },
  {
   "cell_type": "code",
   "execution_count": 5,
   "metadata": {
    "pycharm": {
     "name": "#%%\n"
    }
   },
   "outputs": [],
   "source": [
    "X = pd.DataFrame(df, columns=list(df.columns))\n",
    "scaler = StandardScaler()\n",
    "scaler.fit(X)\n",
    "X_scaled = scaler.transform(X)\n",
    "X_scaled_df = pd.DataFrame(X_scaled, columns=X.columns)"
   ]
  },
  {
   "cell_type": "markdown",
   "metadata": {
    "pycharm": {
     "name": "#%% md\n"
    }
   },
   "source": [
    "split and cluster the data to 3 cluster"
   ]
  },
  {
   "cell_type": "code",
   "execution_count": 6,
   "metadata": {
    "pycharm": {
     "name": "#%%\n"
    }
   },
   "outputs": [
    {
     "data": {
      "text/plain": "KMeans(n_clusters=6, random_state=1234)",
      "text/html": "<style>#sk-container-id-1 {color: black;background-color: white;}#sk-container-id-1 pre{padding: 0;}#sk-container-id-1 div.sk-toggleable {background-color: white;}#sk-container-id-1 label.sk-toggleable__label {cursor: pointer;display: block;width: 100%;margin-bottom: 0;padding: 0.3em;box-sizing: border-box;text-align: center;}#sk-container-id-1 label.sk-toggleable__label-arrow:before {content: \"▸\";float: left;margin-right: 0.25em;color: #696969;}#sk-container-id-1 label.sk-toggleable__label-arrow:hover:before {color: black;}#sk-container-id-1 div.sk-estimator:hover label.sk-toggleable__label-arrow:before {color: black;}#sk-container-id-1 div.sk-toggleable__content {max-height: 0;max-width: 0;overflow: hidden;text-align: left;background-color: #f0f8ff;}#sk-container-id-1 div.sk-toggleable__content pre {margin: 0.2em;color: black;border-radius: 0.25em;background-color: #f0f8ff;}#sk-container-id-1 input.sk-toggleable__control:checked~div.sk-toggleable__content {max-height: 200px;max-width: 100%;overflow: auto;}#sk-container-id-1 input.sk-toggleable__control:checked~label.sk-toggleable__label-arrow:before {content: \"▾\";}#sk-container-id-1 div.sk-estimator input.sk-toggleable__control:checked~label.sk-toggleable__label {background-color: #d4ebff;}#sk-container-id-1 div.sk-label input.sk-toggleable__control:checked~label.sk-toggleable__label {background-color: #d4ebff;}#sk-container-id-1 input.sk-hidden--visually {border: 0;clip: rect(1px 1px 1px 1px);clip: rect(1px, 1px, 1px, 1px);height: 1px;margin: -1px;overflow: hidden;padding: 0;position: absolute;width: 1px;}#sk-container-id-1 div.sk-estimator {font-family: monospace;background-color: #f0f8ff;border: 1px dotted black;border-radius: 0.25em;box-sizing: border-box;margin-bottom: 0.5em;}#sk-container-id-1 div.sk-estimator:hover {background-color: #d4ebff;}#sk-container-id-1 div.sk-parallel-item::after {content: \"\";width: 100%;border-bottom: 1px solid gray;flex-grow: 1;}#sk-container-id-1 div.sk-label:hover label.sk-toggleable__label {background-color: #d4ebff;}#sk-container-id-1 div.sk-serial::before {content: \"\";position: absolute;border-left: 1px solid gray;box-sizing: border-box;top: 0;bottom: 0;left: 50%;z-index: 0;}#sk-container-id-1 div.sk-serial {display: flex;flex-direction: column;align-items: center;background-color: white;padding-right: 0.2em;padding-left: 0.2em;position: relative;}#sk-container-id-1 div.sk-item {position: relative;z-index: 1;}#sk-container-id-1 div.sk-parallel {display: flex;align-items: stretch;justify-content: center;background-color: white;position: relative;}#sk-container-id-1 div.sk-item::before, #sk-container-id-1 div.sk-parallel-item::before {content: \"\";position: absolute;border-left: 1px solid gray;box-sizing: border-box;top: 0;bottom: 0;left: 50%;z-index: -1;}#sk-container-id-1 div.sk-parallel-item {display: flex;flex-direction: column;z-index: 1;position: relative;background-color: white;}#sk-container-id-1 div.sk-parallel-item:first-child::after {align-self: flex-end;width: 50%;}#sk-container-id-1 div.sk-parallel-item:last-child::after {align-self: flex-start;width: 50%;}#sk-container-id-1 div.sk-parallel-item:only-child::after {width: 0;}#sk-container-id-1 div.sk-dashed-wrapped {border: 1px dashed gray;margin: 0 0.4em 0.5em 0.4em;box-sizing: border-box;padding-bottom: 0.4em;background-color: white;}#sk-container-id-1 div.sk-label label {font-family: monospace;font-weight: bold;display: inline-block;line-height: 1.2em;}#sk-container-id-1 div.sk-label-container {text-align: center;}#sk-container-id-1 div.sk-container {/* jupyter's `normalize.less` sets `[hidden] { display: none; }` but bootstrap.min.css set `[hidden] { display: none !important; }` so we also need the `!important` here to be able to override the default hidden behavior on the sphinx rendered scikit-learn.org. See: https://github.com/scikit-learn/scikit-learn/issues/21755 */display: inline-block !important;position: relative;}#sk-container-id-1 div.sk-text-repr-fallback {display: none;}</style><div id=\"sk-container-id-1\" class=\"sk-top-container\"><div class=\"sk-text-repr-fallback\"><pre>KMeans(n_clusters=6, random_state=1234)</pre><b>In a Jupyter environment, please rerun this cell to show the HTML representation or trust the notebook. <br />On GitHub, the HTML representation is unable to render, please try loading this page with nbviewer.org.</b></div><div class=\"sk-container\" hidden><div class=\"sk-item\"><div class=\"sk-estimator sk-toggleable\"><input class=\"sk-toggleable__control sk-hidden--visually\" id=\"sk-estimator-id-1\" type=\"checkbox\" checked><label for=\"sk-estimator-id-1\" class=\"sk-toggleable__label sk-toggleable__label-arrow\">KMeans</label><div class=\"sk-toggleable__content\"><pre>KMeans(n_clusters=6, random_state=1234)</pre></div></div></div></div></div>"
     },
     "execution_count": 6,
     "metadata": {},
     "output_type": "execute_result"
    }
   ],
   "source": [
    "kmeans = KMeans(n_clusters=6, random_state=1234)\n",
    "kmeans.fit(X_scaled_df)"
   ]
  },
  {
   "cell_type": "code",
   "execution_count": 7,
   "metadata": {
    "pycharm": {
     "name": "#%%\n"
    }
   },
   "outputs": [],
   "source": [
    "labels = kmeans.predict(X_scaled_df)\n",
    "clusters = np.unique(labels)"
   ]
  },
  {
   "cell_type": "code",
   "execution_count": 8,
   "metadata": {
    "pycharm": {
     "name": "#%%\n"
    }
   },
   "outputs": [],
   "source": [
    "clusters = kmeans.predict(X_scaled_df)\n",
    "X[\"cluster\"] = clusters"
   ]
  },
  {
   "cell_type": "code",
   "execution_count": 9,
   "metadata": {
    "pycharm": {
     "name": "#%%\n"
    }
   },
   "outputs": [
    {
     "data": {
      "text/plain": "KMeans(algorithm='elkan', max_iter=10, n_clusters=50, n_init=50,\n       random_state=1234, tol=0)",
      "text/html": "<style>#sk-container-id-2 {color: black;background-color: white;}#sk-container-id-2 pre{padding: 0;}#sk-container-id-2 div.sk-toggleable {background-color: white;}#sk-container-id-2 label.sk-toggleable__label {cursor: pointer;display: block;width: 100%;margin-bottom: 0;padding: 0.3em;box-sizing: border-box;text-align: center;}#sk-container-id-2 label.sk-toggleable__label-arrow:before {content: \"▸\";float: left;margin-right: 0.25em;color: #696969;}#sk-container-id-2 label.sk-toggleable__label-arrow:hover:before {color: black;}#sk-container-id-2 div.sk-estimator:hover label.sk-toggleable__label-arrow:before {color: black;}#sk-container-id-2 div.sk-toggleable__content {max-height: 0;max-width: 0;overflow: hidden;text-align: left;background-color: #f0f8ff;}#sk-container-id-2 div.sk-toggleable__content pre {margin: 0.2em;color: black;border-radius: 0.25em;background-color: #f0f8ff;}#sk-container-id-2 input.sk-toggleable__control:checked~div.sk-toggleable__content {max-height: 200px;max-width: 100%;overflow: auto;}#sk-container-id-2 input.sk-toggleable__control:checked~label.sk-toggleable__label-arrow:before {content: \"▾\";}#sk-container-id-2 div.sk-estimator input.sk-toggleable__control:checked~label.sk-toggleable__label {background-color: #d4ebff;}#sk-container-id-2 div.sk-label input.sk-toggleable__control:checked~label.sk-toggleable__label {background-color: #d4ebff;}#sk-container-id-2 input.sk-hidden--visually {border: 0;clip: rect(1px 1px 1px 1px);clip: rect(1px, 1px, 1px, 1px);height: 1px;margin: -1px;overflow: hidden;padding: 0;position: absolute;width: 1px;}#sk-container-id-2 div.sk-estimator {font-family: monospace;background-color: #f0f8ff;border: 1px dotted black;border-radius: 0.25em;box-sizing: border-box;margin-bottom: 0.5em;}#sk-container-id-2 div.sk-estimator:hover {background-color: #d4ebff;}#sk-container-id-2 div.sk-parallel-item::after {content: \"\";width: 100%;border-bottom: 1px solid gray;flex-grow: 1;}#sk-container-id-2 div.sk-label:hover label.sk-toggleable__label {background-color: #d4ebff;}#sk-container-id-2 div.sk-serial::before {content: \"\";position: absolute;border-left: 1px solid gray;box-sizing: border-box;top: 0;bottom: 0;left: 50%;z-index: 0;}#sk-container-id-2 div.sk-serial {display: flex;flex-direction: column;align-items: center;background-color: white;padding-right: 0.2em;padding-left: 0.2em;position: relative;}#sk-container-id-2 div.sk-item {position: relative;z-index: 1;}#sk-container-id-2 div.sk-parallel {display: flex;align-items: stretch;justify-content: center;background-color: white;position: relative;}#sk-container-id-2 div.sk-item::before, #sk-container-id-2 div.sk-parallel-item::before {content: \"\";position: absolute;border-left: 1px solid gray;box-sizing: border-box;top: 0;bottom: 0;left: 50%;z-index: -1;}#sk-container-id-2 div.sk-parallel-item {display: flex;flex-direction: column;z-index: 1;position: relative;background-color: white;}#sk-container-id-2 div.sk-parallel-item:first-child::after {align-self: flex-end;width: 50%;}#sk-container-id-2 div.sk-parallel-item:last-child::after {align-self: flex-start;width: 50%;}#sk-container-id-2 div.sk-parallel-item:only-child::after {width: 0;}#sk-container-id-2 div.sk-dashed-wrapped {border: 1px dashed gray;margin: 0 0.4em 0.5em 0.4em;box-sizing: border-box;padding-bottom: 0.4em;background-color: white;}#sk-container-id-2 div.sk-label label {font-family: monospace;font-weight: bold;display: inline-block;line-height: 1.2em;}#sk-container-id-2 div.sk-label-container {text-align: center;}#sk-container-id-2 div.sk-container {/* jupyter's `normalize.less` sets `[hidden] { display: none; }` but bootstrap.min.css set `[hidden] { display: none !important; }` so we also need the `!important` here to be able to override the default hidden behavior on the sphinx rendered scikit-learn.org. See: https://github.com/scikit-learn/scikit-learn/issues/21755 */display: inline-block !important;position: relative;}#sk-container-id-2 div.sk-text-repr-fallback {display: none;}</style><div id=\"sk-container-id-2\" class=\"sk-top-container\"><div class=\"sk-text-repr-fallback\"><pre>KMeans(algorithm=&#x27;elkan&#x27;, max_iter=10, n_clusters=50, n_init=50,\n       random_state=1234, tol=0)</pre><b>In a Jupyter environment, please rerun this cell to show the HTML representation or trust the notebook. <br />On GitHub, the HTML representation is unable to render, please try loading this page with nbviewer.org.</b></div><div class=\"sk-container\" hidden><div class=\"sk-item\"><div class=\"sk-estimator sk-toggleable\"><input class=\"sk-toggleable__control sk-hidden--visually\" id=\"sk-estimator-id-2\" type=\"checkbox\" checked><label for=\"sk-estimator-id-2\" class=\"sk-toggleable__label sk-toggleable__label-arrow\">KMeans</label><div class=\"sk-toggleable__content\"><pre>KMeans(algorithm=&#x27;elkan&#x27;, max_iter=10, n_clusters=50, n_init=50,\n       random_state=1234, tol=0)</pre></div></div></div></div></div>"
     },
     "execution_count": 9,
     "metadata": {},
     "output_type": "execute_result"
    }
   ],
   "source": [
    "kmeans2 = KMeans(n_clusters=50,\n",
    "                 init=\"k-means++\",\n",
    "                 n_init=50,  # try with 1, 4, 8, 20, 30, 100...\n",
    "                 max_iter=10,\n",
    "                 tol=0,\n",
    "                 algorithm=\"elkan\",\n",
    "                 random_state=1234)\n",
    "kmeans2.fit(X_scaled_df)"
   ]
  },
  {
   "cell_type": "code",
   "execution_count": 10,
   "metadata": {
    "pycharm": {
     "name": "#%%\n"
    }
   },
   "outputs": [],
   "source": [
    "K = range(2, 21)\n",
    "inertia = []\n",
    "\n",
    "for k in K:\n",
    "    kmeans = KMeans(n_clusters=3,\n",
    "                    random_state=1234)\n",
    "    kmeans.fit(X_scaled_df)\n",
    "    inertia.append(kmeans.inertia_)"
   ]
  },
  {
   "cell_type": "code",
   "execution_count": 11,
   "metadata": {
    "pycharm": {
     "name": "#%%\n"
    }
   },
   "outputs": [],
   "source": [
    "model = RecSysContentBased()\n",
    "model.fit(data)"
   ]
  },
  {
   "cell_type": "markdown",
   "metadata": {
    "pycharm": {
     "name": "#%% md\n"
    }
   },
   "source": []
  },
  {
   "cell_type": "code",
   "execution_count": 46,
   "metadata": {
    "pycharm": {
     "name": "#%%\n"
    }
   },
   "outputs": [
    {
     "data": {
      "text/plain": "                                                                                                album  \\\nname                                                                                                    \nVegas (From the Original Motion Picture Soundtr...  {'album_type': 'single', 'artists': [{'externa...   \nSynchronise                                         {'album_type': 'single', 'artists': [{'externa...   \nLisztomania - Classixx Version                      {'album_type': 'single', 'artists': [{'externa...   \nDeezy Daisy - Oxford Remix                          {'album_type': 'single', 'artists': [{'externa...   \n\n                                                                                              artists  \\\nname                                                                                                    \nVegas (From the Original Motion Picture Soundtr...  [{'external_urls': {'spotify': 'https://open.s...   \nSynchronise                                         [{'external_urls': {'spotify': 'https://open.s...   \nLisztomania - Classixx Version                      [{'external_urls': {'spotify': 'https://open.s...   \nDeezy Daisy - Oxford Remix                          [{'external_urls': {'spotify': 'https://open.s...   \n\n                                                                                    available_markets  \\\nname                                                                                                    \nVegas (From the Original Motion Picture Soundtr...  ['AD', 'AE', 'AG', 'AL', 'AM', 'AO', 'AR', 'AT...   \nSynchronise                                         ['AD', 'AE', 'AG', 'AL', 'AM', 'AO', 'AR', 'AT...   \nLisztomania - Classixx Version                      ['AD', 'AE', 'AG', 'AL', 'AM', 'AO', 'AR', 'AT...   \nDeezy Daisy - Oxford Remix                          ['AD', 'AE', 'AG', 'AL', 'AM', 'AO', 'AR', 'AT...   \n\n                                                    disc_number  duration_ms  \\\nname                                                                           \nVegas (From the Original Motion Picture Soundtr...            1       182907   \nSynchronise                                                   1       287270   \nLisztomania - Classixx Version                                1       304413   \nDeezy Daisy - Oxford Remix                                    1       267074   \n\n                                                    episode  explicit  \\\nname                                                                    \nVegas (From the Original Motion Picture Soundtr...    False     False   \nSynchronise                                           False     False   \nLisztomania - Classixx Version                        False     False   \nDeezy Daisy - Oxford Remix                            False     False   \n\n                                                                external_ids  \\\nname                                                                           \nVegas (From the Original Motion Picture Soundtr...  {'isrc': 'USRC12201441'}   \nSynchronise                                         {'isrc': 'FRU702200107'}   \nLisztomania - Classixx Version                      {'isrc': 'FR31Q0900013'}   \nDeezy Daisy - Oxford Remix                          {'isrc': 'FRU701300115'}   \n\n                                                                                        external_urls  \\\nname                                                                                                    \nVegas (From the Original Motion Picture Soundtr...  {'spotify': 'https://open.spotify.com/track/0h...   \nSynchronise                                         {'spotify': 'https://open.spotify.com/track/6f...   \nLisztomania - Classixx Version                      {'spotify': 'https://open.spotify.com/track/37...   \nDeezy Daisy - Oxford Remix                          {'spotify': 'https://open.spotify.com/track/5E...   \n\n                                                                                                 href  \\\nname                                                                                                    \nVegas (From the Original Motion Picture Soundtr...  https://api.spotify.com/v1/tracks/0hquQWY3xvYq...   \nSynchronise                                         https://api.spotify.com/v1/tracks/6f9XYKnQIkBf...   \nLisztomania - Classixx Version                      https://api.spotify.com/v1/tracks/378HDaqOZxzB...   \nDeezy Daisy - Oxford Remix                          https://api.spotify.com/v1/tracks/5EHEEtGjuDst...   \n\n                                                    ... mode  speechiness  \\\nname                                                ...                     \nVegas (From the Original Motion Picture Soundtr...  ...    0       0.2550   \nSynchronise                                         ...    1       0.0536   \nLisztomania - Classixx Version                      ...    0       0.0641   \nDeezy Daisy - Oxford Remix                          ...    1       0.0471   \n\n                                                   acousticness  \\\nname                                                              \nVegas (From the Original Motion Picture Soundtr...      0.07770   \nSynchronise                                             0.00729   \nLisztomania - Classixx Version                          0.06400   \nDeezy Daisy - Oxford Remix                              0.03450   \n\n                                                    instrumentalness liveness  \\\nname                                                                            \nVegas (From the Original Motion Picture Soundtr...          0.000032   0.1450   \nSynchronise                                                 0.538000   0.1070   \nLisztomania - Classixx Version                              0.008810   0.0507   \nDeezy Daisy - Oxford Remix                                  0.325000   0.0810   \n\n                                                    valence    tempo  \\\nname                                                                   \nVegas (From the Original Motion Picture Soundtr...    0.740  159.969   \nSynchronise                                           0.815  127.996   \nLisztomania - Classixx Version                        0.382  108.000   \nDeezy Daisy - Oxford Remix                            0.616  118.004   \n\n                                                                                           track_href  \\\nname                                                                                                    \nVegas (From the Original Motion Picture Soundtr...  https://api.spotify.com/v1/tracks/0hquQWY3xvYq...   \nSynchronise                                         https://api.spotify.com/v1/tracks/6f9XYKnQIkBf...   \nLisztomania - Classixx Version                      https://api.spotify.com/v1/tracks/378HDaqOZxzB...   \nDeezy Daisy - Oxford Remix                          https://api.spotify.com/v1/tracks/5EHEEtGjuDst...   \n\n                                                                                         analysis_url  \\\nname                                                                                                    \nVegas (From the Original Motion Picture Soundtr...  https://api.spotify.com/v1/audio-analysis/0hqu...   \nSynchronise                                         https://api.spotify.com/v1/audio-analysis/6f9X...   \nLisztomania - Classixx Version                      https://api.spotify.com/v1/audio-analysis/378H...   \nDeezy Daisy - Oxford Remix                          https://api.spotify.com/v1/audio-analysis/5EHE...   \n\n                                                    time_signature  \nname                                                                \nVegas (From the Original Motion Picture Soundtr...               4  \nSynchronise                                                      4  \nLisztomania - Classixx Version                                   4  \nDeezy Daisy - Oxford Remix                                       4  \n\n[4 rows x 33 columns]",
      "text/html": "<div>\n<style scoped>\n    .dataframe tbody tr th:only-of-type {\n        vertical-align: middle;\n    }\n\n    .dataframe tbody tr th {\n        vertical-align: top;\n    }\n\n    .dataframe thead th {\n        text-align: right;\n    }\n</style>\n<table border=\"1\" class=\"dataframe\">\n  <thead>\n    <tr style=\"text-align: right;\">\n      <th></th>\n      <th>album</th>\n      <th>artists</th>\n      <th>available_markets</th>\n      <th>disc_number</th>\n      <th>duration_ms</th>\n      <th>episode</th>\n      <th>explicit</th>\n      <th>external_ids</th>\n      <th>external_urls</th>\n      <th>href</th>\n      <th>...</th>\n      <th>mode</th>\n      <th>speechiness</th>\n      <th>acousticness</th>\n      <th>instrumentalness</th>\n      <th>liveness</th>\n      <th>valence</th>\n      <th>tempo</th>\n      <th>track_href</th>\n      <th>analysis_url</th>\n      <th>time_signature</th>\n    </tr>\n    <tr>\n      <th>name</th>\n      <th></th>\n      <th></th>\n      <th></th>\n      <th></th>\n      <th></th>\n      <th></th>\n      <th></th>\n      <th></th>\n      <th></th>\n      <th></th>\n      <th></th>\n      <th></th>\n      <th></th>\n      <th></th>\n      <th></th>\n      <th></th>\n      <th></th>\n      <th></th>\n      <th></th>\n      <th></th>\n      <th></th>\n    </tr>\n  </thead>\n  <tbody>\n    <tr>\n      <th>Vegas (From the Original Motion Picture Soundtrack ELVIS)</th>\n      <td>{'album_type': 'single', 'artists': [{'externa...</td>\n      <td>[{'external_urls': {'spotify': 'https://open.s...</td>\n      <td>['AD', 'AE', 'AG', 'AL', 'AM', 'AO', 'AR', 'AT...</td>\n      <td>1</td>\n      <td>182907</td>\n      <td>False</td>\n      <td>False</td>\n      <td>{'isrc': 'USRC12201441'}</td>\n      <td>{'spotify': 'https://open.spotify.com/track/0h...</td>\n      <td>https://api.spotify.com/v1/tracks/0hquQWY3xvYq...</td>\n      <td>...</td>\n      <td>0</td>\n      <td>0.2550</td>\n      <td>0.07770</td>\n      <td>0.000032</td>\n      <td>0.1450</td>\n      <td>0.740</td>\n      <td>159.969</td>\n      <td>https://api.spotify.com/v1/tracks/0hquQWY3xvYq...</td>\n      <td>https://api.spotify.com/v1/audio-analysis/0hqu...</td>\n      <td>4</td>\n    </tr>\n    <tr>\n      <th>Synchronise</th>\n      <td>{'album_type': 'single', 'artists': [{'externa...</td>\n      <td>[{'external_urls': {'spotify': 'https://open.s...</td>\n      <td>['AD', 'AE', 'AG', 'AL', 'AM', 'AO', 'AR', 'AT...</td>\n      <td>1</td>\n      <td>287270</td>\n      <td>False</td>\n      <td>False</td>\n      <td>{'isrc': 'FRU702200107'}</td>\n      <td>{'spotify': 'https://open.spotify.com/track/6f...</td>\n      <td>https://api.spotify.com/v1/tracks/6f9XYKnQIkBf...</td>\n      <td>...</td>\n      <td>1</td>\n      <td>0.0536</td>\n      <td>0.00729</td>\n      <td>0.538000</td>\n      <td>0.1070</td>\n      <td>0.815</td>\n      <td>127.996</td>\n      <td>https://api.spotify.com/v1/tracks/6f9XYKnQIkBf...</td>\n      <td>https://api.spotify.com/v1/audio-analysis/6f9X...</td>\n      <td>4</td>\n    </tr>\n    <tr>\n      <th>Lisztomania - Classixx Version</th>\n      <td>{'album_type': 'single', 'artists': [{'externa...</td>\n      <td>[{'external_urls': {'spotify': 'https://open.s...</td>\n      <td>['AD', 'AE', 'AG', 'AL', 'AM', 'AO', 'AR', 'AT...</td>\n      <td>1</td>\n      <td>304413</td>\n      <td>False</td>\n      <td>False</td>\n      <td>{'isrc': 'FR31Q0900013'}</td>\n      <td>{'spotify': 'https://open.spotify.com/track/37...</td>\n      <td>https://api.spotify.com/v1/tracks/378HDaqOZxzB...</td>\n      <td>...</td>\n      <td>0</td>\n      <td>0.0641</td>\n      <td>0.06400</td>\n      <td>0.008810</td>\n      <td>0.0507</td>\n      <td>0.382</td>\n      <td>108.000</td>\n      <td>https://api.spotify.com/v1/tracks/378HDaqOZxzB...</td>\n      <td>https://api.spotify.com/v1/audio-analysis/378H...</td>\n      <td>4</td>\n    </tr>\n    <tr>\n      <th>Deezy Daisy - Oxford Remix</th>\n      <td>{'album_type': 'single', 'artists': [{'externa...</td>\n      <td>[{'external_urls': {'spotify': 'https://open.s...</td>\n      <td>['AD', 'AE', 'AG', 'AL', 'AM', 'AO', 'AR', 'AT...</td>\n      <td>1</td>\n      <td>267074</td>\n      <td>False</td>\n      <td>False</td>\n      <td>{'isrc': 'FRU701300115'}</td>\n      <td>{'spotify': 'https://open.spotify.com/track/5E...</td>\n      <td>https://api.spotify.com/v1/tracks/5EHEEtGjuDst...</td>\n      <td>...</td>\n      <td>1</td>\n      <td>0.0471</td>\n      <td>0.03450</td>\n      <td>0.325000</td>\n      <td>0.0810</td>\n      <td>0.616</td>\n      <td>118.004</td>\n      <td>https://api.spotify.com/v1/tracks/5EHEEtGjuDst...</td>\n      <td>https://api.spotify.com/v1/audio-analysis/5EHE...</td>\n      <td>4</td>\n    </tr>\n  </tbody>\n</table>\n<p>4 rows × 33 columns</p>\n</div>"
     },
     "execution_count": 46,
     "metadata": {},
     "output_type": "execute_result"
    }
   ],
   "source": [
    "user_input = input('what do you like?')\n",
    "textBlb = TextBlob(user_input)  # Making our first textblob\n",
    "textCorrected = str(textBlb.correct())\n",
    "search_result = baseDf[baseDf['name'].str.contains(user_input, case=False)][:4]\n",
    "guess_message = ''\n",
    "search_result"
   ]
  },
  {
   "cell_type": "code",
   "execution_count": 47,
   "metadata": {
    "pycharm": {
     "name": "#%%\n"
    }
   },
   "outputs": [
    {
     "name": "stdout",
     "output_type": "stream",
     "text": [
      "(0, 'Vegas (From the Original Motion Picture Soundtrack ELVIS)')\n",
      "(1, 'Synchronise')\n",
      "(2, 'Lisztomania - Classixx Version')\n",
      "(3, 'Deezy Daisy - Oxford Remix')\n"
     ]
    }
   ],
   "source": [
    "options = list(enumerate(search_result['name']))\n",
    "print(*options, sep='\\n')"
   ]
  },
  {
   "cell_type": "code",
   "execution_count": 50,
   "metadata": {
    "pycharm": {
     "name": "#%%\n"
    }
   },
   "outputs": [
    {
     "data": {
      "text/plain": "'0hquQWY3xvYqN4qtiquniF'"
     },
     "execution_count": 50,
     "metadata": {},
     "output_type": "execute_result"
    }
   ],
   "source": [
    "user_choice_input_data = input(guess_message)\n",
    "user_choice_id = search_result.iloc[[user_choice_input_data]]['id'].values[0]\n",
    "user_choice_id"
   ]
  },
  {
   "cell_type": "markdown",
   "metadata": {
    "pycharm": {
     "name": "#%% md\n"
    }
   },
   "source": [
    "API call for song data from spotify"
   ]
  },
  {
   "cell_type": "markdown",
   "metadata": {
    "pycharm": {
     "name": "#%% md\n"
    }
   },
   "source": []
  },
  {
   "cell_type": "code",
   "execution_count": 19,
   "metadata": {
    "pycharm": {
     "name": "#%%\n"
    }
   },
   "outputs": [
    {
     "data": {
      "text/plain": "{'album': {'album_type': 'single',\n  'artists': [{'external_urls': {'spotify': 'https://open.spotify.com/artist/52tJU1YfTeD1uCQjq8yooZ'},\n    'href': 'https://api.spotify.com/v1/artists/52tJU1YfTeD1uCQjq8yooZ',\n    'id': '52tJU1YfTeD1uCQjq8yooZ',\n    'name': 'Bastion',\n    'type': 'artist',\n    'uri': 'spotify:artist:52tJU1YfTeD1uCQjq8yooZ'},\n   {'external_urls': {'spotify': 'https://open.spotify.com/artist/1MW1wqNtF2hNgsPfGDhrHB'},\n    'href': 'https://api.spotify.com/v1/artists/1MW1wqNtF2hNgsPfGDhrHB',\n    'id': '1MW1wqNtF2hNgsPfGDhrHB',\n    'name': 'Catching Cairo',\n    'type': 'artist',\n    'uri': 'spotify:artist:1MW1wqNtF2hNgsPfGDhrHB'}],\n  'available_markets': [],\n  'external_urls': {'spotify': 'https://open.spotify.com/album/6Q0y7nqujvEvqwi7B2zkUQ'},\n  'href': 'https://api.spotify.com/v1/albums/6Q0y7nqujvEvqwi7B2zkUQ',\n  'id': '6Q0y7nqujvEvqwi7B2zkUQ',\n  'images': [{'height': 640,\n    'url': 'https://i.scdn.co/image/ab67616d0000b2739870f93c3e07aa775ce5eaa5',\n    'width': 640},\n   {'height': 300,\n    'url': 'https://i.scdn.co/image/ab67616d00001e029870f93c3e07aa775ce5eaa5',\n    'width': 300},\n   {'height': 64,\n    'url': 'https://i.scdn.co/image/ab67616d000048519870f93c3e07aa775ce5eaa5',\n    'width': 64}],\n  'name': 'Shapes',\n  'release_date': '2021-08-17',\n  'release_date_precision': 'day',\n  'total_tracks': 1,\n  'type': 'album',\n  'uri': 'spotify:album:6Q0y7nqujvEvqwi7B2zkUQ'},\n 'artists': [{'external_urls': {'spotify': 'https://open.spotify.com/artist/52tJU1YfTeD1uCQjq8yooZ'},\n   'href': 'https://api.spotify.com/v1/artists/52tJU1YfTeD1uCQjq8yooZ',\n   'id': '52tJU1YfTeD1uCQjq8yooZ',\n   'name': 'Bastion',\n   'type': 'artist',\n   'uri': 'spotify:artist:52tJU1YfTeD1uCQjq8yooZ'},\n  {'external_urls': {'spotify': 'https://open.spotify.com/artist/1MW1wqNtF2hNgsPfGDhrHB'},\n   'href': 'https://api.spotify.com/v1/artists/1MW1wqNtF2hNgsPfGDhrHB',\n   'id': '1MW1wqNtF2hNgsPfGDhrHB',\n   'name': 'Catching Cairo',\n   'type': 'artist',\n   'uri': 'spotify:artist:1MW1wqNtF2hNgsPfGDhrHB'}],\n 'available_markets': [],\n 'disc_number': 1,\n 'duration_ms': 215172,\n 'explicit': False,\n 'external_ids': {'isrc': 'GB2LD2110229'},\n 'external_urls': {'spotify': 'https://open.spotify.com/track/5FCZsn6nEQ6amsRliEoPfj'},\n 'href': 'https://api.spotify.com/v1/tracks/5FCZsn6nEQ6amsRliEoPfj',\n 'id': '5FCZsn6nEQ6amsRliEoPfj',\n 'is_local': False,\n 'name': 'Shapes',\n 'popularity': 26,\n 'preview_url': None,\n 'track_number': 1,\n 'type': 'audio_features',\n 'uri': 'spotify:track:5FCZsn6nEQ6amsRliEoPfj',\n 'danceability': 0.45,\n 'energy': 0.933,\n 'key': 1,\n 'loudness': -3.213,\n 'mode': 1,\n 'speechiness': 0.111,\n 'acousticness': 0.00157,\n 'instrumentalness': 0.000102,\n 'liveness': 0.1,\n 'valence': 0.489,\n 'tempo': 173.953,\n 'track_href': 'https://api.spotify.com/v1/tracks/5FCZsn6nEQ6amsRliEoPfj',\n 'analysis_url': 'https://api.spotify.com/v1/audio-analysis/5FCZsn6nEQ6amsRliEoPfj',\n 'time_signature': 4}"
     },
     "execution_count": 19,
     "metadata": {},
     "output_type": "execute_result"
    }
   ],
   "source": [
    "track_data = sp.track(track_id=user_choice_id)\n",
    "track_data_featured = {**track_data, **sp.audio_features(track_data['uri'])[0]}\n",
    "#track_data_featured = sp.audio_features(track_data['uri'])[0]\n",
    "track_data_featured"
   ]
  },
  {
   "cell_type": "code",
   "execution_count": 52,
   "metadata": {
    "pycharm": {
     "name": "#%%\n"
    }
   },
   "outputs": [
    {
     "data": {
      "text/plain": "array([[-0.6801227 , -1.26553308, -0.03605552,  1.13426354, -0.64647472,\n        -1.22681207, -0.56830121,  0.99772459,  1.01817229, -0.67646524,\n         0.00501506,  1.60254684,  0.12971834, -0.43008103,  0.29210663]])"
     },
     "execution_count": 52,
     "metadata": {},
     "output_type": "execute_result"
    }
   ],
   "source": [
    "track_data_X = pd.DataFrame(track_data_featured, columns=list(df.columns), index=[0])\n",
    "track_data_scaler = StandardScaler()\n",
    "scaler.transform(track_data_X)\n",
    "track_data_X_scaled = scaler.transform(track_data_X)\n",
    "track_data_X_scaled_df = pd.DataFrame(track_data_X_scaled, columns=track_data_X.columns)\n",
    "track_data_X_scaled"
   ]
  },
  {
   "cell_type": "markdown",
   "metadata": {
    "pycharm": {
     "name": "#%% md\n"
    }
   },
   "source": [
    "predict"
   ]
  },
  {
   "cell_type": "code",
   "execution_count": 53,
   "metadata": {
    "pycharm": {
     "name": "#%%\n"
    }
   },
   "outputs": [
    {
     "data": {
      "text/plain": "   acousticness  danceability  duration_ms    energy  instrumentalness  \\\n0     -0.680123     -1.265533    -0.036056  1.134264         -0.646475   \n\n        key  liveness  loudness      mode  popularity  speechiness     tempo  \\\n0 -1.226812 -0.568301  0.997725  1.018172   -0.676465     0.005015  1.602547   \n\n   time_signature  track_number   valence  \n0        0.129718     -0.430081  0.292107  ",
      "text/html": "<div>\n<style scoped>\n    .dataframe tbody tr th:only-of-type {\n        vertical-align: middle;\n    }\n\n    .dataframe tbody tr th {\n        vertical-align: top;\n    }\n\n    .dataframe thead th {\n        text-align: right;\n    }\n</style>\n<table border=\"1\" class=\"dataframe\">\n  <thead>\n    <tr style=\"text-align: right;\">\n      <th></th>\n      <th>acousticness</th>\n      <th>danceability</th>\n      <th>duration_ms</th>\n      <th>energy</th>\n      <th>instrumentalness</th>\n      <th>key</th>\n      <th>liveness</th>\n      <th>loudness</th>\n      <th>mode</th>\n      <th>popularity</th>\n      <th>speechiness</th>\n      <th>tempo</th>\n      <th>time_signature</th>\n      <th>track_number</th>\n      <th>valence</th>\n    </tr>\n  </thead>\n  <tbody>\n    <tr>\n      <th>0</th>\n      <td>-0.680123</td>\n      <td>-1.265533</td>\n      <td>-0.036056</td>\n      <td>1.134264</td>\n      <td>-0.646475</td>\n      <td>-1.226812</td>\n      <td>-0.568301</td>\n      <td>0.997725</td>\n      <td>1.018172</td>\n      <td>-0.676465</td>\n      <td>0.005015</td>\n      <td>1.602547</td>\n      <td>0.129718</td>\n      <td>-0.430081</td>\n      <td>0.292107</td>\n    </tr>\n  </tbody>\n</table>\n</div>"
     },
     "execution_count": 53,
     "metadata": {},
     "output_type": "execute_result"
    }
   ],
   "source": [
    "track_data_labels = kmeans.predict(track_data_X_scaled_df)\n",
    "track_data_cluster = np.unique(track_data_labels)\n",
    "track_data_cluster\n",
    "track_data_cluster = kmeans.predict(track_data_X_scaled_df)\n",
    "\n",
    "track_data_X[\"cluster\"] = track_data_cluster\n",
    "track_data_X_scaled_df"
   ]
  },
  {
   "cell_type": "code",
   "execution_count": 54,
   "metadata": {
    "pycharm": {
     "name": "#%%\n"
    }
   },
   "outputs": [
    {
     "data": {
      "text/plain": "                                                                   album  \\\nname                                                                       \nWhy Ask You II, MB 63  {'album_type': 'album', 'artists': [{'external...   \n\n                                                                 artists  \\\nname                                                                       \nWhy Ask You II, MB 63  [{'external_urls': {'spotify': 'https://open.s...   \n\n                                                       available_markets  \\\nname                                                                       \nWhy Ask You II, MB 63  ['AD', 'AE', 'AG', 'AL', 'AM', 'AO', 'AR', 'AT...   \n\n                       disc_number  duration_ms  episode  explicit  \\\nname                                                                 \nWhy Ask You II, MB 63            2       121893    False     False   \n\n                                   external_ids  \\\nname                                              \nWhy Ask You II, MB 63  {'isrc': 'USG3R0910042'}   \n\n                                                           external_urls  \\\nname                                                                       \nWhy Ask You II, MB 63  {'spotify': 'https://open.spotify.com/track/6s...   \n\n                                                                    href  ...  \\\nname                                                                      ...   \nWhy Ask You II, MB 63  https://api.spotify.com/v1/tracks/6sJWjeNP7stp...  ...   \n\n                      mode  speechiness acousticness  instrumentalness  \\\nname                                                                     \nWhy Ask You II, MB 63    1       0.0398        0.775             0.897   \n\n                      liveness  valence    tempo  \\\nname                                               \nWhy Ask You II, MB 63   0.0529    0.427  115.717   \n\n                                                              track_href  \\\nname                                                                       \nWhy Ask You II, MB 63  https://api.spotify.com/v1/tracks/6sJWjeNP7stp...   \n\n                                                            analysis_url  \\\nname                                                                       \nWhy Ask You II, MB 63  https://api.spotify.com/v1/audio-analysis/6sJW...   \n\n                       time_signature  \nname                                   \nWhy Ask You II, MB 63               4  \n\n[1 rows x 33 columns]",
      "text/html": "<div>\n<style scoped>\n    .dataframe tbody tr th:only-of-type {\n        vertical-align: middle;\n    }\n\n    .dataframe tbody tr th {\n        vertical-align: top;\n    }\n\n    .dataframe thead th {\n        text-align: right;\n    }\n</style>\n<table border=\"1\" class=\"dataframe\">\n  <thead>\n    <tr style=\"text-align: right;\">\n      <th></th>\n      <th>album</th>\n      <th>artists</th>\n      <th>available_markets</th>\n      <th>disc_number</th>\n      <th>duration_ms</th>\n      <th>episode</th>\n      <th>explicit</th>\n      <th>external_ids</th>\n      <th>external_urls</th>\n      <th>href</th>\n      <th>...</th>\n      <th>mode</th>\n      <th>speechiness</th>\n      <th>acousticness</th>\n      <th>instrumentalness</th>\n      <th>liveness</th>\n      <th>valence</th>\n      <th>tempo</th>\n      <th>track_href</th>\n      <th>analysis_url</th>\n      <th>time_signature</th>\n    </tr>\n    <tr>\n      <th>name</th>\n      <th></th>\n      <th></th>\n      <th></th>\n      <th></th>\n      <th></th>\n      <th></th>\n      <th></th>\n      <th></th>\n      <th></th>\n      <th></th>\n      <th></th>\n      <th></th>\n      <th></th>\n      <th></th>\n      <th></th>\n      <th></th>\n      <th></th>\n      <th></th>\n      <th></th>\n      <th></th>\n      <th></th>\n    </tr>\n  </thead>\n  <tbody>\n    <tr>\n      <th>Why Ask You II, MB 63</th>\n      <td>{'album_type': 'album', 'artists': [{'external...</td>\n      <td>[{'external_urls': {'spotify': 'https://open.s...</td>\n      <td>['AD', 'AE', 'AG', 'AL', 'AM', 'AO', 'AR', 'AT...</td>\n      <td>2</td>\n      <td>121893</td>\n      <td>False</td>\n      <td>False</td>\n      <td>{'isrc': 'USG3R0910042'}</td>\n      <td>{'spotify': 'https://open.spotify.com/track/6s...</td>\n      <td>https://api.spotify.com/v1/tracks/6sJWjeNP7stp...</td>\n      <td>...</td>\n      <td>1</td>\n      <td>0.0398</td>\n      <td>0.775</td>\n      <td>0.897</td>\n      <td>0.0529</td>\n      <td>0.427</td>\n      <td>115.717</td>\n      <td>https://api.spotify.com/v1/tracks/6sJWjeNP7stp...</td>\n      <td>https://api.spotify.com/v1/audio-analysis/6sJW...</td>\n      <td>4</td>\n    </tr>\n  </tbody>\n</table>\n<p>1 rows × 33 columns</p>\n</div>"
     },
     "execution_count": 54,
     "metadata": {},
     "output_type": "execute_result"
    }
   ],
   "source": [
    "# random.choice(baseDf[baseDf['cluster'] == 1])\n",
    "# random_track = pd.DataFrame(pandas.np.random.random(100))\n",
    "# df_elements = baseDf[baseDf['cluster'] == 1].sample(n=1)\n",
    "\n",
    "recommend_track = baseDf[X['cluster'] == int(track_data_cluster)].sample()\n",
    "recommend_track"
   ]
  },
  {
   "cell_type": "code",
   "execution_count": 66,
   "metadata": {
    "pycharm": {
     "name": "#%%\n"
    }
   },
   "outputs": [
    {
     "data": {
      "text/plain": "<IPython.lib.display.IFrame at 0x25a672ad8d0>",
      "text/html": "\n        <iframe\n            width=\"300\"\n            height=\"100\"\n            src=\"https://open.spotify.com/track/6sJWjeNP7stpwbuKV3ygFw?frameborder=0&allowtransparency=true&allow=encrypted-media\"\n            frameborder=\"0\"\n            allowfullscreen\n            \n        ></iframe>\n        "
     },
     "execution_count": 66,
     "metadata": {},
     "output_type": "execute_result"
    }
   ],
   "source": [
    "\n",
    "from IPython.display import IFrame\n",
    "\n",
    "#track_id = \"1rfORa9iYmocEsnnZGMVC4\"\n",
    "external_url_data = recommend_track['external_urls'].values[0]\n",
    "external_url_data = external_url_data.replace('\\'','\\\"')\n",
    "external_url = json.loads(external_url_data)\n",
    "\n",
    "IFrame(src=external_url['spotify'],\n",
    "       width=\"300\",\n",
    "       height=\"100\",\n",
    "       frameborder=\"0\",\n",
    "       allowtransparency=\"true\",\n",
    "       allow=\"encrypted-media\",\n",
    "      )"
   ]
  }
 ],
 "metadata": {
  "kernelspec": {
   "display_name": "Python 3 (ipykernel)",
   "language": "python",
   "name": "python3"
  },
  "language_info": {
   "codemirror_mode": {
    "name": "ipython",
    "version": 3
   },
   "file_extension": ".py",
   "mimetype": "text/x-python",
   "name": "python",
   "nbconvert_exporter": "python",
   "pygments_lexer": "ipython3",
   "version": "3.9.12"
  }
 },
 "nbformat": 4,
 "nbformat_minor": 1
}