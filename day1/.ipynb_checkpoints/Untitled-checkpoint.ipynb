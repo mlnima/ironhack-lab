{
 "cells": [
  {
   "cell_type": "markdown",
   "id": "379fb546",
   "metadata": {
    "slideshow": {
     "slide_type": "slide"
    }
   },
   "source": [
    "# this is heading of the file"
   ]
  },
  {
   "cell_type": "markdown",
   "id": "a63e40dc",
   "metadata": {
    "slideshow": {
     "slide_type": "subslide"
    }
   },
   "source": [
    "#### this is explanation for the file"
   ]
  },
  {
   "cell_type": "code",
   "execution_count": 5,
   "id": "0030fe6b",
   "metadata": {
    "slideshow": {
     "slide_type": "subslide"
    }
   },
   "outputs": [
    {
     "name": "stdout",
     "output_type": "stream",
     "text": [
      "what is your name sweet heart?xxxx\n"
     ]
    }
   ],
   "source": [
    "user_name = input(\"who are you looking for?\")\n"
   ]
  },
  {
   "cell_type": "code",
   "execution_count": 6,
   "id": "91b3109f",
   "metadata": {
    "slideshow": {
     "slide_type": "subslide"
    }
   },
   "outputs": [
    {
     "name": "stdout",
     "output_type": "stream",
     "text": [
      "xxxx\n"
     ]
    }
   ],
   "source": [
    "print(user_name)"
   ]
  },
  {
   "attachments": {},
   "cell_type": "markdown",
   "id": "a0eaa66f",
   "metadata": {
    "slideshow": {
     "slide_type": "slide"
    }
   },
   "source": [
    "![einstein image](https://posteryard.de/wp-content/uploads/sites/6/2020/02/00339.01.013018.02.jpg)\n"
   ]
  },
  {
   "cell_type": "code",
   "execution_count": null,
   "id": "a42f5166",
   "metadata": {},
   "outputs": [],
   "source": [
    "holydays_pref = input('are you watching movies in holydays or going to vacations?')\n"
   ]
  },
  {
   "cell_type": "code",
   "execution_count": null,
   "id": "0178379e",
   "metadata": {},
   "outputs": [],
   "source": [
    "if holydays_pref == 'movies'"
   ]
  },
  {
   "cell_type": "markdown",
   "id": "d10c9b82",
   "metadata": {},
   "source": [
    "![destination](https://image.shutterstock.com/image-vector/summer-accessories-beach-yachts-bag-260nw-1377110621.jpg)"
   ]
  },
  {
   "cell_type": "markdown",
   "id": "81ca904c",
   "metadata": {},
   "source": [
    "- eating donner\n",
    "- playing video games\n",
    "- going for walk"
   ]
  },
  {
   "cell_type": "markdown",
   "id": "bae537cb",
   "metadata": {},
   "source": [
    "##### I used the input function which takes the user input and add the value to a varable\n",
    "*this is italic text*"
   ]
  },
  {
   "cell_type": "markdown",
   "id": "5b6500c4",
   "metadata": {},
   "source": [
    "<span style=\"color:red\"> *some emphasized markdown text*</span>"
   ]
  },
  {
   "cell_type": "code",
   "execution_count": null,
   "id": "1f39d4d4",
   "metadata": {},
   "outputs": [],
   "source": []
  }
 ],
 "metadata": {
  "celltoolbar": "Slideshow",
  "kernelspec": {
   "display_name": "Python 3 (ipykernel)",
   "language": "python",
   "name": "python3"
  },
  "language_info": {
   "codemirror_mode": {
    "name": "ipython",
    "version": 3
   },
   "file_extension": ".py",
   "mimetype": "text/x-python",
   "name": "python",
   "nbconvert_exporter": "python",
   "pygments_lexer": "ipython3",
   "version": "3.9.12"
  }
 },
 "nbformat": 4,
 "nbformat_minor": 5
}
