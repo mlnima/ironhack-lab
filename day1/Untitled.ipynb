{
 "cells": [
  {
   "cell_type": "markdown",
   "id": "8f28fd91",
   "metadata": {},
   "source": [
    "# this is heading of the file"
   ]
  },
  {
   "cell_type": "markdown",
   "id": "8da00a48",
   "metadata": {},
   "source": [
    "#### this is explanation for the file"
   ]
  },
  {
   "cell_type": "code",
   "execution_count": 5,
   "id": "19b57984",
   "metadata": {},
   "outputs": [
    {
     "name": "stdout",
     "output_type": "stream",
     "text": [
      "what is your name sweet heart?xxxx\n"
     ]
    }
   ],
   "source": [
    "user_name = input(\"who are you looking for?\")\n"
   ]
  },
  {
   "cell_type": "code",
   "execution_count": 6,
   "id": "abdacccd",
   "metadata": {},
   "outputs": [
    {
     "name": "stdout",
     "output_type": "stream",
     "text": [
      "xxxx\n"
     ]
    }
   ],
   "source": [
    "print(user_name)"
   ]
  },
  {
   "attachments": {},
   "cell_type": "markdown",
   "id": "82cd119f",
   "metadata": {},
   "source": [
    "![einstein image](https://posteryard.de/wp-content/uploads/sites/6/2020/02/00339.01.013018.02.jpg)"
   ]
  },
  {
   "cell_type": "code",
   "execution_count": null,
   "id": "d489a306",
   "metadata": {},
   "outputs": [],
   "source": [
    "holydays_pref = input('are you watching movies in holydays or going to vacations?')\n"
   ]
  },
  {
   "cell_type": "code",
   "execution_count": null,
   "id": "4df5b64d",
   "metadata": {},
   "outputs": [],
   "source": [
    "if holydays_pref == 'movies'"
   ]
  },
  {
   "cell_type": "markdown",
   "id": "21160b6b",
   "metadata": {},
   "source": [
    "![destination](https://image.shutterstock.com/image-vector/summer-accessories-beach-yachts-bag-260nw-1377110621.jpg)"
   ]
  },
  {
   "cell_type": "markdown",
   "id": "a300c6a9",
   "metadata": {},
   "source": [
    "- eating donner\n",
    "- playing video games\n",
    "- going for walk"
   ]
  },
  {
   "cell_type": "markdown",
   "id": "36d6c98c",
   "metadata": {},
   "source": [
    "##### I used the input function which takes the user input and add the value to a varable"
   ]
  },
  {
   "cell_type": "code",
   "execution_count": null,
   "id": "a29c73b8",
   "metadata": {},
   "outputs": [],
   "source": []
  }
 ],
 "metadata": {
  "kernelspec": {
   "display_name": "Python 3 (ipykernel)",
   "language": "python",
   "name": "python3"
  },
  "language_info": {
   "codemirror_mode": {
    "name": "ipython",
    "version": 3
   },
   "file_extension": ".py",
   "mimetype": "text/x-python",
   "name": "python",
   "nbconvert_exporter": "python",
   "pygments_lexer": "ipython3",
   "version": "3.9.12"
  }
 },
 "nbformat": 4,
 "nbformat_minor": 5
}
