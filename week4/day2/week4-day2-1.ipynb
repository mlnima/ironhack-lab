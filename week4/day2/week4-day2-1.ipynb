{
 "cells": [
  {
   "cell_type": "code",
   "execution_count": 28,
   "metadata": {
    "collapsed": true,
    "pycharm": {
     "name": "#%%\n"
    }
   },
   "outputs": [],
   "source": [
    "import pandas as pd\n",
    "import numpy as np\n",
    "import sys\n",
    "\n",
    "# Add the ptdraft folder path to the sys.path list\n",
    "sys.path.append('../../_util/')\n",
    "from scipy import stats\n",
    "import matplotlib.pyplot as plt\n",
    "import seaborn as sns\n",
    "from sklearn.preprocessing import StandardScaler\n",
    "from sklearn.preprocessing import quantile_transform\n",
    "from sklearn.preprocessing import minmax_scale\n",
    "from sklearn.preprocessing import OneHotEncoder  ##. better to use dummy from pandas\n",
    "from sklearn.preprocessing import PowerTransformer\n",
    "from scipy.stats import boxcox\n",
    "from sklearn.linear_model import LinearRegression\n",
    "from sklearn.model_selection import train_test_split\n",
    "import statsmodels.api as sm\n",
    "from scipy.stats import boxcox\n",
    "from sklearn.model_selection import train_test_split\n",
    "from sklearn.metrics import r2_score\n",
    "from sklearn.metrics import mean_squared_error as mse\n",
    "from sklearn.metrics import mean_absolute_error as mae\n",
    "from _util import xY_spliter\n",
    "from _util import categorical_numerical_spliter\n",
    "pd.options.display.max_rows = 100\n",
    "\n",
    "\n",
    "\n",
    "baseDf = pd.read_csv('../../data/Data_Marketing_Customer_Analysis_Round3.csv')"
   ]
  },
  {
   "cell_type": "markdown",
   "source": [
    "#split numerical and categorical data frames"
   ],
   "metadata": {
    "collapsed": false,
    "pycharm": {
     "name": "#%% md\n"
    }
   }
  },
  {
   "cell_type": "markdown",
   "source": [],
   "metadata": {
    "collapsed": false,
    "pycharm": {
     "name": "#%% md\n"
    }
   }
  },
  {
   "cell_type": "code",
   "execution_count": 29,
   "outputs": [],
   "source": [
    "# numerical = baseDf.select_dtypes(include=np.number)\n",
    "# categorical = baseDf.select_dtypes(include=object)\n",
    "\n",
    "numerical, categorical= categorical_numerical_spliter(baseDf)"
   ],
   "metadata": {
    "collapsed": false,
    "pycharm": {
     "name": "#%%\n"
    }
   }
  },
  {
   "cell_type": "markdown",
   "source": [],
   "metadata": {
    "collapsed": false,
    "pycharm": {
     "name": "#%% md\n"
    }
   }
  },
  {
   "cell_type": "markdown",
   "source": [
    "\n",
    "check if there are highly correlated features and drop them if there are any.\n"
   ],
   "metadata": {
    "collapsed": false,
    "pycharm": {
     "name": "#%% md\n"
    }
   }
  },
  {
   "cell_type": "code",
   "execution_count": 30,
   "outputs": [],
   "source": [
    "cor_matrix = numerical.corr().abs()\n",
    "upper_tri = cor_matrix.where(np.triu(np.ones(cor_matrix.shape), k=1).astype(bool))\n",
    "\n",
    "to_drop = [column for column in upper_tri.columns if any(upper_tri[column] > 0.95)]\n",
    "baseDf.drop(to_drop, axis=1, inplace=True)"
   ],
   "metadata": {
    "collapsed": false,
    "pycharm": {
     "name": "#%%\n"
    }
   }
  },
  {
   "cell_type": "code",
   "execution_count": 31,
   "outputs": [
    {
     "data": {
      "text/plain": "           region response  coverage education effective_to_date  \\\n0         arizona       no     basic   college           2/18/11   \n1      california       no     basic   college           1/18/11   \n2      washington       no     basic  bachelor           2/10/11   \n3          oregon      yes  extended   college           1/11/11   \n4          oregon       no   premium  bachelor           1/17/11   \n...           ...      ...       ...       ...               ...   \n10597      nevada       no   premium  bachelor           1/19/11   \n10598      oregon       no     basic   college            1/6/11   \n10599     arizona       no  extended  bachelor            2/6/11   \n10600  california       no   premium   college           2/13/11   \n10601  california       no     basic  bachelor            1/8/11   \n\n      employment_status gender location_code marital_status     policy_type  \\\n0              employed      m      suburban        married  corporate auto   \n1            unemployed      f      suburban         single   personal auto   \n2              employed      m      suburban         single   personal auto   \n3              employed      m      suburban         single  corporate auto   \n4         medical leave      f      suburban        married   personal auto   \n...                 ...    ...           ...            ...             ...   \n10597        unemployed      f      suburban        married   personal auto   \n10598          employed      f         urban        married   personal auto   \n10599          employed      f         rural        married  corporate auto   \n10600          employed      f         urban       divorced   personal auto   \n10601        unemployed      m      suburban         single   personal auto   \n\n             policy renew_offer_type sales_channel  vehicle_class vehicle_size  \n0      corporate l3           offer3         agent  four-door car      medsize  \n1       personal l3           offer4   call center  four-door car      medsize  \n2       personal l3           offer3   call center            suv      medsize  \n3      corporate l3           offer2        branch  four-door car      medsize  \n4       personal l2           offer1        branch  four-door car      medsize  \n...             ...              ...           ...            ...          ...  \n10597   personal l1           offer3           web     luxury car      medsize  \n10598   personal l3           offer2        branch  four-door car      medsize  \n10599  corporate l3           offer1           web     luxury suv      medsize  \n10600   personal l1           offer1        branch            suv      medsize  \n10601   personal l1           offer4           web            suv      medsize  \n\n[10602 rows x 15 columns]",
      "text/html": "<div>\n<style scoped>\n    .dataframe tbody tr th:only-of-type {\n        vertical-align: middle;\n    }\n\n    .dataframe tbody tr th {\n        vertical-align: top;\n    }\n\n    .dataframe thead th {\n        text-align: right;\n    }\n</style>\n<table border=\"1\" class=\"dataframe\">\n  <thead>\n    <tr style=\"text-align: right;\">\n      <th></th>\n      <th>region</th>\n      <th>response</th>\n      <th>coverage</th>\n      <th>education</th>\n      <th>effective_to_date</th>\n      <th>employment_status</th>\n      <th>gender</th>\n      <th>location_code</th>\n      <th>marital_status</th>\n      <th>policy_type</th>\n      <th>policy</th>\n      <th>renew_offer_type</th>\n      <th>sales_channel</th>\n      <th>vehicle_class</th>\n      <th>vehicle_size</th>\n    </tr>\n  </thead>\n  <tbody>\n    <tr>\n      <th>0</th>\n      <td>arizona</td>\n      <td>no</td>\n      <td>basic</td>\n      <td>college</td>\n      <td>2/18/11</td>\n      <td>employed</td>\n      <td>m</td>\n      <td>suburban</td>\n      <td>married</td>\n      <td>corporate auto</td>\n      <td>corporate l3</td>\n      <td>offer3</td>\n      <td>agent</td>\n      <td>four-door car</td>\n      <td>medsize</td>\n    </tr>\n    <tr>\n      <th>1</th>\n      <td>california</td>\n      <td>no</td>\n      <td>basic</td>\n      <td>college</td>\n      <td>1/18/11</td>\n      <td>unemployed</td>\n      <td>f</td>\n      <td>suburban</td>\n      <td>single</td>\n      <td>personal auto</td>\n      <td>personal l3</td>\n      <td>offer4</td>\n      <td>call center</td>\n      <td>four-door car</td>\n      <td>medsize</td>\n    </tr>\n    <tr>\n      <th>2</th>\n      <td>washington</td>\n      <td>no</td>\n      <td>basic</td>\n      <td>bachelor</td>\n      <td>2/10/11</td>\n      <td>employed</td>\n      <td>m</td>\n      <td>suburban</td>\n      <td>single</td>\n      <td>personal auto</td>\n      <td>personal l3</td>\n      <td>offer3</td>\n      <td>call center</td>\n      <td>suv</td>\n      <td>medsize</td>\n    </tr>\n    <tr>\n      <th>3</th>\n      <td>oregon</td>\n      <td>yes</td>\n      <td>extended</td>\n      <td>college</td>\n      <td>1/11/11</td>\n      <td>employed</td>\n      <td>m</td>\n      <td>suburban</td>\n      <td>single</td>\n      <td>corporate auto</td>\n      <td>corporate l3</td>\n      <td>offer2</td>\n      <td>branch</td>\n      <td>four-door car</td>\n      <td>medsize</td>\n    </tr>\n    <tr>\n      <th>4</th>\n      <td>oregon</td>\n      <td>no</td>\n      <td>premium</td>\n      <td>bachelor</td>\n      <td>1/17/11</td>\n      <td>medical leave</td>\n      <td>f</td>\n      <td>suburban</td>\n      <td>married</td>\n      <td>personal auto</td>\n      <td>personal l2</td>\n      <td>offer1</td>\n      <td>branch</td>\n      <td>four-door car</td>\n      <td>medsize</td>\n    </tr>\n    <tr>\n      <th>...</th>\n      <td>...</td>\n      <td>...</td>\n      <td>...</td>\n      <td>...</td>\n      <td>...</td>\n      <td>...</td>\n      <td>...</td>\n      <td>...</td>\n      <td>...</td>\n      <td>...</td>\n      <td>...</td>\n      <td>...</td>\n      <td>...</td>\n      <td>...</td>\n      <td>...</td>\n    </tr>\n    <tr>\n      <th>10597</th>\n      <td>nevada</td>\n      <td>no</td>\n      <td>premium</td>\n      <td>bachelor</td>\n      <td>1/19/11</td>\n      <td>unemployed</td>\n      <td>f</td>\n      <td>suburban</td>\n      <td>married</td>\n      <td>personal auto</td>\n      <td>personal l1</td>\n      <td>offer3</td>\n      <td>web</td>\n      <td>luxury car</td>\n      <td>medsize</td>\n    </tr>\n    <tr>\n      <th>10598</th>\n      <td>oregon</td>\n      <td>no</td>\n      <td>basic</td>\n      <td>college</td>\n      <td>1/6/11</td>\n      <td>employed</td>\n      <td>f</td>\n      <td>urban</td>\n      <td>married</td>\n      <td>personal auto</td>\n      <td>personal l3</td>\n      <td>offer2</td>\n      <td>branch</td>\n      <td>four-door car</td>\n      <td>medsize</td>\n    </tr>\n    <tr>\n      <th>10599</th>\n      <td>arizona</td>\n      <td>no</td>\n      <td>extended</td>\n      <td>bachelor</td>\n      <td>2/6/11</td>\n      <td>employed</td>\n      <td>f</td>\n      <td>rural</td>\n      <td>married</td>\n      <td>corporate auto</td>\n      <td>corporate l3</td>\n      <td>offer1</td>\n      <td>web</td>\n      <td>luxury suv</td>\n      <td>medsize</td>\n    </tr>\n    <tr>\n      <th>10600</th>\n      <td>california</td>\n      <td>no</td>\n      <td>premium</td>\n      <td>college</td>\n      <td>2/13/11</td>\n      <td>employed</td>\n      <td>f</td>\n      <td>urban</td>\n      <td>divorced</td>\n      <td>personal auto</td>\n      <td>personal l1</td>\n      <td>offer1</td>\n      <td>branch</td>\n      <td>suv</td>\n      <td>medsize</td>\n    </tr>\n    <tr>\n      <th>10601</th>\n      <td>california</td>\n      <td>no</td>\n      <td>basic</td>\n      <td>bachelor</td>\n      <td>1/8/11</td>\n      <td>unemployed</td>\n      <td>m</td>\n      <td>suburban</td>\n      <td>single</td>\n      <td>personal auto</td>\n      <td>personal l1</td>\n      <td>offer4</td>\n      <td>web</td>\n      <td>suv</td>\n      <td>medsize</td>\n    </tr>\n  </tbody>\n</table>\n<p>10602 rows × 15 columns</p>\n</div>"
     },
     "execution_count": 31,
     "metadata": {},
     "output_type": "execute_result"
    }
   ],
   "source": [
    "categorical"
   ],
   "metadata": {
    "collapsed": false,
    "pycharm": {
     "name": "#%%\n"
    }
   }
  },
  {
   "cell_type": "markdown",
   "source": [
    "One Hot/Label Encoding of the categorical variables in the categoricals data frame that you created in Activity 4. ( Hint: check Dropfirst option)."
   ],
   "metadata": {
    "collapsed": false,
    "pycharm": {
     "name": "#%% md\n"
    }
   }
  },
  {
   "cell_type": "code",
   "execution_count": 32,
   "outputs": [],
   "source": [
    "categorical = pd.get_dummies(categorical, drop_first=True)\n",
    "\n",
    "# cdf = pd.concat([numerical, categorical], axis=1)\n"
   ],
   "metadata": {
    "collapsed": false,
    "pycharm": {
     "name": "#%%\n"
    }
   }
  },
  {
   "cell_type": "markdown",
   "source": [
    "for the first iteration, we will focus on the numericals data (numericals data frame) as our data source.\n",
    "(optional) remove the outliers from the numerical columns."
   ],
   "metadata": {
    "collapsed": false,
    "pycharm": {
     "name": "#%% md\n"
    }
   }
  },
  {
   "cell_type": "code",
   "execution_count": 33,
   "outputs": [],
   "source": [
    "# numerical[(np.abs(stats.zscore(numerical)) < 3).all(axis=1)]"
   ],
   "metadata": {
    "collapsed": false,
    "pycharm": {
     "name": "#%%\n"
    }
   }
  },
  {
   "cell_type": "code",
   "execution_count": 34,
   "outputs": [],
   "source": [
    "X, y = xY_spliter(numerical, 'total_claim_amount')"
   ],
   "metadata": {
    "collapsed": false,
    "pycharm": {
     "name": "#%%\n"
    }
   }
  },
  {
   "cell_type": "markdown",
   "source": [
    "##Linear Regression"
   ],
   "metadata": {
    "collapsed": false,
    "pycharm": {
     "name": "#%% md\n"
    }
   }
  },
  {
   "cell_type": "markdown",
   "source": [
    "Train-test split."
   ],
   "metadata": {
    "collapsed": false,
    "pycharm": {
     "name": "#%% md\n"
    }
   }
  },
  {
   "cell_type": "code",
   "execution_count": 35,
   "outputs": [],
   "source": [
    "X_train, X_test, y_train, y_test = train_test_split(X, y, test_size=.30, random_state=123)\n",
    "cat_train, cat_test, _, _ = train_test_split(categorical, y, test_size=.30, random_state=123)"
   ],
   "metadata": {
    "collapsed": false,
    "pycharm": {
     "name": "#%%\n"
    }
   }
  },
  {
   "cell_type": "markdown",
   "source": [
    "Standardize the data (after the data split)."
   ],
   "metadata": {
    "collapsed": false,
    "pycharm": {
     "name": "#%% md\n"
    }
   }
  },
  {
   "cell_type": "code",
   "execution_count": 36,
   "outputs": [],
   "source": [
    "std_scaler = StandardScaler().fit(X_train)  # mean and std\n",
    "X_train_scaled_source = std_scaler.transform(X_train)\n",
    "# X_train.shape\n",
    "X_test_scaled_source = std_scaler.transform(X_test)\n"
   ],
   "metadata": {
    "collapsed": false,
    "pycharm": {
     "name": "#%%\n"
    }
   }
  },
  {
   "cell_type": "code",
   "execution_count": 37,
   "outputs": [],
   "source": [
    "cat_train.reset_index(drop=True, inplace=True)\n",
    "cat_test.reset_index(drop=True, inplace=True)\n",
    "\n",
    "X_train_scaled_df = pd.DataFrame(X_train_scaled_source)\n",
    "X_test_scaled_df = pd.DataFrame(X_test_scaled_source)\n",
    "\n",
    "X_train_scaled =  pd.concat([X_train_scaled_df, cat_train], axis=1,ignore_index=False)\n",
    "X_test_scaled =  pd.concat([X_test_scaled_df, cat_test], axis=1,ignore_index=False)\n",
    "\n"
   ],
   "metadata": {
    "collapsed": false,
    "pycharm": {
     "name": "#%%\n"
    }
   }
  },
  {
   "cell_type": "markdown",
   "source": [],
   "metadata": {
    "collapsed": false,
    "pycharm": {
     "name": "#%% md\n"
    }
   }
  },
  {
   "cell_type": "code",
   "execution_count": 38,
   "outputs": [
    {
     "data": {
      "text/plain": "             0         1         2         3         4         5         6  \\\n0    -0.441895 -1.675796 -0.820636  1.850886 -0.464635 -0.418969  0.421958   \n1    -0.751415  0.377699 -0.616090  1.062773  1.787596 -0.418969 -0.825427   \n2    -0.794902 -1.335910 -0.645311 -0.217910 -0.857882 -0.418969 -0.825427   \n3     1.084543  1.320808  0.085214 -1.006022  0.214609 -0.418969 -0.409632   \n4    -0.436933  0.101395 -0.908299 -0.414938  1.287100 -0.418969  0.006163   \n...        ...       ...       ...       ...       ...       ...       ...   \n7416  1.027338 -0.667368 -0.499206 -0.119396 -0.750633 -0.418969 -0.409632   \n7417 -0.386733 -0.928160 -0.586869 -0.907508  1.751846 -0.418969  2.500933   \n7418 -0.671007  0.872097 -0.265438  0.274661 -1.072380 -0.418969 -0.825427   \n7419 -0.740178  1.008229 -0.586869 -1.301565  0.250359  0.685531 -0.825427   \n7420 -0.486404  0.712213 -0.879078 -1.104536 -0.893632 -0.418969  1.669343   \n\n      region_california  region_nevada  region_oregon  ...  \\\n0                     0              0              0  ...   \n1                     0              0              1  ...   \n2                     1              0              0  ...   \n3                     0              0              1  ...   \n4                     0              0              0  ...   \n...                 ...            ...            ...  ...   \n7416                  0              0              1  ...   \n7417                  0              1              0  ...   \n7418                  0              0              1  ...   \n7419                  1              0              0  ...   \n7420                  1              0              0  ...   \n\n      sales_channel_branch  sales_channel_call center  sales_channel_web  \\\n0                        1                          0                  0   \n1                        0                          1                  0   \n2                        0                          0                  1   \n3                        1                          0                  0   \n4                        0                          0                  0   \n...                    ...                        ...                ...   \n7416                     1                          0                  0   \n7417                     0                          0                  0   \n7418                     0                          0                  0   \n7419                     0                          0                  0   \n7420                     0                          0                  0   \n\n      vehicle_class_luxury car  vehicle_class_luxury suv  \\\n0                            0                         0   \n1                            0                         0   \n2                            0                         0   \n3                            0                         0   \n4                            0                         0   \n...                        ...                       ...   \n7416                         0                         0   \n7417                         0                         0   \n7418                         0                         0   \n7419                         0                         0   \n7420                         0                         0   \n\n      vehicle_class_sports car  vehicle_class_suv  vehicle_class_two-door car  \\\n0                            0                  0                           1   \n1                            0                  0                           1   \n2                            0                  0                           0   \n3                            0                  0                           0   \n4                            0                  0                           1   \n...                        ...                ...                         ...   \n7416                         0                  0                           0   \n7417                         0                  0                           0   \n7418                         0                  0                           0   \n7419                         0                  0                           0   \n7420                         0                  0                           0   \n\n      vehicle_size_medsize  vehicle_size_small  \n0                        0                   1  \n1                        1                   0  \n2                        1                   0  \n3                        1                   0  \n4                        1                   0  \n...                    ...                 ...  \n7416                     1                   0  \n7417                     1                   0  \n7418                     1                   0  \n7419                     0                   1  \n7420                     1                   0  \n\n[7421 rows x 108 columns]",
      "text/html": "<div>\n<style scoped>\n    .dataframe tbody tr th:only-of-type {\n        vertical-align: middle;\n    }\n\n    .dataframe tbody tr th {\n        vertical-align: top;\n    }\n\n    .dataframe thead th {\n        text-align: right;\n    }\n</style>\n<table border=\"1\" class=\"dataframe\">\n  <thead>\n    <tr style=\"text-align: right;\">\n      <th></th>\n      <th>0</th>\n      <th>1</th>\n      <th>2</th>\n      <th>3</th>\n      <th>4</th>\n      <th>5</th>\n      <th>6</th>\n      <th>region_california</th>\n      <th>region_nevada</th>\n      <th>region_oregon</th>\n      <th>...</th>\n      <th>sales_channel_branch</th>\n      <th>sales_channel_call center</th>\n      <th>sales_channel_web</th>\n      <th>vehicle_class_luxury car</th>\n      <th>vehicle_class_luxury suv</th>\n      <th>vehicle_class_sports car</th>\n      <th>vehicle_class_suv</th>\n      <th>vehicle_class_two-door car</th>\n      <th>vehicle_size_medsize</th>\n      <th>vehicle_size_small</th>\n    </tr>\n  </thead>\n  <tbody>\n    <tr>\n      <th>0</th>\n      <td>-0.441895</td>\n      <td>-1.675796</td>\n      <td>-0.820636</td>\n      <td>1.850886</td>\n      <td>-0.464635</td>\n      <td>-0.418969</td>\n      <td>0.421958</td>\n      <td>0</td>\n      <td>0</td>\n      <td>0</td>\n      <td>...</td>\n      <td>1</td>\n      <td>0</td>\n      <td>0</td>\n      <td>0</td>\n      <td>0</td>\n      <td>0</td>\n      <td>0</td>\n      <td>1</td>\n      <td>0</td>\n      <td>1</td>\n    </tr>\n    <tr>\n      <th>1</th>\n      <td>-0.751415</td>\n      <td>0.377699</td>\n      <td>-0.616090</td>\n      <td>1.062773</td>\n      <td>1.787596</td>\n      <td>-0.418969</td>\n      <td>-0.825427</td>\n      <td>0</td>\n      <td>0</td>\n      <td>1</td>\n      <td>...</td>\n      <td>0</td>\n      <td>1</td>\n      <td>0</td>\n      <td>0</td>\n      <td>0</td>\n      <td>0</td>\n      <td>0</td>\n      <td>1</td>\n      <td>1</td>\n      <td>0</td>\n    </tr>\n    <tr>\n      <th>2</th>\n      <td>-0.794902</td>\n      <td>-1.335910</td>\n      <td>-0.645311</td>\n      <td>-0.217910</td>\n      <td>-0.857882</td>\n      <td>-0.418969</td>\n      <td>-0.825427</td>\n      <td>1</td>\n      <td>0</td>\n      <td>0</td>\n      <td>...</td>\n      <td>0</td>\n      <td>0</td>\n      <td>1</td>\n      <td>0</td>\n      <td>0</td>\n      <td>0</td>\n      <td>0</td>\n      <td>0</td>\n      <td>1</td>\n      <td>0</td>\n    </tr>\n    <tr>\n      <th>3</th>\n      <td>1.084543</td>\n      <td>1.320808</td>\n      <td>0.085214</td>\n      <td>-1.006022</td>\n      <td>0.214609</td>\n      <td>-0.418969</td>\n      <td>-0.409632</td>\n      <td>0</td>\n      <td>0</td>\n      <td>1</td>\n      <td>...</td>\n      <td>1</td>\n      <td>0</td>\n      <td>0</td>\n      <td>0</td>\n      <td>0</td>\n      <td>0</td>\n      <td>0</td>\n      <td>0</td>\n      <td>1</td>\n      <td>0</td>\n    </tr>\n    <tr>\n      <th>4</th>\n      <td>-0.436933</td>\n      <td>0.101395</td>\n      <td>-0.908299</td>\n      <td>-0.414938</td>\n      <td>1.287100</td>\n      <td>-0.418969</td>\n      <td>0.006163</td>\n      <td>0</td>\n      <td>0</td>\n      <td>0</td>\n      <td>...</td>\n      <td>0</td>\n      <td>0</td>\n      <td>0</td>\n      <td>0</td>\n      <td>0</td>\n      <td>0</td>\n      <td>0</td>\n      <td>1</td>\n      <td>1</td>\n      <td>0</td>\n    </tr>\n    <tr>\n      <th>...</th>\n      <td>...</td>\n      <td>...</td>\n      <td>...</td>\n      <td>...</td>\n      <td>...</td>\n      <td>...</td>\n      <td>...</td>\n      <td>...</td>\n      <td>...</td>\n      <td>...</td>\n      <td>...</td>\n      <td>...</td>\n      <td>...</td>\n      <td>...</td>\n      <td>...</td>\n      <td>...</td>\n      <td>...</td>\n      <td>...</td>\n      <td>...</td>\n      <td>...</td>\n      <td>...</td>\n    </tr>\n    <tr>\n      <th>7416</th>\n      <td>1.027338</td>\n      <td>-0.667368</td>\n      <td>-0.499206</td>\n      <td>-0.119396</td>\n      <td>-0.750633</td>\n      <td>-0.418969</td>\n      <td>-0.409632</td>\n      <td>0</td>\n      <td>0</td>\n      <td>1</td>\n      <td>...</td>\n      <td>1</td>\n      <td>0</td>\n      <td>0</td>\n      <td>0</td>\n      <td>0</td>\n      <td>0</td>\n      <td>0</td>\n      <td>0</td>\n      <td>1</td>\n      <td>0</td>\n    </tr>\n    <tr>\n      <th>7417</th>\n      <td>-0.386733</td>\n      <td>-0.928160</td>\n      <td>-0.586869</td>\n      <td>-0.907508</td>\n      <td>1.751846</td>\n      <td>-0.418969</td>\n      <td>2.500933</td>\n      <td>0</td>\n      <td>1</td>\n      <td>0</td>\n      <td>...</td>\n      <td>0</td>\n      <td>0</td>\n      <td>0</td>\n      <td>0</td>\n      <td>0</td>\n      <td>0</td>\n      <td>0</td>\n      <td>0</td>\n      <td>1</td>\n      <td>0</td>\n    </tr>\n    <tr>\n      <th>7418</th>\n      <td>-0.671007</td>\n      <td>0.872097</td>\n      <td>-0.265438</td>\n      <td>0.274661</td>\n      <td>-1.072380</td>\n      <td>-0.418969</td>\n      <td>-0.825427</td>\n      <td>0</td>\n      <td>0</td>\n      <td>1</td>\n      <td>...</td>\n      <td>0</td>\n      <td>0</td>\n      <td>0</td>\n      <td>0</td>\n      <td>0</td>\n      <td>0</td>\n      <td>0</td>\n      <td>0</td>\n      <td>1</td>\n      <td>0</td>\n    </tr>\n    <tr>\n      <th>7419</th>\n      <td>-0.740178</td>\n      <td>1.008229</td>\n      <td>-0.586869</td>\n      <td>-1.301565</td>\n      <td>0.250359</td>\n      <td>0.685531</td>\n      <td>-0.825427</td>\n      <td>1</td>\n      <td>0</td>\n      <td>0</td>\n      <td>...</td>\n      <td>0</td>\n      <td>0</td>\n      <td>0</td>\n      <td>0</td>\n      <td>0</td>\n      <td>0</td>\n      <td>0</td>\n      <td>0</td>\n      <td>0</td>\n      <td>1</td>\n    </tr>\n    <tr>\n      <th>7420</th>\n      <td>-0.486404</td>\n      <td>0.712213</td>\n      <td>-0.879078</td>\n      <td>-1.104536</td>\n      <td>-0.893632</td>\n      <td>-0.418969</td>\n      <td>1.669343</td>\n      <td>1</td>\n      <td>0</td>\n      <td>0</td>\n      <td>...</td>\n      <td>0</td>\n      <td>0</td>\n      <td>0</td>\n      <td>0</td>\n      <td>0</td>\n      <td>0</td>\n      <td>0</td>\n      <td>0</td>\n      <td>1</td>\n      <td>0</td>\n    </tr>\n  </tbody>\n</table>\n<p>7421 rows × 108 columns</p>\n</div>"
     },
     "execution_count": 38,
     "metadata": {},
     "output_type": "execute_result"
    }
   ],
   "source": [
    "X_train_scaled"
   ],
   "metadata": {
    "collapsed": false,
    "pycharm": {
     "name": "#%%\n"
    }
   }
  },
  {
   "cell_type": "code",
   "execution_count": 39,
   "outputs": [
    {
     "name": "stderr",
     "output_type": "stream",
     "text": [
      "C:\\Users\\user\\AppData\\Local\\Programs\\Python\\Python310\\lib\\site-packages\\sklearn\\utils\\validation.py:1858: FutureWarning: Feature names only support names that are all strings. Got feature names with dtypes: ['int', 'str']. An error will be raised in 1.2.\n",
      "  warnings.warn(\n"
     ]
    },
    {
     "data": {
      "text/plain": "LinearRegression()",
      "text/html": "<style>#sk-container-id-2 {color: black;background-color: white;}#sk-container-id-2 pre{padding: 0;}#sk-container-id-2 div.sk-toggleable {background-color: white;}#sk-container-id-2 label.sk-toggleable__label {cursor: pointer;display: block;width: 100%;margin-bottom: 0;padding: 0.3em;box-sizing: border-box;text-align: center;}#sk-container-id-2 label.sk-toggleable__label-arrow:before {content: \"▸\";float: left;margin-right: 0.25em;color: #696969;}#sk-container-id-2 label.sk-toggleable__label-arrow:hover:before {color: black;}#sk-container-id-2 div.sk-estimator:hover label.sk-toggleable__label-arrow:before {color: black;}#sk-container-id-2 div.sk-toggleable__content {max-height: 0;max-width: 0;overflow: hidden;text-align: left;background-color: #f0f8ff;}#sk-container-id-2 div.sk-toggleable__content pre {margin: 0.2em;color: black;border-radius: 0.25em;background-color: #f0f8ff;}#sk-container-id-2 input.sk-toggleable__control:checked~div.sk-toggleable__content {max-height: 200px;max-width: 100%;overflow: auto;}#sk-container-id-2 input.sk-toggleable__control:checked~label.sk-toggleable__label-arrow:before {content: \"▾\";}#sk-container-id-2 div.sk-estimator input.sk-toggleable__control:checked~label.sk-toggleable__label {background-color: #d4ebff;}#sk-container-id-2 div.sk-label input.sk-toggleable__control:checked~label.sk-toggleable__label {background-color: #d4ebff;}#sk-container-id-2 input.sk-hidden--visually {border: 0;clip: rect(1px 1px 1px 1px);clip: rect(1px, 1px, 1px, 1px);height: 1px;margin: -1px;overflow: hidden;padding: 0;position: absolute;width: 1px;}#sk-container-id-2 div.sk-estimator {font-family: monospace;background-color: #f0f8ff;border: 1px dotted black;border-radius: 0.25em;box-sizing: border-box;margin-bottom: 0.5em;}#sk-container-id-2 div.sk-estimator:hover {background-color: #d4ebff;}#sk-container-id-2 div.sk-parallel-item::after {content: \"\";width: 100%;border-bottom: 1px solid gray;flex-grow: 1;}#sk-container-id-2 div.sk-label:hover label.sk-toggleable__label {background-color: #d4ebff;}#sk-container-id-2 div.sk-serial::before {content: \"\";position: absolute;border-left: 1px solid gray;box-sizing: border-box;top: 0;bottom: 0;left: 50%;z-index: 0;}#sk-container-id-2 div.sk-serial {display: flex;flex-direction: column;align-items: center;background-color: white;padding-right: 0.2em;padding-left: 0.2em;position: relative;}#sk-container-id-2 div.sk-item {position: relative;z-index: 1;}#sk-container-id-2 div.sk-parallel {display: flex;align-items: stretch;justify-content: center;background-color: white;position: relative;}#sk-container-id-2 div.sk-item::before, #sk-container-id-2 div.sk-parallel-item::before {content: \"\";position: absolute;border-left: 1px solid gray;box-sizing: border-box;top: 0;bottom: 0;left: 50%;z-index: -1;}#sk-container-id-2 div.sk-parallel-item {display: flex;flex-direction: column;z-index: 1;position: relative;background-color: white;}#sk-container-id-2 div.sk-parallel-item:first-child::after {align-self: flex-end;width: 50%;}#sk-container-id-2 div.sk-parallel-item:last-child::after {align-self: flex-start;width: 50%;}#sk-container-id-2 div.sk-parallel-item:only-child::after {width: 0;}#sk-container-id-2 div.sk-dashed-wrapped {border: 1px dashed gray;margin: 0 0.4em 0.5em 0.4em;box-sizing: border-box;padding-bottom: 0.4em;background-color: white;}#sk-container-id-2 div.sk-label label {font-family: monospace;font-weight: bold;display: inline-block;line-height: 1.2em;}#sk-container-id-2 div.sk-label-container {text-align: center;}#sk-container-id-2 div.sk-container {/* jupyter's `normalize.less` sets `[hidden] { display: none; }` but bootstrap.min.css set `[hidden] { display: none !important; }` so we also need the `!important` here to be able to override the default hidden behavior on the sphinx rendered scikit-learn.org. See: https://github.com/scikit-learn/scikit-learn/issues/21755 */display: inline-block !important;position: relative;}#sk-container-id-2 div.sk-text-repr-fallback {display: none;}</style><div id=\"sk-container-id-2\" class=\"sk-top-container\"><div class=\"sk-text-repr-fallback\"><pre>LinearRegression()</pre><b>In a Jupyter environment, please rerun this cell to show the HTML representation or trust the notebook. <br />On GitHub, the HTML representation is unable to render, please try loading this page with nbviewer.org.</b></div><div class=\"sk-container\" hidden><div class=\"sk-item\"><div class=\"sk-estimator sk-toggleable\"><input class=\"sk-toggleable__control sk-hidden--visually\" id=\"sk-estimator-id-2\" type=\"checkbox\" checked><label for=\"sk-estimator-id-2\" class=\"sk-toggleable__label sk-toggleable__label-arrow\">LinearRegression</label><div class=\"sk-toggleable__content\"><pre>LinearRegression()</pre></div></div></div></div></div>"
     },
     "execution_count": 39,
     "metadata": {},
     "output_type": "execute_result"
    }
   ],
   "source": [
    "model = LinearRegression()  # model\n",
    "model.fit(X_train_scaled, y_train)  # model train"
   ],
   "metadata": {
    "collapsed": false,
    "pycharm": {
     "name": "#%%\n"
    }
   }
  },
  {
   "cell_type": "code",
   "execution_count": 40,
   "outputs": [
    {
     "data": {
      "text/plain": "array([-7.33349526e-01, -6.31872804e+00,  1.85243657e+02,  3.70209155e+00,\n        1.59833143e-01, -2.02389584e+00,  1.55966536e+00,  8.25683507e+00,\n        8.33215052e+00, -5.47804272e-01,  8.36910794e+00, -2.67517449e+01,\n       -1.57297387e+01, -1.93401044e+01, -1.03080163e+01, -1.26779542e+01,\n        1.12726929e+01, -1.38459387e+01,  1.50357809e+01, -1.32968737e-02,\n        2.51263074e+00,  4.39509274e+01,  1.49382862e+01,  1.24938807e+01,\n       -3.47466953e+00, -1.05504182e+01, -4.66111055e+00, -5.94809922e-01,\n        5.59523876e+00,  2.34758073e+01,  8.39839327e+00,  1.27425235e+01,\n        8.00975691e+00, -1.53412917e+01,  2.99919423e+01,  3.82932369e+01,\n        2.02733498e+01,  1.99500450e+01,  4.04271183e+01,  2.23567989e+01,\n       -1.15119103e+01,  1.21594448e+01,  1.81704360e+00,  2.07732320e+01,\n        2.13822967e+01, -2.30454142e-01,  1.04567826e+00, -6.39541700e+00,\n        3.16759538e+00,  2.19942365e+01,  9.73833465e-01,  1.02551667e+01,\n        3.79942671e+01, -6.84108150e+00,  5.96932376e+00, -6.34406085e+00,\n        2.14521933e+01,  7.87068994e+00,  1.73029257e+01,  3.16768212e+01,\n        3.26577329e+01,  2.36293034e+01,  2.82203033e+01, -3.47806216e+00,\n       -6.54633775e+00,  8.54461639e+00,  1.02414783e+01,  2.13257802e+01,\n        2.82918613e+00,  5.38718370e+00,  3.44643312e+01,  2.36164252e+01,\n       -9.32504124e+00,  1.51903457e+01,  1.09772878e+01, -1.64967003e+01,\n       -1.28675427e+01,  4.46671135e+00, -1.35272384e+01,  7.92761414e+01,\n        1.62676544e+01,  3.77507902e+02,  2.23560825e+02, -5.27106489e+00,\n        6.83184414e+01, -4.15918055e+13, -1.36643839e+15, -1.28113382e+01,\n       -3.81094003e+00,  4.15918055e+13,  4.15918055e+13,  4.15918055e+13,\n        1.36643839e+15,  1.36643839e+15,  1.36643839e+15,  1.39179264e+01,\n        7.23260667e+00,  4.84272793e+00, -4.03675133e+00, -6.83239277e-02,\n       -7.77636827e-01, -8.04418239e+00, -1.57037073e+01, -2.92948907e+01,\n       -1.67373755e+01,  2.02301148e-01, -1.88659185e+00,  7.08635912e-03])"
     },
     "execution_count": 40,
     "metadata": {},
     "output_type": "execute_result"
    }
   ],
   "source": [
    "model.coef_"
   ],
   "metadata": {
    "collapsed": false,
    "pycharm": {
     "name": "#%%\n"
    }
   }
  },
  {
   "cell_type": "code",
   "execution_count": 41,
   "outputs": [
    {
     "data": {
      "text/plain": "124.74460293434089"
     },
     "execution_count": 41,
     "metadata": {},
     "output_type": "execute_result"
    }
   ],
   "source": [
    "model.intercept_"
   ],
   "metadata": {
    "collapsed": false,
    "pycharm": {
     "name": "#%%\n"
    }
   }
  },
  {
   "cell_type": "code",
   "execution_count": 42,
   "outputs": [
    {
     "name": "stderr",
     "output_type": "stream",
     "text": [
      "C:\\Users\\user\\AppData\\Local\\Programs\\Python\\Python310\\lib\\site-packages\\sklearn\\utils\\validation.py:1858: FutureWarning: Feature names only support names that are all strings. Got feature names with dtypes: ['int', 'str']. An error will be raised in 1.2.\n",
      "  warnings.warn(\n"
     ]
    },
    {
     "data": {
      "text/plain": "0.7561883751699814"
     },
     "execution_count": 42,
     "metadata": {},
     "output_type": "execute_result"
    }
   ],
   "source": [
    "model.score(X_test_scaled, y_test)"
   ],
   "metadata": {
    "collapsed": false,
    "pycharm": {
     "name": "#%%\n"
    }
   }
  },
  {
   "cell_type": "markdown",
   "source": [],
   "metadata": {
    "collapsed": false,
    "pycharm": {
     "name": "#%% md\n"
    }
   }
  },
  {
   "cell_type": "markdown",
   "source": [
    "Apply linear regression."
   ],
   "metadata": {
    "collapsed": false,
    "pycharm": {
     "name": "#%% md\n"
    }
   }
  },
  {
   "cell_type": "code",
   "execution_count": 43,
   "outputs": [
    {
     "name": "stderr",
     "output_type": "stream",
     "text": [
      "C:\\Users\\user\\AppData\\Local\\Programs\\Python\\Python310\\lib\\site-packages\\sklearn\\utils\\validation.py:1858: FutureWarning: Feature names only support names that are all strings. Got feature names with dtypes: ['int', 'str']. An error will be raised in 1.2.\n",
      "  warnings.warn(\n",
      "C:\\Users\\user\\AppData\\Local\\Programs\\Python\\Python310\\lib\\site-packages\\sklearn\\utils\\validation.py:1858: FutureWarning: Feature names only support names that are all strings. Got feature names with dtypes: ['int', 'str']. An error will be raised in 1.2.\n",
      "  warnings.warn(\n"
     ]
    }
   ],
   "source": [
    "y_pred = model.predict(X_test_scaled)\n",
    "y_pred_train = model.predict(X_train_scaled)"
   ],
   "metadata": {
    "collapsed": false,
    "pycharm": {
     "name": "#%%\n"
    }
   }
  },
  {
   "cell_type": "code",
   "execution_count": 44,
   "outputs": [
    {
     "data": {
      "text/plain": "9774    1072\n8236     453\n4825     421\n8032    1389\n34       499\n        ... \n7469     643\n5918     383\n2772     238\n8265     340\n6325      47\nName: total_claim_amount, Length: 3181, dtype: int64"
     },
     "execution_count": 44,
     "metadata": {},
     "output_type": "execute_result"
    }
   ],
   "source": [
    "y_test"
   ],
   "metadata": {
    "collapsed": false,
    "pycharm": {
     "name": "#%%\n"
    }
   }
  },
  {
   "cell_type": "code",
   "execution_count": 45,
   "outputs": [
    {
     "data": {
      "text/plain": "array([936.74616624, 377.16423098, 377.59074861, ..., 290.13241509,\n       385.57512361,  75.79650651])"
     },
     "execution_count": 45,
     "metadata": {},
     "output_type": "execute_result"
    }
   ],
   "source": [
    "y_pred"
   ],
   "metadata": {
    "collapsed": false,
    "pycharm": {
     "name": "#%%\n"
    }
   }
  },
  {
   "cell_type": "code",
   "execution_count": 46,
   "outputs": [
    {
     "data": {
      "text/plain": "[<matplotlib.lines.Line2D at 0x26d95009d50>]"
     },
     "execution_count": 46,
     "metadata": {},
     "output_type": "execute_result"
    },
    {
     "data": {
      "text/plain": "<Figure size 1008x288 with 3 Axes>",
      "image/png": "[encoded data removed]"
     },
     "metadata": {
      "needs_background": "light"
     },
     "output_type": "display_data"
    }
   ],
   "source": [
    "result = pd.DataFrame({\"y_test\": y_test, \"y_pred\": y_pred})\n",
    "\n",
    "fig, ax = plt.subplots(1, 3, figsize=(14, 4))\n",
    "ax[0].plot(y_pred, y_test, 'o')\n",
    "ax[0].set_xlabel(\"y_test\")\n",
    "ax[0].set_ylabel(\"y_pred\")\n",
    "ax[0].set_title(\"Test Set -Predicted vs real\")\n",
    "\n",
    "# Get a histogram of the residuals ie: y - y_pred.  Homoscdasticity\n",
    "# It resembles a normal distribution?\n",
    "ax[1].hist(y_test - y_pred)\n",
    "ax[1].set_xlabel(\"Test y-y_pred\")\n",
    "ax[1].set_title(\"Test Set Residual histogram\")\n",
    "\n",
    "ax[2].plot(y_pred, y_test - y_pred, \"o\")\n",
    "ax[2].set_xlabel(\"predited\")\n",
    "ax[2].set_ylabel(\"residuals\")\n",
    "ax[2].set_title(\"Residuals by Predicted\")\n",
    "ax[2].plot(y_pred, np.zeros(len(y_pred)), linestyle='dashed')"
   ],
   "metadata": {
    "collapsed": false,
    "pycharm": {
     "name": "#%%\n"
    }
   }
  },
  {
   "cell_type": "code",
   "execution_count": 47,
   "outputs": [
    {
     "name": "stdout",
     "output_type": "stream",
     "text": [
      "20823.287734795704\n",
      "99.15108890045438\n"
     ]
    }
   ],
   "source": [
    "print(mse(y_test, y_pred))\n",
    "print(mae(y_test, y_pred))\n"
   ],
   "metadata": {
    "collapsed": false,
    "pycharm": {
     "name": "#%%\n"
    }
   }
  },
  {
   "cell_type": "code",
   "execution_count": 48,
   "outputs": [
    {
     "data": {
      "text/plain": "19160.21616668341"
     },
     "execution_count": 48,
     "metadata": {},
     "output_type": "execute_result"
    }
   ],
   "source": [
    "mse(y_train, y_pred_train)"
   ],
   "metadata": {
    "collapsed": false,
    "pycharm": {
     "name": "#%%\n"
    }
   }
  },
  {
   "cell_type": "code",
   "execution_count": 49,
   "outputs": [
    {
     "data": {
      "text/plain": "0.7561883751699814"
     },
     "execution_count": 49,
     "metadata": {},
     "output_type": "execute_result"
    }
   ],
   "source": [
    "R2 = r2_score(y_test, y_pred)\n",
    "R2"
   ],
   "metadata": {
    "collapsed": false,
    "pycharm": {
     "name": "#%%\n"
    }
   }
  },
  {
   "cell_type": "code",
   "execution_count": 50,
   "outputs": [
    {
     "name": "stderr",
     "output_type": "stream",
     "text": [
      "C:\\Users\\user\\AppData\\Local\\Programs\\Python\\Python310\\lib\\site-packages\\sklearn\\utils\\validation.py:1858: FutureWarning: Feature names only support names that are all strings. Got feature names with dtypes: ['int', 'str']. An error will be raised in 1.2.\n",
      "  warnings.warn(\n",
      "C:\\Users\\user\\AppData\\Local\\Programs\\Python\\Python310\\lib\\site-packages\\sklearn\\utils\\validation.py:1858: FutureWarning: Feature names only support names that are all strings. Got feature names with dtypes: ['int', 'str']. An error will be raised in 1.2.\n",
      "  warnings.warn(\n"
     ]
    }
   ],
   "source": [
    "R2_test = model.score(X_test_scaled, y_test)\n",
    "R2_train = model.score(X_train_scaled, y_train)"
   ],
   "metadata": {
    "collapsed": false,
    "pycharm": {
     "name": "#%%\n"
    }
   }
  },
  {
   "cell_type": "markdown",
   "source": [],
   "metadata": {
    "collapsed": false,
    "pycharm": {
     "name": "#%% md\n"
    }
   }
  },
  {
   "cell_type": "code",
   "execution_count": 51,
   "outputs": [
    {
     "data": {
      "text/plain": "(7421, 108)"
     },
     "execution_count": 51,
     "metadata": {},
     "output_type": "execute_result"
    }
   ],
   "source": [
    "X_train_scaled.shape"
   ],
   "metadata": {
    "collapsed": false,
    "pycharm": {
     "name": "#%%\n"
    }
   }
  },
  {
   "cell_type": "code",
   "execution_count": 52,
   "outputs": [],
   "source": [
    "features_importances = pd.DataFrame(data={\n",
    "    'Attribute': X_train_scaled.columns,\n",
    "    'Importance': abs(model.coef_)\n",
    "})\n",
    "features_importances = features_importances.sort_values(by='Importance', ascending=False)"
   ],
   "metadata": {
    "collapsed": false,
    "pycharm": {
     "name": "#%%\n"
    }
   }
  },
  {
   "cell_type": "code",
   "execution_count": 53,
   "outputs": [
    {
     "data": {
      "text/plain": "                      Attribute    Importance\n92            policy_special l1  1.366438e+15\n94            policy_special l3  1.366438e+15\n86     policy_type_special auto  1.366438e+15\n93            policy_special l2  1.366438e+15\n89           policy_personal l1  4.159181e+13\n..                          ...           ...\n105  vehicle_class_two-door car  2.023011e-01\n4                             4  1.598331e-01\n99    sales_channel_call center  6.832393e-02\n19    effective_to_date_1/11/11  1.329687e-02\n107          vehicle_size_small  7.086359e-03\n\n[108 rows x 2 columns]",
      "text/html": "<div>\n<style scoped>\n    .dataframe tbody tr th:only-of-type {\n        vertical-align: middle;\n    }\n\n    .dataframe tbody tr th {\n        vertical-align: top;\n    }\n\n    .dataframe thead th {\n        text-align: right;\n    }\n</style>\n<table border=\"1\" class=\"dataframe\">\n  <thead>\n    <tr style=\"text-align: right;\">\n      <th></th>\n      <th>Attribute</th>\n      <th>Importance</th>\n    </tr>\n  </thead>\n  <tbody>\n    <tr>\n      <th>92</th>\n      <td>policy_special l1</td>\n      <td>1.366438e+15</td>\n    </tr>\n    <tr>\n      <th>94</th>\n      <td>policy_special l3</td>\n      <td>1.366438e+15</td>\n    </tr>\n    <tr>\n      <th>86</th>\n      <td>policy_type_special auto</td>\n      <td>1.366438e+15</td>\n    </tr>\n    <tr>\n      <th>93</th>\n      <td>policy_special l2</td>\n      <td>1.366438e+15</td>\n    </tr>\n    <tr>\n      <th>89</th>\n      <td>policy_personal l1</td>\n      <td>4.159181e+13</td>\n    </tr>\n    <tr>\n      <th>...</th>\n      <td>...</td>\n      <td>...</td>\n    </tr>\n    <tr>\n      <th>105</th>\n      <td>vehicle_class_two-door car</td>\n      <td>2.023011e-01</td>\n    </tr>\n    <tr>\n      <th>4</th>\n      <td>4</td>\n      <td>1.598331e-01</td>\n    </tr>\n    <tr>\n      <th>99</th>\n      <td>sales_channel_call center</td>\n      <td>6.832393e-02</td>\n    </tr>\n    <tr>\n      <th>19</th>\n      <td>effective_to_date_1/11/11</td>\n      <td>1.329687e-02</td>\n    </tr>\n    <tr>\n      <th>107</th>\n      <td>vehicle_size_small</td>\n      <td>7.086359e-03</td>\n    </tr>\n  </tbody>\n</table>\n<p>108 rows × 2 columns</p>\n</div>"
     },
     "execution_count": 53,
     "metadata": {},
     "output_type": "execute_result"
    }
   ],
   "source": [
    "features_importances"
   ],
   "metadata": {
    "collapsed": false,
    "pycharm": {
     "name": "#%%\n"
    }
   }
  },
  {
   "cell_type": "code",
   "execution_count": 54,
   "outputs": [
    {
     "ename": "TypeError",
     "evalue": "'value' must be an instance of str or bytes, not a int",
     "output_type": "error",
     "traceback": [
      "\u001B[1;31m---------------------------------------------------------------------------\u001B[0m",
      "\u001B[1;31mTypeError\u001B[0m                                 Traceback (most recent call last)",
      "Input \u001B[1;32mIn [54]\u001B[0m, in \u001B[0;36m<cell line: 1>\u001B[1;34m()\u001B[0m\n\u001B[1;32m----> 1\u001B[0m \u001B[43mplt\u001B[49m\u001B[38;5;241;43m.\u001B[39;49m\u001B[43mbar\u001B[49m\u001B[43m(\u001B[49m\u001B[43mx\u001B[49m\u001B[38;5;241;43m=\u001B[39;49m\u001B[43mfeatures_importances\u001B[49m\u001B[43m[\u001B[49m\u001B[38;5;124;43m'\u001B[39;49m\u001B[38;5;124;43mAttribute\u001B[39;49m\u001B[38;5;124;43m'\u001B[39;49m\u001B[43m]\u001B[49m\u001B[43m,\u001B[49m\u001B[43m \u001B[49m\u001B[43mheight\u001B[49m\u001B[38;5;241;43m=\u001B[39;49m\u001B[43mfeatures_importances\u001B[49m\u001B[43m[\u001B[49m\u001B[38;5;124;43m'\u001B[39;49m\u001B[38;5;124;43mImportance\u001B[39;49m\u001B[38;5;124;43m'\u001B[39;49m\u001B[43m]\u001B[49m\u001B[43m,\u001B[49m\u001B[43m \u001B[49m\u001B[43mcolor\u001B[49m\u001B[38;5;241;43m=\u001B[39;49m\u001B[38;5;124;43m'\u001B[39;49m\u001B[38;5;124;43m#087E8B\u001B[39;49m\u001B[38;5;124;43m'\u001B[39;49m\u001B[43m)\u001B[49m\n\u001B[0;32m      2\u001B[0m plt\u001B[38;5;241m.\u001B[39mtitle(\u001B[38;5;124m'\u001B[39m\u001B[38;5;124mFeature importances obtained from coefficients\u001B[39m\u001B[38;5;124m'\u001B[39m, size\u001B[38;5;241m=\u001B[39m\u001B[38;5;241m20\u001B[39m)\n\u001B[0;32m      3\u001B[0m plt\u001B[38;5;241m.\u001B[39mxticks(rotation\u001B[38;5;241m=\u001B[39m\u001B[38;5;124m'\u001B[39m\u001B[38;5;124mvertical\u001B[39m\u001B[38;5;124m'\u001B[39m)\n",
      "File \u001B[1;32m~\\AppData\\Local\\Programs\\Python\\Python310\\lib\\site-packages\\matplotlib\\pyplot.py:2399\u001B[0m, in \u001B[0;36mbar\u001B[1;34m(x, height, width, bottom, align, data, **kwargs)\u001B[0m\n\u001B[0;32m   2395\u001B[0m \u001B[38;5;129m@_copy_docstring_and_deprecators\u001B[39m(Axes\u001B[38;5;241m.\u001B[39mbar)\n\u001B[0;32m   2396\u001B[0m \u001B[38;5;28;01mdef\u001B[39;00m \u001B[38;5;21mbar\u001B[39m(\n\u001B[0;32m   2397\u001B[0m         x, height, width\u001B[38;5;241m=\u001B[39m\u001B[38;5;241m0.8\u001B[39m, bottom\u001B[38;5;241m=\u001B[39m\u001B[38;5;28;01mNone\u001B[39;00m, \u001B[38;5;241m*\u001B[39m, align\u001B[38;5;241m=\u001B[39m\u001B[38;5;124m'\u001B[39m\u001B[38;5;124mcenter\u001B[39m\u001B[38;5;124m'\u001B[39m,\n\u001B[0;32m   2398\u001B[0m         data\u001B[38;5;241m=\u001B[39m\u001B[38;5;28;01mNone\u001B[39;00m, \u001B[38;5;241m*\u001B[39m\u001B[38;5;241m*\u001B[39mkwargs):\n\u001B[1;32m-> 2399\u001B[0m     \u001B[38;5;28;01mreturn\u001B[39;00m gca()\u001B[38;5;241m.\u001B[39mbar(\n\u001B[0;32m   2400\u001B[0m         x, height, width\u001B[38;5;241m=\u001B[39mwidth, bottom\u001B[38;5;241m=\u001B[39mbottom, align\u001B[38;5;241m=\u001B[39malign,\n\u001B[0;32m   2401\u001B[0m         \u001B[38;5;241m*\u001B[39m\u001B[38;5;241m*\u001B[39m({\u001B[38;5;124m\"\u001B[39m\u001B[38;5;124mdata\u001B[39m\u001B[38;5;124m\"\u001B[39m: data} \u001B[38;5;28;01mif\u001B[39;00m data \u001B[38;5;129;01mis\u001B[39;00m \u001B[38;5;129;01mnot\u001B[39;00m \u001B[38;5;28;01mNone\u001B[39;00m \u001B[38;5;28;01melse\u001B[39;00m {}), \u001B[38;5;241m*\u001B[39m\u001B[38;5;241m*\u001B[39mkwargs)\n",
      "File \u001B[1;32m~\\AppData\\Local\\Programs\\Python\\Python310\\lib\\site-packages\\matplotlib\\__init__.py:1412\u001B[0m, in \u001B[0;36m_preprocess_data.<locals>.inner\u001B[1;34m(ax, data, *args, **kwargs)\u001B[0m\n\u001B[0;32m   1409\u001B[0m \u001B[38;5;129m@functools\u001B[39m\u001B[38;5;241m.\u001B[39mwraps(func)\n\u001B[0;32m   1410\u001B[0m \u001B[38;5;28;01mdef\u001B[39;00m \u001B[38;5;21minner\u001B[39m(ax, \u001B[38;5;241m*\u001B[39margs, data\u001B[38;5;241m=\u001B[39m\u001B[38;5;28;01mNone\u001B[39;00m, \u001B[38;5;241m*\u001B[39m\u001B[38;5;241m*\u001B[39mkwargs):\n\u001B[0;32m   1411\u001B[0m     \u001B[38;5;28;01mif\u001B[39;00m data \u001B[38;5;129;01mis\u001B[39;00m \u001B[38;5;28;01mNone\u001B[39;00m:\n\u001B[1;32m-> 1412\u001B[0m         \u001B[38;5;28;01mreturn\u001B[39;00m func(ax, \u001B[38;5;241m*\u001B[39m\u001B[38;5;28mmap\u001B[39m(sanitize_sequence, args), \u001B[38;5;241m*\u001B[39m\u001B[38;5;241m*\u001B[39mkwargs)\n\u001B[0;32m   1414\u001B[0m     bound \u001B[38;5;241m=\u001B[39m new_sig\u001B[38;5;241m.\u001B[39mbind(ax, \u001B[38;5;241m*\u001B[39margs, \u001B[38;5;241m*\u001B[39m\u001B[38;5;241m*\u001B[39mkwargs)\n\u001B[0;32m   1415\u001B[0m     auto_label \u001B[38;5;241m=\u001B[39m (bound\u001B[38;5;241m.\u001B[39marguments\u001B[38;5;241m.\u001B[39mget(label_namer)\n\u001B[0;32m   1416\u001B[0m                   \u001B[38;5;129;01mor\u001B[39;00m bound\u001B[38;5;241m.\u001B[39mkwargs\u001B[38;5;241m.\u001B[39mget(label_namer))\n",
      "File \u001B[1;32m~\\AppData\\Local\\Programs\\Python\\Python310\\lib\\site-packages\\matplotlib\\axes\\_axes.py:2317\u001B[0m, in \u001B[0;36mAxes.bar\u001B[1;34m(self, x, height, width, bottom, align, **kwargs)\u001B[0m\n\u001B[0;32m   2314\u001B[0m         x \u001B[38;5;241m=\u001B[39m \u001B[38;5;241m0\u001B[39m\n\u001B[0;32m   2316\u001B[0m \u001B[38;5;28;01mif\u001B[39;00m orientation \u001B[38;5;241m==\u001B[39m \u001B[38;5;124m'\u001B[39m\u001B[38;5;124mvertical\u001B[39m\u001B[38;5;124m'\u001B[39m:\n\u001B[1;32m-> 2317\u001B[0m     \u001B[38;5;28;43mself\u001B[39;49m\u001B[38;5;241;43m.\u001B[39;49m\u001B[43m_process_unit_info\u001B[49m\u001B[43m(\u001B[49m\n\u001B[0;32m   2318\u001B[0m \u001B[43m        \u001B[49m\u001B[43m[\u001B[49m\u001B[43m(\u001B[49m\u001B[38;5;124;43m\"\u001B[39;49m\u001B[38;5;124;43mx\u001B[39;49m\u001B[38;5;124;43m\"\u001B[39;49m\u001B[43m,\u001B[49m\u001B[43m \u001B[49m\u001B[43mx\u001B[49m\u001B[43m)\u001B[49m\u001B[43m,\u001B[49m\u001B[43m \u001B[49m\u001B[43m(\u001B[49m\u001B[38;5;124;43m\"\u001B[39;49m\u001B[38;5;124;43my\u001B[39;49m\u001B[38;5;124;43m\"\u001B[39;49m\u001B[43m,\u001B[49m\u001B[43m \u001B[49m\u001B[43mheight\u001B[49m\u001B[43m)\u001B[49m\u001B[43m]\u001B[49m\u001B[43m,\u001B[49m\u001B[43m \u001B[49m\u001B[43mkwargs\u001B[49m\u001B[43m,\u001B[49m\u001B[43m \u001B[49m\u001B[43mconvert\u001B[49m\u001B[38;5;241;43m=\u001B[39;49m\u001B[38;5;28;43;01mFalse\u001B[39;49;00m\u001B[43m)\u001B[49m\n\u001B[0;32m   2319\u001B[0m     \u001B[38;5;28;01mif\u001B[39;00m log:\n\u001B[0;32m   2320\u001B[0m         \u001B[38;5;28mself\u001B[39m\u001B[38;5;241m.\u001B[39mset_yscale(\u001B[38;5;124m'\u001B[39m\u001B[38;5;124mlog\u001B[39m\u001B[38;5;124m'\u001B[39m, nonpositive\u001B[38;5;241m=\u001B[39m\u001B[38;5;124m'\u001B[39m\u001B[38;5;124mclip\u001B[39m\u001B[38;5;124m'\u001B[39m)\n",
      "File \u001B[1;32m~\\AppData\\Local\\Programs\\Python\\Python310\\lib\\site-packages\\matplotlib\\axes\\_base.py:2526\u001B[0m, in \u001B[0;36m_AxesBase._process_unit_info\u001B[1;34m(self, datasets, kwargs, convert)\u001B[0m\n\u001B[0;32m   2524\u001B[0m     \u001B[38;5;66;03m# Update from data if axis is already set but no unit is set yet.\u001B[39;00m\n\u001B[0;32m   2525\u001B[0m     \u001B[38;5;28;01mif\u001B[39;00m axis \u001B[38;5;129;01mis\u001B[39;00m \u001B[38;5;129;01mnot\u001B[39;00m \u001B[38;5;28;01mNone\u001B[39;00m \u001B[38;5;129;01mand\u001B[39;00m data \u001B[38;5;129;01mis\u001B[39;00m \u001B[38;5;129;01mnot\u001B[39;00m \u001B[38;5;28;01mNone\u001B[39;00m \u001B[38;5;129;01mand\u001B[39;00m \u001B[38;5;129;01mnot\u001B[39;00m axis\u001B[38;5;241m.\u001B[39mhave_units():\n\u001B[1;32m-> 2526\u001B[0m         \u001B[43maxis\u001B[49m\u001B[38;5;241;43m.\u001B[39;49m\u001B[43mupdate_units\u001B[49m\u001B[43m(\u001B[49m\u001B[43mdata\u001B[49m\u001B[43m)\u001B[49m\n\u001B[0;32m   2527\u001B[0m \u001B[38;5;28;01mfor\u001B[39;00m axis_name, axis \u001B[38;5;129;01min\u001B[39;00m axis_map\u001B[38;5;241m.\u001B[39mitems():\n\u001B[0;32m   2528\u001B[0m     \u001B[38;5;66;03m# Return if no axis is set.\u001B[39;00m\n\u001B[0;32m   2529\u001B[0m     \u001B[38;5;28;01mif\u001B[39;00m axis \u001B[38;5;129;01mis\u001B[39;00m \u001B[38;5;28;01mNone\u001B[39;00m:\n",
      "File \u001B[1;32m~\\AppData\\Local\\Programs\\Python\\Python310\\lib\\site-packages\\matplotlib\\axis.py:1449\u001B[0m, in \u001B[0;36mAxis.update_units\u001B[1;34m(self, data)\u001B[0m\n\u001B[0;32m   1447\u001B[0m neednew \u001B[38;5;241m=\u001B[39m \u001B[38;5;28mself\u001B[39m\u001B[38;5;241m.\u001B[39mconverter \u001B[38;5;241m!=\u001B[39m converter\n\u001B[0;32m   1448\u001B[0m \u001B[38;5;28mself\u001B[39m\u001B[38;5;241m.\u001B[39mconverter \u001B[38;5;241m=\u001B[39m converter\n\u001B[1;32m-> 1449\u001B[0m default \u001B[38;5;241m=\u001B[39m \u001B[38;5;28;43mself\u001B[39;49m\u001B[38;5;241;43m.\u001B[39;49m\u001B[43mconverter\u001B[49m\u001B[38;5;241;43m.\u001B[39;49m\u001B[43mdefault_units\u001B[49m\u001B[43m(\u001B[49m\u001B[43mdata\u001B[49m\u001B[43m,\u001B[49m\u001B[43m \u001B[49m\u001B[38;5;28;43mself\u001B[39;49m\u001B[43m)\u001B[49m\n\u001B[0;32m   1450\u001B[0m \u001B[38;5;28;01mif\u001B[39;00m default \u001B[38;5;129;01mis\u001B[39;00m \u001B[38;5;129;01mnot\u001B[39;00m \u001B[38;5;28;01mNone\u001B[39;00m \u001B[38;5;129;01mand\u001B[39;00m \u001B[38;5;28mself\u001B[39m\u001B[38;5;241m.\u001B[39munits \u001B[38;5;129;01mis\u001B[39;00m \u001B[38;5;28;01mNone\u001B[39;00m:\n\u001B[0;32m   1451\u001B[0m     \u001B[38;5;28mself\u001B[39m\u001B[38;5;241m.\u001B[39mset_units(default)\n",
      "File \u001B[1;32m~\\AppData\\Local\\Programs\\Python\\Python310\\lib\\site-packages\\matplotlib\\category.py:116\u001B[0m, in \u001B[0;36mStrCategoryConverter.default_units\u001B[1;34m(data, axis)\u001B[0m\n\u001B[0;32m    114\u001B[0m \u001B[38;5;66;03m# the conversion call stack is default_units -> axis_info -> convert\u001B[39;00m\n\u001B[0;32m    115\u001B[0m \u001B[38;5;28;01mif\u001B[39;00m axis\u001B[38;5;241m.\u001B[39munits \u001B[38;5;129;01mis\u001B[39;00m \u001B[38;5;28;01mNone\u001B[39;00m:\n\u001B[1;32m--> 116\u001B[0m     axis\u001B[38;5;241m.\u001B[39mset_units(\u001B[43mUnitData\u001B[49m\u001B[43m(\u001B[49m\u001B[43mdata\u001B[49m\u001B[43m)\u001B[49m)\n\u001B[0;32m    117\u001B[0m \u001B[38;5;28;01melse\u001B[39;00m:\n\u001B[0;32m    118\u001B[0m     axis\u001B[38;5;241m.\u001B[39munits\u001B[38;5;241m.\u001B[39mupdate(data)\n",
      "File \u001B[1;32m~\\AppData\\Local\\Programs\\Python\\Python310\\lib\\site-packages\\matplotlib\\category.py:192\u001B[0m, in \u001B[0;36mUnitData.__init__\u001B[1;34m(self, data)\u001B[0m\n\u001B[0;32m    190\u001B[0m \u001B[38;5;28mself\u001B[39m\u001B[38;5;241m.\u001B[39m_counter \u001B[38;5;241m=\u001B[39m itertools\u001B[38;5;241m.\u001B[39mcount()\n\u001B[0;32m    191\u001B[0m \u001B[38;5;28;01mif\u001B[39;00m data \u001B[38;5;129;01mis\u001B[39;00m \u001B[38;5;129;01mnot\u001B[39;00m \u001B[38;5;28;01mNone\u001B[39;00m:\n\u001B[1;32m--> 192\u001B[0m     \u001B[38;5;28;43mself\u001B[39;49m\u001B[38;5;241;43m.\u001B[39;49m\u001B[43mupdate\u001B[49m\u001B[43m(\u001B[49m\u001B[43mdata\u001B[49m\u001B[43m)\u001B[49m\n",
      "File \u001B[1;32m~\\AppData\\Local\\Programs\\Python\\Python310\\lib\\site-packages\\matplotlib\\category.py:227\u001B[0m, in \u001B[0;36mUnitData.update\u001B[1;34m(self, data)\u001B[0m\n\u001B[0;32m    224\u001B[0m convertible \u001B[38;5;241m=\u001B[39m \u001B[38;5;28;01mTrue\u001B[39;00m\n\u001B[0;32m    225\u001B[0m \u001B[38;5;28;01mfor\u001B[39;00m val \u001B[38;5;129;01min\u001B[39;00m OrderedDict\u001B[38;5;241m.\u001B[39mfromkeys(data):\n\u001B[0;32m    226\u001B[0m     \u001B[38;5;66;03m# OrderedDict just iterates over unique values in data.\u001B[39;00m\n\u001B[1;32m--> 227\u001B[0m     \u001B[43m_api\u001B[49m\u001B[38;5;241;43m.\u001B[39;49m\u001B[43mcheck_isinstance\u001B[49m\u001B[43m(\u001B[49m\u001B[43m(\u001B[49m\u001B[38;5;28;43mstr\u001B[39;49m\u001B[43m,\u001B[49m\u001B[43m \u001B[49m\u001B[38;5;28;43mbytes\u001B[39;49m\u001B[43m)\u001B[49m\u001B[43m,\u001B[49m\u001B[43m \u001B[49m\u001B[43mvalue\u001B[49m\u001B[38;5;241;43m=\u001B[39;49m\u001B[43mval\u001B[49m\u001B[43m)\u001B[49m\n\u001B[0;32m    228\u001B[0m     \u001B[38;5;28;01mif\u001B[39;00m convertible:\n\u001B[0;32m    229\u001B[0m         \u001B[38;5;66;03m# this will only be called so long as convertible is True.\u001B[39;00m\n\u001B[0;32m    230\u001B[0m         convertible \u001B[38;5;241m=\u001B[39m \u001B[38;5;28mself\u001B[39m\u001B[38;5;241m.\u001B[39m_str_is_convertible(val)\n",
      "File \u001B[1;32m~\\AppData\\Local\\Programs\\Python\\Python310\\lib\\site-packages\\matplotlib\\_api\\__init__.py:93\u001B[0m, in \u001B[0;36mcheck_isinstance\u001B[1;34m(_types, **kwargs)\u001B[0m\n\u001B[0;32m     91\u001B[0m     names\u001B[38;5;241m.\u001B[39mremove(\u001B[38;5;124m\"\u001B[39m\u001B[38;5;124mNone\u001B[39m\u001B[38;5;124m\"\u001B[39m)\n\u001B[0;32m     92\u001B[0m     names\u001B[38;5;241m.\u001B[39mappend(\u001B[38;5;124m\"\u001B[39m\u001B[38;5;124mNone\u001B[39m\u001B[38;5;124m\"\u001B[39m)\n\u001B[1;32m---> 93\u001B[0m \u001B[38;5;28;01mraise\u001B[39;00m \u001B[38;5;167;01mTypeError\u001B[39;00m(\n\u001B[0;32m     94\u001B[0m     \u001B[38;5;124m\"\u001B[39m\u001B[38;5;132;01m{!r}\u001B[39;00m\u001B[38;5;124m must be an instance of \u001B[39m\u001B[38;5;132;01m{}\u001B[39;00m\u001B[38;5;124m, not a \u001B[39m\u001B[38;5;132;01m{}\u001B[39;00m\u001B[38;5;124m\"\u001B[39m\u001B[38;5;241m.\u001B[39mformat(\n\u001B[0;32m     95\u001B[0m         k,\n\u001B[0;32m     96\u001B[0m         \u001B[38;5;124m\"\u001B[39m\u001B[38;5;124m, \u001B[39m\u001B[38;5;124m\"\u001B[39m\u001B[38;5;241m.\u001B[39mjoin(names[:\u001B[38;5;241m-\u001B[39m\u001B[38;5;241m1\u001B[39m]) \u001B[38;5;241m+\u001B[39m \u001B[38;5;124m\"\u001B[39m\u001B[38;5;124m or \u001B[39m\u001B[38;5;124m\"\u001B[39m \u001B[38;5;241m+\u001B[39m names[\u001B[38;5;241m-\u001B[39m\u001B[38;5;241m1\u001B[39m]\n\u001B[0;32m     97\u001B[0m         \u001B[38;5;28;01mif\u001B[39;00m \u001B[38;5;28mlen\u001B[39m(names) \u001B[38;5;241m>\u001B[39m \u001B[38;5;241m1\u001B[39m \u001B[38;5;28;01melse\u001B[39;00m names[\u001B[38;5;241m0\u001B[39m],\n\u001B[0;32m     98\u001B[0m         type_name(\u001B[38;5;28mtype\u001B[39m(v))))\n",
      "\u001B[1;31mTypeError\u001B[0m: 'value' must be an instance of str or bytes, not a int"
     ]
    },
    {
     "data": {
      "text/plain": "<Figure size 432x288 with 1 Axes>",
      "image/png": "[encoded data removed]"
     },
     "metadata": {
      "needs_background": "light"
     },
     "output_type": "display_data"
    }
   ],
   "source": [
    "plt.bar(x=features_importances['Attribute'], height=features_importances['Importance'], color='#087E8B')\n",
    "plt.title('Feature importances obtained from coefficients', size=20)\n",
    "plt.xticks(rotation='vertical')\n",
    "plt.show()"
   ],
   "metadata": {
    "collapsed": false,
    "pycharm": {
     "name": "#%%\n"
    }
   }
  },
  {
   "cell_type": "code",
   "execution_count": null,
   "outputs": [],
   "source": [
    "features_importances['Attribute']"
   ],
   "metadata": {
    "collapsed": false,
    "pycharm": {
     "name": "#%%\n"
    }
   }
  },
  {
   "cell_type": "code",
   "execution_count": null,
   "outputs": [],
   "source": [],
   "metadata": {
    "collapsed": false,
    "pycharm": {
     "name": "#%%\n"
    }
   }
  }
 ],
 "metadata": {
  "kernelspec": {
   "display_name": "Python 3",
   "language": "python",
   "name": "python3"
  },
  "language_info": {
   "codemirror_mode": {
    "name": "ipython",
    "version": 2
   },
   "file_extension": ".py",
   "mimetype": "text/x-python",
   "name": "python",
   "nbconvert_exporter": "python",
   "pygments_lexer": "ipython2",
   "version": "2.7.6"
  }
 },
 "nbformat": 4,
 "nbformat_minor": 0
}