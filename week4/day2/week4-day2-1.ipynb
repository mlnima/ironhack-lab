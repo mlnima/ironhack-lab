{
 "cells": [
  {
   "cell_type": "code",
   "execution_count": 20,
   "metadata": {
    "collapsed": true,
    "pycharm": {
     "name": "#%%\n"
    }
   },
   "outputs": [],
   "source": [
    "import pandas as pd\n",
    "import numpy as np\n",
    "from scipy import stats\n",
    "pd.options.display.max_rows = 100\n",
    "\n",
    "baseDf = pd.read_csv('../../data/Data_Marketing_Customer_Analysis_Round3.csv')"
   ]
  },
  {
   "cell_type": "markdown",
   "source": [
    "#split numerical and categorical data frames"
   ],
   "metadata": {
    "collapsed": false,
    "pycharm": {
     "name": "#%% md\n"
    }
   }
  },
  {
   "cell_type": "markdown",
   "source": [],
   "metadata": {
    "collapsed": false,
    "pycharm": {
     "name": "#%% md\n"
    }
   }
  },
  {
   "cell_type": "code",
   "execution_count": 3,
   "outputs": [],
   "source": [
    "numerical = baseDf.select_dtypes(include=np.number)\n",
    "categorical = baseDf.select_dtypes(include=object)"
   ],
   "metadata": {
    "collapsed": false,
    "pycharm": {
     "name": "#%%\n"
    }
   }
  },
  {
   "cell_type": "markdown",
   "source": [],
   "metadata": {
    "collapsed": false,
    "pycharm": {
     "name": "#%% md\n"
    }
   }
  },
  {
   "cell_type": "markdown",
   "source": [
    "\n",
    "check if there are highly correlated features and drop them if there are any.\n"
   ],
   "metadata": {
    "collapsed": false,
    "pycharm": {
     "name": "#%% md\n"
    }
   }
  },
  {
   "cell_type": "code",
   "execution_count": 4,
   "outputs": [],
   "source": [
    "cor_matrix = numerical.corr().abs()\n",
    "upper_tri = cor_matrix.where(np.triu(np.ones(cor_matrix.shape), k=1).astype(bool))\n",
    "\n",
    "to_drop = [column for column in upper_tri.columns if any(upper_tri[column] > 0.80)]\n",
    "baseDf.drop(to_drop, axis=1, inplace=True)"
   ],
   "metadata": {
    "collapsed": false,
    "pycharm": {
     "name": "#%%\n"
    }
   }
  },
  {
   "cell_type": "code",
   "execution_count": 5,
   "outputs": [
    {
     "data": {
      "text/plain": "           region response  coverage education effective_to_date  \\\n0         arizona       no     basic   college           2/18/11   \n1      california       no     basic   college           1/18/11   \n2      washington       no     basic  bachelor           2/10/11   \n3          oregon      yes  extended   college           1/11/11   \n4          oregon       no   premium  bachelor           1/17/11   \n...           ...      ...       ...       ...               ...   \n10597      nevada       no   premium  bachelor           1/19/11   \n10598      oregon       no     basic   college            1/6/11   \n10599     arizona       no  extended  bachelor            2/6/11   \n10600  california       no   premium   college           2/13/11   \n10601  california       no     basic  bachelor            1/8/11   \n\n      employment_status gender location_code marital_status     policy_type  \\\n0              employed      m      suburban        married  corporate auto   \n1            unemployed      f      suburban         single   personal auto   \n2              employed      m      suburban         single   personal auto   \n3              employed      m      suburban         single  corporate auto   \n4         medical leave      f      suburban        married   personal auto   \n...                 ...    ...           ...            ...             ...   \n10597        unemployed      f      suburban        married   personal auto   \n10598          employed      f         urban        married   personal auto   \n10599          employed      f         rural        married  corporate auto   \n10600          employed      f         urban       divorced   personal auto   \n10601        unemployed      m      suburban         single   personal auto   \n\n             policy renew_offer_type sales_channel  vehicle_class vehicle_size  \n0      corporate l3           offer3         agent  four-door car      medsize  \n1       personal l3           offer4   call center  four-door car      medsize  \n2       personal l3           offer3   call center            suv      medsize  \n3      corporate l3           offer2        branch  four-door car      medsize  \n4       personal l2           offer1        branch  four-door car      medsize  \n...             ...              ...           ...            ...          ...  \n10597   personal l1           offer3           web     luxury car      medsize  \n10598   personal l3           offer2        branch  four-door car      medsize  \n10599  corporate l3           offer1           web     luxury suv      medsize  \n10600   personal l1           offer1        branch            suv      medsize  \n10601   personal l1           offer4           web            suv      medsize  \n\n[10602 rows x 15 columns]",
      "text/html": "<div>\n<style scoped>\n    .dataframe tbody tr th:only-of-type {\n        vertical-align: middle;\n    }\n\n    .dataframe tbody tr th {\n        vertical-align: top;\n    }\n\n    .dataframe thead th {\n        text-align: right;\n    }\n</style>\n<table border=\"1\" class=\"dataframe\">\n  <thead>\n    <tr style=\"text-align: right;\">\n      <th></th>\n      <th>region</th>\n      <th>response</th>\n      <th>coverage</th>\n      <th>education</th>\n      <th>effective_to_date</th>\n      <th>employment_status</th>\n      <th>gender</th>\n      <th>location_code</th>\n      <th>marital_status</th>\n      <th>policy_type</th>\n      <th>policy</th>\n      <th>renew_offer_type</th>\n      <th>sales_channel</th>\n      <th>vehicle_class</th>\n      <th>vehicle_size</th>\n    </tr>\n  </thead>\n  <tbody>\n    <tr>\n      <th>0</th>\n      <td>arizona</td>\n      <td>no</td>\n      <td>basic</td>\n      <td>college</td>\n      <td>2/18/11</td>\n      <td>employed</td>\n      <td>m</td>\n      <td>suburban</td>\n      <td>married</td>\n      <td>corporate auto</td>\n      <td>corporate l3</td>\n      <td>offer3</td>\n      <td>agent</td>\n      <td>four-door car</td>\n      <td>medsize</td>\n    </tr>\n    <tr>\n      <th>1</th>\n      <td>california</td>\n      <td>no</td>\n      <td>basic</td>\n      <td>college</td>\n      <td>1/18/11</td>\n      <td>unemployed</td>\n      <td>f</td>\n      <td>suburban</td>\n      <td>single</td>\n      <td>personal auto</td>\n      <td>personal l3</td>\n      <td>offer4</td>\n      <td>call center</td>\n      <td>four-door car</td>\n      <td>medsize</td>\n    </tr>\n    <tr>\n      <th>2</th>\n      <td>washington</td>\n      <td>no</td>\n      <td>basic</td>\n      <td>bachelor</td>\n      <td>2/10/11</td>\n      <td>employed</td>\n      <td>m</td>\n      <td>suburban</td>\n      <td>single</td>\n      <td>personal auto</td>\n      <td>personal l3</td>\n      <td>offer3</td>\n      <td>call center</td>\n      <td>suv</td>\n      <td>medsize</td>\n    </tr>\n    <tr>\n      <th>3</th>\n      <td>oregon</td>\n      <td>yes</td>\n      <td>extended</td>\n      <td>college</td>\n      <td>1/11/11</td>\n      <td>employed</td>\n      <td>m</td>\n      <td>suburban</td>\n      <td>single</td>\n      <td>corporate auto</td>\n      <td>corporate l3</td>\n      <td>offer2</td>\n      <td>branch</td>\n      <td>four-door car</td>\n      <td>medsize</td>\n    </tr>\n    <tr>\n      <th>4</th>\n      <td>oregon</td>\n      <td>no</td>\n      <td>premium</td>\n      <td>bachelor</td>\n      <td>1/17/11</td>\n      <td>medical leave</td>\n      <td>f</td>\n      <td>suburban</td>\n      <td>married</td>\n      <td>personal auto</td>\n      <td>personal l2</td>\n      <td>offer1</td>\n      <td>branch</td>\n      <td>four-door car</td>\n      <td>medsize</td>\n    </tr>\n    <tr>\n      <th>...</th>\n      <td>...</td>\n      <td>...</td>\n      <td>...</td>\n      <td>...</td>\n      <td>...</td>\n      <td>...</td>\n      <td>...</td>\n      <td>...</td>\n      <td>...</td>\n      <td>...</td>\n      <td>...</td>\n      <td>...</td>\n      <td>...</td>\n      <td>...</td>\n      <td>...</td>\n    </tr>\n    <tr>\n      <th>10597</th>\n      <td>nevada</td>\n      <td>no</td>\n      <td>premium</td>\n      <td>bachelor</td>\n      <td>1/19/11</td>\n      <td>unemployed</td>\n      <td>f</td>\n      <td>suburban</td>\n      <td>married</td>\n      <td>personal auto</td>\n      <td>personal l1</td>\n      <td>offer3</td>\n      <td>web</td>\n      <td>luxury car</td>\n      <td>medsize</td>\n    </tr>\n    <tr>\n      <th>10598</th>\n      <td>oregon</td>\n      <td>no</td>\n      <td>basic</td>\n      <td>college</td>\n      <td>1/6/11</td>\n      <td>employed</td>\n      <td>f</td>\n      <td>urban</td>\n      <td>married</td>\n      <td>personal auto</td>\n      <td>personal l3</td>\n      <td>offer2</td>\n      <td>branch</td>\n      <td>four-door car</td>\n      <td>medsize</td>\n    </tr>\n    <tr>\n      <th>10599</th>\n      <td>arizona</td>\n      <td>no</td>\n      <td>extended</td>\n      <td>bachelor</td>\n      <td>2/6/11</td>\n      <td>employed</td>\n      <td>f</td>\n      <td>rural</td>\n      <td>married</td>\n      <td>corporate auto</td>\n      <td>corporate l3</td>\n      <td>offer1</td>\n      <td>web</td>\n      <td>luxury suv</td>\n      <td>medsize</td>\n    </tr>\n    <tr>\n      <th>10600</th>\n      <td>california</td>\n      <td>no</td>\n      <td>premium</td>\n      <td>college</td>\n      <td>2/13/11</td>\n      <td>employed</td>\n      <td>f</td>\n      <td>urban</td>\n      <td>divorced</td>\n      <td>personal auto</td>\n      <td>personal l1</td>\n      <td>offer1</td>\n      <td>branch</td>\n      <td>suv</td>\n      <td>medsize</td>\n    </tr>\n    <tr>\n      <th>10601</th>\n      <td>california</td>\n      <td>no</td>\n      <td>basic</td>\n      <td>bachelor</td>\n      <td>1/8/11</td>\n      <td>unemployed</td>\n      <td>m</td>\n      <td>suburban</td>\n      <td>single</td>\n      <td>personal auto</td>\n      <td>personal l1</td>\n      <td>offer4</td>\n      <td>web</td>\n      <td>suv</td>\n      <td>medsize</td>\n    </tr>\n  </tbody>\n</table>\n<p>10602 rows × 15 columns</p>\n</div>"
     },
     "execution_count": 5,
     "metadata": {},
     "output_type": "execute_result"
    }
   ],
   "source": [
    "categorical"
   ],
   "metadata": {
    "collapsed": false,
    "pycharm": {
     "name": "#%%\n"
    }
   }
  },
  {
   "cell_type": "markdown",
   "source": [
    "One Hot/Label Encoding of the categorical variables in the categoricals data frame that you created in Activity 4. ( Hint: check Dropfirst option)."
   ],
   "metadata": {
    "collapsed": false,
    "pycharm": {
     "name": "#%% md\n"
    }
   }
  },
  {
   "cell_type": "code",
   "execution_count": 18,
   "outputs": [
    {
     "data": {
      "text/plain": "       region_california  region_nevada  region_oregon  region_washington  \\\n0                      0              0              0                  0   \n1                      1              0              0                  0   \n2                      0              0              0                  1   \n3                      0              0              1                  0   \n4                      0              0              1                  0   \n...                  ...            ...            ...                ...   \n10597                  0              1              0                  0   \n10598                  0              0              1                  0   \n10599                  0              0              0                  0   \n10600                  1              0              0                  0   \n10601                  1              0              0                  0   \n\n       response_yes  coverage_extended  coverage_premium  education_college  \\\n0                 0                  0                 0                  1   \n1                 0                  0                 0                  1   \n2                 0                  0                 0                  0   \n3                 1                  1                 0                  1   \n4                 0                  0                 1                  0   \n...             ...                ...               ...                ...   \n10597             0                  0                 1                  0   \n10598             0                  0                 0                  1   \n10599             0                  1                 0                  0   \n10600             0                  0                 1                  1   \n10601             0                  0                 0                  0   \n\n       education_doctor  education_high school or below  ...  \\\n0                     0                               0  ...   \n1                     0                               0  ...   \n2                     0                               0  ...   \n3                     0                               0  ...   \n4                     0                               0  ...   \n...                 ...                             ...  ...   \n10597                 0                               0  ...   \n10598                 0                               0  ...   \n10599                 0                               0  ...   \n10600                 0                               0  ...   \n10601                 0                               0  ...   \n\n       sales_channel_branch  sales_channel_call center  sales_channel_web  \\\n0                         0                          0                  0   \n1                         0                          1                  0   \n2                         0                          1                  0   \n3                         1                          0                  0   \n4                         1                          0                  0   \n...                     ...                        ...                ...   \n10597                     0                          0                  1   \n10598                     1                          0                  0   \n10599                     0                          0                  1   \n10600                     1                          0                  0   \n10601                     0                          0                  1   \n\n       vehicle_class_luxury car  vehicle_class_luxury suv  \\\n0                             0                         0   \n1                             0                         0   \n2                             0                         0   \n3                             0                         0   \n4                             0                         0   \n...                         ...                       ...   \n10597                         1                         0   \n10598                         0                         0   \n10599                         0                         1   \n10600                         0                         0   \n10601                         0                         0   \n\n       vehicle_class_sports car  vehicle_class_suv  \\\n0                             0                  0   \n1                             0                  0   \n2                             0                  1   \n3                             0                  0   \n4                             0                  0   \n...                         ...                ...   \n10597                         0                  0   \n10598                         0                  0   \n10599                         0                  0   \n10600                         0                  1   \n10601                         0                  1   \n\n       vehicle_class_two-door car  vehicle_size_medsize  vehicle_size_small  \n0                               0                     1                   0  \n1                               0                     1                   0  \n2                               0                     1                   0  \n3                               0                     1                   0  \n4                               0                     1                   0  \n...                           ...                   ...                 ...  \n10597                           0                     1                   0  \n10598                           0                     1                   0  \n10599                           0                     1                   0  \n10600                           0                     1                   0  \n10601                           0                     1                   0  \n\n[10602 rows x 101 columns]",
      "text/html": "<div>\n<style scoped>\n    .dataframe tbody tr th:only-of-type {\n        vertical-align: middle;\n    }\n\n    .dataframe tbody tr th {\n        vertical-align: top;\n    }\n\n    .dataframe thead th {\n        text-align: right;\n    }\n</style>\n<table border=\"1\" class=\"dataframe\">\n  <thead>\n    <tr style=\"text-align: right;\">\n      <th></th>\n      <th>region_california</th>\n      <th>region_nevada</th>\n      <th>region_oregon</th>\n      <th>region_washington</th>\n      <th>response_yes</th>\n      <th>coverage_extended</th>\n      <th>coverage_premium</th>\n      <th>education_college</th>\n      <th>education_doctor</th>\n      <th>education_high school or below</th>\n      <th>...</th>\n      <th>sales_channel_branch</th>\n      <th>sales_channel_call center</th>\n      <th>sales_channel_web</th>\n      <th>vehicle_class_luxury car</th>\n      <th>vehicle_class_luxury suv</th>\n      <th>vehicle_class_sports car</th>\n      <th>vehicle_class_suv</th>\n      <th>vehicle_class_two-door car</th>\n      <th>vehicle_size_medsize</th>\n      <th>vehicle_size_small</th>\n    </tr>\n  </thead>\n  <tbody>\n    <tr>\n      <th>0</th>\n      <td>0</td>\n      <td>0</td>\n      <td>0</td>\n      <td>0</td>\n      <td>0</td>\n      <td>0</td>\n      <td>0</td>\n      <td>1</td>\n      <td>0</td>\n      <td>0</td>\n      <td>...</td>\n      <td>0</td>\n      <td>0</td>\n      <td>0</td>\n      <td>0</td>\n      <td>0</td>\n      <td>0</td>\n      <td>0</td>\n      <td>0</td>\n      <td>1</td>\n      <td>0</td>\n    </tr>\n    <tr>\n      <th>1</th>\n      <td>1</td>\n      <td>0</td>\n      <td>0</td>\n      <td>0</td>\n      <td>0</td>\n      <td>0</td>\n      <td>0</td>\n      <td>1</td>\n      <td>0</td>\n      <td>0</td>\n      <td>...</td>\n      <td>0</td>\n      <td>1</td>\n      <td>0</td>\n      <td>0</td>\n      <td>0</td>\n      <td>0</td>\n      <td>0</td>\n      <td>0</td>\n      <td>1</td>\n      <td>0</td>\n    </tr>\n    <tr>\n      <th>2</th>\n      <td>0</td>\n      <td>0</td>\n      <td>0</td>\n      <td>1</td>\n      <td>0</td>\n      <td>0</td>\n      <td>0</td>\n      <td>0</td>\n      <td>0</td>\n      <td>0</td>\n      <td>...</td>\n      <td>0</td>\n      <td>1</td>\n      <td>0</td>\n      <td>0</td>\n      <td>0</td>\n      <td>0</td>\n      <td>1</td>\n      <td>0</td>\n      <td>1</td>\n      <td>0</td>\n    </tr>\n    <tr>\n      <th>3</th>\n      <td>0</td>\n      <td>0</td>\n      <td>1</td>\n      <td>0</td>\n      <td>1</td>\n      <td>1</td>\n      <td>0</td>\n      <td>1</td>\n      <td>0</td>\n      <td>0</td>\n      <td>...</td>\n      <td>1</td>\n      <td>0</td>\n      <td>0</td>\n      <td>0</td>\n      <td>0</td>\n      <td>0</td>\n      <td>0</td>\n      <td>0</td>\n      <td>1</td>\n      <td>0</td>\n    </tr>\n    <tr>\n      <th>4</th>\n      <td>0</td>\n      <td>0</td>\n      <td>1</td>\n      <td>0</td>\n      <td>0</td>\n      <td>0</td>\n      <td>1</td>\n      <td>0</td>\n      <td>0</td>\n      <td>0</td>\n      <td>...</td>\n      <td>1</td>\n      <td>0</td>\n      <td>0</td>\n      <td>0</td>\n      <td>0</td>\n      <td>0</td>\n      <td>0</td>\n      <td>0</td>\n      <td>1</td>\n      <td>0</td>\n    </tr>\n    <tr>\n      <th>...</th>\n      <td>...</td>\n      <td>...</td>\n      <td>...</td>\n      <td>...</td>\n      <td>...</td>\n      <td>...</td>\n      <td>...</td>\n      <td>...</td>\n      <td>...</td>\n      <td>...</td>\n      <td>...</td>\n      <td>...</td>\n      <td>...</td>\n      <td>...</td>\n      <td>...</td>\n      <td>...</td>\n      <td>...</td>\n      <td>...</td>\n      <td>...</td>\n      <td>...</td>\n      <td>...</td>\n    </tr>\n    <tr>\n      <th>10597</th>\n      <td>0</td>\n      <td>1</td>\n      <td>0</td>\n      <td>0</td>\n      <td>0</td>\n      <td>0</td>\n      <td>1</td>\n      <td>0</td>\n      <td>0</td>\n      <td>0</td>\n      <td>...</td>\n      <td>0</td>\n      <td>0</td>\n      <td>1</td>\n      <td>1</td>\n      <td>0</td>\n      <td>0</td>\n      <td>0</td>\n      <td>0</td>\n      <td>1</td>\n      <td>0</td>\n    </tr>\n    <tr>\n      <th>10598</th>\n      <td>0</td>\n      <td>0</td>\n      <td>1</td>\n      <td>0</td>\n      <td>0</td>\n      <td>0</td>\n      <td>0</td>\n      <td>1</td>\n      <td>0</td>\n      <td>0</td>\n      <td>...</td>\n      <td>1</td>\n      <td>0</td>\n      <td>0</td>\n      <td>0</td>\n      <td>0</td>\n      <td>0</td>\n      <td>0</td>\n      <td>0</td>\n      <td>1</td>\n      <td>0</td>\n    </tr>\n    <tr>\n      <th>10599</th>\n      <td>0</td>\n      <td>0</td>\n      <td>0</td>\n      <td>0</td>\n      <td>0</td>\n      <td>1</td>\n      <td>0</td>\n      <td>0</td>\n      <td>0</td>\n      <td>0</td>\n      <td>...</td>\n      <td>0</td>\n      <td>0</td>\n      <td>1</td>\n      <td>0</td>\n      <td>1</td>\n      <td>0</td>\n      <td>0</td>\n      <td>0</td>\n      <td>1</td>\n      <td>0</td>\n    </tr>\n    <tr>\n      <th>10600</th>\n      <td>1</td>\n      <td>0</td>\n      <td>0</td>\n      <td>0</td>\n      <td>0</td>\n      <td>0</td>\n      <td>1</td>\n      <td>1</td>\n      <td>0</td>\n      <td>0</td>\n      <td>...</td>\n      <td>1</td>\n      <td>0</td>\n      <td>0</td>\n      <td>0</td>\n      <td>0</td>\n      <td>0</td>\n      <td>1</td>\n      <td>0</td>\n      <td>1</td>\n      <td>0</td>\n    </tr>\n    <tr>\n      <th>10601</th>\n      <td>1</td>\n      <td>0</td>\n      <td>0</td>\n      <td>0</td>\n      <td>0</td>\n      <td>0</td>\n      <td>0</td>\n      <td>0</td>\n      <td>0</td>\n      <td>0</td>\n      <td>...</td>\n      <td>0</td>\n      <td>0</td>\n      <td>1</td>\n      <td>0</td>\n      <td>0</td>\n      <td>0</td>\n      <td>1</td>\n      <td>0</td>\n      <td>1</td>\n      <td>0</td>\n    </tr>\n  </tbody>\n</table>\n<p>10602 rows × 101 columns</p>\n</div>"
     },
     "execution_count": 18,
     "metadata": {},
     "output_type": "execute_result"
    }
   ],
   "source": [
    "categorical = pd.get_dummies(categorical, drop_first=True)\n",
    "categorical"
   ],
   "metadata": {
    "collapsed": false,
    "pycharm": {
     "name": "#%%\n"
    }
   }
  },
  {
   "cell_type": "markdown",
   "source": [
    "for the first iteration, we will focus on the numericals data (numericals data frame) as our data source.\n",
    "(optional) remove the outliers from the numerical columns."
   ],
   "metadata": {
    "collapsed": false,
    "pycharm": {
     "name": "#%% md\n"
    }
   }
  },
  {
   "cell_type": "code",
   "execution_count": 21,
   "outputs": [
    {
     "data": {
      "text/plain": "       customer_lifetime_value  income  monthly_premium_auto  \\\n0                         4809   48029                    61   \n1                         2228   61311                    64   \n2                        14947   22139                   100   \n3                        22332   49078                    97   \n4                         9025   23675                   117   \n...                        ...     ...                   ...   \n10593                     4547   33531                   116   \n10594                     3579   28304                    91   \n10596                    19228   86391                   187   \n10598                     5259   61146                    65   \n10601                     6857   85639                   101   \n\n       months_since_last_claim  months_since_policy_inception  \\\n0                            7                             52   \n1                            3                             26   \n2                           34                             31   \n3                           10                              3   \n4                           25                             31   \n...                        ...                            ...   \n10593                       11                             15   \n10594                       10                             30   \n10596                       14                             32   \n10598                        7                             68   \n10601                       31                              1   \n\n       number_of_open_complaints  number_of_policies  total_claim_amount  \n0                              0                   9                 292  \n1                              0                   1                 744  \n2                              0                   2                 480  \n3                              0                   2                 484  \n4                              0                   7                 707  \n...                          ...                 ...                 ...  \n10593                          0                   1                 801  \n10594                          2                   1                 655  \n10596                          0                   2                 897  \n10598                          0                   6                 273  \n10601                          0                   3                1021  \n\n[9827 rows x 8 columns]",
      "text/html": "<div>\n<style scoped>\n    .dataframe tbody tr th:only-of-type {\n        vertical-align: middle;\n    }\n\n    .dataframe tbody tr th {\n        vertical-align: top;\n    }\n\n    .dataframe thead th {\n        text-align: right;\n    }\n</style>\n<table border=\"1\" class=\"dataframe\">\n  <thead>\n    <tr style=\"text-align: right;\">\n      <th></th>\n      <th>customer_lifetime_value</th>\n      <th>income</th>\n      <th>monthly_premium_auto</th>\n      <th>months_since_last_claim</th>\n      <th>months_since_policy_inception</th>\n      <th>number_of_open_complaints</th>\n      <th>number_of_policies</th>\n      <th>total_claim_amount</th>\n    </tr>\n  </thead>\n  <tbody>\n    <tr>\n      <th>0</th>\n      <td>4809</td>\n      <td>48029</td>\n      <td>61</td>\n      <td>7</td>\n      <td>52</td>\n      <td>0</td>\n      <td>9</td>\n      <td>292</td>\n    </tr>\n    <tr>\n      <th>1</th>\n      <td>2228</td>\n      <td>61311</td>\n      <td>64</td>\n      <td>3</td>\n      <td>26</td>\n      <td>0</td>\n      <td>1</td>\n      <td>744</td>\n    </tr>\n    <tr>\n      <th>2</th>\n      <td>14947</td>\n      <td>22139</td>\n      <td>100</td>\n      <td>34</td>\n      <td>31</td>\n      <td>0</td>\n      <td>2</td>\n      <td>480</td>\n    </tr>\n    <tr>\n      <th>3</th>\n      <td>22332</td>\n      <td>49078</td>\n      <td>97</td>\n      <td>10</td>\n      <td>3</td>\n      <td>0</td>\n      <td>2</td>\n      <td>484</td>\n    </tr>\n    <tr>\n      <th>4</th>\n      <td>9025</td>\n      <td>23675</td>\n      <td>117</td>\n      <td>25</td>\n      <td>31</td>\n      <td>0</td>\n      <td>7</td>\n      <td>707</td>\n    </tr>\n    <tr>\n      <th>...</th>\n      <td>...</td>\n      <td>...</td>\n      <td>...</td>\n      <td>...</td>\n      <td>...</td>\n      <td>...</td>\n      <td>...</td>\n      <td>...</td>\n    </tr>\n    <tr>\n      <th>10593</th>\n      <td>4547</td>\n      <td>33531</td>\n      <td>116</td>\n      <td>11</td>\n      <td>15</td>\n      <td>0</td>\n      <td>1</td>\n      <td>801</td>\n    </tr>\n    <tr>\n      <th>10594</th>\n      <td>3579</td>\n      <td>28304</td>\n      <td>91</td>\n      <td>10</td>\n      <td>30</td>\n      <td>2</td>\n      <td>1</td>\n      <td>655</td>\n    </tr>\n    <tr>\n      <th>10596</th>\n      <td>19228</td>\n      <td>86391</td>\n      <td>187</td>\n      <td>14</td>\n      <td>32</td>\n      <td>0</td>\n      <td>2</td>\n      <td>897</td>\n    </tr>\n    <tr>\n      <th>10598</th>\n      <td>5259</td>\n      <td>61146</td>\n      <td>65</td>\n      <td>7</td>\n      <td>68</td>\n      <td>0</td>\n      <td>6</td>\n      <td>273</td>\n    </tr>\n    <tr>\n      <th>10601</th>\n      <td>6857</td>\n      <td>85639</td>\n      <td>101</td>\n      <td>31</td>\n      <td>1</td>\n      <td>0</td>\n      <td>3</td>\n      <td>1021</td>\n    </tr>\n  </tbody>\n</table>\n<p>9827 rows × 8 columns</p>\n</div>"
     },
     "execution_count": 21,
     "metadata": {},
     "output_type": "execute_result"
    }
   ],
   "source": [
    "numerical[(np.abs(stats.zscore(numerical)) < 3).all(axis=1)]"
   ],
   "metadata": {
    "collapsed": false,
    "pycharm": {
     "name": "#%%\n"
    }
   }
  },
  {
   "cell_type": "markdown",
   "source": [
    "X-y split (y is the target variable which is the total claim amount)"
   ],
   "metadata": {
    "collapsed": false,
    "pycharm": {
     "name": "#%% md\n"
    }
   }
  },
  {
   "cell_type": "code",
   "execution_count": 24,
   "outputs": [
    {
     "data": {
      "text/plain": "       customer_lifetime_value  income  monthly_premium_auto  \\\n0                         4809   48029                    61   \n1                         2228   61311                    64   \n2                        14947   22139                   100   \n3                        22332   49078                    97   \n4                         9025   23675                   117   \n...                        ...     ...                   ...   \n10597                    15563   38966                   253   \n10598                     5259   61146                    65   \n10599                    23893   39837                   201   \n10600                    11971   64195                   158   \n10601                     6857   85639                   101   \n\n       months_since_last_claim  months_since_policy_inception  \\\n0                            7                             52   \n1                            3                             26   \n2                           34                             31   \n3                           10                              3   \n4                           25                             31   \n...                        ...                            ...   \n10597                       19                             40   \n10598                        7                             68   \n10599                       11                             63   \n10600                        0                             27   \n10601                       31                              1   \n\n       number_of_open_complaints  number_of_policies  \n0                              0                   9  \n1                              0                   1  \n2                              0                   2  \n3                              0                   2  \n4                              0                   7  \n...                          ...                 ...  \n10597                          0                   7  \n10598                          0                   6  \n10599                          0                   2  \n10600                          4                   6  \n10601                          0                   3  \n\n[10602 rows x 7 columns]",
      "text/html": "<div>\n<style scoped>\n    .dataframe tbody tr th:only-of-type {\n        vertical-align: middle;\n    }\n\n    .dataframe tbody tr th {\n        vertical-align: top;\n    }\n\n    .dataframe thead th {\n        text-align: right;\n    }\n</style>\n<table border=\"1\" class=\"dataframe\">\n  <thead>\n    <tr style=\"text-align: right;\">\n      <th></th>\n      <th>customer_lifetime_value</th>\n      <th>income</th>\n      <th>monthly_premium_auto</th>\n      <th>months_since_last_claim</th>\n      <th>months_since_policy_inception</th>\n      <th>number_of_open_complaints</th>\n      <th>number_of_policies</th>\n    </tr>\n  </thead>\n  <tbody>\n    <tr>\n      <th>0</th>\n      <td>4809</td>\n      <td>48029</td>\n      <td>61</td>\n      <td>7</td>\n      <td>52</td>\n      <td>0</td>\n      <td>9</td>\n    </tr>\n    <tr>\n      <th>1</th>\n      <td>2228</td>\n      <td>61311</td>\n      <td>64</td>\n      <td>3</td>\n      <td>26</td>\n      <td>0</td>\n      <td>1</td>\n    </tr>\n    <tr>\n      <th>2</th>\n      <td>14947</td>\n      <td>22139</td>\n      <td>100</td>\n      <td>34</td>\n      <td>31</td>\n      <td>0</td>\n      <td>2</td>\n    </tr>\n    <tr>\n      <th>3</th>\n      <td>22332</td>\n      <td>49078</td>\n      <td>97</td>\n      <td>10</td>\n      <td>3</td>\n      <td>0</td>\n      <td>2</td>\n    </tr>\n    <tr>\n      <th>4</th>\n      <td>9025</td>\n      <td>23675</td>\n      <td>117</td>\n      <td>25</td>\n      <td>31</td>\n      <td>0</td>\n      <td>7</td>\n    </tr>\n    <tr>\n      <th>...</th>\n      <td>...</td>\n      <td>...</td>\n      <td>...</td>\n      <td>...</td>\n      <td>...</td>\n      <td>...</td>\n      <td>...</td>\n    </tr>\n    <tr>\n      <th>10597</th>\n      <td>15563</td>\n      <td>38966</td>\n      <td>253</td>\n      <td>19</td>\n      <td>40</td>\n      <td>0</td>\n      <td>7</td>\n    </tr>\n    <tr>\n      <th>10598</th>\n      <td>5259</td>\n      <td>61146</td>\n      <td>65</td>\n      <td>7</td>\n      <td>68</td>\n      <td>0</td>\n      <td>6</td>\n    </tr>\n    <tr>\n      <th>10599</th>\n      <td>23893</td>\n      <td>39837</td>\n      <td>201</td>\n      <td>11</td>\n      <td>63</td>\n      <td>0</td>\n      <td>2</td>\n    </tr>\n    <tr>\n      <th>10600</th>\n      <td>11971</td>\n      <td>64195</td>\n      <td>158</td>\n      <td>0</td>\n      <td>27</td>\n      <td>4</td>\n      <td>6</td>\n    </tr>\n    <tr>\n      <th>10601</th>\n      <td>6857</td>\n      <td>85639</td>\n      <td>101</td>\n      <td>31</td>\n      <td>1</td>\n      <td>0</td>\n      <td>3</td>\n    </tr>\n  </tbody>\n</table>\n<p>10602 rows × 7 columns</p>\n</div>"
     },
     "execution_count": 24,
     "metadata": {},
     "output_type": "execute_result"
    }
   ],
   "source": [
    "X = numerical.drop('total_claim_amount', axis=1)\n",
    "y = numerical.total_claim_amount\n",
    "X = X._get_numeric_data()\n",
    "X"
   ],
   "metadata": {
    "collapsed": false,
    "pycharm": {
     "name": "#%%\n"
    }
   }
  }
 ],
 "metadata": {
  "kernelspec": {
   "display_name": "Python 3",
   "language": "python",
   "name": "python3"
  },
  "language_info": {
   "codemirror_mode": {
    "name": "ipython",
    "version": 2
   },
   "file_extension": ".py",
   "mimetype": "text/x-python",
   "name": "python",
   "nbconvert_exporter": "python",
   "pygments_lexer": "ipython2",
   "version": "2.7.6"
  }
 },
 "nbformat": 4,
 "nbformat_minor": 0
}