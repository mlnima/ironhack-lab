{
 "cells": [
  {
   "cell_type": "code",
   "execution_count": 80,
   "metadata": {
    "collapsed": true,
    "pycharm": {
     "name": "#%%\n"
    }
   },
   "outputs": [],
   "source": [
    "import sys\n",
    "\n",
    "sys.path.append('../_util')\n",
    "import pandas as pd\n",
    "import numpy as np\n",
    "\n",
    "data = pd.read_csv('../data/Data_Marketing_Customer_Analysis_Round3.csv')\n",
    "from _util import categorical_numerical_spliter\n",
    "# from _util import train_test_split\n",
    "from sklearn.model_selection import train_test_split\n",
    "from sklearn.linear_model import Lasso, Ridge, ElasticNet, LinearRegression\n",
    "import numpy as np\n",
    "from sklearn.impute import SimpleImputer\n",
    "from sklearn.feature_selection import RFE\n",
    "from sklearn.preprocessing import StandardScaler\n"
   ]
  },
  {
   "cell_type": "code",
   "execution_count": 81,
   "outputs": [],
   "source": [
    "def df_cleaner(df):\n",
    "    df = df.drop(\n",
    "        ['effective_to_date', 'response', 'total_claim_amount', 'customer_lifetime_value'],\n",
    "        errors='ignore',\n",
    "        axis='columns'\n",
    "    )\n",
    "    df = df.reindex(sorted(df.columns), axis=1)\n",
    "\n",
    "    return df"
   ],
   "metadata": {
    "collapsed": false,
    "pycharm": {
     "name": "#%%\n"
    }
   }
  },
  {
   "cell_type": "code",
   "execution_count": 82,
   "outputs": [
    {
     "data": {
      "text/plain": "           region response  coverage education effective_to_date  \\\n0         arizona       no     basic   college           2/18/11   \n1      california       no     basic   college           1/18/11   \n2      washington       no     basic  bachelor           2/10/11   \n3          oregon      yes  extended   college           1/11/11   \n4          oregon       no   premium  bachelor           1/17/11   \n...           ...      ...       ...       ...               ...   \n10597      nevada       no   premium  bachelor           1/19/11   \n10598      oregon       no     basic   college            1/6/11   \n10599     arizona       no  extended  bachelor            2/6/11   \n10600  california       no   premium   college           2/13/11   \n10601  california       no     basic  bachelor            1/8/11   \n\n      employment_status gender location_code marital_status     policy_type  \\\n0              employed      m      suburban        married  corporate auto   \n1            unemployed      f      suburban         single   personal auto   \n2              employed      m      suburban         single   personal auto   \n3              employed      m      suburban         single  corporate auto   \n4         medical leave      f      suburban        married   personal auto   \n...                 ...    ...           ...            ...             ...   \n10597        unemployed      f      suburban        married   personal auto   \n10598          employed      f         urban        married   personal auto   \n10599          employed      f         rural        married  corporate auto   \n10600          employed      f         urban       divorced   personal auto   \n10601        unemployed      m      suburban         single   personal auto   \n\n             policy renew_offer_type sales_channel  vehicle_class vehicle_size  \n0      corporate l3           offer3         agent  four-door car      medsize  \n1       personal l3           offer4   call center  four-door car      medsize  \n2       personal l3           offer3   call center            suv      medsize  \n3      corporate l3           offer2        branch  four-door car      medsize  \n4       personal l2           offer1        branch  four-door car      medsize  \n...             ...              ...           ...            ...          ...  \n10597   personal l1           offer3           web     luxury car      medsize  \n10598   personal l3           offer2        branch  four-door car      medsize  \n10599  corporate l3           offer1           web     luxury suv      medsize  \n10600   personal l1           offer1        branch            suv      medsize  \n10601   personal l1           offer4           web            suv      medsize  \n\n[10602 rows x 15 columns]",
      "text/html": "<div>\n<style scoped>\n    .dataframe tbody tr th:only-of-type {\n        vertical-align: middle;\n    }\n\n    .dataframe tbody tr th {\n        vertical-align: top;\n    }\n\n    .dataframe thead th {\n        text-align: right;\n    }\n</style>\n<table border=\"1\" class=\"dataframe\">\n  <thead>\n    <tr style=\"text-align: right;\">\n      <th></th>\n      <th>region</th>\n      <th>response</th>\n      <th>coverage</th>\n      <th>education</th>\n      <th>effective_to_date</th>\n      <th>employment_status</th>\n      <th>gender</th>\n      <th>location_code</th>\n      <th>marital_status</th>\n      <th>policy_type</th>\n      <th>policy</th>\n      <th>renew_offer_type</th>\n      <th>sales_channel</th>\n      <th>vehicle_class</th>\n      <th>vehicle_size</th>\n    </tr>\n  </thead>\n  <tbody>\n    <tr>\n      <th>0</th>\n      <td>arizona</td>\n      <td>no</td>\n      <td>basic</td>\n      <td>college</td>\n      <td>2/18/11</td>\n      <td>employed</td>\n      <td>m</td>\n      <td>suburban</td>\n      <td>married</td>\n      <td>corporate auto</td>\n      <td>corporate l3</td>\n      <td>offer3</td>\n      <td>agent</td>\n      <td>four-door car</td>\n      <td>medsize</td>\n    </tr>\n    <tr>\n      <th>1</th>\n      <td>california</td>\n      <td>no</td>\n      <td>basic</td>\n      <td>college</td>\n      <td>1/18/11</td>\n      <td>unemployed</td>\n      <td>f</td>\n      <td>suburban</td>\n      <td>single</td>\n      <td>personal auto</td>\n      <td>personal l3</td>\n      <td>offer4</td>\n      <td>call center</td>\n      <td>four-door car</td>\n      <td>medsize</td>\n    </tr>\n    <tr>\n      <th>2</th>\n      <td>washington</td>\n      <td>no</td>\n      <td>basic</td>\n      <td>bachelor</td>\n      <td>2/10/11</td>\n      <td>employed</td>\n      <td>m</td>\n      <td>suburban</td>\n      <td>single</td>\n      <td>personal auto</td>\n      <td>personal l3</td>\n      <td>offer3</td>\n      <td>call center</td>\n      <td>suv</td>\n      <td>medsize</td>\n    </tr>\n    <tr>\n      <th>3</th>\n      <td>oregon</td>\n      <td>yes</td>\n      <td>extended</td>\n      <td>college</td>\n      <td>1/11/11</td>\n      <td>employed</td>\n      <td>m</td>\n      <td>suburban</td>\n      <td>single</td>\n      <td>corporate auto</td>\n      <td>corporate l3</td>\n      <td>offer2</td>\n      <td>branch</td>\n      <td>four-door car</td>\n      <td>medsize</td>\n    </tr>\n    <tr>\n      <th>4</th>\n      <td>oregon</td>\n      <td>no</td>\n      <td>premium</td>\n      <td>bachelor</td>\n      <td>1/17/11</td>\n      <td>medical leave</td>\n      <td>f</td>\n      <td>suburban</td>\n      <td>married</td>\n      <td>personal auto</td>\n      <td>personal l2</td>\n      <td>offer1</td>\n      <td>branch</td>\n      <td>four-door car</td>\n      <td>medsize</td>\n    </tr>\n    <tr>\n      <th>...</th>\n      <td>...</td>\n      <td>...</td>\n      <td>...</td>\n      <td>...</td>\n      <td>...</td>\n      <td>...</td>\n      <td>...</td>\n      <td>...</td>\n      <td>...</td>\n      <td>...</td>\n      <td>...</td>\n      <td>...</td>\n      <td>...</td>\n      <td>...</td>\n      <td>...</td>\n    </tr>\n    <tr>\n      <th>10597</th>\n      <td>nevada</td>\n      <td>no</td>\n      <td>premium</td>\n      <td>bachelor</td>\n      <td>1/19/11</td>\n      <td>unemployed</td>\n      <td>f</td>\n      <td>suburban</td>\n      <td>married</td>\n      <td>personal auto</td>\n      <td>personal l1</td>\n      <td>offer3</td>\n      <td>web</td>\n      <td>luxury car</td>\n      <td>medsize</td>\n    </tr>\n    <tr>\n      <th>10598</th>\n      <td>oregon</td>\n      <td>no</td>\n      <td>basic</td>\n      <td>college</td>\n      <td>1/6/11</td>\n      <td>employed</td>\n      <td>f</td>\n      <td>urban</td>\n      <td>married</td>\n      <td>personal auto</td>\n      <td>personal l3</td>\n      <td>offer2</td>\n      <td>branch</td>\n      <td>four-door car</td>\n      <td>medsize</td>\n    </tr>\n    <tr>\n      <th>10599</th>\n      <td>arizona</td>\n      <td>no</td>\n      <td>extended</td>\n      <td>bachelor</td>\n      <td>2/6/11</td>\n      <td>employed</td>\n      <td>f</td>\n      <td>rural</td>\n      <td>married</td>\n      <td>corporate auto</td>\n      <td>corporate l3</td>\n      <td>offer1</td>\n      <td>web</td>\n      <td>luxury suv</td>\n      <td>medsize</td>\n    </tr>\n    <tr>\n      <th>10600</th>\n      <td>california</td>\n      <td>no</td>\n      <td>premium</td>\n      <td>college</td>\n      <td>2/13/11</td>\n      <td>employed</td>\n      <td>f</td>\n      <td>urban</td>\n      <td>divorced</td>\n      <td>personal auto</td>\n      <td>personal l1</td>\n      <td>offer1</td>\n      <td>branch</td>\n      <td>suv</td>\n      <td>medsize</td>\n    </tr>\n    <tr>\n      <th>10601</th>\n      <td>california</td>\n      <td>no</td>\n      <td>basic</td>\n      <td>bachelor</td>\n      <td>1/8/11</td>\n      <td>unemployed</td>\n      <td>m</td>\n      <td>suburban</td>\n      <td>single</td>\n      <td>personal auto</td>\n      <td>personal l1</td>\n      <td>offer4</td>\n      <td>web</td>\n      <td>suv</td>\n      <td>medsize</td>\n    </tr>\n  </tbody>\n</table>\n<p>10602 rows × 15 columns</p>\n</div>"
     },
     "execution_count": 82,
     "metadata": {},
     "output_type": "execute_result"
    }
   ],
   "source": [
    "\n",
    "\n",
    "numerical, categorical = categorical_numerical_spliter(data)\n",
    "\n",
    "categorical\n"
   ],
   "metadata": {
    "collapsed": false,
    "pycharm": {
     "name": "#%%\n"
    }
   }
  },
  {
   "cell_type": "code",
   "execution_count": 83,
   "outputs": [
    {
     "data": {
      "text/plain": "       coverage_extended  coverage_premium  education_college  \\\n0                      0                 0                  1   \n1                      0                 0                  1   \n2                      0                 0                  0   \n3                      1                 0                  1   \n4                      0                 1                  0   \n...                  ...               ...                ...   \n10597                  0                 1                  0   \n10598                  0                 0                  1   \n10599                  1                 0                  0   \n10600                  0                 1                  1   \n10601                  0                 0                  0   \n\n       education_doctor  education_high school or below  education_master  \\\n0                     0                               0                 0   \n1                     0                               0                 0   \n2                     0                               0                 0   \n3                     0                               0                 0   \n4                     0                               0                 0   \n...                 ...                             ...               ...   \n10597                 0                               0                 0   \n10598                 0                               0                 0   \n10599                 0                               0                 0   \n10600                 0                               0                 0   \n10601                 0                               0                 0   \n\n       effective_to_date_1/10/11  effective_to_date_1/11/11  \\\n0                              0                          0   \n1                              0                          0   \n2                              0                          0   \n3                              0                          1   \n4                              0                          0   \n...                          ...                        ...   \n10597                          0                          0   \n10598                          0                          0   \n10599                          0                          0   \n10600                          0                          0   \n10601                          0                          0   \n\n       effective_to_date_1/12/11  effective_to_date_1/13/11  ...  \\\n0                              0                          0  ...   \n1                              0                          0  ...   \n2                              0                          0  ...   \n3                              0                          0  ...   \n4                              0                          0  ...   \n...                          ...                        ...  ...   \n10597                          0                          0  ...   \n10598                          0                          0  ...   \n10599                          0                          0  ...   \n10600                          0                          0  ...   \n10601                          0                          0  ...   \n\n       sales_channel_branch  sales_channel_call center  sales_channel_web  \\\n0                         0                          0                  0   \n1                         0                          1                  0   \n2                         0                          1                  0   \n3                         1                          0                  0   \n4                         1                          0                  0   \n...                     ...                        ...                ...   \n10597                     0                          0                  1   \n10598                     1                          0                  0   \n10599                     0                          0                  1   \n10600                     1                          0                  0   \n10601                     0                          0                  1   \n\n       vehicle_class_luxury car  vehicle_class_luxury suv  \\\n0                             0                         0   \n1                             0                         0   \n2                             0                         0   \n3                             0                         0   \n4                             0                         0   \n...                         ...                       ...   \n10597                         1                         0   \n10598                         0                         0   \n10599                         0                         1   \n10600                         0                         0   \n10601                         0                         0   \n\n       vehicle_class_sports car  vehicle_class_suv  \\\n0                             0                  0   \n1                             0                  0   \n2                             0                  1   \n3                             0                  0   \n4                             0                  0   \n...                         ...                ...   \n10597                         0                  0   \n10598                         0                  0   \n10599                         0                  0   \n10600                         0                  1   \n10601                         0                  1   \n\n       vehicle_class_two-door car  vehicle_size_medsize  vehicle_size_small  \n0                               0                     1                   0  \n1                               0                     1                   0  \n2                               0                     1                   0  \n3                               0                     1                   0  \n4                               0                     1                   0  \n...                           ...                   ...                 ...  \n10597                           0                     1                   0  \n10598                           0                     1                   0  \n10599                           0                     1                   0  \n10600                           0                     1                   0  \n10601                           0                     1                   0  \n\n[10602 rows x 107 columns]",
      "text/html": "<div>\n<style scoped>\n    .dataframe tbody tr th:only-of-type {\n        vertical-align: middle;\n    }\n\n    .dataframe tbody tr th {\n        vertical-align: top;\n    }\n\n    .dataframe thead th {\n        text-align: right;\n    }\n</style>\n<table border=\"1\" class=\"dataframe\">\n  <thead>\n    <tr style=\"text-align: right;\">\n      <th></th>\n      <th>coverage_extended</th>\n      <th>coverage_premium</th>\n      <th>education_college</th>\n      <th>education_doctor</th>\n      <th>education_high school or below</th>\n      <th>education_master</th>\n      <th>effective_to_date_1/10/11</th>\n      <th>effective_to_date_1/11/11</th>\n      <th>effective_to_date_1/12/11</th>\n      <th>effective_to_date_1/13/11</th>\n      <th>...</th>\n      <th>sales_channel_branch</th>\n      <th>sales_channel_call center</th>\n      <th>sales_channel_web</th>\n      <th>vehicle_class_luxury car</th>\n      <th>vehicle_class_luxury suv</th>\n      <th>vehicle_class_sports car</th>\n      <th>vehicle_class_suv</th>\n      <th>vehicle_class_two-door car</th>\n      <th>vehicle_size_medsize</th>\n      <th>vehicle_size_small</th>\n    </tr>\n  </thead>\n  <tbody>\n    <tr>\n      <th>0</th>\n      <td>0</td>\n      <td>0</td>\n      <td>1</td>\n      <td>0</td>\n      <td>0</td>\n      <td>0</td>\n      <td>0</td>\n      <td>0</td>\n      <td>0</td>\n      <td>0</td>\n      <td>...</td>\n      <td>0</td>\n      <td>0</td>\n      <td>0</td>\n      <td>0</td>\n      <td>0</td>\n      <td>0</td>\n      <td>0</td>\n      <td>0</td>\n      <td>1</td>\n      <td>0</td>\n    </tr>\n    <tr>\n      <th>1</th>\n      <td>0</td>\n      <td>0</td>\n      <td>1</td>\n      <td>0</td>\n      <td>0</td>\n      <td>0</td>\n      <td>0</td>\n      <td>0</td>\n      <td>0</td>\n      <td>0</td>\n      <td>...</td>\n      <td>0</td>\n      <td>1</td>\n      <td>0</td>\n      <td>0</td>\n      <td>0</td>\n      <td>0</td>\n      <td>0</td>\n      <td>0</td>\n      <td>1</td>\n      <td>0</td>\n    </tr>\n    <tr>\n      <th>2</th>\n      <td>0</td>\n      <td>0</td>\n      <td>0</td>\n      <td>0</td>\n      <td>0</td>\n      <td>0</td>\n      <td>0</td>\n      <td>0</td>\n      <td>0</td>\n      <td>0</td>\n      <td>...</td>\n      <td>0</td>\n      <td>1</td>\n      <td>0</td>\n      <td>0</td>\n      <td>0</td>\n      <td>0</td>\n      <td>1</td>\n      <td>0</td>\n      <td>1</td>\n      <td>0</td>\n    </tr>\n    <tr>\n      <th>3</th>\n      <td>1</td>\n      <td>0</td>\n      <td>1</td>\n      <td>0</td>\n      <td>0</td>\n      <td>0</td>\n      <td>0</td>\n      <td>1</td>\n      <td>0</td>\n      <td>0</td>\n      <td>...</td>\n      <td>1</td>\n      <td>0</td>\n      <td>0</td>\n      <td>0</td>\n      <td>0</td>\n      <td>0</td>\n      <td>0</td>\n      <td>0</td>\n      <td>1</td>\n      <td>0</td>\n    </tr>\n    <tr>\n      <th>4</th>\n      <td>0</td>\n      <td>1</td>\n      <td>0</td>\n      <td>0</td>\n      <td>0</td>\n      <td>0</td>\n      <td>0</td>\n      <td>0</td>\n      <td>0</td>\n      <td>0</td>\n      <td>...</td>\n      <td>1</td>\n      <td>0</td>\n      <td>0</td>\n      <td>0</td>\n      <td>0</td>\n      <td>0</td>\n      <td>0</td>\n      <td>0</td>\n      <td>1</td>\n      <td>0</td>\n    </tr>\n    <tr>\n      <th>...</th>\n      <td>...</td>\n      <td>...</td>\n      <td>...</td>\n      <td>...</td>\n      <td>...</td>\n      <td>...</td>\n      <td>...</td>\n      <td>...</td>\n      <td>...</td>\n      <td>...</td>\n      <td>...</td>\n      <td>...</td>\n      <td>...</td>\n      <td>...</td>\n      <td>...</td>\n      <td>...</td>\n      <td>...</td>\n      <td>...</td>\n      <td>...</td>\n      <td>...</td>\n      <td>...</td>\n    </tr>\n    <tr>\n      <th>10597</th>\n      <td>0</td>\n      <td>1</td>\n      <td>0</td>\n      <td>0</td>\n      <td>0</td>\n      <td>0</td>\n      <td>0</td>\n      <td>0</td>\n      <td>0</td>\n      <td>0</td>\n      <td>...</td>\n      <td>0</td>\n      <td>0</td>\n      <td>1</td>\n      <td>1</td>\n      <td>0</td>\n      <td>0</td>\n      <td>0</td>\n      <td>0</td>\n      <td>1</td>\n      <td>0</td>\n    </tr>\n    <tr>\n      <th>10598</th>\n      <td>0</td>\n      <td>0</td>\n      <td>1</td>\n      <td>0</td>\n      <td>0</td>\n      <td>0</td>\n      <td>0</td>\n      <td>0</td>\n      <td>0</td>\n      <td>0</td>\n      <td>...</td>\n      <td>1</td>\n      <td>0</td>\n      <td>0</td>\n      <td>0</td>\n      <td>0</td>\n      <td>0</td>\n      <td>0</td>\n      <td>0</td>\n      <td>1</td>\n      <td>0</td>\n    </tr>\n    <tr>\n      <th>10599</th>\n      <td>1</td>\n      <td>0</td>\n      <td>0</td>\n      <td>0</td>\n      <td>0</td>\n      <td>0</td>\n      <td>0</td>\n      <td>0</td>\n      <td>0</td>\n      <td>0</td>\n      <td>...</td>\n      <td>0</td>\n      <td>0</td>\n      <td>1</td>\n      <td>0</td>\n      <td>1</td>\n      <td>0</td>\n      <td>0</td>\n      <td>0</td>\n      <td>1</td>\n      <td>0</td>\n    </tr>\n    <tr>\n      <th>10600</th>\n      <td>0</td>\n      <td>1</td>\n      <td>1</td>\n      <td>0</td>\n      <td>0</td>\n      <td>0</td>\n      <td>0</td>\n      <td>0</td>\n      <td>0</td>\n      <td>0</td>\n      <td>...</td>\n      <td>1</td>\n      <td>0</td>\n      <td>0</td>\n      <td>0</td>\n      <td>0</td>\n      <td>0</td>\n      <td>1</td>\n      <td>0</td>\n      <td>1</td>\n      <td>0</td>\n    </tr>\n    <tr>\n      <th>10601</th>\n      <td>0</td>\n      <td>0</td>\n      <td>0</td>\n      <td>0</td>\n      <td>0</td>\n      <td>0</td>\n      <td>0</td>\n      <td>0</td>\n      <td>0</td>\n      <td>0</td>\n      <td>...</td>\n      <td>0</td>\n      <td>0</td>\n      <td>1</td>\n      <td>0</td>\n      <td>0</td>\n      <td>0</td>\n      <td>1</td>\n      <td>0</td>\n      <td>1</td>\n      <td>0</td>\n    </tr>\n  </tbody>\n</table>\n<p>10602 rows × 107 columns</p>\n</div>"
     },
     "execution_count": 83,
     "metadata": {},
     "output_type": "execute_result"
    }
   ],
   "source": [
    "categorical_dummies = pd.get_dummies(categorical, drop_first=True)\n",
    "categorical_dummies.reset_index(drop=True, inplace=True)\n",
    "X = pd.concat([numerical, categorical_dummies], axis=1, ignore_index=False)\n",
    "X = df_cleaner(X)\n",
    "y = data['total_claim_amount']"
   ],
   "metadata": {
    "collapsed": false,
    "pycharm": {
     "name": "#%%\n"
    }
   }
  },
  {
   "cell_type": "markdown",
   "source": [
    "## Embedded Methods"
   ],
   "metadata": {
    "collapsed": false,
    "pycharm": {
     "name": "#%% md\n"
    }
   }
  },
  {
   "cell_type": "code",
   "execution_count": 84,
   "outputs": [],
   "source": [
    "X_train, X_test, y_train, y_test = train_test_split(X, y, test_size=0.30, random_state=42)\n",
    "\n",
    "X_train = X_train.select_dtypes(include=np.number)\n",
    "X_test = X_test.select_dtypes(include=np.number)\n",
    "imp_mean = SimpleImputer(missing_values=np.nan, strategy='mean')\n",
    "X_train = imp_mean.fit_transform(X_train)\n"
   ],
   "metadata": {
    "collapsed": false,
    "pycharm": {
     "name": "#%%\n"
    }
   }
  },
  {
   "cell_type": "code",
   "execution_count": 85,
   "outputs": [
    {
     "name": "stdout",
     "output_type": "stream",
     "text": [
      "LinearRegression: Train -> 0.7737930198557191, Test -> 0.7656745202259884\n"
     ]
    },
    {
     "name": "stderr",
     "output_type": "stream",
     "text": [
      "C:\\Users\\user\\AppData\\Local\\Programs\\Python\\Python310\\lib\\site-packages\\sklearn\\base.py:443: UserWarning: X has feature names, but LinearRegression was fitted without feature names\n",
      "  warnings.warn(\n"
     ]
    }
   ],
   "source": [
    "model = LinearRegression()\n",
    "model.fit(X_train, y_train)\n",
    "print(f\"{model.__class__.__name__}: Train -> {model.score(X_train, y_train)}, Test -> {model.score(X_test, y_test)}\")"
   ],
   "metadata": {
    "collapsed": false,
    "pycharm": {
     "name": "#%%\n"
    }
   }
  },
  {
   "cell_type": "code",
   "execution_count": 86,
   "outputs": [
    {
     "name": "stdout",
     "output_type": "stream",
     "text": [
      "Lasso: Train -> 0.7736738997581394, Test -> 0.7660869660860785\n"
     ]
    },
    {
     "name": "stderr",
     "output_type": "stream",
     "text": [
      "C:\\Users\\user\\AppData\\Local\\Programs\\Python\\Python310\\lib\\site-packages\\sklearn\\base.py:443: UserWarning: X has feature names, but Lasso was fitted without feature names\n",
      "  warnings.warn(\n"
     ]
    }
   ],
   "source": [
    "\n",
    "model = Lasso(alpha=0.05)\n",
    "\n",
    "model.fit(X_train, y_train)\n",
    "print(f\"{model.__class__.__name__}: Train -> {model.score(X_train, y_train)}, Test -> {model.score(X_test, y_test)}\")"
   ],
   "metadata": {
    "collapsed": false,
    "pycharm": {
     "name": "#%%\n"
    }
   }
  },
  {
   "cell_type": "code",
   "execution_count": 87,
   "outputs": [
    {
     "name": "stdout",
     "output_type": "stream",
     "text": [
      "Ridge: Train -> 0.5394160980208348, Test -> 0.5219297169821564\n"
     ]
    },
    {
     "name": "stderr",
     "output_type": "stream",
     "text": [
      "C:\\Users\\user\\AppData\\Local\\Programs\\Python\\Python310\\lib\\site-packages\\sklearn\\base.py:443: UserWarning: X has feature names, but Ridge was fitted without feature names\n",
      "  warnings.warn(\n"
     ]
    }
   ],
   "source": [
    "model = Ridge(alpha=10000)\n",
    "model.fit(X_train, y_train)\n",
    "print(f\"{model.__class__.__name__}: Train -> {model.score(X_train, y_train)}, Test -> {model.score(X_test, y_test)}\")"
   ],
   "metadata": {
    "collapsed": false,
    "pycharm": {
     "name": "#%%\n"
    }
   }
  }
 ],
 "metadata": {
  "kernelspec": {
   "display_name": "Python 3",
   "language": "python",
   "name": "python3"
  },
  "language_info": {
   "codemirror_mode": {
    "name": "ipython",
    "version": 2
   },
   "file_extension": ".py",
   "mimetype": "text/x-python",
   "name": "python",
   "nbconvert_exporter": "python",
   "pygments_lexer": "ipython2",
   "version": "2.7.6"
  }
 },
 "nbformat": 4,
 "nbformat_minor": 0
}